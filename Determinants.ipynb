{
  "nbformat": 4,
  "nbformat_minor": 0,
  "metadata": {
    "colab": {
      "provenance": [],
      "include_colab_link": true
    },
    "kernelspec": {
      "display_name": "Python 3",
      "name": "python3"
    }
  },
  "cells": [
    {
      "cell_type": "markdown",
      "metadata": {
        "id": "view-in-github",
        "colab_type": "text"
      },
      "source": [
        "<a href=\"https://colab.research.google.com/github/mlacasa/2BATMates/blob/main/Determinants.ipynb\" target=\"_parent\"><img src=\"https://colab.research.google.com/assets/colab-badge.svg\" alt=\"Open In Colab\"/></a>"
      ]
    },
    {
      "cell_type": "markdown",
      "metadata": {
        "id": "RNGUxLU7PY0t"
      },
      "source": [
        "#  **DETERMINANTS i REGLA DE CRAMER**\n",
        "\n",
        "##  **Importarem la llibrería simbòlica SymPy**\n",
        "\n",
        "Més info: https://docs.sympy.org/latest/modules/matrices/matrices.html\n",
        "\n",
        "\n",
        "**SymPy** és una biblioteca de Python per a matemàtiques simbòliques. El seu objectiu és convertir-se en un sistema d'àlgebra computacional (CAS) amb totes les funcions, mantenint el codi tan simple com sigui possible perquè sigui comprensible i fàcilment extensible. SymPy està escrit completament a Python.[sympy.org](https://www.sympy.org/en/index.html)"
      ]
    },
    {
      "cell_type": "code",
      "metadata": {
        "id": "G9u2KKaoPY0v"
      },
      "source": [
        "from sympy import *\n",
        "init_printing()\n",
        "x,y,z,w = symbols(\"x y z w \")\n",
        "a,b,c,A,B,C = symbols(\"a b c A B C \")"
      ],
      "execution_count": 1,
      "outputs": []
    },
    {
      "cell_type": "markdown",
      "metadata": {
        "id": "7W2a1nKcMwME"
      },
      "source": [
        "#  **TOTES LES FUNCIONS DE LA PRÀCTICA 1 ES CONSIDEREN CONEGUDES**"
      ]
    },
    {
      "cell_type": "markdown",
      "metadata": {
        "id": "c4eZEIOn96k8"
      },
      "source": [
        "#  **DETERMINANTS**\n",
        "\n",
        "Si $A$ és una matriu **quadrada**, llavors la funció determinant associa a $A$ exactament un nombre real anomenat determinant de $A$. El determinant de $A$ es nota com $det(A)$ o $|A|$, podem pensar en la funció\n",
        "determinant com una correspondència:\n",
        "\n",
        "\\begin{align}\n",
        "\\text{matriu quadrada} \\hspace{0.5cm} &\\longrightarrow \\hspace{1cm}\\text{nombre real}\\\\\n",
        "A \\hspace{2cm} &\\longrightarrow \\hspace{1cm}  det(A)=|A|\n",
        "\\end{align}"
      ]
    },
    {
      "cell_type": "markdown",
      "metadata": {
        "id": "c9eRCNhzG2oh"
      },
      "source": [
        "#  **Determinant d'una matriu d'ordre 1**\n",
        "\n",
        "\n",
        "<center><h5> Si  $A =  \\begin{bmatrix}a_{11}\\end{bmatrix}$ és una <strong> matriu quadrada d'ordre 1</strong> &nbsp; llavors &nbsp; $det(A) = a_{11} $\n",
        "\n"
      ]
    },
    {
      "cell_type": "markdown",
      "metadata": {
        "id": "PRprXS2Rgffg"
      },
      "source": [
        "\n",
        "###  **Exemple**\n",
        "Donada la matriu amb un sol element:\n",
        "\n",
        "\n",
        "$$A=\\begin{bmatrix}\n",
        "5\n",
        "\\end{bmatrix}$$\n"
      ]
    },
    {
      "cell_type": "code",
      "metadata": {
        "colab": {
          "base_uri": "https://localhost:8080/",
          "height": 37
        },
        "id": "FOCtqLMbSshR",
        "outputId": "3c7871f9-92be-4080-803d-11fea6df914f"
      },
      "source": [
        "A = Matrix([5])\n",
        "det(A)    # el mètode 'det' retorna el valor del determinant de la matriu."
      ],
      "execution_count": 2,
      "outputs": [
        {
          "output_type": "execute_result",
          "data": {
            "text/plain": [
              "5"
            ],
            "text/latex": "$\\displaystyle 5$"
          },
          "metadata": {},
          "execution_count": 2
        }
      ]
    },
    {
      "cell_type": "markdown",
      "metadata": {
        "id": "KUW7dMUxTz0l"
      },
      "source": [
        "###  **Forma 2**"
      ]
    },
    {
      "cell_type": "code",
      "metadata": {
        "colab": {
          "base_uri": "https://localhost:8080/",
          "height": 37
        },
        "id": "aLa3SHhYTDp3",
        "outputId": "8dc63637-5f02-4231-a096-baf673e804b4"
      },
      "source": [
        "A = Matrix([5])\n",
        "A.det()  # Donada la matriu A, A.det() retorna el valor del determinant."
      ],
      "execution_count": 3,
      "outputs": [
        {
          "output_type": "execute_result",
          "data": {
            "text/plain": [
              "5"
            ],
            "text/latex": "$\\displaystyle 5$"
          },
          "metadata": {},
          "execution_count": 3
        }
      ]
    },
    {
      "cell_type": "markdown",
      "metadata": {
        "id": "W3wmF4yagzSS"
      },
      "source": [
        "#   **Determinant d'una matriu quadrada d'ordre 2**\n",
        "\n",
        "\n",
        "<center><h5> Si  $A=\\begin{bmatrix}\n",
        "a_{11} & a_{12}  \\\\\n",
        "a_{21} & a_{22} \\\\\n",
        "\\end{bmatrix}$\n",
        "\n",
        "\n",
        "\n",
        " $det(A) = a_{11}a_{22}-a_{12}a_{21} $\n",
        "\n"
      ]
    },
    {
      "cell_type": "markdown",
      "metadata": {
        "id": "lbL6wWKngzST"
      },
      "source": [
        "###   **Exemple**\n",
        "\n",
        "\n",
        "\n",
        "$$A=\\begin{bmatrix}\n",
        "a & b  \\\\\n",
        "c & d \\\\\n",
        "\\end{bmatrix}$$\n"
      ]
    },
    {
      "cell_type": "code",
      "metadata": {
        "colab": {
          "base_uri": "https://localhost:8080/",
          "height": 58
        },
        "id": "gI4EpekugzSU",
        "outputId": "7d3e91bf-c2ea-4b39-896a-0ab017835f5a"
      },
      "source": [
        "a,b,c,d = symbols(\"a b c d \")\n",
        "A = Matrix([[a, b], [c,d]])\n",
        "A                            # Definim la matriu amb lletres\n"
      ],
      "execution_count": 5,
      "outputs": [
        {
          "output_type": "execute_result",
          "data": {
            "text/plain": [
              "⎡a  b⎤\n",
              "⎢    ⎥\n",
              "⎣c  d⎦"
            ],
            "text/latex": "$\\displaystyle \\left[\\begin{matrix}a & b\\\\c & d\\end{matrix}\\right]$"
          },
          "metadata": {},
          "execution_count": 5
        }
      ]
    },
    {
      "cell_type": "code",
      "source": [
        "det(A)"
      ],
      "metadata": {
        "colab": {
          "base_uri": "https://localhost:8080/",
          "height": 39
        },
        "id": "i45VxyDFio9q",
        "outputId": "e5cca8d6-5c0f-40f8-a343-7609552ef371"
      },
      "execution_count": 6,
      "outputs": [
        {
          "output_type": "execute_result",
          "data": {
            "text/plain": [
              "a⋅d - b⋅c"
            ],
            "text/latex": "$\\displaystyle a d - b c$"
          },
          "metadata": {},
          "execution_count": 6
        }
      ]
    },
    {
      "cell_type": "markdown",
      "metadata": {
        "id": "1UUNiPFVgzSW"
      },
      "source": [
        "###  **Exemple 2:**\n",
        "Donada la matriu $A$:\n",
        "$$A=\\begin{bmatrix}\n",
        "-5 & 7  \\\\\n",
        "-2 & 6 \\\\\n",
        "\\end{bmatrix}$$\n"
      ]
    },
    {
      "cell_type": "code",
      "metadata": {
        "colab": {
          "base_uri": "https://localhost:8080/",
          "height": 37
        },
        "id": "roFkQRFogzSW",
        "outputId": "381492bd-c5de-49c7-e821-2e58856d0c6b"
      },
      "source": [
        "A = Matrix([[-5, 7], [-2,6]])\n",
        "A.det()"
      ],
      "execution_count": null,
      "outputs": [
        {
          "output_type": "execute_result",
          "data": {
            "image/png": "[encoded data removed]",
            "text/latex": "$\\displaystyle -16$",
            "text/plain": [
              "-16"
            ]
          },
          "metadata": {},
          "execution_count": 10
        }
      ]
    },
    {
      "cell_type": "markdown",
      "metadata": {
        "id": "aBkilJO8lhxN"
      },
      "source": [
        "#  **Determinant matriu ordre 3**\n",
        "\n",
        "##  **Regla de sarrus**\n",
        "La regla de Sarrus és un mètode mnemotècnic per calcular el determinant d‟una **matriu quadrada d‟ordre 3**. El seu nom es deu al matemàtic francès Pierre Frédéric Sarrus.\n",
        "\n",
        "\n",
        "<center><h5> Si  $A=\\begin{bmatrix}\n",
        "a_{11} & a_{12} & a_{12}  \\\\\n",
        "a_{21} & a_{22} & a_{23} \\\\\n",
        "a_{31} & a_{32} & a_{33}\\\\\n",
        "\\end{bmatrix}$\n",
        "\n",
        "&nbsp; $$det(A) = (a_{11}a_{22}a_{33}+a_{12}a_{23}a_{31}+a_{13}a_{21}a_{32})- (a_{13}a_{22}a_{31}+a_{11}a_{23}a_{32}+a_{12}a_{21}a_{33}) $$\n",
        "\n",
        "&nbsp;\n",
        "\n",
        "\n",
        "<center><h5><strong>Construcció nemotècnica de la regla de sarrus</strong></center>\n",
        "\n",
        "\n",
        "<center><img src=\"https://github.com/josorio398/ALGEBRA-LINEAL-CON-PYTHON/blob/master/im%C3%A1genes%20repositorio/Sarrus_rule.png?raw=true\"  height=\"200\" />\n",
        "\n",
        "\n"
      ]
    },
    {
      "cell_type": "markdown",
      "metadata": {
        "id": "m2ny_bht7NhX"
      },
      "source": [
        "###  **Exemple 1**\n",
        "Càlcul determinant de la matriu $A$ :\n",
        "\n",
        "\n",
        "$$A=\\begin{bmatrix}\n",
        "a_{11} & a_{12} & a_{13}  \\\\\n",
        "a_{21} & a_{22} & a_{23} \\\\\n",
        "a_{31} & a_{32} & a_{33}\\\\\n",
        "\\end{bmatrix}$$\n"
      ]
    },
    {
      "cell_type": "code",
      "metadata": {
        "colab": {
          "base_uri": "https://localhost:8080/",
          "height": 78
        },
        "id": "aLm8ysSP5-xa",
        "outputId": "d26428c6-185d-4409-dffc-162fb5c0a354"
      },
      "source": [
        "a11, a12, a13, a21, a22, a23, a31, a32, a33 = symbols(\"a11 a12 a13 a21 a22 a23 a31 a32 a33\")\n",
        "A = Matrix([[a11, a12, a13], [a21,a22,a23],[a31, a32, a33]])\n",
        "A"
      ],
      "execution_count": 7,
      "outputs": [
        {
          "output_type": "execute_result",
          "data": {
            "text/plain": [
              "⎡a₁₁  a₁₂  a₁₃⎤\n",
              "⎢             ⎥\n",
              "⎢a₂₁  a₂₂  a₂₃⎥\n",
              "⎢             ⎥\n",
              "⎣a₃₁  a₃₂  a₃₃⎦"
            ],
            "text/latex": "$\\displaystyle \\left[\\begin{matrix}a_{11} & a_{12} & a_{13}\\\\a_{21} & a_{22} & a_{23}\\\\a_{31} & a_{32} & a_{33}\\end{matrix}\\right]$"
          },
          "metadata": {},
          "execution_count": 7
        }
      ]
    },
    {
      "cell_type": "code",
      "metadata": {
        "colab": {
          "base_uri": "https://localhost:8080/",
          "height": 39
        },
        "id": "f-2TgHRTsJXr",
        "outputId": "0348e2fd-9d19-4586-d91a-f2fb367cfaf8"
      },
      "source": [
        "det(A)"
      ],
      "execution_count": 8,
      "outputs": [
        {
          "output_type": "execute_result",
          "data": {
            "text/plain": [
              "a₁₁⋅a₂₂⋅a₃₃ - a₁₁⋅a₂₃⋅a₃₂ - a₁₂⋅a₂₁⋅a₃₃ + a₁₂⋅a₂₃⋅a₃₁ + a₁₃⋅a₂₁⋅a₃₂ - a₁₃⋅a₂₂⋅\n",
              "a₃₁"
            ],
            "text/latex": "$\\displaystyle a_{11} a_{22} a_{33} - a_{11} a_{23} a_{32} - a_{12} a_{21} a_{33} + a_{12} a_{23} a_{31} + a_{13} a_{21} a_{32} - a_{13} a_{22} a_{31}$"
          },
          "metadata": {},
          "execution_count": 8
        }
      ]
    },
    {
      "cell_type": "markdown",
      "metadata": {
        "id": "Nx7S3xuT7r_V"
      },
      "source": [
        "###  **Exemple 2:**\n",
        "Càlcul determinant de la matriu $A$ :\n",
        "\n",
        "$$A=\\begin{bmatrix}\n",
        "5 & -3 & 6  \\\\\n",
        "5 & 9 & 12 \\\\\n",
        "9 & 3 & 5\\\\\n",
        "\\end{bmatrix}$$\n"
      ]
    },
    {
      "cell_type": "code",
      "metadata": {
        "colab": {
          "base_uri": "https://localhost:8080/",
          "height": 37
        },
        "id": "kZLPSUTs7r_X",
        "outputId": "a950cc2f-d898-48cb-89b1-7060dfc7010b"
      },
      "source": [
        "A = Matrix([[5,-3, 6], [5,9,12],[9,3,5]])\n",
        "A.det()"
      ],
      "execution_count": 9,
      "outputs": [
        {
          "output_type": "execute_result",
          "data": {
            "text/plain": [
              "-600"
            ],
            "text/latex": "$\\displaystyle -600$"
          },
          "metadata": {},
          "execution_count": 9
        }
      ]
    },
    {
      "cell_type": "markdown",
      "metadata": {
        "id": "F7N0Pu3y9GgZ"
      },
      "source": [
        "#  **Determinant d'una matriu ordre $n$**\n",
        "\n",
        "Per trobar el determinant de qualsevol matriu quadrada $A$ d'ordre $n$ $(n>2)$, seleccioneu qualsevol línia (o columna) d'A i multipliqui cada entrada a la línia (columna) pel seu cofactor. La suma d'aquests productes serà el determinant de $A$, anomenat determinant d'ordre $n$.\n",
        "\n",
        "Sigui $A$ és una matriu quadrada de mida $n\\times n$\n",
        "\n",
        "si seleccionem una fila $i$:\n",
        "\n",
        "$$|A|= det(A) = a_{i1}A_{n1}+a_{i2}A_{n2}+ \\cdots+ a_{in}A_{in} = \\displaystyle \\sum_{k=1}^{n}a_{ik}A_{ik} = \\displaystyle \\sum_{k=1}^{n}a_{ik}(-1)^{i+k}M_{ik}  $$\n",
        "\n",
        "si seleccionem una columna $i$:\n",
        "\n",
        "$$|A|= det(A) = a_{1i}A_{1i}+a_{2i}A_{2i}+ \\cdots+ a_{ni}A_{ni} = \\displaystyle \\sum_{k=1}^{n}a_{ki}A_{ki} = \\displaystyle \\sum_{k=1}^{n}a_{ki}(-1)^{k+i}M_{ki}  $$\n",
        "\n",
        "on $A_{ki}$ o $A_{ik}$ és el  **cofactor** y  $M_{ki}$ o $M_{ik}$ és el **menor** de la matriu.\n",
        "\n",
        "\n",
        "El **menor** *$M_{ki}$*  d'una matriu $A$ es el determinant de la **submatriu** obtenida si eliminem la fila $k$ y la columna $i$ de la matriu $A$.\n"
      ]
    },
    {
      "cell_type": "markdown",
      "metadata": {
        "id": "jHlX43OhWKoE"
      },
      "source": [
        "##   **Càlcul de menors adjunts**\n",
        "Menor adjunt $M_{12}$ de $A$ :\n",
        "\n",
        "$$A=\\begin{bmatrix}\n",
        "5 & -3 & 6  \\\\\n",
        "5 & 9 & 12 \\\\\n",
        "9 & 3 & 5\\\\\n",
        "\\end{bmatrix}$$\n"
      ]
    },
    {
      "cell_type": "code",
      "metadata": {
        "colab": {
          "base_uri": "https://localhost:8080/",
          "height": 37
        },
        "id": "w-rrh7vMCSA5",
        "outputId": "22456179-9d7f-4aa4-e559-37be5766a34e"
      },
      "source": [
        "A = Matrix([[5, -3, 6], [5, 9, 12], [9, 3, 5]])\n",
        "# A python el nombre de files i columnes comencen pel nombre zero.\n",
        "# Llavors el menor adjunt de la fila 12, seria a Python 01 (fila 0 i columna 1),simplement restem 1 a cada fila i columna\n",
        "A.minor(0,1)  # El determinant és 5x5 - 12x9 = -83"
      ],
      "execution_count": 11,
      "outputs": [
        {
          "output_type": "execute_result",
          "data": {
            "text/plain": [
              "-83"
            ],
            "text/latex": "$\\displaystyle -83$"
          },
          "metadata": {},
          "execution_count": 11
        }
      ]
    },
    {
      "cell_type": "code",
      "source": [
        "A.minor(0,0) # No canvi de signe"
      ],
      "metadata": {
        "colab": {
          "base_uri": "https://localhost:8080/",
          "height": 37
        },
        "id": "4Drvft3zk0Y9",
        "outputId": "fc10b564-7223-4054-d35b-49a8e9c38483"
      },
      "execution_count": 12,
      "outputs": [
        {
          "output_type": "execute_result",
          "data": {
            "text/plain": [
              "9"
            ],
            "text/latex": "$\\displaystyle 9$"
          },
          "metadata": {},
          "execution_count": 12
        }
      ]
    },
    {
      "cell_type": "code",
      "source": [
        "A.minor(2,1) # Correspon a 3x2, fila 3, columna 2. El det adjunt és: 5x12 - 6x5 = 30, però no canvia de signe, i hauria de canviar. Ull viu!!"
      ],
      "metadata": {
        "colab": {
          "base_uri": "https://localhost:8080/",
          "height": 37
        },
        "id": "iXohWWrElDOK",
        "outputId": "392383c2-f1ca-42ef-eac5-452379fb9acf"
      },
      "execution_count": 13,
      "outputs": [
        {
          "output_type": "execute_result",
          "data": {
            "text/plain": [
              "30"
            ],
            "text/latex": "$\\displaystyle 30$"
          },
          "metadata": {},
          "execution_count": 13
        }
      ]
    },
    {
      "cell_type": "markdown",
      "metadata": {
        "id": "0W5op-VXYnHM"
      },
      "source": [
        "##  **Tenim en compte l'ordre i signes**\n",
        "utilitzem el mètode cofactor $A_{12}$ de $A$ :\n",
        "\n",
        "$$A=\\begin{bmatrix}\n",
        "5 & -3 & 6  \\\\\n",
        "5 & 9 & 12 \\\\\n",
        "9 & 3 & 5\\\\\n",
        "\\end{bmatrix}$$\n"
      ]
    },
    {
      "cell_type": "code",
      "metadata": {
        "colab": {
          "base_uri": "https://localhost:8080/",
          "height": 37
        },
        "id": "bTbSuKlSYnHQ",
        "outputId": "93b1fbe2-a374-4ef1-cfd3-62d49d35fdc8"
      },
      "source": [
        "A = Matrix([[5, -3, 6], [5, 9, 12], [9, 3, 5]])\n",
        "A.cofactor(0,1)"
      ],
      "execution_count": null,
      "outputs": [
        {
          "output_type": "execute_result",
          "data": {
            "image/png": "[encoded data removed]",
            "text/latex": "$\\displaystyle 83$",
            "text/plain": [
              "83"
            ]
          },
          "metadata": {},
          "execution_count": 15
        }
      ]
    },
    {
      "cell_type": "markdown",
      "metadata": {
        "id": "ya5Tl9M-kB9B"
      },
      "source": [
        "#  **PROPIETATS DELS DETERMINANTS**\n",
        "\n",
        "###  Siguin ${\\displaystyle A,B\\in {\\mathcal {M}}_{n\\times n}(\\mathbb {R} )}$, y $k \\in \\mathbb {R}$, verifiquen:"
      ]
    },
    {
      "cell_type": "markdown",
      "metadata": {
        "id": "Bgmti9Oxkt9M"
      },
      "source": [
        "### **Propietat 1:** Si cadascuna de les entrades d'una línia (o columna) de $A$ és $0$, aleshores $|A| = 0$."
      ]
    },
    {
      "cell_type": "code",
      "metadata": {
        "colab": {
          "base_uri": "https://localhost:8080/",
          "height": 78
        },
        "id": "3tNxOkOqkBRA",
        "outputId": "41dece27-41eb-479b-f656-0fc0e6a6dd3f"
      },
      "source": [
        "A = Matrix(3,3,[0,0,0,3,4,5,7,8,9])\n",
        "A"
      ],
      "execution_count": 14,
      "outputs": [
        {
          "output_type": "execute_result",
          "data": {
            "text/plain": [
              "⎡0  0  0⎤\n",
              "⎢       ⎥\n",
              "⎢3  4  5⎥\n",
              "⎢       ⎥\n",
              "⎣7  8  9⎦"
            ],
            "text/latex": "$\\displaystyle \\left[\\begin{matrix}0 & 0 & 0\\\\3 & 4 & 5\\\\7 & 8 & 9\\end{matrix}\\right]$"
          },
          "metadata": {},
          "execution_count": 14
        }
      ]
    },
    {
      "cell_type": "code",
      "metadata": {
        "colab": {
          "base_uri": "https://localhost:8080/",
          "height": 37
        },
        "id": "5Ju-15N_0zL_",
        "outputId": "4ba9d88d-193a-4b0d-df4f-4c20115b3215"
      },
      "source": [
        "det(A)"
      ],
      "execution_count": 15,
      "outputs": [
        {
          "output_type": "execute_result",
          "data": {
            "text/plain": [
              "0"
            ],
            "text/latex": "$\\displaystyle 0$"
          },
          "metadata": {},
          "execution_count": 15
        }
      ]
    },
    {
      "cell_type": "markdown",
      "metadata": {
        "id": "0P_qpCxTlOVp"
      },
      "source": [
        "###**Propietat 2:** Si dues línies (o columnes) de $A$ són idèntics, $|A| = 0$."
      ]
    },
    {
      "cell_type": "code",
      "metadata": {
        "id": "I-kmVDXllPRx",
        "colab": {
          "base_uri": "https://localhost:8080/",
          "height": 78
        },
        "outputId": "9e73245d-8b5c-4b1b-c08d-5a6c33b0ec12"
      },
      "source": [
        "A = Matrix(3,3,[3,4,5,3,4,5,7,8,9])\n",
        "A"
      ],
      "execution_count": 20,
      "outputs": [
        {
          "output_type": "execute_result",
          "data": {
            "text/plain": [
              "⎡3  4  5⎤\n",
              "⎢       ⎥\n",
              "⎢3  4  5⎥\n",
              "⎢       ⎥\n",
              "⎣7  8  9⎦"
            ],
            "text/latex": "$\\displaystyle \\left[\\begin{matrix}3 & 4 & 5\\\\3 & 4 & 5\\\\7 & 8 & 9\\end{matrix}\\right]$"
          },
          "metadata": {},
          "execution_count": 20
        }
      ]
    },
    {
      "cell_type": "code",
      "source": [
        "det(A)"
      ],
      "metadata": {
        "colab": {
          "base_uri": "https://localhost:8080/",
          "height": 37
        },
        "id": "0X6nUrNymmkM",
        "outputId": "804a4072-45f0-4ab0-863c-635e684e6190"
      },
      "execution_count": 21,
      "outputs": [
        {
          "output_type": "execute_result",
          "data": {
            "text/plain": [
              "0"
            ],
            "text/latex": "$\\displaystyle 0$"
          },
          "metadata": {},
          "execution_count": 21
        }
      ]
    },
    {
      "cell_type": "markdown",
      "metadata": {
        "id": "5QuN3x4LlPy2"
      },
      "source": [
        "### **Propietat 3:** Si $A$ és triangular superior (o inferior), aleshores $|A|$ és igual al producte de les entrades de la diagonal principal."
      ]
    },
    {
      "cell_type": "code",
      "metadata": {
        "colab": {
          "base_uri": "https://localhost:8080/",
          "height": 78
        },
        "id": "7YlEpI2LlQ2C",
        "outputId": "c42204bf-2a7f-4f95-e707-821c160fe420"
      },
      "source": [
        "A = Matrix([[a,6,4],[0,b,2],[0,0,c]])\n",
        "A"
      ],
      "execution_count": 23,
      "outputs": [
        {
          "output_type": "execute_result",
          "data": {
            "text/plain": [
              "⎡a  6  4⎤\n",
              "⎢       ⎥\n",
              "⎢0  b  2⎥\n",
              "⎢       ⎥\n",
              "⎣0  0  c⎦"
            ],
            "text/latex": "$\\displaystyle \\left[\\begin{matrix}a & 6 & 4\\\\0 & b & 2\\\\0 & 0 & c\\end{matrix}\\right]$"
          },
          "metadata": {},
          "execution_count": 23
        }
      ]
    },
    {
      "cell_type": "code",
      "metadata": {
        "colab": {
          "base_uri": "https://localhost:8080/",
          "height": 39
        },
        "id": "DtjgfO6T2iCu",
        "outputId": "8588623a-2902-4a88-a6b0-7df35e0bdd30"
      },
      "source": [
        "det(A)"
      ],
      "execution_count": 24,
      "outputs": [
        {
          "output_type": "execute_result",
          "data": {
            "text/plain": [
              "a⋅b⋅c"
            ],
            "text/latex": "$\\displaystyle a b c$"
          },
          "metadata": {},
          "execution_count": 24
        }
      ]
    },
    {
      "cell_type": "markdown",
      "source": [
        "### **Propietat 4:** Si $B$ és la matriu que s'obté en intercanviar dues línies (o columnes) de $A$, llavors $|B|=-|A|$, o en forma equivalent, $|A|=-|B|$.\n",
        "\n",
        "| Operació elemental | Codi |\n",
        "|:--------------------------------------:|:------- -------:|\n",
        "| Intercanviar la fila<br> $F_i$ amb $F_j$ | **` A.row_swap(i, j)`** |\n",
        "| Intercanviar la columna<br> $C_i$ amb $C_j$ | **` A.col_swap(i, j)`** |"
      ],
      "metadata": {
        "id": "8iQIXi8Qm2us"
      }
    },
    {
      "cell_type": "code",
      "metadata": {
        "colab": {
          "base_uri": "https://localhost:8080/",
          "height": 99
        },
        "id": "DoYF4prHRr7-",
        "outputId": "366bf18f-1ff5-478e-ea6c-a35298a26a5f"
      },
      "source": [
        "# Creem una matriu aleatòria\n",
        "A = randMatrix(4,min=-5, max=5)\n",
        "A"
      ],
      "execution_count": 44,
      "outputs": [
        {
          "output_type": "execute_result",
          "data": {
            "text/plain": [
              "⎡-4  -2  2   -3⎤\n",
              "⎢              ⎥\n",
              "⎢-2  -5  -3  -3⎥\n",
              "⎢              ⎥\n",
              "⎢3   -3  5   0 ⎥\n",
              "⎢              ⎥\n",
              "⎣1   -3  4   -3⎦"
            ],
            "text/latex": "$\\displaystyle \\left[\\begin{matrix}-4 & -2 & 2 & -3\\\\-2 & -5 & -3 & -3\\\\3 & -3 & 5 & 0\\\\1 & -3 & 4 & -3\\end{matrix}\\right]$"
          },
          "metadata": {},
          "execution_count": 44
        }
      ]
    },
    {
      "cell_type": "code",
      "metadata": {
        "colab": {
          "base_uri": "https://localhost:8080/",
          "height": 37
        },
        "id": "fmZ5TKAG4i50",
        "outputId": "13fbfeb1-065d-4530-a095-667c4e4a9889"
      },
      "source": [
        "det_A = det(A)\n",
        "det_A"
      ],
      "execution_count": 45,
      "outputs": [
        {
          "output_type": "execute_result",
          "data": {
            "text/plain": [
              "-357"
            ],
            "text/latex": "$\\displaystyle -357$"
          },
          "metadata": {},
          "execution_count": 45
        }
      ]
    },
    {
      "cell_type": "code",
      "metadata": {
        "colab": {
          "base_uri": "https://localhost:8080/",
          "height": 99
        },
        "id": "RBJNhBNS4UDA",
        "outputId": "ea8ca665-11b7-4227-c8b3-9383014bdd6f"
      },
      "source": [
        "A.row_swap(1, 3) # Intercanviem les files (row) 2 i 4, recordeu que Python comença per línia zero.\n",
        "B = A\n",
        "B"
      ],
      "execution_count": 46,
      "outputs": [
        {
          "output_type": "execute_result",
          "data": {
            "text/plain": [
              "⎡-4  -2  2   -3⎤\n",
              "⎢              ⎥\n",
              "⎢1   -3  4   -3⎥\n",
              "⎢              ⎥\n",
              "⎢3   -3  5   0 ⎥\n",
              "⎢              ⎥\n",
              "⎣-2  -5  -3  -3⎦"
            ],
            "text/latex": "$\\displaystyle \\left[\\begin{matrix}-4 & -2 & 2 & -3\\\\1 & -3 & 4 & -3\\\\3 & -3 & 5 & 0\\\\-2 & -5 & -3 & -3\\end{matrix}\\right]$"
          },
          "metadata": {},
          "execution_count": 46
        }
      ]
    },
    {
      "cell_type": "code",
      "metadata": {
        "colab": {
          "base_uri": "https://localhost:8080/",
          "height": 37
        },
        "id": "8mGMQrJm4z91",
        "outputId": "b554153f-cb6b-4245-dd85-20c052fcc562"
      },
      "source": [
        "det_B = det(B)\n",
        "det_B"
      ],
      "execution_count": 47,
      "outputs": [
        {
          "output_type": "execute_result",
          "data": {
            "text/plain": [
              "357"
            ],
            "text/latex": "$\\displaystyle 357$"
          },
          "metadata": {},
          "execution_count": 47
        }
      ]
    },
    {
      "cell_type": "markdown",
      "source": [
        "### **Propietat 5:** Si $B$ és la matriu que s'obté sumant un múltiple d'una línia (o columna) de $A$ a una altra línia (columna), aleshores $det(B)=det( A)$.\n",
        "\n",
        "| Operació elemental | Codi |\n",
        "|:--------------------------------------:|:------- -------:|\n",
        "| Sumar $k$ vegades la fila $F_i$ <br> a la fila $F_j$ | **`A[j ,:] = k*A[ i ,:] + A[j ,:]`** |\n",
        "| Sumar $k$ vegades la columna $C_i$ <br> a la columna $C_j$ | **`A[: ,j] = k*A[ : ,i] + A[: ,j]`** |"
      ],
      "metadata": {
        "id": "5SrMz2F7nVO-"
      }
    },
    {
      "cell_type": "code",
      "metadata": {
        "id": "Co8iFH-FrH2G",
        "colab": {
          "base_uri": "https://localhost:8080/",
          "height": 99
        },
        "outputId": "7ad75300-f64a-40e2-c931-acbae43b709b"
      },
      "source": [
        "A # Matriu del càlcul"
      ],
      "execution_count": 48,
      "outputs": [
        {
          "output_type": "execute_result",
          "data": {
            "text/plain": [
              "⎡-4  -2  2   -3⎤\n",
              "⎢              ⎥\n",
              "⎢1   -3  4   -3⎥\n",
              "⎢              ⎥\n",
              "⎢3   -3  5   0 ⎥\n",
              "⎢              ⎥\n",
              "⎣-2  -5  -3  -3⎦"
            ],
            "text/latex": "$\\displaystyle \\left[\\begin{matrix}-4 & -2 & 2 & -3\\\\1 & -3 & 4 & -3\\\\3 & -3 & 5 & 0\\\\-2 & -5 & -3 & -3\\end{matrix}\\right]$"
          },
          "metadata": {},
          "execution_count": 48
        }
      ]
    },
    {
      "cell_type": "code",
      "source": [
        "det(A)"
      ],
      "metadata": {
        "colab": {
          "base_uri": "https://localhost:8080/",
          "height": 37
        },
        "id": "7BTR9Xz_nkOk",
        "outputId": "21dee13e-61d9-4d18-e9bb-a4abb8fc9d0a"
      },
      "execution_count": 49,
      "outputs": [
        {
          "output_type": "execute_result",
          "data": {
            "text/plain": [
              "357"
            ],
            "text/latex": "$\\displaystyle 357$"
          },
          "metadata": {},
          "execution_count": 49
        }
      ]
    },
    {
      "cell_type": "code",
      "source": [
        "# Calculem una matriu B i fem Fila 4 = Fila 4 - Fila 2\n",
        "\n",
        "A[3,:]  # Seleccionem la fila 4\n"
      ],
      "metadata": {
        "colab": {
          "base_uri": "https://localhost:8080/",
          "height": 39
        },
        "id": "wXhK7OUUonFY",
        "outputId": "72bb7a60-c09a-4e31-ea7a-15a7b527ed16"
      },
      "execution_count": 50,
      "outputs": [
        {
          "output_type": "execute_result",
          "data": {
            "text/plain": [
              "[-2  -5  -3  -3]"
            ],
            "text/latex": "$\\displaystyle \\left[\\begin{matrix}-2 & -5 & -3 & -3\\end{matrix}\\right]$"
          },
          "metadata": {},
          "execution_count": 50
        }
      ]
    },
    {
      "cell_type": "code",
      "source": [
        "# Restem Fila 4 - Fila 2\n",
        "A[3,:] - A[1,:]"
      ],
      "metadata": {
        "colab": {
          "base_uri": "https://localhost:8080/",
          "height": 39
        },
        "id": "ouUvKdmPoo0j",
        "outputId": "aa109127-2d25-4315-a653-9b10316f247e"
      },
      "execution_count": 51,
      "outputs": [
        {
          "output_type": "execute_result",
          "data": {
            "text/plain": [
              "[-3  -2  -7  0]"
            ],
            "text/latex": "$\\displaystyle \\left[\\begin{matrix}-3 & -2 & -7 & 0\\end{matrix}\\right]$"
          },
          "metadata": {},
          "execution_count": 51
        }
      ]
    },
    {
      "cell_type": "code",
      "source": [
        "B = A  # Creem la Matriu B\n",
        "B[3:,:] = A[3,:] - A[1,:] # Fem l'operació\n",
        "B"
      ],
      "metadata": {
        "colab": {
          "base_uri": "https://localhost:8080/",
          "height": 99
        },
        "id": "h7T2GSmQnl8j",
        "outputId": "7a2cfb3f-3f14-44cb-e51f-7d6430563eb2"
      },
      "execution_count": 52,
      "outputs": [
        {
          "output_type": "execute_result",
          "data": {
            "text/plain": [
              "⎡-4  -2  2   -3⎤\n",
              "⎢              ⎥\n",
              "⎢1   -3  4   -3⎥\n",
              "⎢              ⎥\n",
              "⎢3   -3  5   0 ⎥\n",
              "⎢              ⎥\n",
              "⎣-3  -2  -7  0 ⎦"
            ],
            "text/latex": "$\\displaystyle \\left[\\begin{matrix}-4 & -2 & 2 & -3\\\\1 & -3 & 4 & -3\\\\3 & -3 & 5 & 0\\\\-3 & -2 & -7 & 0\\end{matrix}\\right]$"
          },
          "metadata": {},
          "execution_count": 52
        }
      ]
    },
    {
      "cell_type": "code",
      "source": [
        "det(B) # Demostració feta."
      ],
      "metadata": {
        "colab": {
          "base_uri": "https://localhost:8080/",
          "height": 37
        },
        "id": "uBd1TqXBohZw",
        "outputId": "a6e06aaf-8cfc-468e-99cb-207c4e35c36e"
      },
      "execution_count": 53,
      "outputs": [
        {
          "output_type": "execute_result",
          "data": {
            "text/plain": [
              "357"
            ],
            "text/latex": "$\\displaystyle 357$"
          },
          "metadata": {},
          "execution_count": 53
        }
      ]
    },
    {
      "cell_type": "markdown",
      "metadata": {
        "id": "wCG_G3GtmyCT"
      },
      "source": [
        "### **Propietat 6 :** Si $B$ és la matriu que s'obté multiplicant cada entrada d'una línia (o columna) de $A$ pel mateix número $k$, aleshores $|B|=k| A|$.\n",
        "\n",
        "| Operació elemental | Codi |\n",
        "|:--------------------------------------:|:------- -------:|\n",
        "| Multiplicar la fila $F_i$ <br> per la constant $k$ | **`A[i ,:] = k*A[ i ,:]`** |\n",
        "| Multiplicar la columna $C_i$ <br> per la constant $k$ | **`A[: ,i] = k*A[ : ,i]`** |"
      ]
    },
    {
      "cell_type": "code",
      "metadata": {
        "id": "usxnyoiQ9Wnz",
        "colab": {
          "base_uri": "https://localhost:8080/",
          "height": 78
        },
        "outputId": "ed95edba-1c13-454d-ac58-e4018e279063"
      },
      "source": [
        "# Creem una matriu on una fila o columna podem extreure factor comú\n",
        "\n",
        "A = Matrix([[2,4,6], [1,7,5], [4,5,8]])\n",
        "A"
      ],
      "execution_count": 62,
      "outputs": [
        {
          "output_type": "execute_result",
          "data": {
            "text/plain": [
              "⎡2  4  6⎤\n",
              "⎢       ⎥\n",
              "⎢1  7  5⎥\n",
              "⎢       ⎥\n",
              "⎣4  5  8⎦"
            ],
            "text/latex": "$\\displaystyle \\left[\\begin{matrix}2 & 4 & 6\\\\1 & 7 & 5\\\\4 & 5 & 8\\end{matrix}\\right]$"
          },
          "metadata": {},
          "execution_count": 62
        }
      ]
    },
    {
      "cell_type": "code",
      "source": [
        "# La fila 1, podem treure factor comú 2, i quedaría [1,2,3]\n",
        "# Evaluem si els determinants compleixen la propietat\n",
        "B = Matrix([[1,2,3], [1,7,5], [4,5,8]])\n",
        "B"
      ],
      "metadata": {
        "colab": {
          "base_uri": "https://localhost:8080/",
          "height": 78
        },
        "id": "UtdtZWl1pZJQ",
        "outputId": "d434ecf9-4bc3-477c-e6c8-9bf7805aa8dd"
      },
      "execution_count": 63,
      "outputs": [
        {
          "output_type": "execute_result",
          "data": {
            "text/plain": [
              "⎡1  2  3⎤\n",
              "⎢       ⎥\n",
              "⎢1  7  5⎥\n",
              "⎢       ⎥\n",
              "⎣4  5  8⎦"
            ],
            "text/latex": "$\\displaystyle \\left[\\begin{matrix}1 & 2 & 3\\\\1 & 7 & 5\\\\4 & 5 & 8\\end{matrix}\\right]$"
          },
          "metadata": {},
          "execution_count": 63
        }
      ]
    },
    {
      "cell_type": "code",
      "source": [
        "det(A)"
      ],
      "metadata": {
        "colab": {
          "base_uri": "https://localhost:8080/",
          "height": 37
        },
        "id": "wZ8OTgumpmp0",
        "outputId": "c6b496ac-60e5-484f-9453-03b7945fa79d"
      },
      "execution_count": 64,
      "outputs": [
        {
          "output_type": "execute_result",
          "data": {
            "text/plain": [
              "-28"
            ],
            "text/latex": "$\\displaystyle -28$"
          },
          "metadata": {},
          "execution_count": 64
        }
      ]
    },
    {
      "cell_type": "code",
      "source": [
        "det(B) #Hem tret el factor comú"
      ],
      "metadata": {
        "colab": {
          "base_uri": "https://localhost:8080/",
          "height": 37
        },
        "id": "tD6uB7XIptNl",
        "outputId": "7438e53e-53c1-4cf0-d78b-4489bd8bf05f"
      },
      "execution_count": 65,
      "outputs": [
        {
          "output_type": "execute_result",
          "data": {
            "text/plain": [
              "-14"
            ],
            "text/latex": "$\\displaystyle -14$"
          },
          "metadata": {},
          "execution_count": 65
        }
      ]
    },
    {
      "cell_type": "code",
      "source": [
        "det(A) == 2*det(B)"
      ],
      "metadata": {
        "colab": {
          "base_uri": "https://localhost:8080/"
        },
        "id": "L37svqiPpvB1",
        "outputId": "6e240ef6-c302-4b60-ed9e-bdd154e017bd"
      },
      "execution_count": 66,
      "outputs": [
        {
          "output_type": "execute_result",
          "data": {
            "text/plain": [
              "True"
            ]
          },
          "metadata": {},
          "execution_count": 66
        }
      ]
    },
    {
      "cell_type": "markdown",
      "metadata": {
        "id": "sHB9IneroY5N"
      },
      "source": [
        "###  **Propietat 7:**\n",
        "### Si ${\\displaystyle A,B\\in {\\mathcal {M}}_{n\\times n}(\\mathbb {R} )}$ verifica:\n",
        "\n",
        "###  $$|AB|= |A||B|$$."
      ]
    },
    {
      "cell_type": "code",
      "metadata": {
        "id": "NtY1-rerx2x7"
      },
      "source": [
        "# Comprovació com exercici"
      ],
      "execution_count": null,
      "outputs": []
    },
    {
      "cell_type": "markdown",
      "metadata": {
        "id": "5LNQjrSzx1UY"
      },
      "source": [
        "###  **Propiedad 8:**\n",
        "###Si ${\\displaystyle A\\in {\\mathcal {M}}_{n\\times n}(\\mathbb {R} )}$ és invertible, llavors verifica:\n",
        "\n",
        "###  $$|A^{-1}|= \\dfrac{1}{|A|}$$."
      ]
    },
    {
      "cell_type": "code",
      "metadata": {
        "id": "r7qCMzmeytW2"
      },
      "source": [
        "# Comprovació com exercici"
      ],
      "execution_count": null,
      "outputs": []
    },
    {
      "cell_type": "markdown",
      "metadata": {
        "id": "ibpca46ryqJ1"
      },
      "source": [
        "###  **Propiedad 9:**\n",
        "###Si ${\\displaystyle A\\in {\\mathcal {M}}_{n\\times n}(\\mathbb {R} )}$, verifica:\n",
        "\n",
        "###  $$|A^T|= |A|$$."
      ]
    },
    {
      "cell_type": "code",
      "metadata": {
        "id": "2B0uonmlyqKB"
      },
      "source": [
        "# Comprovació com exercici."
      ],
      "execution_count": null,
      "outputs": []
    },
    {
      "cell_type": "markdown",
      "metadata": {
        "id": "RWz1KUEDzQ5L"
      },
      "source": [
        "#  **MATRIU ADJUNTA**\n",
        "\n",
        "Si ${\\displaystyle A\\in {\\mathcal {M}}_{n\\times n}(\\mathbb {R} )}$ , existeix una matriu anomenada ${\\displaystyle adj(A)\\in {\\mathcal { M}}_{n\\times n}(\\mathbb {R} )}$ tal que:\n",
        "\n",
        "\n",
        "$$adj(A)= [\\alpha_{ij}(A)]^T$$\n",
        "\n",
        "\n",
        "\n"
      ]
    },
    {
      "cell_type": "markdown",
      "metadata": {
        "id": "0TG-fsLMzQ5q"
      },
      "source": [
        "###  **Exemple**\n",
        "\n",
        "\n",
        "\n",
        "Càlcul de $adj(A)$  de la matriu :\n",
        "\n",
        "$$A=\\begin{bmatrix}\n",
        "5 & -3 & 6  \\\\\n",
        "5 & 9 & 12 \\\\\n",
        "9 & 3 & 5\\\\\n",
        "\\end{bmatrix}$$"
      ]
    },
    {
      "cell_type": "code",
      "metadata": {
        "colab": {
          "base_uri": "https://localhost:8080/",
          "height": 78
        },
        "id": "vWT_ox-j2huB",
        "outputId": "715a1771-cecf-4d4f-d48a-a7ece88045d5"
      },
      "source": [
        "A = Matrix([[5, -3, 6], [5, 9, 12], [9, 3, 5]])\n",
        "A"
      ],
      "execution_count": 71,
      "outputs": [
        {
          "output_type": "execute_result",
          "data": {
            "text/plain": [
              "⎡5  -3  6 ⎤\n",
              "⎢         ⎥\n",
              "⎢5  9   12⎥\n",
              "⎢         ⎥\n",
              "⎣9  3   5 ⎦"
            ],
            "text/latex": "$\\displaystyle \\left[\\begin{matrix}5 & -3 & 6\\\\5 & 9 & 12\\\\9 & 3 & 5\\end{matrix}\\right]$"
          },
          "metadata": {},
          "execution_count": 71
        }
      ]
    },
    {
      "cell_type": "code",
      "source": [
        "A.adjugate() # El mètode 'adjugate' ens retorna la matriu Adjunta, amb signes i trasposada."
      ],
      "metadata": {
        "colab": {
          "base_uri": "https://localhost:8080/",
          "height": 78
        },
        "id": "Uw_q4Ngxs3qi",
        "outputId": "b5768722-10a2-43db-8409-b4e3a8b707ce"
      },
      "execution_count": 72,
      "outputs": [
        {
          "output_type": "execute_result",
          "data": {
            "text/plain": [
              "⎡ 9   33   -90⎤\n",
              "⎢             ⎥\n",
              "⎢83   -29  -30⎥\n",
              "⎢             ⎥\n",
              "⎣-66  -42  60 ⎦"
            ],
            "text/latex": "$\\displaystyle \\left[\\begin{matrix}9 & 33 & -90\\\\83 & -29 & -30\\\\-66 & -42 & 60\\end{matrix}\\right]$"
          },
          "metadata": {},
          "execution_count": 72
        }
      ]
    },
    {
      "cell_type": "markdown",
      "metadata": {
        "id": "4w0gLm_jT4Ck"
      },
      "source": [
        "# **Propietats matriu adjunta**\n",
        "\n",
        "Siguin ${\\displaystyle A,B\\in {\\mathcal {M}}_{n\\times n}(\\mathbb {R} )}$ i $k \\in \\mathbb {R}$ , es compleixen les propietats següents :\n",
        "\n",
        "| PROPIETAT | EXPLICACIÓ |\n",
        "|:------------------------------:|:--------------- -----------------------:|\n",
        "| Adjunta de la matriu nul·la |$$adj(0)=0$$|\n",
        "| Adjunta de la matriu identitat | $$adj(I)=I$$ |\n",
        "| Adjunta de $kA$ | $$adj(kA) =k^{n-1}adj(A)$$ |\n",
        "| Adjunta de $A^T$ | $$adj(A^T)=\\left[adj(A)\\right]^T$$ |\n",
        "| Adjunta de $AB$ | $$adj(AB)=adj(B) \\ adj(A)$$ |\n",
        " | Adjunta de $A^n$ | $$adj(A^n)=\\left[adj(A)\\right]^n $$ |\n",
        " | Adjunta de $A^{-1}$ | $$adj(A^{-1})=\\left[adj(A)\\right]^{-1} $$|"
      ]
    },
    {
      "cell_type": "markdown",
      "metadata": {
        "id": "uUHfpcB-pQPx"
      },
      "source": [
        "## **Verificació**"
      ]
    },
    {
      "cell_type": "markdown",
      "metadata": {
        "id": "670jhc_0oJyx"
      },
      "source": [
        "###   **Adjunta de la matriu nul·la**\n",
        "\n",
        "$$adj(0)=0$$\n"
      ]
    },
    {
      "cell_type": "code",
      "metadata": {
        "colab": {
          "base_uri": "https://localhost:8080/",
          "height": 78
        },
        "id": "6CidVeJdoJy-",
        "outputId": "ea447eb5-4cf3-4b08-eb27-b8fd6ddb2b80"
      },
      "source": [
        "A = zeros(3)\n",
        "A"
      ],
      "execution_count": null,
      "outputs": [
        {
          "data": {
            "text/latex": "$\\displaystyle \\left[\\begin{matrix}0 & 0 & 0\\\\0 & 0 & 0\\\\0 & 0 & 0\\end{matrix}\\right]$",
            "text/plain": [
              "⎡0  0  0⎤\n",
              "⎢       ⎥\n",
              "⎢0  0  0⎥\n",
              "⎢       ⎥\n",
              "⎣0  0  0⎦"
            ]
          },
          "execution_count": 9,
          "metadata": {
            "tags": []
          },
          "output_type": "execute_result"
        }
      ]
    },
    {
      "cell_type": "code",
      "metadata": {
        "colab": {
          "base_uri": "https://localhost:8080/",
          "height": 78
        },
        "id": "uM2peTt8ordm",
        "outputId": "a300dbd2-a739-497d-937c-96c1b0f1e1d1"
      },
      "source": [
        "A.adjugate()"
      ],
      "execution_count": null,
      "outputs": [
        {
          "data": {
            "text/latex": "$\\displaystyle \\left[\\begin{matrix}0 & 0 & 0\\\\0 & 0 & 0\\\\0 & 0 & 0\\end{matrix}\\right]$",
            "text/plain": [
              "⎡0  0  0⎤\n",
              "⎢       ⎥\n",
              "⎢0  0  0⎥\n",
              "⎢       ⎥\n",
              "⎣0  0  0⎦"
            ]
          },
          "execution_count": 10,
          "metadata": {
            "tags": []
          },
          "output_type": "execute_result"
        }
      ]
    },
    {
      "cell_type": "code",
      "metadata": {
        "colab": {
          "base_uri": "https://localhost:8080/"
        },
        "id": "_ONemCTFo1O5",
        "outputId": "f60bf448-347f-4d81-d32f-0844af0d84e2"
      },
      "source": [
        "A.adjugate() == zeros(3)"
      ],
      "execution_count": null,
      "outputs": [
        {
          "data": {
            "text/plain": [
              "True"
            ]
          },
          "execution_count": 12,
          "metadata": {
            "tags": []
          },
          "output_type": "execute_result"
        }
      ]
    },
    {
      "cell_type": "markdown",
      "metadata": {
        "id": "Q8uf773M3Cpk"
      },
      "source": [
        "###  **Adjunta de la matriu identidad**\n",
        "$$adj(I)=I$$"
      ]
    },
    {
      "cell_type": "code",
      "metadata": {
        "id": "JDLKwws0qeHT"
      },
      "source": [],
      "execution_count": null,
      "outputs": []
    },
    {
      "cell_type": "markdown",
      "metadata": {
        "id": "6yayI3ghqevY"
      },
      "source": [
        "###  **Adjunta  de $kA$**\n",
        "$$adj(kA) =k^{n-1}adj(A)$$"
      ]
    },
    {
      "cell_type": "code",
      "metadata": {
        "id": "UUxRivwVqmq-"
      },
      "source": [],
      "execution_count": null,
      "outputs": []
    },
    {
      "cell_type": "markdown",
      "metadata": {
        "id": "5Zb929p4qnQH"
      },
      "source": [
        "###  **Adjunta de $A^T$**\n",
        "$$adj(A^T)=\\left[adj(A)\\right]^T$$"
      ]
    },
    {
      "cell_type": "code",
      "metadata": {
        "id": "c651G7sVsKjw"
      },
      "source": [],
      "execution_count": null,
      "outputs": []
    },
    {
      "cell_type": "markdown",
      "metadata": {
        "id": "UsEpn1xtrhHm"
      },
      "source": [
        "###  **Adjunta de $AB$**\n",
        "$$adj(AB)=adj(B) \\ adj(A)$$"
      ]
    },
    {
      "cell_type": "code",
      "metadata": {
        "id": "iJ0ST9NCrh9-"
      },
      "source": [],
      "execution_count": null,
      "outputs": []
    },
    {
      "cell_type": "markdown",
      "metadata": {
        "id": "U66dbWrsriiA"
      },
      "source": [
        "###  **Adjunta de $A^n$**\n",
        " $$adj(A^n)=\\left[adj(A)\\right]^n $$"
      ]
    },
    {
      "cell_type": "code",
      "metadata": {
        "id": "fPr1GEfSsIvQ"
      },
      "source": [],
      "execution_count": null,
      "outputs": []
    },
    {
      "cell_type": "markdown",
      "metadata": {
        "id": "jI7gIl06sNr9"
      },
      "source": [
        "###  **Adjunta de $A^{-1}$**\n",
        " $$adj(A^{-1})=\\left[adj(A)\\right]^{-1} $$"
      ]
    },
    {
      "cell_type": "code",
      "metadata": {
        "colab": {
          "base_uri": "https://localhost:8080/",
          "height": 78
        },
        "id": "RPsa4Tl93BgZ",
        "outputId": "04912a67-7561-4304-9881-2c536b30ea86"
      },
      "source": [
        "A = randMatrix(3,min=-5, max=5)\n",
        "A"
      ],
      "execution_count": null,
      "outputs": [
        {
          "data": {
            "text/latex": "$\\displaystyle \\left[\\begin{matrix}2 & 4 & 4\\\\4 & -5 & -5\\\\4 & -2 & 5\\end{matrix}\\right]$",
            "text/plain": [
              "⎡2  4   4 ⎤\n",
              "⎢         ⎥\n",
              "⎢4  -5  -5⎥\n",
              "⎢         ⎥\n",
              "⎣4  -2  5 ⎦"
            ]
          },
          "execution_count": 13,
          "metadata": {
            "tags": []
          },
          "output_type": "execute_result"
        }
      ]
    },
    {
      "cell_type": "code",
      "metadata": {
        "colab": {
          "base_uri": "https://localhost:8080/",
          "height": 78
        },
        "id": "P8Ts3FyI3uPC",
        "outputId": "b0314467-68bb-467e-f47a-b6318b4f3019"
      },
      "source": [
        "(A**(-1)).adjugate()"
      ],
      "execution_count": null,
      "outputs": [
        {
          "data": {
            "text/latex": "$\\displaystyle \\left[\\begin{matrix}- \\frac{1}{91} & - \\frac{2}{91} & - \\frac{2}{91}\\\\- \\frac{2}{91} & \\frac{5}{182} & \\frac{5}{182}\\\\- \\frac{2}{91} & \\frac{1}{91} & - \\frac{5}{182}\\end{matrix}\\right]$",
            "text/plain": [
              "⎡-1/91  -2/91  -2/91 ⎤\n",
              "⎢                    ⎥\n",
              "⎢-2/91  5/182  5/182 ⎥\n",
              "⎢                    ⎥\n",
              "⎣-2/91  1/91   -5/182⎦"
            ]
          },
          "execution_count": 14,
          "metadata": {
            "tags": []
          },
          "output_type": "execute_result"
        }
      ]
    },
    {
      "cell_type": "code",
      "metadata": {
        "colab": {
          "base_uri": "https://localhost:8080/",
          "height": 78
        },
        "id": "SAhdCpC64Cue",
        "outputId": "fa8cc2d0-8754-4b18-c0a9-12af0c7af8ff"
      },
      "source": [
        "(A.adjugate())**(-1)"
      ],
      "execution_count": null,
      "outputs": [
        {
          "data": {
            "text/latex": "$\\displaystyle \\left[\\begin{matrix}- \\frac{1}{91} & - \\frac{2}{91} & - \\frac{2}{91}\\\\- \\frac{2}{91} & \\frac{5}{182} & \\frac{5}{182}\\\\- \\frac{2}{91} & \\frac{1}{91} & - \\frac{5}{182}\\end{matrix}\\right]$",
            "text/plain": [
              "⎡-1/91  -2/91  -2/91 ⎤\n",
              "⎢                    ⎥\n",
              "⎢-2/91  5/182  5/182 ⎥\n",
              "⎢                    ⎥\n",
              "⎣-2/91  1/91   -5/182⎦"
            ]
          },
          "execution_count": 15,
          "metadata": {
            "tags": []
          },
          "output_type": "execute_result"
        }
      ]
    },
    {
      "cell_type": "code",
      "metadata": {
        "colab": {
          "base_uri": "https://localhost:8080/"
        },
        "id": "6jB4Gi8LpO1B",
        "outputId": "3df545fc-16bc-49f3-c9a0-0a343626e1f2"
      },
      "source": [
        "(A**(-1)).adjugate() == (A.adjugate())**(-1)"
      ],
      "execution_count": null,
      "outputs": [
        {
          "data": {
            "text/plain": [
              "True"
            ]
          },
          "execution_count": 16,
          "metadata": {
            "tags": []
          },
          "output_type": "execute_result"
        }
      ]
    },
    {
      "cell_type": "markdown",
      "metadata": {
        "id": "GY1I1Kphsgcf"
      },
      "source": [
        "# **MATRIU INVERSA AMB DETERMINANTS**\n",
        "\n",
        "Sigui ${\\displaystyle A\\in {\\mathcal {M}}_{n\\times n}(\\mathbb {R} )}$, una matriu invertible, es compleix:\n",
        "\n",
        "$$A^{-1} = \\dfrac{1}{|A|} \\ adj(A)$$"
      ]
    },
    {
      "cell_type": "markdown",
      "metadata": {
        "id": "1W95Jw9id6GY"
      },
      "source": [
        "## **Exemple: matriu inversa** --> *usant determinants*\n",
        "\n",
        "Troba la matriu $A^{-1}$ si és possible de la matriu:\n",
        "\n",
        "\n",
        "$$A=\\begin{bmatrix}\n",
        "5 & ​​-3 & 6 \\\\\n",
        "5 & ​​9 & 12 \\\\\n",
        "9 & 3 & 5\\\\\n",
        "\\end{bmatrix}$$"
      ]
    },
    {
      "cell_type": "code",
      "metadata": {
        "colab": {
          "base_uri": "https://localhost:8080/",
          "height": 78
        },
        "id": "mjxvIK5wsnC8",
        "outputId": "cebb0094-b52e-4f70-af8e-3fa51b4c4542"
      },
      "source": [
        "A = Matrix([[5,-3,6],[5,9,12],[9,3,5]])\n",
        "inv_A = (1/det(A))*A.adjugate()    # Aplica la fórmula\n",
        "inv_A"
      ],
      "execution_count": null,
      "outputs": [
        {
          "data": {
            "text/latex": "$\\displaystyle \\left[\\begin{matrix}- \\frac{3}{200} & - \\frac{11}{200} & \\frac{3}{20}\\\\- \\frac{83}{600} & \\frac{29}{600} & \\frac{1}{20}\\\\\\frac{11}{100} & \\frac{7}{100} & - \\frac{1}{10}\\end{matrix}\\right]$",
            "text/plain": [
              "⎡        -11         ⎤\n",
              "⎢-3/200  ────   3/20 ⎥\n",
              "⎢        200         ⎥\n",
              "⎢                    ⎥\n",
              "⎢ -83      29        ⎥\n",
              "⎢ ────    ───   1/20 ⎥\n",
              "⎢ 600     600        ⎥\n",
              "⎢                    ⎥\n",
              "⎢  11                ⎥\n",
              "⎢ ───    7/100  -1/10⎥\n",
              "⎣ 100                ⎦"
            ]
          },
          "execution_count": 2,
          "metadata": {
            "tags": []
          },
          "output_type": "execute_result"
        }
      ]
    },
    {
      "cell_type": "markdown",
      "metadata": {
        "id": "Kwz-5QwIsj6F"
      },
      "source": [
        "##  **verifiquem**"
      ]
    },
    {
      "cell_type": "code",
      "metadata": {
        "colab": {
          "base_uri": "https://localhost:8080/",
          "height": 78
        },
        "id": "igimf4U7rXVj",
        "outputId": "2a89616d-150b-4b03-edfa-a12d31b7b67d"
      },
      "source": [
        "A = Matrix([[5,-3,6],[5,9,12],[9,3,5]])\n",
        "A**(-1)"
      ],
      "execution_count": null,
      "outputs": [
        {
          "data": {
            "text/latex": "$\\displaystyle \\left[\\begin{matrix}- \\frac{3}{200} & - \\frac{11}{200} & \\frac{3}{20}\\\\- \\frac{83}{600} & \\frac{29}{600} & \\frac{1}{20}\\\\\\frac{11}{100} & \\frac{7}{100} & - \\frac{1}{10}\\end{matrix}\\right]$",
            "text/plain": [
              "⎡        -11         ⎤\n",
              "⎢-3/200  ────   3/20 ⎥\n",
              "⎢        200         ⎥\n",
              "⎢                    ⎥\n",
              "⎢ -83      29        ⎥\n",
              "⎢ ────    ───   1/20 ⎥\n",
              "⎢ 600     600        ⎥\n",
              "⎢                    ⎥\n",
              "⎢  11                ⎥\n",
              "⎢ ───    7/100  -1/10⎥\n",
              "⎣ 100                ⎦"
            ]
          },
          "execution_count": 3,
          "metadata": {
            "tags": []
          },
          "output_type": "execute_result"
        }
      ]
    },
    {
      "cell_type": "code",
      "metadata": {
        "colab": {
          "base_uri": "https://localhost:8080/"
        },
        "id": "EbQq9ndfukzm",
        "outputId": "3c2ec284-73a3-40fe-d7c7-083eb5fcf2cd"
      },
      "source": [
        "(1/det(A))*A.adjugate() == A**(-1)"
      ],
      "execution_count": null,
      "outputs": [
        {
          "data": {
            "text/plain": [
              "True"
            ]
          },
          "execution_count": 4,
          "metadata": {
            "tags": []
          },
          "output_type": "execute_result"
        }
      ]
    },
    {
      "cell_type": "markdown",
      "metadata": {
        "id": "a80zQv0bWnEE"
      },
      "source": [
        "# **REGLA DE CRAMER PER RESOLDRE SISTEMES D'EQUACIONS**\n",
        "\n",
        "Sigui un sistema de $n$ equacions lineals amb $n$ incògnites donat per:\n",
        "\n",
        "$$\\left\\{\n",
        "\\begin{array}{rcl}\n",
        "     a_{11}x_{1}+a_{12}x_{2}+\\cdots + a_{1n}x_{n} & = & c_{1}\\\\\n",
        "     a_{21}x_{1}+a_{22}x_{2}+\\cdots + a_{2n}x_{n} & = & c_{2}\\\\\n",
        "     \\hspace{0.5cm} \\vdots\\hspace{0.5cm}+\\hspace{0.6cm}\\vdots\\hspace{0.6cm}+ \\hspace{1.5cm}+ \\hspace{0.6cm}\\vdots \\hspace{0.6cm } & = & \\hspace{0.3cm} \\vdots\\\\\n",
        "a_{n1}x_{1}+a_{n2}x_{2}+\\cdots + a_{nn}x_{n} & = & c_{n}\n",
        "\\end{array}\n",
        "\\right.$$\n",
        "\n",
        "\n",
        "\n",
        "El sistema es pot expressar de forma matricial com a $AX=B$, on $A$ és la matriu de coeficients, $X$ és la matriu de variables i $B$ una matriu columna de constants.\n",
        "\n",
        "Si el determinant de la matriu de coeficients $A$, notat com a $\\Delta$ és diferent de zero, llavors el sistema té una única solució. Aquesta solució està donada per:\n",
        "\n",
        "$$x_1 = \\dfrac{\\Delta_1}{\\Delta}, x_2 = \\dfrac{\\Delta_2}{\\Delta}, \\cdots, x_{n-1} = \\dfrac{\\Delta_{n-1}}{ \\Delta},x_{n} = \\dfrac{\\Delta_{n}}{\\Delta} $$\n",
        "\n",
        "on $\\Delta_{i}$ el numerador de $x_{i}$ , és el determinant de la matriu obtinguda al\n",
        "reemplaçar la **i-èsima** columna de $A$ per la matriu columna $B$."
      ]
    },
    {
      "cell_type": "markdown",
      "metadata": {
        "id": "3gN7grGSlKOy"
      },
      "source": [
        "## **Exemple: resolució de sistemes d'equacions usant regla de cramer**\n",
        "\n",
        "Resolgui el sistema següent utilitzant la matriu inversa\n",
        "\n",
        "$$\\left\\{\n",
        "\\begin{array}{rcl}\n",
        "     2x+ 4y+6z & = & 18\n",
        "  \\\\ 4x+ 5i+6z & = & 24\n",
        "  \\\\ 3x+i-2z & = & 4\n",
        "\\end{array}\n",
        "\\right.$$\n",
        "\n",
        "que es pot reescriure com a $AX = B$ on :\n",
        "\n",
        "$$A=\\begin{bmatrix}\n",
        "2 & 4 & 6\\\\\n",
        "4 & 5 & 6\\\\\n",
        "3 & 1 & -2\\\\\n",
        "\\end{bmatrix}\n",
        "\\hspace{1cm}\n",
        "B=\\begin{bmatrix}\n",
        "18 \\\\\n",
        "24 \\\\\n",
        "4 \\\\\n",
        "\\end{bmatrix}\n",
        "\\hspace{1cm}\n",
        "X=\\begin{bmatrix}\n",
        "x \\\\\n",
        "i \\\\\n",
        "z \\\\\n",
        "\\end{bmatrix}$$"
      ]
    },
    {
      "cell_type": "code",
      "metadata": {
        "colab": {
          "base_uri": "https://localhost:8080/",
          "height": 37
        },
        "id": "l7BsMxajWje5",
        "outputId": "6d054bd4-97f8-4ba6-e99f-bacd2b4b4586"
      },
      "source": [
        "A = Matrix([[2,4,6],[4,5,6],[3,1,-2]])\n",
        "B = Matrix([18,24,4])\n",
        "\n",
        "\n",
        "# construïm una funció per substituir una columna per una altra en una matriu\n",
        "\n",
        "def subs_col(M,C,p):\n",
        "    '''Funció que reemplaça la columna d'una matriu (argument M) per una matriu columna (argument C)\n",
        "    en una posició (argument p )'''\n",
        "    mat = M[:,:]\n",
        "    mat.col_del(p)\n",
        "    mat = mat.col_insert(p,C)\n",
        "    return mat\n",
        "\n",
        "delta = det(A)\n",
        "\n",
        "delta_1 = det(subs_col(A,B,0))\n",
        "delta_2 = det(subs_col(A,B,1))\n",
        "delta_3 = det(subs_col(A,B,2))\n",
        "\n",
        "x = delta_1 /delta\n",
        "y = delta_2 /delta\n",
        "z = delta_3 /delta\n",
        "\n",
        "x,y,z"
      ],
      "execution_count": 73,
      "outputs": [
        {
          "output_type": "execute_result",
          "data": {
            "text/plain": [
              "(4, -2, 3)"
            ],
            "text/latex": "$\\displaystyle \\left( 4, \\  -2, \\  3\\right)$"
          },
          "metadata": {},
          "execution_count": 73
        }
      ]
    },
    {
      "cell_type": "markdown",
      "metadata": {
        "id": "5wVFPs217CkP"
      },
      "source": [
        "##  **verificación** *usando la función solve*"
      ]
    },
    {
      "cell_type": "code",
      "metadata": {
        "colab": {
          "base_uri": "https://localhost:8080/",
          "height": 39
        },
        "id": "QBoDnmmw7Ckc",
        "outputId": "ddbff17f-c7f1-41bb-a66c-1d5d8543acf0"
      },
      "source": [
        "x,y,z = symbols(\"x y z\")\n",
        "\n",
        "Eq1 = Eq(2*x + 4*y + 6*z,18)\n",
        "Eq2 = Eq(4*x + 5*y +6*z,24)\n",
        "Eq3 = Eq( 3*x + y - 2*z,4)\n",
        "solve([Eq1,Eq2,Eq3], [x, y, z])"
      ],
      "execution_count": 74,
      "outputs": [
        {
          "output_type": "execute_result",
          "data": {
            "text/plain": [
              "{x: 4, y: -2, z: 3}"
            ],
            "text/latex": "$\\displaystyle \\left\\{ x : 4, \\  y : -2, \\  z : 3\\right\\}$"
          },
          "metadata": {},
          "execution_count": 74
        }
      ]
    },
    {
      "cell_type": "markdown",
      "metadata": {
        "id": "tREdOWROiEUB"
      },
      "source": [
        "# **APLICACIONS DELS DETERMINANTS**\n",
        "\n",
        "# **Àrea del triangle**\n",
        "\n",
        "L'àrea d'un triangle els vèrtexs del qual en el pla són: $A=(x_1,y_1)$, $B=(x_2,y_2)$ i $C = (x_3,y_3)$ està donada per:</p>.\n",
        "\n",
        "$$\\textrm{Area}=\\pm\\dfrac{1}{2}\\left|\n",
        "         \\begin{array}{ccc}\n",
        "           x_1 & y_1 & 1 \\\\\n",
        "           x_2 & y_2 & 1 \\\\\n",
        "           x_3 & y_3 & 1 \\\\\n",
        "         \\end{array}\n",
        "       \\right|\n",
        "$$\n",
        "\n",
        "</p>.\n",
        "\n",
        "<center><img src=\"https://github.com/josorio398/ALGEBRA-LINEAL-CON-PYTHON/blob/master/im%C3%A1genes%20repositorio/triangulo1.png?raw=true\" height=\"300 \" /> </p>.\n",
        "\n",
        "\n",
        "\n",
        "\n"
      ]
    },
    {
      "cell_type": "markdown",
      "metadata": {
        "id": "4FRCkoHT9Zuw"
      },
      "source": [
        "## **Exercici de pràctica :**\n",
        "Completa el codi per calcular l'àrea del triangle els vèrtexs del qual en el pla són: $A = (3,-1)$, $ B = (1,5)$ i $C = (2,1)$."
      ]
    },
    {
      "cell_type": "code",
      "metadata": {
        "id": "wrBoeXgXnD-y"
      },
      "source": [
        "A = (3,-1)\n",
        "B = (1,5)\n",
        "C = (2,1)\n",
        "\n",
        "M = Matrix([[A[0],A[1],1],[B[0],B[1],1],[C[0],C[1],1]])\n",
        "\n",
        "\n",
        "\n"
      ],
      "execution_count": null,
      "outputs": []
    },
    {
      "cell_type": "markdown",
      "metadata": {
        "id": "Xm8BcFyam685"
      },
      "source": [
        "# **Volum d'un tetraedre**\n",
        "\n",
        "El Volum d'un tetraedre els vèrtexs del qual són $A = (x_1,y_1,z_1)$, $B =(x_2,y_2,z_2)$, $C = (x_3,y_3,z_3)$ i $D =(x_4, y_4,z_4)$ està donat per: </p>.\n",
        "\n",
        "\n",
        "\n",
        "$$\\textrm{Volum}=\\pm\\dfrac{1}{6}\\left|\n",
        "         \\begin{array}{cccc}\n",
        "           x_1 & y_1 & z_1 & 1\\\\\n",
        "           x_2 & y_2 & z_2 & 1\\\\\n",
        "           x_3 & y_3 & z_3 & 1\\\\\n",
        "           x_4 & y_4 & z_4 & 1\\\\\n",
        "         \\end{array}\n",
        "       \\right|\n",
        "$$\n",
        "\n",
        "</p>.\n",
        "\n",
        "<center><img src=\"https://github.com/josorio398/ALGEBRA-LINEAL-CON-PYTHON/blob/master/im%C3%A1genes%20repositorio/tetraedro.PNG?raw=true\" height=\"300 \" /> </p>.\n",
        "\n",
        "\n",
        "\n",
        "\n"
      ]
    },
    {
      "cell_type": "markdown",
      "metadata": {
        "id": "6OZvK6eU-p_f"
      },
      "source": [
        "##**Exercici de pràctica:**\n",
        "\n",
        "Escriu un codi per calcular el volum d'un tetraedre els vèrtexs del qual a l'espai són: $A =(3,-1,2)$, $B = (1,-4,4)$, $C = (2,- 1,1)$ i $D =(5,1,-6)$.."
      ]
    },
    {
      "cell_type": "code",
      "metadata": {
        "id": "EdjxHha6-o16"
      },
      "source": [],
      "execution_count": null,
      "outputs": []
    },
    {
      "cell_type": "markdown",
      "metadata": {
        "id": "NbLHs4R3nFCu"
      },
      "source": [
        "# **Equació de la recta que passa per dos punts**\n",
        "L'equació de la recta que passa pels punts $(x_1,y_1)$ i $(x_2,y_2)$ està donada per: </p>.\n",
        "\n",
        "\n",
        "\n",
        "$$\\left|\n",
        "         \\begin{array}{ccc}\n",
        "           x & y & 1 \\\\\n",
        "           x_1 & y_1 & 1 \\\\\n",
        "           x_2 & y_2 & 1 \\\\\n",
        "         \\end{array}\n",
        "       \\right|=0\n",
        "$$\n",
        "\n",
        "</p>.\n",
        "\n",
        "<center><img src=\"https://github.com/josorio398/ALGEBRA-LINEAL-CON-PYTHON/blob/master/im%C3%A1genes%20repositorio/recta.png?raw=true\" height=\"300 \" /> </p>.\n",
        "\n"
      ]
    },
    {
      "cell_type": "markdown",
      "metadata": {
        "id": "Fal_dKFTEiI5"
      },
      "source": [
        "## **Exercici de pràctica:**\n",
        "\n",
        "Completa el codi per trobar l'equació de la recta que passa pels punts $A = (3,5)$ i $B = (-2,4)$"
      ]
    },
    {
      "cell_type": "code",
      "metadata": {
        "id": "OdjlFlYEm5s0"
      },
      "source": [
        "x,y = symbols(\"x y\")\n",
        "\n",
        "A =  ( 3, 5)\n",
        "B =  (-2, 4)\n"
      ],
      "execution_count": 75,
      "outputs": []
    }
  ]
}