{
  "nbformat": 4,
  "nbformat_minor": 0,
  "metadata": {
    "colab": {
      "provenance": [],
      "include_colab_link": true
    },
    "kernelspec": {
      "display_name": "Python 3",
      "name": "python3"
    }
  },
  "cells": [
    {
      "cell_type": "markdown",
      "metadata": {
        "id": "view-in-github",
        "colab_type": "text"
      },
      "source": [
        "<a href=\"https://colab.research.google.com/github/mlacasa/2BATMates/blob/main/MatriusBATMates2.ipynb\" target=\"_parent\"><img src=\"https://colab.research.google.com/assets/colab-badge.svg\" alt=\"Open In Colab\"/></a>"
      ]
    },
    {
      "cell_type": "markdown",
      "source": [
        "# PRÀCTICA MATRIUS\n",
        "\n",
        "Executar les cel·les i seguir les instruccions."
      ],
      "metadata": {
        "id": "D8S_7xg-D0cu"
      }
    },
    {
      "cell_type": "markdown",
      "metadata": {
        "id": "U515Q-sM2m9k"
      },
      "source": [
        "##  **Importarem la llibrería simbòlica SymPy**\n",
        "\n",
        "Més info: https://docs.sympy.org/latest/modules/matrices/matrices.html\n",
        "\n",
        "\n",
        "**SymPy** és una biblioteca de Python per a matemàtiques simbòliques. El seu objectiu és convertir-se en un sistema d'àlgebra computacional (CAS) amb totes les funcions, mantenint el codi tan simple com sigui possible perquè sigui comprensible i fàcilment extensible. SymPy està escrit completament a Python.[sympy.org](https://www.sympy.org/en/index.html)"
      ]
    },
    {
      "cell_type": "code",
      "metadata": {
        "id": "4wHJ9dZ3405h"
      },
      "source": [
        "#Executeu per carregar els símbols\n",
        "from sympy import *\n",
        "init_printing()\n",
        "x,y,z,w = symbols(\"x y z w \")\n",
        "a,b,c,A,B,C = symbols(\"a b c A B C \")"
      ],
      "execution_count": null,
      "outputs": []
    },
    {
      "cell_type": "markdown",
      "metadata": {
        "id": "7W2a1nKcMwME"
      },
      "source": [
        "#  **DEFINICIÓ DE MATRIUS EN PYTHON**\n",
        "\n",
        "Definim aquesta matriu en codi Python\n",
        "\n",
        "$$A=\\begin{bmatrix}\n",
        "5 & 4 & 6 & 7 \\\\\n",
        "3 & 5 & 8 & 9 \\\\\n",
        "1 & 5 & 1 & 3 \\\\\n",
        "\\end{bmatrix}$$"
      ]
    },
    {
      "cell_type": "markdown",
      "metadata": {
        "id": "DJ9HtXdzOPAT"
      },
      "source": [
        "###  **Forma 1:**\n",
        "\n",
        "Usem la funció **Matrix()**\n",
        "\n",
        "<center><font size=4><strong><strong>Matrix( [ [nombres de la Fila 1],[Nombres de la Fila 2],...[Fn-1],[Fn] ] )</strong></span></center>\n",
        "\n",
        "Cada fila es carrega amb '[  ]'\n",
        "\n",
        "Cada element (nombre de la matriu) es separa amb una coma ','"
      ]
    },
    {
      "cell_type": "code",
      "metadata": {
        "id": "FEniaiZiOON8"
      },
      "source": [
        "# Definim la matriu A.\n",
        "# Hi ha 3 files de 4 elements cada fila. Ordre 3x4.\n",
        "# Cada fila format per 4 elements. [ elements Fila 1]\n",
        "# Tres files, separades per comas ','\n",
        "# Un claudàtor '[  ]' per cada fila, i altre per tota la matriu\n",
        "# Li posem posar nom a la matriu, en aquest cas serà la matriu A.\n",
        "\n",
        "A = Matrix([                         # Inici de la matriu (inici amb claudàtor)\n",
        "            [5,4,6,7],               # Fila 1\n",
        "            [3,5,8,9],               # Fila 2\n",
        "            [1,5,1,3]                # Fila 3 (última no hi ha coma)\n",
        "            ])                       # Fi de la matriu\n"
      ],
      "execution_count": null,
      "outputs": []
    },
    {
      "cell_type": "code",
      "source": [
        "#Visualitzem la matriu, simplement \"cridem\" amb el seu nom, A i executem\n",
        "A"
      ],
      "metadata": {
        "colab": {
          "base_uri": "https://localhost:8080/",
          "height": 78
        },
        "id": "r-yurJzhGjDi",
        "outputId": "a555bab6-7db3-4060-aaa7-ae5f8f17519c"
      },
      "execution_count": null,
      "outputs": [
        {
          "output_type": "execute_result",
          "data": {
            "text/plain": [
              "⎡5  4  6  7⎤\n",
              "⎢          ⎥\n",
              "⎢3  5  8  9⎥\n",
              "⎢          ⎥\n",
              "⎣1  5  1  3⎦"
            ],
            "text/latex": "$\\displaystyle \\left[\\begin{matrix}5 & 4 & 6 & 7\\\\3 & 5 & 8 & 9\\\\1 & 5 & 1 & 3\\end{matrix}\\right]$"
          },
          "metadata": {},
          "execution_count": 5
        }
      ]
    },
    {
      "cell_type": "markdown",
      "metadata": {
        "id": "HDepGi8sOku4"
      },
      "source": [
        "###  **Forma 2:**\n",
        "\n",
        "Es pot definir amb la funció **Matrix()**, usant com a argument la mida de la matriu i una llista amb les entrades de la matriu, amb la sintaxi següent:\n",
        "\n",
        "\n",
        "<center><font size=4><span style=\"font-size: large;\"><strong>Matrix( m, n, [a11,a12,...,amn])</strong></span></center>\n",
        "\n"
      ]
    },
    {
      "cell_type": "code",
      "metadata": {
        "colab": {
          "base_uri": "https://localhost:8080/",
          "height": 78
        },
        "id": "hDHRrXx1Mvn1",
        "outputId": "6cb92c92-d7e5-4200-8e90-971a0654cc8d"
      },
      "source": [
        "# Definim la matriu A.\n",
        "# Hi ha 3 files de 4 elements cada fila. Ordre 3x4.\n",
        "\n",
        "A = Matrix(                               # Inici de la matriu, només parèntesi, sense claudàtor.\n",
        "          3,4,                            # indiquem l'ordre que volem, en aquest cas 3x4\n",
        "          [5,4,6,7,3,5,8,9,1,5,1,3])      # en 1 claudàtor definim tots els elements, i l'aplicació s'encarrega de alinear-ho correctament\n",
        "\n",
        "# El resultat és el mateix\n",
        "\n",
        "A"
      ],
      "execution_count": null,
      "outputs": [
        {
          "output_type": "execute_result",
          "data": {
            "text/plain": [
              "⎡5  4  6  7⎤\n",
              "⎢          ⎥\n",
              "⎢3  5  8  9⎥\n",
              "⎢          ⎥\n",
              "⎣1  5  1  3⎦"
            ],
            "text/latex": "$\\displaystyle \\left[\\begin{matrix}5 & 4 & 6 & 7\\\\3 & 5 & 8 & 9\\\\1 & 5 & 1 & 3\\end{matrix}\\right]$"
          },
          "metadata": {},
          "execution_count": 6
        }
      ]
    },
    {
      "cell_type": "markdown",
      "metadata": {
        "id": "jHlzvvH5PEKE"
      },
      "source": [
        "#  **TIPUS DE MATRIUS**\n",
        "\n",
        "##  **rectangular:**\n"
      ]
    },
    {
      "cell_type": "code",
      "metadata": {
        "colab": {
          "base_uri": "https://localhost:8080/",
          "height": 99
        },
        "id": "5flhY39fPphg",
        "outputId": "fcbd5d30-67d6-4f2f-8bed-5f15d5b338f3"
      },
      "source": [
        "A = Matrix([[3,4,5],[5,6,7],[3,4,5], [2,3,4]])\n",
        "A"
      ],
      "execution_count": null,
      "outputs": [
        {
          "output_type": "execute_result",
          "data": {
            "text/plain": [
              "⎡3  4  5⎤\n",
              "⎢       ⎥\n",
              "⎢5  6  7⎥\n",
              "⎢       ⎥\n",
              "⎢3  4  5⎥\n",
              "⎢       ⎥\n",
              "⎣2  3  4⎦"
            ],
            "text/latex": "$\\displaystyle \\left[\\begin{matrix}3 & 4 & 5\\\\5 & 6 & 7\\\\3 & 4 & 5\\\\2 & 3 & 4\\end{matrix}\\right]$"
          },
          "metadata": {},
          "execution_count": 21
        }
      ]
    },
    {
      "cell_type": "code",
      "source": [
        "# Mètode per mostrar l'ordre de la matriu\n",
        "A.shape"
      ],
      "metadata": {
        "colab": {
          "base_uri": "https://localhost:8080/",
          "height": 37
        },
        "id": "EpB5IRLyKoYW",
        "outputId": "e8bc850c-1a72-4a51-d155-c7e2fe2aae3f"
      },
      "execution_count": null,
      "outputs": [
        {
          "output_type": "execute_result",
          "data": {
            "text/plain": [
              "(4, 3)"
            ],
            "text/latex": "$\\displaystyle \\left( 4, \\  3\\right)$"
          },
          "metadata": {},
          "execution_count": 22
        }
      ]
    },
    {
      "cell_type": "markdown",
      "metadata": {
        "id": "hEWlUHz1QL1R"
      },
      "source": [
        "##  **Matriu quadrada:**\n"
      ]
    },
    {
      "cell_type": "code",
      "metadata": {
        "colab": {
          "base_uri": "https://localhost:8080/",
          "height": 78
        },
        "id": "ell15niJQjP5",
        "outputId": "2fde66ea-d121-48f2-b860-6b34f544f9fe"
      },
      "source": [
        "A = Matrix([[3,4,4],[5,6,7],[3,4,5]])\n",
        "A"
      ],
      "execution_count": null,
      "outputs": [
        {
          "output_type": "execute_result",
          "data": {
            "text/plain": [
              "⎡3  4  4⎤\n",
              "⎢       ⎥\n",
              "⎢5  6  7⎥\n",
              "⎢       ⎥\n",
              "⎣3  4  5⎦"
            ],
            "text/latex": "$\\displaystyle \\left[\\begin{matrix}3 & 4 & 4\\\\5 & 6 & 7\\\\3 & 4 & 5\\end{matrix}\\right]$"
          },
          "metadata": {},
          "execution_count": 7
        }
      ]
    },
    {
      "cell_type": "code",
      "metadata": {
        "colab": {
          "base_uri": "https://localhost:8080/",
          "height": 78
        },
        "id": "oy2ZHLaxi9Vf",
        "outputId": "66e21832-e224-4ff0-e688-abb4ad14f2c4"
      },
      "source": [
        "# Per practicar podem crear una matriu aleatòria\n",
        "# Si executeu diferents cops veureu que la matriu canvia\n",
        "# Als exàmens els elements < abs(5)\n",
        "\n",
        "A = randMatrix(           # el mètode randMatrix indica que ens proposarà una matriu a l'atzar\n",
        "    3,                    # el primer nombre indicarem matriu quadrada 3x3, podem posar 2 per una matriu quadrada 2x2\n",
        "    min=-5, max=5)        # el valor min i max indica l'interval dels elements de la matriu en Z\n",
        "A"
      ],
      "execution_count": null,
      "outputs": [
        {
          "output_type": "execute_result",
          "data": {
            "text/plain": [
              "⎡4   -5  5 ⎤\n",
              "⎢          ⎥\n",
              "⎢5   0   -3⎥\n",
              "⎢          ⎥\n",
              "⎣-2  -2  2 ⎦"
            ],
            "text/latex": "$\\displaystyle \\left[\\begin{matrix}4 & -5 & 5\\\\5 & 0 & -3\\\\-2 & -2 & 2\\end{matrix}\\right]$"
          },
          "metadata": {},
          "execution_count": 10
        }
      ]
    },
    {
      "cell_type": "code",
      "source": [
        "# Exemple de crear 2 matrius a l'atzar i les sumem\n",
        "\n",
        "A = randMatrix( 3, min=-5, max=5) # Matriu a l'atzar A\n",
        "B = randMatrix( 3, min=-5, max=5) # Matriu a l'atzar B\n",
        "\n",
        "#Visualitzem\n",
        "\n",
        "A , B"
      ],
      "metadata": {
        "colab": {
          "base_uri": "https://localhost:8080/",
          "height": 78
        },
        "id": "NsYyVlqJJKYL",
        "outputId": "e1d82d25-0fb5-4bf4-8e5a-93e484eaa9bd"
      },
      "execution_count": null,
      "outputs": [
        {
          "output_type": "execute_result",
          "data": {
            "text/plain": [
              "⎛⎡3   -3  5 ⎤  ⎡-3  4   1⎤⎞\n",
              "⎜⎢          ⎥  ⎢         ⎥⎟\n",
              "⎜⎢4   4   -1⎥, ⎢-2  -4  4⎥⎟\n",
              "⎜⎢          ⎥  ⎢         ⎥⎟\n",
              "⎝⎣-3  4   -2⎦  ⎣0   -2  4⎦⎠"
            ],
            "text/latex": "$\\displaystyle \\left( \\left[\\begin{matrix}3 & -3 & 5\\\\4 & 4 & -1\\\\-3 & 4 & -2\\end{matrix}\\right], \\  \\left[\\begin{matrix}-3 & 4 & 1\\\\-2 & -4 & 4\\\\0 & -2 & 4\\end{matrix}\\right]\\right)$"
          },
          "metadata": {},
          "execution_count": 3
        }
      ]
    },
    {
      "cell_type": "code",
      "source": [
        "# Suma de matrius\n",
        "\n",
        "A + B"
      ],
      "metadata": {
        "colab": {
          "base_uri": "https://localhost:8080/",
          "height": 78
        },
        "id": "aO1hAT2GJnrQ",
        "outputId": "5bb9f0bc-2009-480a-d71f-5ae309117b4d"
      },
      "execution_count": null,
      "outputs": [
        {
          "output_type": "execute_result",
          "data": {
            "text/plain": [
              "⎡0   1  6⎤\n",
              "⎢        ⎥\n",
              "⎢2   0  3⎥\n",
              "⎢        ⎥\n",
              "⎣-3  2  2⎦"
            ],
            "text/latex": "$\\displaystyle \\left[\\begin{matrix}0 & 1 & 6\\\\2 & 0 & 3\\\\-3 & 2 & 2\\end{matrix}\\right]$"
          },
          "metadata": {},
          "execution_count": 4
        }
      ]
    },
    {
      "cell_type": "code",
      "source": [
        "# Matriu nul·la\n",
        "\n",
        "C = A - A  # Fem el càlcul\n",
        "# Mostrem la matriu C\n",
        "C"
      ],
      "metadata": {
        "colab": {
          "base_uri": "https://localhost:8080/",
          "height": 78
        },
        "id": "hA4pqOFbJ454",
        "outputId": "3ab06e8c-1185-4bee-ba07-d7114a635680"
      },
      "execution_count": null,
      "outputs": [
        {
          "output_type": "execute_result",
          "data": {
            "text/plain": [
              "⎡0  0  0⎤\n",
              "⎢       ⎥\n",
              "⎢0  0  0⎥\n",
              "⎢       ⎥\n",
              "⎣0  0  0⎦"
            ],
            "text/latex": "$\\displaystyle \\left[\\begin{matrix}0 & 0 & 0\\\\0 & 0 & 0\\\\0 & 0 & 0\\end{matrix}\\right]$"
          },
          "metadata": {},
          "execution_count": 17
        }
      ]
    },
    {
      "cell_type": "markdown",
      "metadata": {
        "id": "pL77o-QrVAgO"
      },
      "source": [
        "##  **Matriu identitat:**\n",
        "És una matriu quadrada que compleix la propietat de ser l'element neutre del producte de matrius, la seva diagonal principal té entrada un i les altres entrades zero."
      ]
    },
    {
      "cell_type": "code",
      "metadata": {
        "colab": {
          "background_save": true,
          "base_uri": "https://localhost:8080/",
          "height": 98
        },
        "id": "ZUKA6df8VpQ1",
        "outputId": "c0d54fdd-1c92-409c-be09-5ac609985970"
      },
      "source": [
        "A= eye(4)  #El mètode 'eye' retorna una matriu quadrada d'ordre n, en aquest cas, 4\n",
        "A"
      ],
      "execution_count": null,
      "outputs": [
        {
          "data": {
            "text/latex": "$\\displaystyle \\left[\\begin{matrix}1 & 0 & 0 & 0\\\\0 & 1 & 0 & 0\\\\0 & 0 & 1 & 0\\\\0 & 0 & 0 & 1\\end{matrix}\\right]$",
            "text/plain": [
              "⎡1  0  0  0⎤\n",
              "⎢          ⎥\n",
              "⎢0  1  0  0⎥\n",
              "⎢          ⎥\n",
              "⎢0  0  1  0⎥\n",
              "⎢          ⎥\n",
              "⎣0  0  0  1⎦"
            ]
          },
          "execution_count": null,
          "metadata": {},
          "output_type": "execute_result"
        }
      ]
    },
    {
      "cell_type": "code",
      "source": [
        "eye(3) # provem amb ordre 3"
      ],
      "metadata": {
        "colab": {
          "base_uri": "https://localhost:8080/",
          "height": 78
        },
        "id": "KpCe_b8xKW1Q",
        "outputId": "45ed81c3-0374-4533-eb01-ecb253678b7b"
      },
      "execution_count": null,
      "outputs": [
        {
          "output_type": "execute_result",
          "data": {
            "text/plain": [
              "⎡1  0  0⎤\n",
              "⎢       ⎥\n",
              "⎢0  1  0⎥\n",
              "⎢       ⎥\n",
              "⎣0  0  1⎦"
            ],
            "text/latex": "$\\displaystyle \\left[\\begin{matrix}1 & 0 & 0\\\\0 & 1 & 0\\\\0 & 0 & 1\\end{matrix}\\right]$"
          },
          "metadata": {},
          "execution_count": 18
        }
      ]
    },
    {
      "cell_type": "markdown",
      "metadata": {
        "id": "gpLaY9JmZXqQ"
      },
      "source": [
        "#  **OPERACIONS AMB MATRIUS**\n",
        "\n",
        "#  **Suma**\n",
        "\n",
        "Sigui ${\\displaystyle A,B\\in {\\mathcal {M}}_{m\\times n}(\\mathbb {R} )}$ si:\n",
        "\n",
        "(es llegeix donades les matrius A,B d'ordre m x n i els elements pertànyen al conjunt $\\mathbb {R}$\n",
        "\n",
        "<center> <h4> $A = \\left[  a_{ij} \\right]_{m \\times n}$  y $B = \\left[  b_{ij} \\right]_{m \\times n}$ &nbsp; &nbsp; llavors  &nbsp; &nbsp;$A+B = \\left[  a_{ij} +b_{ij} \\right]_{m \\times n} $</h4>\n"
      ]
    },
    {
      "cell_type": "markdown",
      "metadata": {
        "id": "jWI1TjL7mwy6"
      },
      "source": [
        "###  **Exemples**\n",
        "\n",
        "$$A=\\begin{bmatrix}\n",
        "5 & 4 & -5 \\\\\n",
        "3 & 6 & -7 \\\\\n",
        "\\end{bmatrix}\n",
        "\\hspace{1cm}\n",
        "B=\\begin{bmatrix}\n",
        "2 & -4 & 0 \\\\\n",
        "0 & -6 & 7 \\\\\n",
        "\\end{bmatrix}$$"
      ]
    },
    {
      "cell_type": "code",
      "metadata": {
        "colab": {
          "base_uri": "https://localhost:8080/",
          "height": 58
        },
        "id": "_lvMxcxc7n6Y",
        "outputId": "96d9ee6e-35d7-449c-f6f6-0726a1fb00ab"
      },
      "source": [
        "A = Matrix([[5,4,-5],[3,6,-7]])\n",
        "B = Matrix([[2,-4,0],[0,-6,7]])\n",
        "#Visualitzem les dues matrius\n",
        "A , B"
      ],
      "execution_count": null,
      "outputs": [
        {
          "output_type": "execute_result",
          "data": {
            "text/plain": [
              "⎛⎡5  4  -5⎤  ⎡2  -4  0⎤⎞\n",
              "⎜⎢        ⎥, ⎢        ⎥⎟\n",
              "⎝⎣3  6  -7⎦  ⎣0  -6  7⎦⎠"
            ],
            "text/latex": "$\\displaystyle \\left( \\left[\\begin{matrix}5 & 4 & -5\\\\3 & 6 & -7\\end{matrix}\\right], \\  \\left[\\begin{matrix}2 & -4 & 0\\\\0 & -6 & 7\\end{matrix}\\right]\\right)$"
          },
          "metadata": {},
          "execution_count": 23
        }
      ]
    },
    {
      "cell_type": "code",
      "source": [
        "# Fem la suma\n",
        "\n",
        "A + B"
      ],
      "metadata": {
        "colab": {
          "base_uri": "https://localhost:8080/",
          "height": 58
        },
        "id": "RqJfBE4FLe-o",
        "outputId": "267081c8-6486-48d2-fce5-76e48408d7e9"
      },
      "execution_count": null,
      "outputs": [
        {
          "output_type": "execute_result",
          "data": {
            "text/plain": [
              "⎡7  0  -5⎤\n",
              "⎢        ⎥\n",
              "⎣3  0  0 ⎦"
            ],
            "text/latex": "$\\displaystyle \\left[\\begin{matrix}7 & 0 & -5\\\\3 & 0 & 0\\end{matrix}\\right]$"
          },
          "metadata": {},
          "execution_count": 24
        }
      ]
    },
    {
      "cell_type": "markdown",
      "metadata": {
        "id": "9nQBZDNwyjgE"
      },
      "source": [
        "#  **Propietats de la suma de matrius**\n",
        "\n",
        "Siguin ${\\displaystyle A,B,C\\in {\\mathcal {M}}_{m\\times n}(\\mathbb {R} )}$,  se llavors es verifica que:\n",
        "\n",
        "<center>\n",
        "\n",
        "|            PROPIETAT           |       EXPLICACIÓ                      |\n",
        "|:------------------------------:|:--------------------------------------:|\n",
        "| Operació interna                   |$$A + B \\in \\mathcal{M}_{m\\times n}(\\mathbb{R})$$|\n",
        "| Conmutativa                     |   $$A + B = B + A$$                      |\n",
        "| Associativa                      |      $$(A +B) + C = A + ( B+C)$$         |\n",
        "| Existència element neutre   |             $$A + 0 = A$$                           |\n",
        "| Existencia element simètric  |     $$A + (-A) = 0 $$                                  |"
      ]
    },
    {
      "cell_type": "markdown",
      "metadata": {
        "id": "LTiEZ_x_L5Eb"
      },
      "source": [
        "##  **Exercicis de verificació**\n",
        "\n",
        "Amb les matrius definides anteriorment A, B.\\\n",
        "Definim una matriu C a l'atzar"
      ]
    },
    {
      "cell_type": "code",
      "source": [
        "C = randMatrix( 2,3, min=-5, max=5) # Matriu a l'atzar B\n",
        "C"
      ],
      "metadata": {
        "colab": {
          "base_uri": "https://localhost:8080/",
          "height": 58
        },
        "id": "3EiXI26RMKe2",
        "outputId": "a8836035-38ad-46e0-f816-acadec7e20a9"
      },
      "execution_count": null,
      "outputs": [
        {
          "output_type": "execute_result",
          "data": {
            "text/plain": [
              "⎡-4  0   5 ⎤\n",
              "⎢          ⎥\n",
              "⎣-2  -1  -5⎦"
            ],
            "text/latex": "$\\displaystyle \\left[\\begin{matrix}-4 & 0 & 5\\\\-2 & -1 & -5\\end{matrix}\\right]$"
          },
          "metadata": {},
          "execution_count": 29
        }
      ]
    },
    {
      "cell_type": "markdown",
      "metadata": {
        "id": "6a3_8QRuJS3c"
      },
      "source": [
        "###  **Propietat conmutativa**\n",
        "\n",
        "<h4>$$A + B = B + A$$  "
      ]
    },
    {
      "cell_type": "code",
      "metadata": {
        "colab": {
          "base_uri": "https://localhost:8080/",
          "height": 58
        },
        "id": "CnnmFWKbJZBD",
        "outputId": "10364781-deb7-4457-d6a0-0739b92bb547"
      },
      "source": [
        "A + B"
      ],
      "execution_count": null,
      "outputs": [
        {
          "output_type": "execute_result",
          "data": {
            "text/plain": [
              "⎡7  0  -5⎤\n",
              "⎢        ⎥\n",
              "⎣3  0  0 ⎦"
            ],
            "text/latex": "$\\displaystyle \\left[\\begin{matrix}7 & 0 & -5\\\\3 & 0 & 0\\end{matrix}\\right]$"
          },
          "metadata": {},
          "execution_count": 26
        }
      ]
    },
    {
      "cell_type": "code",
      "source": [
        "B + A"
      ],
      "metadata": {
        "colab": {
          "base_uri": "https://localhost:8080/",
          "height": 58
        },
        "id": "C7Se_aLDMUR8",
        "outputId": "35342832-db63-46db-d965-1c23e55c38e5"
      },
      "execution_count": null,
      "outputs": [
        {
          "output_type": "execute_result",
          "data": {
            "text/plain": [
              "⎡7  0  -5⎤\n",
              "⎢        ⎥\n",
              "⎣3  0  0 ⎦"
            ],
            "text/latex": "$\\displaystyle \\left[\\begin{matrix}7 & 0 & -5\\\\3 & 0 & 0\\end{matrix}\\right]$"
          },
          "metadata": {},
          "execution_count": 27
        }
      ]
    },
    {
      "cell_type": "markdown",
      "metadata": {
        "id": "Va3GHC3iJczc"
      },
      "source": [
        "###  **propietat associativa**\n",
        "\n",
        "<h4>$$(A +B) + C = A + ( B+C)$$   "
      ]
    },
    {
      "cell_type": "code",
      "metadata": {
        "colab": {
          "base_uri": "https://localhost:8080/",
          "height": 58
        },
        "id": "t7eyMH6OTz7r",
        "outputId": "6c43f3bf-f614-41ee-9ac1-fcd88aaa9969"
      },
      "source": [
        "(A + B) + C"
      ],
      "execution_count": null,
      "outputs": [
        {
          "output_type": "execute_result",
          "data": {
            "text/plain": [
              "⎡3  0   0 ⎤\n",
              "⎢         ⎥\n",
              "⎣1  -1  -5⎦"
            ],
            "text/latex": "$\\displaystyle \\left[\\begin{matrix}3 & 0 & 0\\\\1 & -1 & -5\\end{matrix}\\right]$"
          },
          "metadata": {},
          "execution_count": 30
        }
      ]
    },
    {
      "cell_type": "code",
      "source": [
        "A + (B + C)"
      ],
      "metadata": {
        "colab": {
          "base_uri": "https://localhost:8080/",
          "height": 58
        },
        "id": "UysMUT9LMe5y",
        "outputId": "9878bb2b-dce6-4c00-e051-3edfa6ef7f01"
      },
      "execution_count": null,
      "outputs": [
        {
          "output_type": "execute_result",
          "data": {
            "text/plain": [
              "⎡3  0   0 ⎤\n",
              "⎢         ⎥\n",
              "⎣1  -1  -5⎦"
            ],
            "text/latex": "$\\displaystyle \\left[\\begin{matrix}3 & 0 & 0\\\\1 & -1 & -5\\end{matrix}\\right]$"
          },
          "metadata": {},
          "execution_count": 31
        }
      ]
    },
    {
      "cell_type": "code",
      "metadata": {
        "colab": {
          "base_uri": "https://localhost:8080/",
          "height": 58
        },
        "id": "zyRRI7iJJmbh",
        "outputId": "cc7438e3-0830-4e75-d941-23300e47fe16"
      },
      "source": [
        "A - A"
      ],
      "execution_count": null,
      "outputs": [
        {
          "output_type": "execute_result",
          "data": {
            "text/plain": [
              "⎡0  0  0⎤\n",
              "⎢       ⎥\n",
              "⎣0  0  0⎦"
            ],
            "text/latex": "$\\displaystyle \\left[\\begin{matrix}0 & 0 & 0\\\\0 & 0 & 0\\end{matrix}\\right]$"
          },
          "metadata": {},
          "execution_count": 32
        }
      ]
    },
    {
      "cell_type": "code",
      "source": [
        "A + (-1 * A)"
      ],
      "metadata": {
        "colab": {
          "base_uri": "https://localhost:8080/",
          "height": 58
        },
        "id": "ghn0D6VsMneH",
        "outputId": "4fc206a0-b5ce-42d5-8f5c-ea8c5f63a821"
      },
      "execution_count": null,
      "outputs": [
        {
          "output_type": "execute_result",
          "data": {
            "text/plain": [
              "⎡0  0  0⎤\n",
              "⎢       ⎥\n",
              "⎣0  0  0⎦"
            ],
            "text/latex": "$\\displaystyle \\left[\\begin{matrix}0 & 0 & 0\\\\0 & 0 & 0\\end{matrix}\\right]$"
          },
          "metadata": {},
          "execution_count": 35
        }
      ]
    },
    {
      "cell_type": "markdown",
      "metadata": {
        "id": "WUUeyfbhqyAC"
      },
      "source": [
        "#  **Producte de matrius**\n",
        "\n",
        "Siguin ${\\displaystyle A\\in {\\mathcal {M}}_{n\\times m}(\\mathbb {R} )}$ y  ${\\displaystyle B\\in {\\mathcal {M}}_{m\\times p}(\\mathbb {R} )}$ :\n",
        "\n",
        "<center> <h4> $A = \\left[  a_{ij} \\right]_{m \\times n}$  y $B = \\left[  b_{ij} \\right]_{n \\times p}$ &nbsp; &nbsp; llavors  &nbsp; &nbsp; $AB = \\left[  c_{ij} \\right]_{m \\times p} $ &nbsp; &nbsp; i &nbsp; &nbsp; $\\displaystyle   c_{ij} = \\sum_{r=1}^{n}a_{ir}b_{rj}$</h4>\n"
      ]
    },
    {
      "cell_type": "markdown",
      "metadata": {
        "id": "naEMpZh_2Wyt"
      },
      "source": [
        "##  **Exemple**\n",
        "\n",
        "Definim les matrius $A \\cdot B $  :\n",
        "\n",
        "$$A=\\begin{bmatrix}\n",
        "2  & -5 \\\\\n",
        "4  & -7 \\\\\n",
        "1  & -3  \\\\\n",
        "\\end{bmatrix}\n",
        "\\hspace{1cm}\n",
        "B=\\begin{bmatrix}\n",
        "-2 & -4 \\\\\n",
        "-5 & -6 \\\\\n",
        "\\end{bmatrix}\n",
        "$$"
      ]
    },
    {
      "cell_type": "code",
      "metadata": {
        "colab": {
          "base_uri": "https://localhost:8080/",
          "height": 113
        },
        "id": "3HSjon43e1V0",
        "outputId": "b58896a1-b0b6-4faa-ec73-969d5eb0b3e4"
      },
      "source": [
        "A = Matrix([[2,-5],[4,-7],[1,-3]])\n",
        "B = Matrix([[-2,-4],[-5,-6]])\n",
        "print(\"L'ordre de la matriu A és \", A.shape, \"I l'ordre de la matriu B és \", B.shape)\n",
        "print(\"El producte de les matrius A i B és:\")\n",
        "A * B\n"
      ],
      "execution_count": null,
      "outputs": [
        {
          "output_type": "stream",
          "name": "stdout",
          "text": [
            "L'ordre de la matriu A és  (3, 2) I l'ordre de la matriu B és  (2, 2)\n",
            "El producte de les matrius A i B és:\n"
          ]
        },
        {
          "output_type": "execute_result",
          "data": {
            "text/plain": [
              "⎡21  22⎤\n",
              "⎢      ⎥\n",
              "⎢27  26⎥\n",
              "⎢      ⎥\n",
              "⎣13  14⎦"
            ],
            "text/latex": "$\\displaystyle \\left[\\begin{matrix}21 & 22\\\\27 & 26\\\\13 & 14\\end{matrix}\\right]$"
          },
          "metadata": {},
          "execution_count": 5
        }
      ]
    },
    {
      "cell_type": "markdown",
      "metadata": {
        "id": "4w0gLm_jT4Ck"
      },
      "source": [
        "#  **Propietats del producte de matrius**\n",
        "\n",
        "Sigui ${\\displaystyle A\\in {\\mathcal {M}}_{m\\times n}(\\mathbb {R} )}$,  es verifica:\n",
        "\n",
        "<center>\n",
        "\n",
        "|            PROPIETAT           |       EXPLICACIÓ                      |\n",
        "|:------------------------------:|:--------------------------------------:|\n",
        "| Operació interna                  |$$A B \\in \\mathcal{M}_{m\\times n}(\\mathbb{R})$$|\n",
        "| No conmutativa                     |   $$A  B \\neq B A$$                      |\n",
        "| Associativa                      |      $$(AB)  C = A ( B C)$$         |\n",
        "| Existència element neutre si ${\\displaystyle A\\in {\\mathcal {M}}_{n\\times n}(\\mathbb {R} )}$   | $$A  I_{n} = I_{n}  A = A$$|\n",
        "| Existència element invers si ${\\displaystyle A\\in {\\mathcal {M}}_{n\\times n}(\\mathbb {R} )}$    | $$A A^{-1} =A^{-1}A =I_{n}$$ |\n",
        "| Propietat distributiva por dreta    | $$ (B +C )A  = BA + CA$$ |\n",
        "| Propietat distributiva por esquerra    | $$A(B +C ) = AB +AC$$ |\n"
      ]
    },
    {
      "cell_type": "markdown",
      "metadata": {
        "id": "atoIr9QgNt7X"
      },
      "source": [
        "##  **Verificació de les propietats de la multiplicació de matrius**"
      ]
    },
    {
      "cell_type": "markdown",
      "metadata": {
        "id": "JT7cuI3sNt71"
      },
      "source": [
        "###  **Propietat conmutativa**\n",
        "\n",
        "$$A  B = B A$$"
      ]
    },
    {
      "cell_type": "code",
      "metadata": {
        "colab": {
          "base_uri": "https://localhost:8080/",
          "height": 78
        },
        "id": "2oKmW7klcwKQ",
        "outputId": "2953f07b-67ca-4d17-ccf2-23858b035fef"
      },
      "source": [
        "A * B"
      ],
      "execution_count": null,
      "outputs": [
        {
          "output_type": "execute_result",
          "data": {
            "text/plain": [
              "⎡21  22⎤\n",
              "⎢      ⎥\n",
              "⎢27  26⎥\n",
              "⎢      ⎥\n",
              "⎣13  14⎦"
            ],
            "text/latex": "$\\displaystyle \\left[\\begin{matrix}21 & 22\\\\27 & 26\\\\13 & 14\\end{matrix}\\right]$"
          },
          "metadata": {},
          "execution_count": 38
        }
      ]
    },
    {
      "cell_type": "code",
      "source": [
        "B * A  # ens indica error, no es pot realitzar el producte  Matrix size mismatch: (2, 2) * (3, 2)"
      ],
      "metadata": {
        "colab": {
          "base_uri": "https://localhost:8080/",
          "height": 321
        },
        "id": "BGgyh-lkOwok",
        "outputId": "f68a2340-e780-415b-da54-3b1cede7d709"
      },
      "execution_count": null,
      "outputs": [
        {
          "output_type": "error",
          "ename": "ShapeError",
          "evalue": "ignored",
          "traceback": [
            "\u001b[0;31m---------------------------------------------------------------------------\u001b[0m",
            "\u001b[0;31mShapeError\u001b[0m                                Traceback (most recent call last)",
            "\u001b[0;32m<ipython-input-40-4921916c8e87>\u001b[0m in \u001b[0;36m<cell line: 1>\u001b[0;34m()\u001b[0m\n\u001b[0;32m----> 1\u001b[0;31m \u001b[0mB\u001b[0m \u001b[0;34m*\u001b[0m \u001b[0mA\u001b[0m  \u001b[0;31m# ens indica error, no es pot realitzar el producte #  Matrix size mismatch: (2, 2) * (3, 2) #\u001b[0m\u001b[0;34m\u001b[0m\u001b[0;34m\u001b[0m\u001b[0m\n\u001b[0m",
            "\u001b[0;32m/usr/local/lib/python3.10/dist-packages/sympy/core/decorators.py\u001b[0m in \u001b[0;36mbinary_op_wrapper\u001b[0;34m(self, other)\u001b[0m\n\u001b[1;32m    104\u001b[0m                     \u001b[0;32mif\u001b[0m \u001b[0mf\u001b[0m \u001b[0;32mis\u001b[0m \u001b[0;32mnot\u001b[0m \u001b[0;32mNone\u001b[0m\u001b[0;34m:\u001b[0m\u001b[0;34m\u001b[0m\u001b[0;34m\u001b[0m\u001b[0m\n\u001b[1;32m    105\u001b[0m                         \u001b[0;32mreturn\u001b[0m \u001b[0mf\u001b[0m\u001b[0;34m(\u001b[0m\u001b[0mself\u001b[0m\u001b[0;34m)\u001b[0m\u001b[0;34m\u001b[0m\u001b[0;34m\u001b[0m\u001b[0m\n\u001b[0;32m--> 106\u001b[0;31m             \u001b[0;32mreturn\u001b[0m \u001b[0mfunc\u001b[0m\u001b[0;34m(\u001b[0m\u001b[0mself\u001b[0m\u001b[0;34m,\u001b[0m \u001b[0mother\u001b[0m\u001b[0;34m)\u001b[0m\u001b[0;34m\u001b[0m\u001b[0;34m\u001b[0m\u001b[0m\n\u001b[0m\u001b[1;32m    107\u001b[0m         \u001b[0;32mreturn\u001b[0m \u001b[0mbinary_op_wrapper\u001b[0m\u001b[0;34m\u001b[0m\u001b[0;34m\u001b[0m\u001b[0m\n\u001b[1;32m    108\u001b[0m     \u001b[0;32mreturn\u001b[0m \u001b[0mpriority_decorator\u001b[0m\u001b[0;34m\u001b[0m\u001b[0;34m\u001b[0m\u001b[0m\n",
            "\u001b[0;32m/usr/local/lib/python3.10/dist-packages/sympy/matrices/common.py\u001b[0m in \u001b[0;36m__mul__\u001b[0;34m(self, other)\u001b[0m\n\u001b[1;32m   2700\u001b[0m         \"\"\"\n\u001b[1;32m   2701\u001b[0m \u001b[0;34m\u001b[0m\u001b[0m\n\u001b[0;32m-> 2702\u001b[0;31m         \u001b[0;32mreturn\u001b[0m \u001b[0mself\u001b[0m\u001b[0;34m.\u001b[0m\u001b[0mmultiply\u001b[0m\u001b[0;34m(\u001b[0m\u001b[0mother\u001b[0m\u001b[0;34m)\u001b[0m\u001b[0;34m\u001b[0m\u001b[0;34m\u001b[0m\u001b[0m\n\u001b[0m\u001b[1;32m   2703\u001b[0m \u001b[0;34m\u001b[0m\u001b[0m\n\u001b[1;32m   2704\u001b[0m     \u001b[0;32mdef\u001b[0m \u001b[0mmultiply\u001b[0m\u001b[0;34m(\u001b[0m\u001b[0mself\u001b[0m\u001b[0;34m,\u001b[0m \u001b[0mother\u001b[0m\u001b[0;34m,\u001b[0m \u001b[0mdotprodsimp\u001b[0m\u001b[0;34m=\u001b[0m\u001b[0;32mNone\u001b[0m\u001b[0;34m)\u001b[0m\u001b[0;34m:\u001b[0m\u001b[0;34m\u001b[0m\u001b[0;34m\u001b[0m\u001b[0m\n",
            "\u001b[0;32m/usr/local/lib/python3.10/dist-packages/sympy/matrices/common.py\u001b[0m in \u001b[0;36mmultiply\u001b[0;34m(self, other, dotprodsimp)\u001b[0m\n\u001b[1;32m   2722\u001b[0m              getattr(other, 'is_MatrixLike', True))):\n\u001b[1;32m   2723\u001b[0m             \u001b[0;32mif\u001b[0m \u001b[0mself\u001b[0m\u001b[0;34m.\u001b[0m\u001b[0mshape\u001b[0m\u001b[0;34m[\u001b[0m\u001b[0;36m1\u001b[0m\u001b[0;34m]\u001b[0m \u001b[0;34m!=\u001b[0m \u001b[0mother\u001b[0m\u001b[0;34m.\u001b[0m\u001b[0mshape\u001b[0m\u001b[0;34m[\u001b[0m\u001b[0;36m0\u001b[0m\u001b[0;34m]\u001b[0m\u001b[0;34m:\u001b[0m\u001b[0;34m\u001b[0m\u001b[0;34m\u001b[0m\u001b[0m\n\u001b[0;32m-> 2724\u001b[0;31m                 raise ShapeError(\"Matrix size mismatch: %s * %s.\" % (\n\u001b[0m\u001b[1;32m   2725\u001b[0m                     self.shape, other.shape))\n\u001b[1;32m   2726\u001b[0m \u001b[0;34m\u001b[0m\u001b[0m\n",
            "\u001b[0;31mShapeError\u001b[0m: Matrix size mismatch: (2, 2) * (3, 2)."
          ]
        }
      ]
    },
    {
      "cell_type": "markdown",
      "metadata": {
        "id": "DPag3xU7Nt74"
      },
      "source": [
        "###   **propiedad asociativa**\n",
        "$$(AB)  C = A ( B C)$$"
      ]
    },
    {
      "cell_type": "code",
      "metadata": {
        "colab": {
          "base_uri": "https://localhost:8080/",
          "height": 37
        },
        "id": "JU35Ikp5Jx8J",
        "outputId": "1ea3be85-f685-4eeb-a281-c79138faf3b3"
      },
      "source": [
        "C.shape # La matriu C sí és compatible"
      ],
      "execution_count": null,
      "outputs": [
        {
          "output_type": "execute_result",
          "data": {
            "text/plain": [
              "(2, 3)"
            ],
            "text/latex": "$\\displaystyle \\left( 2, \\  3\\right)$"
          },
          "metadata": {},
          "execution_count": 41
        }
      ]
    },
    {
      "cell_type": "code",
      "source": [
        "(A * B) * C"
      ],
      "metadata": {
        "colab": {
          "base_uri": "https://localhost:8080/",
          "height": 78
        },
        "id": "T2q3uRVlPMzC",
        "outputId": "8f2c29b2-2a3d-40a7-d390-2057d230bb71"
      },
      "execution_count": null,
      "outputs": [
        {
          "output_type": "execute_result",
          "data": {
            "text/plain": [
              "⎡-128  -22  -5⎤\n",
              "⎢             ⎥\n",
              "⎢-160  -26  5 ⎥\n",
              "⎢             ⎥\n",
              "⎣-80   -14  -5⎦"
            ],
            "text/latex": "$\\displaystyle \\left[\\begin{matrix}-128 & -22 & -5\\\\-160 & -26 & 5\\\\-80 & -14 & -5\\end{matrix}\\right]$"
          },
          "metadata": {},
          "execution_count": 42
        }
      ]
    },
    {
      "cell_type": "code",
      "source": [
        "A * (B * C)"
      ],
      "metadata": {
        "colab": {
          "base_uri": "https://localhost:8080/",
          "height": 78
        },
        "id": "LRD02JWgPQaj",
        "outputId": "4bb98a6d-c931-478b-81de-004cdd7af818"
      },
      "execution_count": null,
      "outputs": [
        {
          "output_type": "execute_result",
          "data": {
            "text/plain": [
              "⎡-128  -22  -5⎤\n",
              "⎢             ⎥\n",
              "⎢-160  -26  5 ⎥\n",
              "⎢             ⎥\n",
              "⎣-80   -14  -5⎦"
            ],
            "text/latex": "$\\displaystyle \\left[\\begin{matrix}-128 & -22 & -5\\\\-160 & -26 & 5\\\\-80 & -14 & -5\\end{matrix}\\right]$"
          },
          "metadata": {},
          "execution_count": 43
        }
      ]
    },
    {
      "cell_type": "markdown",
      "metadata": {
        "id": "uOXfgPtNNt75"
      },
      "source": [
        "###   **element neutre**\n",
        "\n",
        "$$A * I_{n} = I_{n} * A = A$$\n",
        "\n"
      ]
    },
    {
      "cell_type": "code",
      "metadata": {
        "colab": {
          "base_uri": "https://localhost:8080/",
          "height": 78
        },
        "id": "RsYfmQFfJ13j",
        "outputId": "2345370a-3348-48de-bd25-e120ba0a85c8"
      },
      "source": [
        "A = randMatrix(3, min=0, max=5)\n",
        "A"
      ],
      "execution_count": null,
      "outputs": [
        {
          "output_type": "execute_result",
          "data": {
            "text/plain": [
              "⎡1  4  1⎤\n",
              "⎢       ⎥\n",
              "⎢1  1  2⎥\n",
              "⎢       ⎥\n",
              "⎣5  0  1⎦"
            ],
            "text/latex": "$\\displaystyle \\left[\\begin{matrix}1 & 4 & 1\\\\1 & 1 & 2\\\\5 & 0 & 1\\end{matrix}\\right]$"
          },
          "metadata": {},
          "execution_count": 70
        }
      ]
    },
    {
      "cell_type": "code",
      "source": [
        "A * eye(3)"
      ],
      "metadata": {
        "colab": {
          "base_uri": "https://localhost:8080/",
          "height": 78
        },
        "id": "DzuLFBTLTzEw",
        "outputId": "4de2f606-dda2-42d8-f521-a724419647a2"
      },
      "execution_count": null,
      "outputs": [
        {
          "output_type": "execute_result",
          "data": {
            "text/plain": [
              "⎡1  4  1⎤\n",
              "⎢       ⎥\n",
              "⎢1  1  2⎥\n",
              "⎢       ⎥\n",
              "⎣5  0  1⎦"
            ],
            "text/latex": "$\\displaystyle \\left[\\begin{matrix}1 & 4 & 1\\\\1 & 1 & 2\\\\5 & 0 & 1\\end{matrix}\\right]$"
          },
          "metadata": {},
          "execution_count": 71
        }
      ]
    },
    {
      "cell_type": "code",
      "source": [
        "# on\n",
        "eye(3)"
      ],
      "metadata": {
        "colab": {
          "base_uri": "https://localhost:8080/",
          "height": 78
        },
        "id": "ht6baGxKT12Q",
        "outputId": "ac7b170d-d9ca-4050-dfb0-6fd7bb77fa39"
      },
      "execution_count": null,
      "outputs": [
        {
          "output_type": "execute_result",
          "data": {
            "text/plain": [
              "⎡1  0  0⎤\n",
              "⎢       ⎥\n",
              "⎢0  1  0⎥\n",
              "⎢       ⎥\n",
              "⎣0  0  1⎦"
            ],
            "text/latex": "$\\displaystyle \\left[\\begin{matrix}1 & 0 & 0\\\\0 & 1 & 0\\\\0 & 0 & 1\\end{matrix}\\right]$"
          },
          "metadata": {},
          "execution_count": 72
        }
      ]
    },
    {
      "cell_type": "markdown",
      "metadata": {
        "id": "2IgSjjqPNt77"
      },
      "source": [
        "###   **element invers**\n",
        "\n",
        "$$A * A^{-1} = A^{-1} * A =I_{n}$$"
      ]
    },
    {
      "cell_type": "code",
      "metadata": {
        "colab": {
          "base_uri": "https://localhost:8080/",
          "height": 78
        },
        "id": "VzPLOxhXGHH_",
        "outputId": "71c106be-9178-403d-a3e2-4c3c9e15f972"
      },
      "source": [
        "A = Matrix([[2,-5,2],[4,-7,6],[1,-3,1]])\n",
        "A"
      ],
      "execution_count": null,
      "outputs": [
        {
          "output_type": "execute_result",
          "data": {
            "text/plain": [
              "⎡2  -5  2⎤\n",
              "⎢        ⎥\n",
              "⎢4  -7  6⎥\n",
              "⎢        ⎥\n",
              "⎣1  -3  1⎦"
            ],
            "text/latex": "$\\displaystyle \\left[\\begin{matrix}2 & -5 & 2\\\\4 & -7 & 6\\\\1 & -3 & 1\\end{matrix}\\right]$"
          },
          "metadata": {},
          "execution_count": 45
        }
      ]
    },
    {
      "cell_type": "code",
      "metadata": {
        "colab": {
          "base_uri": "https://localhost:8080/",
          "height": 78
        },
        "id": "jHIuAWRXHlU6",
        "outputId": "6fb6a0e5-2a4d-4897-c43d-75106c127abd"
      },
      "source": [
        "# Càlcul de la matriu inversa\n",
        "InvA = A**(-1) # L'exponent s'indica amb '**'\n",
        "InvA"
      ],
      "execution_count": null,
      "outputs": [
        {
          "output_type": "execute_result",
          "data": {
            "text/plain": [
              "⎡11/2  -1/2  -8⎤\n",
              "⎢              ⎥\n",
              "⎢ 1     0    -2⎥\n",
              "⎢              ⎥\n",
              "⎣-5/2  1/2   3 ⎦"
            ],
            "text/latex": "$\\displaystyle \\left[\\begin{matrix}\\frac{11}{2} & - \\frac{1}{2} & -8\\\\1 & 0 & -2\\\\- \\frac{5}{2} & \\frac{1}{2} & 3\\end{matrix}\\right]$"
          },
          "metadata": {},
          "execution_count": 46
        }
      ]
    },
    {
      "cell_type": "code",
      "metadata": {
        "colab": {
          "base_uri": "https://localhost:8080/",
          "height": 78
        },
        "id": "tPkWiXxMHs97",
        "outputId": "b8c79ed7-8d77-4ddd-f008-90d67b15cbed"
      },
      "source": [
        "A * InvA"
      ],
      "execution_count": null,
      "outputs": [
        {
          "output_type": "execute_result",
          "data": {
            "text/plain": [
              "⎡1  0  0⎤\n",
              "⎢       ⎥\n",
              "⎢0  1  0⎥\n",
              "⎢       ⎥\n",
              "⎣0  0  1⎦"
            ],
            "text/latex": "$\\displaystyle \\left[\\begin{matrix}1 & 0 & 0\\\\0 & 1 & 0\\\\0 & 0 & 1\\end{matrix}\\right]$"
          },
          "metadata": {},
          "execution_count": 48
        }
      ]
    },
    {
      "cell_type": "code",
      "metadata": {
        "colab": {
          "base_uri": "https://localhost:8080/",
          "height": 78
        },
        "id": "xqdguvEcH2_2",
        "outputId": "889de81f-25af-4f8f-fa28-53d580a63a50"
      },
      "source": [
        "InvA *A"
      ],
      "execution_count": null,
      "outputs": [
        {
          "output_type": "execute_result",
          "data": {
            "text/plain": [
              "⎡1  0  0⎤\n",
              "⎢       ⎥\n",
              "⎢0  1  0⎥\n",
              "⎢       ⎥\n",
              "⎣0  0  1⎦"
            ],
            "text/latex": "$\\displaystyle \\left[\\begin{matrix}1 & 0 & 0\\\\0 & 1 & 0\\\\0 & 0 & 1\\end{matrix}\\right]$"
          },
          "metadata": {},
          "execution_count": 47
        }
      ]
    },
    {
      "cell_type": "markdown",
      "metadata": {
        "id": "TRodi4X7OMlJ"
      },
      "source": [
        "###   **Exemples**  \n",
        " $$ (B +C )A  = BA + CA$$"
      ]
    },
    {
      "cell_type": "code",
      "metadata": {
        "id": "plBH2u4zJ9WN"
      },
      "source": [
        "# Fer l'exercici\n",
        "# Definiu les matrius A, B, C per que es pugui executar"
      ],
      "execution_count": null,
      "outputs": []
    },
    {
      "cell_type": "markdown",
      "metadata": {
        "id": "Z3oxyW9BOMlL"
      },
      "source": [
        "###   **Exemples**  \n",
        "\n",
        "$$A(B +C ) = AB +AC\n",
        " $$"
      ]
    },
    {
      "cell_type": "code",
      "metadata": {
        "colab": {
          "background_save": true
        },
        "id": "BCc8hOqK_V1n"
      },
      "source": [],
      "execution_count": null,
      "outputs": []
    },
    {
      "cell_type": "markdown",
      "metadata": {
        "id": "pwxeVzYuxStB"
      },
      "source": [
        "#   **Producte d'una matriu per un escalar**\n",
        "\n",
        "\n",
        "Sigui ${\\displaystyle A\\in {\\mathcal {M}}_{m\\times n}(\\mathbb {R} )}$ y $k \\in \\mathbb{R}$  si:\n",
        "\n",
        "<center> <h4> $A = \\left[  a_{ij} \\right]_{m \\times n}$  &nbsp; &nbsp; llavors  &nbsp; &nbsp; $kA = \\left[  k \\ a_{ij} \\right]_{m \\times n} $</h4>"
      ]
    },
    {
      "cell_type": "markdown",
      "metadata": {
        "id": "hY855pW0I32Q"
      },
      "source": [
        "###   **Exemples**  \n",
        "\n",
        "\n",
        "$$A=\\begin{bmatrix}\n",
        "5 & 4 & -5 \\\\\n",
        "3 & 6 & -7 \\\\\n",
        "\\end{bmatrix}\n",
        "$$"
      ]
    },
    {
      "cell_type": "code",
      "metadata": {
        "colab": {
          "base_uri": "https://localhost:8080/",
          "height": 57
        },
        "id": "5Htd5whzI21x",
        "outputId": "7f893923-1ee9-407f-fc64-2364a24c331b"
      },
      "source": [
        "# producte de la matriu A pel nombre 3\n",
        "A = Matrix([[5,4,-5],[3,6,-7]])\n",
        "3*A"
      ],
      "execution_count": null,
      "outputs": [
        {
          "output_type": "execute_result",
          "data": {
            "text/latex": "$\\displaystyle \\left[\\begin{matrix}15 & 12 & -15\\\\9 & 18 & -21\\end{matrix}\\right]$",
            "text/plain": [
              "⎡15  12  -15⎤\n",
              "⎢           ⎥\n",
              "⎣9   18  -21⎦"
            ]
          },
          "metadata": {},
          "execution_count": 63
        }
      ]
    },
    {
      "cell_type": "markdown",
      "metadata": {
        "id": "nfOoBaIhVkeK"
      },
      "source": [
        "#   **Propietats del producte de matrius per escalars**\n",
        "\n",
        "\n",
        "Siguin  ${\\displaystyle A,B\\in {\\mathcal {M}}_{m\\times n}(\\mathbb {R} )}$ y $ k,l \\in \\mathbb {R}$,  es verifica:\n",
        "\n",
        "<center>\n",
        "\n",
        "|            PROPIEDAD           |       EXPLICACIÓN                      |\n",
        "|:------------------------------:|:--------------------------------------:|\n",
        "| Operació interna                   |$$kA \\in \\mathcal{M}_{m\\times n}(\\mathbb{R}$$|\n",
        "| Conmutativa                   |$$kA = Ak$$|\n",
        "| Associativa                   |$$(kl)A = k (lA)$$|\n",
        "| Existència element neutre | $$1A = A$$ |\n",
        "| Producte per zero, és la matriu nul·la $\\mathbb {R}$| $$0A = 0$$  |\n",
        "| Distributiva respecte a la suma de matrius |$$k (A + B) = kA + kB$$ |\n",
        "| Distributiva respecte a la suma en $\\mathbb {R}$|$$( k + l ) A = kA + lA$$  |\n"
      ]
    },
    {
      "cell_type": "markdown",
      "metadata": {
        "id": "15Z3mxjeO3As"
      },
      "source": [
        "##   **Verifiquem les propietats**"
      ]
    },
    {
      "cell_type": "markdown",
      "metadata": {
        "id": "UKu-wEn1O3A3"
      },
      "source": [
        "###  **Propietat conmutativa**\n",
        "\n",
        "$$ kA = Ak$$"
      ]
    },
    {
      "cell_type": "code",
      "metadata": {
        "colab": {
          "base_uri": "https://localhost:8080/",
          "height": 78
        },
        "id": "EtkK7lE66Hb4",
        "outputId": "c8ce179f-4926-49aa-9c7b-2d8f43b48fa8"
      },
      "source": [
        "3 * A"
      ],
      "execution_count": null,
      "outputs": [
        {
          "output_type": "execute_result",
          "data": {
            "text/plain": [
              "⎡6   -15  6 ⎤\n",
              "⎢           ⎥\n",
              "⎢12  -21  18⎥\n",
              "⎢           ⎥\n",
              "⎣3   -9   3 ⎦"
            ],
            "text/latex": "$\\displaystyle \\left[\\begin{matrix}6 & -15 & 6\\\\12 & -21 & 18\\\\3 & -9 & 3\\end{matrix}\\right]$"
          },
          "metadata": {},
          "execution_count": 51
        }
      ]
    },
    {
      "cell_type": "code",
      "source": [
        "A * 3"
      ],
      "metadata": {
        "colab": {
          "base_uri": "https://localhost:8080/",
          "height": 78
        },
        "id": "vz33NLFCRqo6",
        "outputId": "8064d387-4c34-4130-ba8d-1de6d6c93632"
      },
      "execution_count": null,
      "outputs": [
        {
          "output_type": "execute_result",
          "data": {
            "text/plain": [
              "⎡6   -15  6 ⎤\n",
              "⎢           ⎥\n",
              "⎢12  -21  18⎥\n",
              "⎢           ⎥\n",
              "⎣3   -9   3 ⎦"
            ],
            "text/latex": "$\\displaystyle \\left[\\begin{matrix}6 & -15 & 6\\\\12 & -21 & 18\\\\3 & -9 & 3\\end{matrix}\\right]$"
          },
          "metadata": {},
          "execution_count": 52
        }
      ]
    },
    {
      "cell_type": "markdown",
      "metadata": {
        "id": "_DcQ7zmIe8Uf"
      },
      "source": [
        "###   **Propietat associativa**\n",
        "\n",
        "$$(kl)A = k (lA)$$"
      ]
    },
    {
      "cell_type": "code",
      "metadata": {
        "colab": {
          "base_uri": "https://localhost:8080/",
          "height": 78
        },
        "id": "fCYKwa8pe8U7",
        "outputId": "02075fe8-aac8-4bf5-da17-3979a7c40944"
      },
      "source": [
        "(3*4) * A"
      ],
      "execution_count": null,
      "outputs": [
        {
          "output_type": "execute_result",
          "data": {
            "text/plain": [
              "⎡24  -60  24⎤\n",
              "⎢           ⎥\n",
              "⎢48  -84  72⎥\n",
              "⎢           ⎥\n",
              "⎣12  -36  12⎦"
            ],
            "text/latex": "$\\displaystyle \\left[\\begin{matrix}24 & -60 & 24\\\\48 & -84 & 72\\\\12 & -36 & 12\\end{matrix}\\right]$"
          },
          "metadata": {},
          "execution_count": 54
        }
      ]
    },
    {
      "cell_type": "code",
      "source": [
        "3 * (4 * A)"
      ],
      "metadata": {
        "colab": {
          "base_uri": "https://localhost:8080/",
          "height": 78
        },
        "id": "n6MD48w4RyGT",
        "outputId": "5a47626c-2301-4ea5-bc1a-9197f2350e3b"
      },
      "execution_count": null,
      "outputs": [
        {
          "output_type": "execute_result",
          "data": {
            "text/plain": [
              "⎡24  -60  24⎤\n",
              "⎢           ⎥\n",
              "⎢48  -84  72⎥\n",
              "⎢           ⎥\n",
              "⎣12  -36  12⎦"
            ],
            "text/latex": "$\\displaystyle \\left[\\begin{matrix}24 & -60 & 24\\\\48 & -84 & 72\\\\12 & -36 & 12\\end{matrix}\\right]$"
          },
          "metadata": {},
          "execution_count": 55
        }
      ]
    },
    {
      "cell_type": "markdown",
      "metadata": {
        "id": "9WnPOaFwO3A5"
      },
      "source": [
        "###   **Existencia d'element neutre**\n",
        "\n",
        " $$1A\n",
        " = A$$"
      ]
    },
    {
      "cell_type": "code",
      "metadata": {
        "colab": {
          "base_uri": "https://localhost:8080/"
        },
        "id": "oBUE_yDUO3A6",
        "outputId": "545f3a9f-3dcf-4b2a-b624-e76b524104bf"
      },
      "source": [
        "1 * A == A # Comprovem si la igualtat és correcte, i indiquem amb doble signe '=='"
      ],
      "execution_count": null,
      "outputs": [
        {
          "output_type": "execute_result",
          "data": {
            "text/plain": [
              "True"
            ]
          },
          "metadata": {},
          "execution_count": 60
        }
      ]
    },
    {
      "cell_type": "markdown",
      "metadata": {
        "id": "IcrFE55EO3A7"
      },
      "source": [
        "###   **Propietat distributiva respecte escalar i suma de matrius**\n",
        "\n",
        " $$k (A+ B) = kA +kB$$"
      ]
    },
    {
      "cell_type": "code",
      "source": [
        "B = randMatrix(3, min = 0, max = 5)"
      ],
      "metadata": {
        "id": "lMk9lvW4SkVP"
      },
      "execution_count": null,
      "outputs": []
    },
    {
      "cell_type": "code",
      "metadata": {
        "colab": {
          "base_uri": "https://localhost:8080/"
        },
        "id": "viONbkyWO3A8",
        "outputId": "8d54936f-675a-4c74-e83b-724b12f04791"
      },
      "source": [
        "3 * ( A + B) == 3 * A + 3 * B"
      ],
      "execution_count": null,
      "outputs": [
        {
          "output_type": "execute_result",
          "data": {
            "text/plain": [
              "True"
            ]
          },
          "metadata": {},
          "execution_count": 63
        }
      ]
    },
    {
      "cell_type": "markdown",
      "metadata": {
        "id": "DVa4xyaOO3A9"
      },
      "source": [
        "###   **Propiedad distributiva respecte la suma en $\\mathbb {R}$** ho deixo com exercici:\n",
        "\n",
        "$$(k+l)A = kA + lA$$     "
      ]
    },
    {
      "cell_type": "code",
      "metadata": {
        "colab": {
          "background_save": true
        },
        "id": "C59rGYF7_FzK"
      },
      "source": [],
      "execution_count": null,
      "outputs": []
    },
    {
      "cell_type": "markdown",
      "metadata": {
        "id": "KrMd73gy2cbH"
      },
      "source": [
        "#  **Potencia de matrius**\n",
        "Siguin ${\\displaystyle A\\in {\\mathcal {M}}_{n\\times n}(\\mathbb {R} )}$ es defineix:\n",
        "\n",
        "$$A^n =   \\underbrace{A A A A ...}_{n \\ cops}$$\n",
        "\n",
        "###   **Exemple**\n",
        "\n",
        "\n",
        "\n",
        "Calcular $A^{3} $  si :\n",
        "\n",
        "$$A=\\begin{bmatrix}\n",
        "5 & 4 & -5 \\\\\n",
        "3 & 6 & -7 \\\\\n",
        "1 & 0 & -3  \\\\\n",
        "\\end{bmatrix}\n",
        "$$"
      ]
    },
    {
      "cell_type": "code",
      "metadata": {
        "colab": {
          "base_uri": "https://localhost:8080/",
          "height": 78
        },
        "id": "4R9X2z4u4tpp",
        "outputId": "edc96a32-2206-4934-9eb1-1ec94159c90e"
      },
      "source": [
        "A = Matrix([[5,4,-5],[3,6,-7],[1,0,-3]])\n",
        "A*A*A"
      ],
      "execution_count": null,
      "outputs": [
        {
          "output_type": "execute_result",
          "data": {
            "text/plain": [
              "⎡254  392  -354⎤\n",
              "⎢              ⎥\n",
              "⎢238  392  -358⎥\n",
              "⎢              ⎥\n",
              "⎣26   32   -50 ⎦"
            ],
            "text/latex": "$\\displaystyle \\left[\\begin{matrix}254 & 392 & -354\\\\238 & 392 & -358\\\\26 & 32 & -50\\end{matrix}\\right]$"
          },
          "metadata": {},
          "execution_count": 64
        }
      ]
    },
    {
      "cell_type": "code",
      "metadata": {
        "colab": {
          "base_uri": "https://localhost:8080/",
          "height": 78
        },
        "id": "2bkljG9nmLfk",
        "outputId": "4b231438-07b1-43f6-a133-5ea4ab485d37"
      },
      "source": [
        "A**3 # recordeu que '**' és \"elevat a\""
      ],
      "execution_count": null,
      "outputs": [
        {
          "output_type": "execute_result",
          "data": {
            "text/plain": [
              "⎡254  392  -354⎤\n",
              "⎢              ⎥\n",
              "⎢238  392  -358⎥\n",
              "⎢              ⎥\n",
              "⎣26   32   -50 ⎦"
            ],
            "text/latex": "$\\displaystyle \\left[\\begin{matrix}254 & 392 & -354\\\\238 & 392 & -358\\\\26 & 32 & -50\\end{matrix}\\right]$"
          },
          "metadata": {},
          "execution_count": 65
        }
      ]
    },
    {
      "cell_type": "markdown",
      "metadata": {
        "id": "ijFizL1ErxwP"
      },
      "source": [
        "#   **Propietats de la potenciació de matrius**\n",
        "\n",
        "\n",
        "Siguin ${\\displaystyle A\\in {\\mathcal {M}}_{n\\times n}(\\mathbb {R} )}$ , $ k \\in \\mathbb {R}$ y $ p,q \\in \\mathbb {N}$  es verifica:\n",
        "\n",
        "<center>\n",
        "\n",
        "|            PROPIETAT          |       EXPLICACIÓ                     |\n",
        "|:------------------------------:|:--------------------------------------:|\n",
        "| Producte de potències mateixa base|$$A^p A^q = A^{p+q}$$|\n",
        "| Potència d'una potència                 |$$(A^p)^q = A^{pq}$$|\n",
        "| Potència de un escalar por una matriu |$$(kA)^p = k^p A^p$$|\n",
        "| Potència amb exponent zero | $$A^0 = I$$ |\n",
        "| Potència con exponent negatiu| $$A^{-p} = (A^{-1})^p$$  |\n",
        "| Potència de la matriu identitat |$$I^p = I$$ |"
      ]
    },
    {
      "cell_type": "markdown",
      "metadata": {
        "id": "TwY2J4V31u9B"
      },
      "source": [
        "##   **La verificació ho deixo com exercicis**"
      ]
    },
    {
      "cell_type": "markdown",
      "metadata": {
        "id": "6zxxqqMT2CtH"
      },
      "source": [
        "###  **Producte de potències igual base**\n",
        "\n",
        "$$A^p A^q = A^{p+q}$$"
      ]
    },
    {
      "cell_type": "code",
      "metadata": {
        "colab": {
          "background_save": true
        },
        "id": "nAGsmADrz1Qx"
      },
      "source": [],
      "execution_count": null,
      "outputs": []
    },
    {
      "cell_type": "markdown",
      "metadata": {
        "id": "wg5zZ6Cp3JtF"
      },
      "source": [
        "###  **Pot'encia d'una potència**                 \n",
        "\n",
        "$$(A^p)^q = A^{pq}$$"
      ]
    },
    {
      "cell_type": "code",
      "metadata": {
        "colab": {
          "background_save": true
        },
        "id": "Po91ug653bCA"
      },
      "source": [],
      "execution_count": null,
      "outputs": []
    },
    {
      "cell_type": "markdown",
      "metadata": {
        "id": "rLWyKxor3eoe"
      },
      "source": [
        "###   **potència d'un escalar per una matriu**\n",
        "\n",
        "$$(kA)^p = k^p A^p$$"
      ]
    },
    {
      "cell_type": "code",
      "metadata": {
        "colab": {
          "background_save": true
        },
        "id": "B2-qVlQP33Qp"
      },
      "source": [],
      "execution_count": null,
      "outputs": []
    },
    {
      "cell_type": "markdown",
      "metadata": {
        "id": "dFb--eId33_c"
      },
      "source": [
        "###  **potència exponent zero**\n",
        "\n",
        "$$A^0 = I$$"
      ]
    },
    {
      "cell_type": "code",
      "metadata": {
        "colab": {
          "background_save": true,
          "base_uri": "https://localhost:8080/",
          "height": 78
        },
        "id": "4L7IvUDG4IzO",
        "outputId": "71877963-d912-4f02-d2c4-744d15363e18"
      },
      "source": [
        "A**0"
      ],
      "execution_count": null,
      "outputs": [
        {
          "data": {
            "text/latex": "$\\displaystyle \\left[\\begin{matrix}1 & 0 & 0\\\\0 & 1 & 0\\\\0 & 0 & 1\\end{matrix}\\right]$",
            "text/plain": [
              "⎡1  0  0⎤\n",
              "⎢       ⎥\n",
              "⎢0  1  0⎥\n",
              "⎢       ⎥\n",
              "⎣0  0  1⎦"
            ]
          },
          "execution_count": null,
          "metadata": {},
          "output_type": "execute_result"
        }
      ]
    },
    {
      "cell_type": "markdown",
      "metadata": {
        "id": "q6kMkpCM4JTd"
      },
      "source": [
        "###   **Potència exponent negatiu**\n",
        "\n",
        "$$A^{-p} = (A^{-1})^p$$  "
      ]
    },
    {
      "cell_type": "code",
      "metadata": {
        "colab": {
          "background_save": true
        },
        "id": "FB8NLbWV4dTi"
      },
      "source": [],
      "execution_count": null,
      "outputs": []
    },
    {
      "cell_type": "markdown",
      "metadata": {
        "id": "Z85AV3m-4dzZ"
      },
      "source": [
        "###   **Potencia de la matriu identitat**\n",
        "\n",
        "$$I^p = I$$"
      ]
    },
    {
      "cell_type": "code",
      "metadata": {
        "colab": {
          "background_save": true
        },
        "id": "vVmsZX3U4p7f"
      },
      "source": [],
      "execution_count": null,
      "outputs": []
    },
    {
      "cell_type": "markdown",
      "metadata": {
        "id": "7DAnDFxG44Ov"
      },
      "source": [
        "###   **Exemples:**\n",
        "\n",
        "Verifica amb exemples la propietat d'una matriu diagonal, tots son zeros exepte la diagonal principal.:\n",
        "<br> </br>\n",
        "\n",
        "$$ A =\n",
        "\\begin{pmatrix}\n",
        "a_{11} & 0 & \\cdots & 0\\\\\n",
        "0 & a_{22} & \\cdots & 0\\\\\n",
        "\\vdots & \\vdots & \\ddots & \\vdots\\\\\n",
        "0 & 0 & \\cdots & a_{nn}\n",
        "\\end{pmatrix}\n",
        "\\hspace{1cm} \\Longrightarrow \\hspace{1cm}\n",
        " A^p =\n",
        "\\begin{pmatrix}\n",
        "(a_{11})^p & 0 & \\cdots & 0\\\\\n",
        "0 & (a_{22})^p & \\cdots & 0\\\\\n",
        "\\vdots & \\vdots & \\ddots & \\vdots\\\\\n",
        "0 & 0 & \\cdots & (a_{nn})^p\n",
        "\\end{pmatrix} $$\n"
      ]
    },
    {
      "cell_type": "code",
      "metadata": {
        "colab": {
          "background_save": true
        },
        "id": "lvV53wwO53lm"
      },
      "source": [],
      "execution_count": null,
      "outputs": []
    },
    {
      "cell_type": "markdown",
      "metadata": {
        "id": "88NTknqPTLtq"
      },
      "source": [
        "#   **MATRIU TRASPOSADA*\n",
        "\n",
        "Sigui ${\\displaystyle A\\in {\\mathcal {M}}_{m\\times n}(\\mathbb {R} )}$, existeix una matriu que anomenem ${\\displaystyle A^{T}\\in {\\mathcal {M}}_{n\\times m}(\\mathbb {R} )}$ tal que:\n",
        "\n",
        "<center> <h4> Si &nbsp; &nbsp; $A = \\left[  a_{ij} \\right]_{m \\times n}$  &nbsp; &nbsp; llavors &nbsp; &nbsp;$A^{T} = \\left[  a_{ji}  \\right]_{n \\times m} $</h4>\n",
        "\n"
      ]
    },
    {
      "cell_type": "markdown",
      "metadata": {
        "id": "8GXIKE7JVcGv"
      },
      "source": [
        "###   **Exemple: matriu trasposada**\n",
        "\n",
        "\n",
        "\n",
        "La matriu trasposada, es denota $A^{T} $ :\n",
        "\n",
        "$$A=\\begin{bmatrix}\n",
        "5 & 4  \\\\\n",
        "3 & 6  \\\\\n",
        "1 & 0  \\\\\n",
        "\\end{bmatrix}\n",
        "$$"
      ]
    },
    {
      "cell_type": "code",
      "metadata": {
        "colab": {
          "base_uri": "https://localhost:8080/",
          "height": 78
        },
        "id": "FX-zlny1VcHR",
        "outputId": "54b914b9-5508-4eec-f745-5870d32fb483"
      },
      "source": [
        "A = Matrix([[5,4],[3,6],[1,0]]) # Definim una matriu\n",
        "A\n"
      ],
      "execution_count": null,
      "outputs": [
        {
          "output_type": "execute_result",
          "data": {
            "text/plain": [
              "⎡5  4⎤\n",
              "⎢    ⎥\n",
              "⎢3  6⎥\n",
              "⎢    ⎥\n",
              "⎣1  0⎦"
            ],
            "text/latex": "$\\displaystyle \\left[\\begin{matrix}5 & 4\\\\3 & 6\\\\1 & 0\\end{matrix}\\right]$"
          },
          "metadata": {},
          "execution_count": 73
        }
      ]
    },
    {
      "cell_type": "code",
      "source": [
        "# La trasposem mitjançant el mètode. T\n",
        "A.T"
      ],
      "metadata": {
        "colab": {
          "base_uri": "https://localhost:8080/",
          "height": 58
        },
        "id": "P5Y6NMj-VWj2",
        "outputId": "b5c45a72-b17f-44e5-b7ec-15f8dd7f3ad5"
      },
      "execution_count": null,
      "outputs": [
        {
          "output_type": "execute_result",
          "data": {
            "text/plain": [
              "⎡5  3  1⎤\n",
              "⎢       ⎥\n",
              "⎣4  6  0⎦"
            ],
            "text/latex": "$\\displaystyle \\left[\\begin{matrix}5 & 3 & 1\\\\4 & 6 & 0\\end{matrix}\\right]$"
          },
          "metadata": {},
          "execution_count": 74
        }
      ]
    },
    {
      "cell_type": "markdown",
      "metadata": {
        "id": "xPX5d_5OYVgM"
      },
      "source": [
        "#   **Propietats de la matriu trasposada**\n",
        "Siguin ${\\displaystyle A,B\\in {\\mathcal {M}}_{n\\times m}(\\mathbb {R} )}$  y $ k\\in \\mathbb {R}$,  verifiquen:\n",
        "\n",
        "<center>\n",
        "\n",
        "|            PROPIETAT          |       EXPLICACIÓ                      |\n",
        "|:------------------------------:|:--------------------------------------:|\n",
        "| Involutiva                 |$$(A^{T})^{T} = A$$ |\n",
        "| Distributiva                   |$$(A+B)^{T} = A^{T} + B^{T}$$|\n",
        "| Trasposada del producte  |    $$(AB)^{T} = B^{T} A^{T}$$                                  |\n",
        "| Trasposada d'un escalar por una matriu  |     $$(kA)^{T}= {k}A^{T}$$                   |\n",
        "| Trasposada de la inversa |     $$(A^{-1})^{T} = (A^{T})^{-1} $$  |\n",
        "\n",
        "\n"
      ]
    },
    {
      "cell_type": "markdown",
      "metadata": {
        "id": "Hpo9iirwRn6y"
      },
      "source": [
        "##  **Deixo les verificacions com exercicis**"
      ]
    },
    {
      "cell_type": "markdown",
      "metadata": {
        "id": "L0HoTI8ZRn69"
      },
      "source": [
        "###   **Propietat involutiva**\n",
        "\n",
        "$$(A^{T})^{T} = A$$"
      ]
    },
    {
      "cell_type": "code",
      "metadata": {
        "colab": {
          "background_save": true
        },
        "id": "k9mXPurbRn67"
      },
      "source": [],
      "execution_count": null,
      "outputs": []
    },
    {
      "cell_type": "markdown",
      "metadata": {
        "id": "ByPBOdpfRn66"
      },
      "source": [
        "###  **Propietat distributiva**\n",
        "\n",
        "$$(A+B)^{T} = A^{T} + B^{T}$$"
      ]
    },
    {
      "cell_type": "code",
      "metadata": {
        "colab": {
          "background_save": true
        },
        "id": "MQ6Ofwr3Rn6-"
      },
      "source": [],
      "execution_count": null,
      "outputs": []
    },
    {
      "cell_type": "markdown",
      "metadata": {
        "id": "tcNmRC5JRn6_"
      },
      "source": [
        "###   **Trasposada del producte**\n",
        "\n",
        " $$(AB)^{T} = B^{T} A^{T}$$       "
      ]
    },
    {
      "cell_type": "code",
      "metadata": {
        "colab": {
          "background_save": true
        },
        "id": "Osc6MPX4qaiv"
      },
      "source": [],
      "execution_count": null,
      "outputs": []
    },
    {
      "cell_type": "markdown",
      "metadata": {
        "id": "vr8BMb71SCaT"
      },
      "source": [
        "###  **Trasposada d'un escalar por una matriu**\n",
        "\n",
        " $$(kA)^{T}\n",
        " = {k}A^{T}$$  "
      ]
    },
    {
      "cell_type": "code",
      "metadata": {
        "colab": {
          "background_save": true
        },
        "id": "dr8fiAw1SCaU"
      },
      "source": [],
      "execution_count": null,
      "outputs": []
    },
    {
      "cell_type": "markdown",
      "metadata": {
        "id": "pB0NVNR1SjcS"
      },
      "source": [
        "###  **Trasposada de la inversa**\n",
        "\n",
        "$$(A^{-1})^{T}\n",
        " = (A^{T})^{-1}$$   "
      ]
    },
    {
      "cell_type": "code",
      "metadata": {
        "colab": {
          "background_save": true
        },
        "id": "LchtD-WOS1zd"
      },
      "source": [],
      "execution_count": null,
      "outputs": []
    },
    {
      "cell_type": "markdown",
      "metadata": {
        "id": "ZZ_Cd90jdowj"
      },
      "source": [
        "#  **Definició de matriu simétrica**\n",
        "\n",
        "Sigui ${\\displaystyle A,\\in {\\mathcal {M}}_{n\\times n}(\\mathbb {R} )}$ :\n",
        "\n",
        "<center> <h4> Si &nbsp; &nbsp; $A^{T} = A$ &nbsp; o &nbsp;  $A^{T}-A=0$ &nbsp; &nbsp; llavors &nbsp; &nbsp; $A$ és una matriu simètrica</h4>\n",
        "\n"
      ]
    },
    {
      "cell_type": "markdown",
      "metadata": {
        "id": "6zHfzCT_jj6W"
      },
      "source": [
        "### **Exemple: matriu simètrica**\n",
        "\n",
        "Comprovar si la matriu $A$ es simètrica :\n",
        "\n",
        "$$A=\\begin{bmatrix}\n",
        "-8 & 1 & 3 \\\\\n",
        "1 & 7 & 4 \\\\\n",
        "3 & 4 & 9  \\\\\n",
        "\\end{bmatrix}$$\n"
      ]
    },
    {
      "cell_type": "markdown",
      "metadata": {
        "id": "e7JwoQF5db-E"
      },
      "source": [
        "###   **Forma 1:**"
      ]
    },
    {
      "cell_type": "code",
      "metadata": {
        "colab": {
          "base_uri": "https://localhost:8080/",
          "height": 78
        },
        "id": "nrLym4bUds0O",
        "outputId": "a9d656ea-40a2-429f-908c-68c474cd94eb"
      },
      "source": [
        "A = Matrix([[-8,1,3],[1,7,4],[3,4,9]])\n",
        "# Definim la matriu A\n",
        "A\n"
      ],
      "execution_count": null,
      "outputs": [
        {
          "output_type": "execute_result",
          "data": {
            "text/plain": [
              "⎡-8  1  3⎤\n",
              "⎢        ⎥\n",
              "⎢1   7  4⎥\n",
              "⎢        ⎥\n",
              "⎣3   4  9⎦"
            ],
            "text/latex": "$\\displaystyle \\left[\\begin{matrix}-8 & 1 & 3\\\\1 & 7 & 4\\\\3 & 4 & 9\\end{matrix}\\right]$"
          },
          "metadata": {},
          "execution_count": 75
        }
      ]
    },
    {
      "cell_type": "code",
      "source": [
        "#Calculem la seva simètrica\n",
        "A.T"
      ],
      "metadata": {
        "colab": {
          "base_uri": "https://localhost:8080/",
          "height": 78
        },
        "id": "_X04mAgeWSa3",
        "outputId": "5dd81b43-5b0c-4184-b4e3-17ca44a6b9eb"
      },
      "execution_count": null,
      "outputs": [
        {
          "output_type": "execute_result",
          "data": {
            "text/plain": [
              "⎡-8  1  3⎤\n",
              "⎢        ⎥\n",
              "⎢1   7  4⎥\n",
              "⎢        ⎥\n",
              "⎣3   4  9⎦"
            ],
            "text/latex": "$\\displaystyle \\left[\\begin{matrix}-8 & 1 & 3\\\\1 & 7 & 4\\\\3 & 4 & 9\\end{matrix}\\right]$"
          },
          "metadata": {},
          "execution_count": 76
        }
      ]
    },
    {
      "cell_type": "markdown",
      "metadata": {
        "id": "3pX8Ntn-lAR5"
      },
      "source": [
        "#   **Definició de matriu antisimètrica**\n",
        "\n",
        "Sigui ${\\displaystyle A,\\in {\\mathcal {M}}_{n\\times n}(\\mathbb {R} )}$ :\n",
        "\n",
        "<center> <h4> Si &nbsp; &nbsp; $A^{T}= -A$ &nbsp; o &nbsp;  $A^{T}+A=0$ &nbsp; &nbsp; llavors  &nbsp; &nbsp; $A$ és una matriu antisimètrica</h4>\n",
        "\n"
      ]
    },
    {
      "cell_type": "markdown",
      "metadata": {
        "id": "Rm9WiZ88lAST"
      },
      "source": [
        "###  **Exemple: matriu antisimètrica**\n",
        "\n",
        "\n",
        "$$A=\\begin{bmatrix}\n",
        "0 & 1 & 3 \\\\\n",
        "-1 & 0 & -4 \\\\\n",
        "-3 & 4 & 0  \\\\\n",
        "\\end{bmatrix}$$\n"
      ]
    },
    {
      "cell_type": "code",
      "metadata": {
        "colab": {
          "base_uri": "https://localhost:8080/",
          "height": 78
        },
        "id": "YPENPuAZlASV",
        "outputId": "ade43d3e-94c8-4b81-d7b3-fab62b27015c"
      },
      "source": [
        "A = Matrix([[0,1,3],[-1,0,-4],[-3,4,0]])\n",
        "A"
      ],
      "execution_count": null,
      "outputs": [
        {
          "output_type": "execute_result",
          "data": {
            "text/plain": [
              "⎡0   1  3 ⎤\n",
              "⎢         ⎥\n",
              "⎢-1  0  -4⎥\n",
              "⎢         ⎥\n",
              "⎣-3  4  0 ⎦"
            ],
            "text/latex": "$\\displaystyle \\left[\\begin{matrix}0 & 1 & 3\\\\-1 & 0 & -4\\\\-3 & 4 & 0\\end{matrix}\\right]$"
          },
          "metadata": {},
          "execution_count": 77
        }
      ]
    },
    {
      "cell_type": "code",
      "source": [
        "A.T # Si només trasposem, no és suficient"
      ],
      "metadata": {
        "colab": {
          "base_uri": "https://localhost:8080/",
          "height": 78
        },
        "id": "eoB71LS0W5ad",
        "outputId": "fcb53ab7-1c32-4704-fe87-21201a2e1fe1"
      },
      "execution_count": null,
      "outputs": [
        {
          "output_type": "execute_result",
          "data": {
            "text/plain": [
              "⎡0  -1  -3⎤\n",
              "⎢         ⎥\n",
              "⎢1  0   4 ⎥\n",
              "⎢         ⎥\n",
              "⎣3  -4  0 ⎦"
            ],
            "text/latex": "$\\displaystyle \\left[\\begin{matrix}0 & -1 & -3\\\\1 & 0 & 4\\\\3 & -4 & 0\\end{matrix}\\right]$"
          },
          "metadata": {},
          "execution_count": 78
        }
      ]
    },
    {
      "cell_type": "code",
      "source": [
        "-1*A.T # Ara si"
      ],
      "metadata": {
        "colab": {
          "base_uri": "https://localhost:8080/",
          "height": 78
        },
        "id": "7kdxHqHZW8ZZ",
        "outputId": "72903d21-e5f2-4fc5-ca09-10db7b554065"
      },
      "execution_count": null,
      "outputs": [
        {
          "output_type": "execute_result",
          "data": {
            "text/plain": [
              "⎡0   1  3 ⎤\n",
              "⎢         ⎥\n",
              "⎢-1  0  -4⎥\n",
              "⎢         ⎥\n",
              "⎣-3  4  0 ⎦"
            ],
            "text/latex": "$\\displaystyle \\left[\\begin{matrix}0 & 1 & 3\\\\-1 & 0 & -4\\\\-3 & 4 & 0\\end{matrix}\\right]$"
          },
          "metadata": {},
          "execution_count": 79
        }
      ]
    },
    {
      "cell_type": "markdown",
      "metadata": {
        "id": "ZEARI5TZzTQs"
      },
      "source": [
        "#   **MATRIU INVERSA**\n",
        "\n",
        "Sigui ${\\displaystyle A\\in {\\mathcal {M}}_{n\\times n}(\\mathbb {R} )}$, una matriu quadrada,  si existeix una matriu ${\\displaystyle B\\in {\\mathcal {M}}_{n\\times n}(\\mathbb {R} )}$ tal que :\n",
        "\n",
        "<center> <h4> Si &nbsp; &nbsp; $AB = BA = I_{n}$  &nbsp; &nbsp; llavors verifica &nbsp; &nbsp; $B = A^{-1} $</h4> </center>\n",
        "\n",
        "\n",
        "$B$ es la matriu inversa de  $A$ y la matriu $A$ es **invertible** o **no singular**."
      ]
    },
    {
      "cell_type": "markdown",
      "metadata": {
        "id": "oyshXoeyzguF"
      },
      "source": [
        "##   **Exemple 1: matriu inversa** --> *verificació ràpida*\n",
        "\n",
        "Donada la matriu:\n",
        "\n",
        "\n",
        "$$A=\\begin{bmatrix}\n",
        "5 & 4 & -5 \\\\\n",
        "3 & 6 & -7 \\\\\n",
        "1 & 0 & -3  \\\\\n",
        "\\end{bmatrix}\n",
        "$$"
      ]
    },
    {
      "cell_type": "markdown",
      "metadata": {
        "id": "aAT5-0C49wqd"
      },
      "source": [
        "###  **Forma 1:**"
      ]
    },
    {
      "cell_type": "code",
      "metadata": {
        "colab": {
          "background_save": true,
          "base_uri": "https://localhost:8080/",
          "height": 78
        },
        "id": "WOs-Xdel9k0y",
        "outputId": "a6e14a0c-47e0-4e28-caa7-c99aa27a3b0c"
      },
      "source": [
        "A = Matrix([[5,4,-5],[3,6,-7],[1,0,-3]])  # Definim la matriu\n",
        "A**(-1)                                   # Elevem a -1"
      ],
      "execution_count": null,
      "outputs": [
        {
          "data": {
            "text/latex": "$\\displaystyle \\left[\\begin{matrix}\\frac{9}{26} & - \\frac{3}{13} & - \\frac{1}{26}\\\\- \\frac{1}{26} & \\frac{5}{26} & - \\frac{5}{13}\\\\\\frac{3}{26} & - \\frac{1}{13} & - \\frac{9}{26}\\end{matrix}\\right]$",
            "text/plain": [
              "⎡9/26   -3/13  -1/26⎤\n",
              "⎢                   ⎥\n",
              "⎢-1/26  5/26   -5/13⎥\n",
              "⎢                   ⎥\n",
              "⎣3/26   -1/13  -9/26⎦"
            ]
          },
          "execution_count": null,
          "metadata": {},
          "output_type": "execute_result"
        }
      ]
    },
    {
      "cell_type": "markdown",
      "metadata": {
        "id": "Xj-gcSP194jT"
      },
      "source": [
        "###  **Forma 2:**"
      ]
    },
    {
      "cell_type": "code",
      "metadata": {
        "colab": {
          "background_save": true,
          "base_uri": "https://localhost:8080/",
          "height": 78
        },
        "id": "7lz3zF1d9ZXd",
        "outputId": "c6a82818-9c94-4bc2-f89f-5466716b4710"
      },
      "source": [
        "A = Matrix([[5,4,-5],[3,6,-7],[1,0,-3]]) # Definim la matriu\n",
        "B = A.inv()                              # amb el mètode .inv()\n",
        "B"
      ],
      "execution_count": null,
      "outputs": [
        {
          "data": {
            "text/latex": "$\\displaystyle \\left[\\begin{matrix}\\frac{9}{26} & - \\frac{3}{13} & - \\frac{1}{26}\\\\- \\frac{1}{26} & \\frac{5}{26} & - \\frac{5}{13}\\\\\\frac{3}{26} & - \\frac{1}{13} & - \\frac{9}{26}\\end{matrix}\\right]$",
            "text/plain": [
              "⎡9/26   -3/13  -1/26⎤\n",
              "⎢                   ⎥\n",
              "⎢-1/26  5/26   -5/13⎥\n",
              "⎢                   ⎥\n",
              "⎣3/26   -1/13  -9/26⎦"
            ]
          },
          "execution_count": null,
          "metadata": {},
          "output_type": "execute_result"
        }
      ]
    },
    {
      "cell_type": "code",
      "metadata": {
        "colab": {
          "background_save": true,
          "base_uri": "https://localhost:8080/",
          "height": 78
        },
        "id": "HXgiV3CYfXhR",
        "outputId": "c01fcecb-06ac-4f65-ef8a-7e172c8f4965"
      },
      "source": [
        "A*B                                       # Comprovació"
      ],
      "execution_count": null,
      "outputs": [
        {
          "data": {
            "text/latex": "$\\displaystyle \\left[\\begin{matrix}1 & 0 & 0\\\\0 & 1 & 0\\\\0 & 0 & 1\\end{matrix}\\right]$",
            "text/plain": [
              "⎡1  0  0⎤\n",
              "⎢       ⎥\n",
              "⎢0  1  0⎥\n",
              "⎢       ⎥\n",
              "⎣0  0  1⎦"
            ]
          },
          "execution_count": null,
          "metadata": {},
          "output_type": "execute_result"
        }
      ]
    },
    {
      "cell_type": "code",
      "metadata": {
        "colab": {
          "background_save": true,
          "base_uri": "https://localhost:8080/",
          "height": 78
        },
        "id": "3fFocPt9f7EL",
        "outputId": "1a41bcce-8933-49c2-eb2d-69e2f115bc47"
      },
      "source": [
        "B*A"
      ],
      "execution_count": null,
      "outputs": [
        {
          "data": {
            "text/latex": "$\\displaystyle \\left[\\begin{matrix}1 & 0 & 0\\\\0 & 1 & 0\\\\0 & 0 & 1\\end{matrix}\\right]$",
            "text/plain": [
              "⎡1  0  0⎤\n",
              "⎢       ⎥\n",
              "⎢0  1  0⎥\n",
              "⎢       ⎥\n",
              "⎣0  0  1⎦"
            ]
          },
          "execution_count": null,
          "metadata": {},
          "output_type": "execute_result"
        }
      ]
    },
    {
      "cell_type": "markdown",
      "metadata": {
        "id": "FMsu3kej_aPD"
      },
      "source": [
        "##  **Ejemplo 2: matriu singular**\n",
        "\n",
        "Troba la matriu $A^{-1}$ si es possible, de la matriu:\n",
        "\n",
        "\n",
        "$$A=\\begin{bmatrix}\n",
        "1 & 2 & 3 \\\\\n",
        "2 & 4 & 6 \\\\\n",
        "1 & 0 & 3  \\\\\n",
        "\\end{bmatrix}\n",
        "$$"
      ]
    },
    {
      "cell_type": "code",
      "metadata": {
        "colab": {
          "base_uri": "https://localhost:8080/",
          "height": 339
        },
        "id": "feyfbaTY_aPj",
        "outputId": "b32994e3-c4a4-4f38-9fa1-0e9f50a376d8"
      },
      "source": [
        "A = Matrix([[1,2,3],[2,4,6],[1,0,3]])\n",
        "A**(-1)\n",
        "# Marca error, NonInvertibleMatrixError: Matrix det == 0; not invertible."
      ],
      "execution_count": null,
      "outputs": [
        {
          "output_type": "error",
          "ename": "NonInvertibleMatrixError",
          "evalue": "ignored",
          "traceback": [
            "\u001b[0;31m---------------------------------------------------------------------------\u001b[0m",
            "\u001b[0;31mNonInvertibleMatrixError\u001b[0m                  Traceback (most recent call last)",
            "\u001b[0;32m<ipython-input-80-99c51ca7cafa>\u001b[0m in \u001b[0;36m<cell line: 2>\u001b[0;34m()\u001b[0m\n\u001b[1;32m      1\u001b[0m \u001b[0mA\u001b[0m \u001b[0;34m=\u001b[0m \u001b[0mMatrix\u001b[0m\u001b[0;34m(\u001b[0m\u001b[0;34m[\u001b[0m\u001b[0;34m[\u001b[0m\u001b[0;36m1\u001b[0m\u001b[0;34m,\u001b[0m\u001b[0;36m2\u001b[0m\u001b[0;34m,\u001b[0m\u001b[0;36m3\u001b[0m\u001b[0;34m]\u001b[0m\u001b[0;34m,\u001b[0m\u001b[0;34m[\u001b[0m\u001b[0;36m2\u001b[0m\u001b[0;34m,\u001b[0m\u001b[0;36m4\u001b[0m\u001b[0;34m,\u001b[0m\u001b[0;36m6\u001b[0m\u001b[0;34m]\u001b[0m\u001b[0;34m,\u001b[0m\u001b[0;34m[\u001b[0m\u001b[0;36m1\u001b[0m\u001b[0;34m,\u001b[0m\u001b[0;36m0\u001b[0m\u001b[0;34m,\u001b[0m\u001b[0;36m3\u001b[0m\u001b[0;34m]\u001b[0m\u001b[0;34m]\u001b[0m\u001b[0;34m)\u001b[0m\u001b[0;34m\u001b[0m\u001b[0;34m\u001b[0m\u001b[0m\n\u001b[0;32m----> 2\u001b[0;31m \u001b[0mA\u001b[0m\u001b[0;34m**\u001b[0m\u001b[0;34m(\u001b[0m\u001b[0;34m-\u001b[0m\u001b[0;36m1\u001b[0m\u001b[0;34m)\u001b[0m\u001b[0;34m\u001b[0m\u001b[0;34m\u001b[0m\u001b[0m\n\u001b[0m",
            "\u001b[0;32m/usr/local/lib/python3.10/dist-packages/sympy/core/decorators.py\u001b[0m in \u001b[0;36mbinary_op_wrapper\u001b[0;34m(self, other)\u001b[0m\n\u001b[1;32m    104\u001b[0m                     \u001b[0;32mif\u001b[0m \u001b[0mf\u001b[0m \u001b[0;32mis\u001b[0m \u001b[0;32mnot\u001b[0m \u001b[0;32mNone\u001b[0m\u001b[0;34m:\u001b[0m\u001b[0;34m\u001b[0m\u001b[0;34m\u001b[0m\u001b[0m\n\u001b[1;32m    105\u001b[0m                         \u001b[0;32mreturn\u001b[0m \u001b[0mf\u001b[0m\u001b[0;34m(\u001b[0m\u001b[0mself\u001b[0m\u001b[0;34m)\u001b[0m\u001b[0;34m\u001b[0m\u001b[0;34m\u001b[0m\u001b[0m\n\u001b[0;32m--> 106\u001b[0;31m             \u001b[0;32mreturn\u001b[0m \u001b[0mfunc\u001b[0m\u001b[0;34m(\u001b[0m\u001b[0mself\u001b[0m\u001b[0;34m,\u001b[0m \u001b[0mother\u001b[0m\u001b[0;34m)\u001b[0m\u001b[0;34m\u001b[0m\u001b[0;34m\u001b[0m\u001b[0m\n\u001b[0m\u001b[1;32m    107\u001b[0m         \u001b[0;32mreturn\u001b[0m \u001b[0mbinary_op_wrapper\u001b[0m\u001b[0;34m\u001b[0m\u001b[0;34m\u001b[0m\u001b[0m\n\u001b[1;32m    108\u001b[0m     \u001b[0;32mreturn\u001b[0m \u001b[0mpriority_decorator\u001b[0m\u001b[0;34m\u001b[0m\u001b[0;34m\u001b[0m\u001b[0m\n",
            "\u001b[0;32m/usr/local/lib/python3.10/dist-packages/sympy/matrices/common.py\u001b[0m in \u001b[0;36m__pow__\u001b[0;34m(self, exp)\u001b[0m\n\u001b[1;32m   2778\u001b[0m         \u001b[0;34m\"\"\"Return self**exp a scalar or symbol.\"\"\"\u001b[0m\u001b[0;34m\u001b[0m\u001b[0;34m\u001b[0m\u001b[0m\n\u001b[1;32m   2779\u001b[0m \u001b[0;34m\u001b[0m\u001b[0m\n\u001b[0;32m-> 2780\u001b[0;31m         \u001b[0;32mreturn\u001b[0m \u001b[0mself\u001b[0m\u001b[0;34m.\u001b[0m\u001b[0mpow\u001b[0m\u001b[0;34m(\u001b[0m\u001b[0mexp\u001b[0m\u001b[0;34m)\u001b[0m\u001b[0;34m\u001b[0m\u001b[0;34m\u001b[0m\u001b[0m\n\u001b[0m\u001b[1;32m   2781\u001b[0m \u001b[0;34m\u001b[0m\u001b[0m\n\u001b[1;32m   2782\u001b[0m \u001b[0;34m\u001b[0m\u001b[0m\n",
            "\u001b[0;32m/usr/local/lib/python3.10/dist-packages/sympy/matrices/common.py\u001b[0m in \u001b[0;36mpow\u001b[0;34m(self, exp, method)\u001b[0m\n\u001b[1;32m   2822\u001b[0m             \u001b[0;32mif\u001b[0m \u001b[0mexp\u001b[0m \u001b[0;34m<\u001b[0m \u001b[0;36m0\u001b[0m\u001b[0;34m:\u001b[0m\u001b[0;34m\u001b[0m\u001b[0;34m\u001b[0m\u001b[0m\n\u001b[1;32m   2823\u001b[0m                 \u001b[0mexp\u001b[0m \u001b[0;34m=\u001b[0m \u001b[0;34m-\u001b[0m\u001b[0mexp\u001b[0m\u001b[0;34m\u001b[0m\u001b[0;34m\u001b[0m\u001b[0m\n\u001b[0;32m-> 2824\u001b[0;31m                 \u001b[0ma\u001b[0m \u001b[0;34m=\u001b[0m \u001b[0ma\u001b[0m\u001b[0;34m.\u001b[0m\u001b[0minv\u001b[0m\u001b[0;34m(\u001b[0m\u001b[0;34m)\u001b[0m\u001b[0;34m\u001b[0m\u001b[0;34m\u001b[0m\u001b[0m\n\u001b[0m\u001b[1;32m   2825\u001b[0m         \u001b[0;31m# When certain conditions are met,\u001b[0m\u001b[0;34m\u001b[0m\u001b[0;34m\u001b[0m\u001b[0m\n\u001b[1;32m   2826\u001b[0m         \u001b[0;31m# Jordan block algorithm is faster than\u001b[0m\u001b[0;34m\u001b[0m\u001b[0;34m\u001b[0m\u001b[0m\n",
            "\u001b[0;32m/usr/local/lib/python3.10/dist-packages/sympy/matrices/matrices.py\u001b[0m in \u001b[0;36minv\u001b[0;34m(self, method, iszerofunc, try_block_diag)\u001b[0m\n\u001b[1;32m   2175\u001b[0m \u001b[0;34m\u001b[0m\u001b[0m\n\u001b[1;32m   2176\u001b[0m     \u001b[0;32mdef\u001b[0m \u001b[0minv\u001b[0m\u001b[0;34m(\u001b[0m\u001b[0mself\u001b[0m\u001b[0;34m,\u001b[0m \u001b[0mmethod\u001b[0m\u001b[0;34m=\u001b[0m\u001b[0;32mNone\u001b[0m\u001b[0;34m,\u001b[0m \u001b[0miszerofunc\u001b[0m\u001b[0;34m=\u001b[0m\u001b[0m_iszero\u001b[0m\u001b[0;34m,\u001b[0m \u001b[0mtry_block_diag\u001b[0m\u001b[0;34m=\u001b[0m\u001b[0;32mFalse\u001b[0m\u001b[0;34m)\u001b[0m\u001b[0;34m:\u001b[0m\u001b[0;34m\u001b[0m\u001b[0;34m\u001b[0m\u001b[0m\n\u001b[0;32m-> 2177\u001b[0;31m         return _inv(self, method=method, iszerofunc=iszerofunc,\n\u001b[0m\u001b[1;32m   2178\u001b[0m                 try_block_diag=try_block_diag)\n\u001b[1;32m   2179\u001b[0m \u001b[0;34m\u001b[0m\u001b[0m\n",
            "\u001b[0;32m/usr/local/lib/python3.10/dist-packages/sympy/matrices/inverse.py\u001b[0m in \u001b[0;36m_inv\u001b[0;34m(M, method, iszerofunc, try_block_diag)\u001b[0m\n\u001b[1;32m    457\u001b[0m \u001b[0;34m\u001b[0m\u001b[0m\n\u001b[1;32m    458\u001b[0m     \u001b[0;32mif\u001b[0m \u001b[0mmethod\u001b[0m \u001b[0;34m==\u001b[0m \u001b[0;34m\"GE\"\u001b[0m\u001b[0;34m:\u001b[0m\u001b[0;34m\u001b[0m\u001b[0;34m\u001b[0m\u001b[0m\n\u001b[0;32m--> 459\u001b[0;31m         \u001b[0mrv\u001b[0m \u001b[0;34m=\u001b[0m \u001b[0mM\u001b[0m\u001b[0;34m.\u001b[0m\u001b[0minverse_GE\u001b[0m\u001b[0;34m(\u001b[0m\u001b[0miszerofunc\u001b[0m\u001b[0;34m=\u001b[0m\u001b[0miszerofunc\u001b[0m\u001b[0;34m)\u001b[0m\u001b[0;34m\u001b[0m\u001b[0;34m\u001b[0m\u001b[0m\n\u001b[0m\u001b[1;32m    460\u001b[0m     \u001b[0;32melif\u001b[0m \u001b[0mmethod\u001b[0m \u001b[0;34m==\u001b[0m \u001b[0;34m\"LU\"\u001b[0m\u001b[0;34m:\u001b[0m\u001b[0;34m\u001b[0m\u001b[0;34m\u001b[0m\u001b[0m\n\u001b[1;32m    461\u001b[0m         \u001b[0mrv\u001b[0m \u001b[0;34m=\u001b[0m \u001b[0mM\u001b[0m\u001b[0;34m.\u001b[0m\u001b[0minverse_LU\u001b[0m\u001b[0;34m(\u001b[0m\u001b[0miszerofunc\u001b[0m\u001b[0;34m=\u001b[0m\u001b[0miszerofunc\u001b[0m\u001b[0;34m)\u001b[0m\u001b[0;34m\u001b[0m\u001b[0;34m\u001b[0m\u001b[0m\n",
            "\u001b[0;32m/usr/local/lib/python3.10/dist-packages/sympy/matrices/matrices.py\u001b[0m in \u001b[0;36minverse_GE\u001b[0;34m(self, iszerofunc)\u001b[0m\n\u001b[1;32m   2160\u001b[0m \u001b[0;34m\u001b[0m\u001b[0m\n\u001b[1;32m   2161\u001b[0m     \u001b[0;32mdef\u001b[0m \u001b[0minverse_GE\u001b[0m\u001b[0;34m(\u001b[0m\u001b[0mself\u001b[0m\u001b[0;34m,\u001b[0m \u001b[0miszerofunc\u001b[0m\u001b[0;34m=\u001b[0m\u001b[0m_iszero\u001b[0m\u001b[0;34m)\u001b[0m\u001b[0;34m:\u001b[0m\u001b[0;34m\u001b[0m\u001b[0;34m\u001b[0m\u001b[0m\n\u001b[0;32m-> 2162\u001b[0;31m         \u001b[0;32mreturn\u001b[0m \u001b[0m_inv_GE\u001b[0m\u001b[0;34m(\u001b[0m\u001b[0mself\u001b[0m\u001b[0;34m,\u001b[0m \u001b[0miszerofunc\u001b[0m\u001b[0;34m=\u001b[0m\u001b[0miszerofunc\u001b[0m\u001b[0;34m)\u001b[0m\u001b[0;34m\u001b[0m\u001b[0;34m\u001b[0m\u001b[0m\n\u001b[0m\u001b[1;32m   2163\u001b[0m \u001b[0;34m\u001b[0m\u001b[0m\n\u001b[1;32m   2164\u001b[0m     \u001b[0;32mdef\u001b[0m \u001b[0minverse_LU\u001b[0m\u001b[0;34m(\u001b[0m\u001b[0mself\u001b[0m\u001b[0;34m,\u001b[0m \u001b[0miszerofunc\u001b[0m\u001b[0;34m=\u001b[0m\u001b[0m_iszero\u001b[0m\u001b[0;34m)\u001b[0m\u001b[0;34m:\u001b[0m\u001b[0;34m\u001b[0m\u001b[0;34m\u001b[0m\u001b[0m\n",
            "\u001b[0;32m/usr/local/lib/python3.10/dist-packages/sympy/matrices/inverse.py\u001b[0m in \u001b[0;36m_inv_GE\u001b[0;34m(M, iszerofunc)\u001b[0m\n\u001b[1;32m    243\u001b[0m \u001b[0;34m\u001b[0m\u001b[0m\n\u001b[1;32m    244\u001b[0m     \u001b[0;32mif\u001b[0m \u001b[0many\u001b[0m\u001b[0;34m(\u001b[0m\u001b[0miszerofunc\u001b[0m\u001b[0;34m(\u001b[0m\u001b[0mred\u001b[0m\u001b[0;34m[\u001b[0m\u001b[0mj\u001b[0m\u001b[0;34m,\u001b[0m \u001b[0mj\u001b[0m\u001b[0;34m]\u001b[0m\u001b[0;34m)\u001b[0m \u001b[0;32mfor\u001b[0m \u001b[0mj\u001b[0m \u001b[0;32min\u001b[0m \u001b[0mrange\u001b[0m\u001b[0;34m(\u001b[0m\u001b[0mred\u001b[0m\u001b[0;34m.\u001b[0m\u001b[0mrows\u001b[0m\u001b[0;34m)\u001b[0m\u001b[0;34m)\u001b[0m\u001b[0;34m:\u001b[0m\u001b[0;34m\u001b[0m\u001b[0;34m\u001b[0m\u001b[0m\n\u001b[0;32m--> 245\u001b[0;31m         \u001b[0;32mraise\u001b[0m \u001b[0mNonInvertibleMatrixError\u001b[0m\u001b[0;34m(\u001b[0m\u001b[0;34m\"Matrix det == 0; not invertible.\"\u001b[0m\u001b[0;34m)\u001b[0m\u001b[0;34m\u001b[0m\u001b[0;34m\u001b[0m\u001b[0m\n\u001b[0m\u001b[1;32m    246\u001b[0m \u001b[0;34m\u001b[0m\u001b[0m\n\u001b[1;32m    247\u001b[0m     \u001b[0;32mreturn\u001b[0m \u001b[0mM\u001b[0m\u001b[0;34m.\u001b[0m\u001b[0m_new\u001b[0m\u001b[0;34m(\u001b[0m\u001b[0mred\u001b[0m\u001b[0;34m[\u001b[0m\u001b[0;34m:\u001b[0m\u001b[0;34m,\u001b[0m \u001b[0mbig\u001b[0m\u001b[0;34m.\u001b[0m\u001b[0mrows\u001b[0m\u001b[0;34m:\u001b[0m\u001b[0;34m]\u001b[0m\u001b[0;34m)\u001b[0m\u001b[0;34m\u001b[0m\u001b[0;34m\u001b[0m\u001b[0m\n",
            "\u001b[0;31mNonInvertibleMatrixError\u001b[0m: Matrix det == 0; not invertible."
          ]
        }
      ]
    },
    {
      "cell_type": "markdown",
      "metadata": {
        "id": "a8DSGsswon8y"
      },
      "source": [
        "#  **MATRIU INVERSA MÈTODE GAUSS-JORDAN**\n",
        "\n",
        "\n",
        "#  **Operacions elemantals**\n",
        "\n",
        "<center>\n",
        "\n",
        "|             Notació utilitzada                  |         Operació sobre fila         | Código |\n",
        "|:-------------------------------:|:--------------------------------------:|:--------------:|\n",
        "|     $F_i \\longleftrightarrow F_j $  | intervanvi la fila<br> $F_i$ con $F_j$ | **` M.row_swap(i, j)`**   |\n",
        "|            $k F_i \\rightarrow F_i  $           |  Multiplicar la fila $F_i$ <br> per un nombre $k$ |     **`M[i ,:] = k*M[ i ,:]`**   |\n",
        "| $kF_i + F_j \\rightarrow F_j  $|  Sumar $k$ cops la fila $F_i$ <br> a la fila $F_j$ |    **`M[j ,:] = k*M[ i ,:] + M[j ,:]`**    |"
      ]
    },
    {
      "cell_type": "markdown",
      "metadata": {
        "id": "1W95Jw9id6GY"
      },
      "source": [
        "##  **Exemple: matriu inversa** --> *pas a pas*\n",
        "\n",
        "\n",
        "\n",
        "$$A=\\begin{bmatrix}\n",
        "5 & 4 & -5 \\\\\n",
        "3 & 6 & -7 \\\\\n",
        "1 & 0 & -3  \\\\\n",
        "\\end{bmatrix}\n",
        "$$"
      ]
    },
    {
      "cell_type": "markdown",
      "metadata": {
        "id": "WZnFIDYwfD7f"
      },
      "source": [
        "###  **Definim la matriu $\\left[  \\hspace{1mm} A \\hspace{2mm}|\\hspace{2mm} I \\hspace{1mm} \\right]$**"
      ]
    },
    {
      "cell_type": "code",
      "metadata": {
        "colab": {
          "base_uri": "https://localhost:8080/",
          "height": 78
        },
        "id": "23lj55K4cgM2",
        "outputId": "018d9bea-b43b-4bf5-9333-d5a98e987634"
      },
      "source": [
        "A = Matrix([[5,4,-5],[3,6,-7],[1,0,-3]])\n",
        "A"
      ],
      "execution_count": null,
      "outputs": [
        {
          "output_type": "execute_result",
          "data": {
            "text/plain": [
              "⎡5  4  -5⎤\n",
              "⎢        ⎥\n",
              "⎢3  6  -7⎥\n",
              "⎢        ⎥\n",
              "⎣1  0  -3⎦"
            ],
            "text/latex": "$\\displaystyle \\left[\\begin{matrix}5 & 4 & -5\\\\3 & 6 & -7\\\\1 & 0 & -3\\end{matrix}\\right]$"
          },
          "metadata": {},
          "execution_count": 81
        }
      ]
    },
    {
      "cell_type": "code",
      "metadata": {
        "colab": {
          "base_uri": "https://localhost:8080/",
          "height": 78
        },
        "id": "OvuKbh-PxqYD",
        "outputId": "5d1de767-1ff6-4c18-ff87-4d931c1692e3"
      },
      "source": [
        "I = eye(3)\n",
        "I"
      ],
      "execution_count": null,
      "outputs": [
        {
          "output_type": "execute_result",
          "data": {
            "text/plain": [
              "⎡1  0  0⎤\n",
              "⎢       ⎥\n",
              "⎢0  1  0⎥\n",
              "⎢       ⎥\n",
              "⎣0  0  1⎦"
            ],
            "text/latex": "$\\displaystyle \\left[\\begin{matrix}1 & 0 & 0\\\\0 & 1 & 0\\\\0 & 0 & 1\\end{matrix}\\right]$"
          },
          "metadata": {},
          "execution_count": 82
        }
      ]
    },
    {
      "cell_type": "code",
      "metadata": {
        "colab": {
          "base_uri": "https://localhost:8080/",
          "height": 78
        },
        "id": "2-7kgGulxzjk",
        "outputId": "6d1a6664-fa8d-4a73-8395-a791f3c4bacb"
      },
      "source": [
        "AI = Matrix.hstack(A,I) # Simplement afegim la matriu identitat\n",
        "AI"
      ],
      "execution_count": null,
      "outputs": [
        {
          "output_type": "execute_result",
          "data": {
            "text/plain": [
              "⎡5  4  -5  1  0  0⎤\n",
              "⎢                 ⎥\n",
              "⎢3  6  -7  0  1  0⎥\n",
              "⎢                 ⎥\n",
              "⎣1  0  -3  0  0  1⎦"
            ],
            "text/latex": "$\\displaystyle \\left[\\begin{matrix}5 & 4 & -5 & 1 & 0 & 0\\\\3 & 6 & -7 & 0 & 1 & 0\\\\1 & 0 & -3 & 0 & 0 & 1\\end{matrix}\\right]$"
          },
          "metadata": {},
          "execution_count": 83
        }
      ]
    },
    {
      "cell_type": "markdown",
      "metadata": {
        "id": "TmsIOhu3gGM3"
      },
      "source": [
        "###  **operació:**&nbsp;&nbsp;&nbsp;&nbsp;($ F_1 \\longleftrightarrow F_2  $ )"
      ]
    },
    {
      "cell_type": "code",
      "metadata": {
        "colab": {
          "base_uri": "https://localhost:8080/",
          "height": 78
        },
        "id": "H7-mVM-xGt6d",
        "outputId": "7bbd71ff-dd5e-4057-a4ca-901ffecc9ba8"
      },
      "source": [
        "AI.row_swap(0,2)\n",
        "AI"
      ],
      "execution_count": null,
      "outputs": [
        {
          "output_type": "execute_result",
          "data": {
            "text/plain": [
              "⎡1  0  -3  0  0  1⎤\n",
              "⎢                 ⎥\n",
              "⎢3  6  -7  0  1  0⎥\n",
              "⎢                 ⎥\n",
              "⎣5  4  -5  1  0  0⎦"
            ],
            "text/latex": "$\\displaystyle \\left[\\begin{matrix}1 & 0 & -3 & 0 & 0 & 1\\\\3 & 6 & -7 & 0 & 1 & 0\\\\5 & 4 & -5 & 1 & 0 & 0\\end{matrix}\\right]$"
          },
          "metadata": {},
          "execution_count": 84
        }
      ]
    },
    {
      "cell_type": "markdown",
      "metadata": {
        "id": "F5CRDkg9guhP"
      },
      "source": [
        "###  **Multipliquem por $-3$ &nbsp; la fila&nbsp; $1$ &nbsp; i se la sumem a la fila&nbsp; $2$:**&nbsp;&nbsp;&nbsp;&nbsp;($-3F_1 + F_2 \\rightarrow F_2 $ )\n",
        "\n",
        "###  **Multipliquem por $-5$ &nbsp; la fila&nbsp; $1$ &nbsp; i se la sumem a la fila&nbsp; $3$:**&nbsp;&nbsp;&nbsp;&nbsp;($-5F_1 + F_3 \\rightarrow F_3 $ )"
      ]
    },
    {
      "cell_type": "code",
      "metadata": {
        "colab": {
          "base_uri": "https://localhost:8080/",
          "height": 78
        },
        "id": "_9ES6Y0rH96i",
        "outputId": "a4128923-b7b5-4d7a-9889-dd944ed93c51"
      },
      "source": [
        "AI[1,:] = -3*AI[0,:] + AI[1,:]\n",
        "AI[2,:] = -5*AI[0,:] + AI[2,:]\n",
        "AI"
      ],
      "execution_count": null,
      "outputs": [
        {
          "output_type": "execute_result",
          "data": {
            "text/plain": [
              "⎡1  0  -3  0  0  1 ⎤\n",
              "⎢                  ⎥\n",
              "⎢0  6  2   0  1  -3⎥\n",
              "⎢                  ⎥\n",
              "⎣0  4  10  1  0  -5⎦"
            ],
            "text/latex": "$\\displaystyle \\left[\\begin{matrix}1 & 0 & -3 & 0 & 0 & 1\\\\0 & 6 & 2 & 0 & 1 & -3\\\\0 & 4 & 10 & 1 & 0 & -5\\end{matrix}\\right]$"
          },
          "metadata": {},
          "execution_count": 85
        }
      ]
    },
    {
      "cell_type": "markdown",
      "metadata": {
        "id": "cnpFK3R3hQQz"
      },
      "source": [
        "###  **Multipliquem per $\\frac{1}{6}$ la fila 2:**&nbsp;&nbsp;&nbsp;&nbsp;($\\frac{1}{6} F_1 \\rightarrow F_2  $ )"
      ]
    },
    {
      "cell_type": "code",
      "metadata": {
        "colab": {
          "base_uri": "https://localhost:8080/",
          "height": 78
        },
        "id": "KG04zuCpIffS",
        "outputId": "8a6b2b55-101e-4fb5-ceb9-bc63e8bafaad"
      },
      "source": [
        "AI[1,:] = S(\"1/6\")*AI[1,:]\n",
        "AI"
      ],
      "execution_count": null,
      "outputs": [
        {
          "output_type": "execute_result",
          "data": {
            "text/plain": [
              "⎡1  0  -3   0   0    1  ⎤\n",
              "⎢                       ⎥\n",
              "⎢0  1  1/3  0  1/6  -1/2⎥\n",
              "⎢                       ⎥\n",
              "⎣0  4  10   1   0    -5 ⎦"
            ],
            "text/latex": "$\\displaystyle \\left[\\begin{matrix}1 & 0 & -3 & 0 & 0 & 1\\\\0 & 1 & \\frac{1}{3} & 0 & \\frac{1}{6} & - \\frac{1}{2}\\\\0 & 4 & 10 & 1 & 0 & -5\\end{matrix}\\right]$"
          },
          "metadata": {},
          "execution_count": 86
        }
      ]
    },
    {
      "cell_type": "markdown",
      "metadata": {
        "id": "WOsdJfLnhfto"
      },
      "source": [
        "###  **Multipliquem per $-4$ &nbsp; la fila&nbsp; $2$ &nbsp; i se la sumem a la fila&nbsp; $3$:**&nbsp;&nbsp;&nbsp;&nbsp;($-4F_2 + F_3 \\rightarrow F_3 $ )"
      ]
    },
    {
      "cell_type": "code",
      "metadata": {
        "colab": {
          "base_uri": "https://localhost:8080/",
          "height": 78
        },
        "id": "QPUxrXIJIvqa",
        "outputId": "c6a3a8b8-5222-46e4-ccac-bb76137bc185"
      },
      "source": [
        "AI[2,:] = -4*AI[1,:] + AI[2,:]\n",
        "AI"
      ],
      "execution_count": null,
      "outputs": [
        {
          "output_type": "execute_result",
          "data": {
            "text/plain": [
              "⎡1  0   -3   0   0     1  ⎤\n",
              "⎢                         ⎥\n",
              "⎢0  1  1/3   0  1/6   -1/2⎥\n",
              "⎢                         ⎥\n",
              "⎣0  0  26/3  1  -2/3   -3 ⎦"
            ],
            "text/latex": "$\\displaystyle \\left[\\begin{matrix}1 & 0 & -3 & 0 & 0 & 1\\\\0 & 1 & \\frac{1}{3} & 0 & \\frac{1}{6} & - \\frac{1}{2}\\\\0 & 0 & \\frac{26}{3} & 1 & - \\frac{2}{3} & -3\\end{matrix}\\right]$"
          },
          "metadata": {},
          "execution_count": 87
        }
      ]
    },
    {
      "cell_type": "markdown",
      "metadata": {
        "id": "ZjMqByJyiomd"
      },
      "source": [
        "###  **Multiplicquem por $\\frac{3}{26}$ &nbsp; la fila&nbsp; $3$:**&nbsp;&nbsp;&nbsp;&nbsp;($ \\frac{3}{26}F_3 \\rightarrow F_3 $ )"
      ]
    },
    {
      "cell_type": "code",
      "metadata": {
        "colab": {
          "base_uri": "https://localhost:8080/",
          "height": 78
        },
        "id": "8MGfjUHaI5hZ",
        "outputId": "e841e938-173e-477c-df15-95ab9a6ead16"
      },
      "source": [
        "AI[2,:] = S(\"3/26\")*AI[2,:]\n",
        "AI"
      ],
      "execution_count": null,
      "outputs": [
        {
          "output_type": "execute_result",
          "data": {
            "text/plain": [
              "⎡1  0  -3    0      0      1  ⎤\n",
              "⎢                             ⎥\n",
              "⎢0  1  1/3   0     1/6   -1/2 ⎥\n",
              "⎢                             ⎥\n",
              "⎣0  0   1   3/26  -1/13  -9/26⎦"
            ],
            "text/latex": "$\\displaystyle \\left[\\begin{matrix}1 & 0 & -3 & 0 & 0 & 1\\\\0 & 1 & \\frac{1}{3} & 0 & \\frac{1}{6} & - \\frac{1}{2}\\\\0 & 0 & 1 & \\frac{3}{26} & - \\frac{1}{13} & - \\frac{9}{26}\\end{matrix}\\right]$"
          },
          "metadata": {},
          "execution_count": 88
        }
      ]
    },
    {
      "cell_type": "markdown",
      "metadata": {
        "id": "OTIzDqPVjOB7"
      },
      "source": [
        "###  **Multipliquem por $3$ &nbsp; la fila&nbsp; $3$ &nbsp; i sumem a la fila&nbsp; $1$:**&nbsp;&nbsp;&nbsp;&nbsp;($3F_3 + F_1 \\rightarrow F_1 $ )\n",
        "\n",
        "###  **Multipliquem por $-\\frac{1}{3}$ &nbsp; la fila&nbsp; $3$ &nbsp; i sumem a la fila&nbsp; $2$:**&nbsp;&nbsp;&nbsp;&nbsp;($-\\frac{1}{3}F_3 + F_2 \\rightarrow F_2 $ )"
      ]
    },
    {
      "cell_type": "code",
      "metadata": {
        "colab": {
          "base_uri": "https://localhost:8080/",
          "height": 79
        },
        "id": "9vozoPB1KiTR",
        "outputId": "4d649fe6-b337-416d-da1d-b2c83aa0f41b"
      },
      "source": [
        "AI[0,:] = 3*AI[2,:] + AI[0,:]\n",
        "AI[1,:] = S(\"-1/3\")*AI[2,:] + AI[1,:]\n",
        "AI"
      ],
      "execution_count": null,
      "outputs": [
        {
          "output_type": "execute_result",
          "data": {
            "text/plain": [
              "⎡1  0  0  9/26   -3/13  -1/26⎤\n",
              "⎢                            ⎥\n",
              "⎢0  1  0  -1/26  5/26   -5/13⎥\n",
              "⎢                            ⎥\n",
              "⎣0  0  1  3/26   -1/13  -9/26⎦"
            ],
            "text/latex": "$\\displaystyle \\left[\\begin{matrix}1 & 0 & 0 & \\frac{9}{26} & - \\frac{3}{13} & - \\frac{1}{26}\\\\0 & 1 & 0 & - \\frac{1}{26} & \\frac{5}{26} & - \\frac{5}{13}\\\\0 & 0 & 1 & \\frac{3}{26} & - \\frac{1}{13} & - \\frac{9}{26}\\end{matrix}\\right]$"
          },
          "metadata": {},
          "execution_count": 89
        }
      ]
    },
    {
      "cell_type": "markdown",
      "metadata": {
        "id": "49otieSyj1S0"
      },
      "source": [
        "### **Finalitza $\\left[  \\hspace{1mm} I \\hspace{2mm}|\\hspace{2mm} A^{-1} \\hspace{1mm} \\right]$**"
      ]
    },
    {
      "cell_type": "code",
      "metadata": {
        "colab": {
          "base_uri": "https://localhost:8080/",
          "height": 79
        },
        "id": "vzFazsQkj0Hx",
        "outputId": "fef6cbaa-e332-4764-96af-6421965fad9f"
      },
      "source": [
        "AI"
      ],
      "execution_count": null,
      "outputs": [
        {
          "output_type": "execute_result",
          "data": {
            "text/plain": [
              "⎡1  0  0  9/26   -3/13  -1/26⎤\n",
              "⎢                            ⎥\n",
              "⎢0  1  0  -1/26  5/26   -5/13⎥\n",
              "⎢                            ⎥\n",
              "⎣0  0  1  3/26   -1/13  -9/26⎦"
            ],
            "text/latex": "$\\displaystyle \\left[\\begin{matrix}1 & 0 & 0 & \\frac{9}{26} & - \\frac{3}{13} & - \\frac{1}{26}\\\\0 & 1 & 0 & - \\frac{1}{26} & \\frac{5}{26} & - \\frac{5}{13}\\\\0 & 0 & 1 & \\frac{3}{26} & - \\frac{1}{13} & - \\frac{9}{26}\\end{matrix}\\right]$"
          },
          "metadata": {},
          "execution_count": 90
        }
      ]
    },
    {
      "cell_type": "markdown",
      "metadata": {
        "id": "U0ucpqYWkpM_"
      },
      "source": [
        "### **Comprovem $ A^{-1}$:**"
      ]
    },
    {
      "cell_type": "code",
      "source": [
        "A.inv()            # Comprovem"
      ],
      "metadata": {
        "colab": {
          "base_uri": "https://localhost:8080/",
          "height": 79
        },
        "id": "kagPtw-tZdNY",
        "outputId": "1751edf1-0079-4708-b8d8-87a8a64452f8"
      },
      "execution_count": null,
      "outputs": [
        {
          "output_type": "execute_result",
          "data": {
            "text/plain": [
              "⎡9/26   -3/13  -1/26⎤\n",
              "⎢                   ⎥\n",
              "⎢-1/26  5/26   -5/13⎥\n",
              "⎢                   ⎥\n",
              "⎣3/26   -1/13  -9/26⎦"
            ],
            "text/latex": "$\\displaystyle \\left[\\begin{matrix}\\frac{9}{26} & - \\frac{3}{13} & - \\frac{1}{26}\\\\- \\frac{1}{26} & \\frac{5}{26} & - \\frac{5}{13}\\\\\\frac{3}{26} & - \\frac{1}{13} & - \\frac{9}{26}\\end{matrix}\\right]$"
          },
          "metadata": {},
          "execution_count": 92
        }
      ]
    },
    {
      "cell_type": "markdown",
      "metadata": {
        "id": "K2aTbUZaLVrf"
      },
      "source": [
        "#   **Propietats matriu inversa**\n",
        "Sigui ${\\displaystyle A,B\\in {\\mathcal {M}}_{n\\times n}(\\mathbb {R} )}$ matrius invertibles i $ k\\in \\mathbb {R}$,  verifiquen:\n",
        "\n",
        "<center>\n",
        "\n",
        "|            PROPIETAT          |       EXPLICACIÓ                     |\n",
        "|:------------------------------:|:--------------------------------------:|\n",
        "| Unicitat                 |$$A^{-1} \\in \\mathcal{M}_{n\\times n}(\\mathbb{R}) \\text{  y es unica}$$ |\n",
        "| element invers del producte                   |$$(AB)^{-1} = B^{-1}A^{-1}$$|\n",
        "| Involutiva   |  $$(A^{-1})^{-1}= A$$                                  |\n",
        "| Inversa d'un escalar por una matriu  |  $$(kA)^{-1}= \\dfrac{1}{k}A^{-1}$$ |\n",
        "\n"
      ]
    },
    {
      "cell_type": "markdown",
      "metadata": {
        "id": "qayPFJW5Q1tL"
      },
      "source": [
        "##   **Verificació com exercicis**"
      ]
    },
    {
      "cell_type": "markdown",
      "metadata": {
        "id": "qkufN_7ZQ1tT"
      },
      "source": [
        "###   **Inversa del producte**\n",
        "\n",
        "$$(AB)^{-1} = B^{-1}A^{-1}$$"
      ]
    },
    {
      "cell_type": "code",
      "metadata": {
        "colab": {
          "background_save": true
        },
        "id": "ZuXBpBeVQ1tV"
      },
      "source": [],
      "execution_count": null,
      "outputs": []
    },
    {
      "cell_type": "markdown",
      "metadata": {
        "id": "KPVJxSWvQ1tW"
      },
      "source": [
        "###    **Propietat involutiva**  \n",
        "$$(A^{-1})^{-1}$$"
      ]
    },
    {
      "cell_type": "code",
      "metadata": {
        "colab": {
          "background_save": true
        },
        "id": "HfgECaPfQ1tX"
      },
      "source": [],
      "execution_count": null,
      "outputs": []
    },
    {
      "cell_type": "markdown",
      "metadata": {
        "id": "Ef7X2of8Q1tY"
      },
      "source": [
        "###   **Inversa d'un escalar por una matriu**\n",
        "\n",
        " $$(kA)^{-1}\n",
        " = \\dfrac{1}{k}A^{-1}$$                      "
      ]
    },
    {
      "cell_type": "code",
      "metadata": {
        "colab": {
          "background_save": true
        },
        "id": "l6-TFLP5Q1tZ"
      },
      "source": [],
      "execution_count": null,
      "outputs": []
    },
    {
      "cell_type": "markdown",
      "metadata": {
        "id": "zWu8-GMVMqRQ"
      },
      "source": [
        "#   **Inversa d'una matriu 2 x 2**\n",
        "\n",
        "Sigui ${\\displaystyle A\\in {\\mathcal {M}}_{2\\times 2}(\\mathbb {R} )}$:\n",
        "\n",
        "\n",
        "<center> <h4> Si &nbsp; &nbsp;  \n",
        "$A=\\begin{bmatrix}\n",
        "a & b  \\\\\n",
        "c & d  \\\\\n",
        "\\end{bmatrix}$ &nbsp; &nbsp; llavors &nbsp; &nbsp;\n",
        "$A^{-1}= \\dfrac{1}{ad-bc}\\begin{bmatrix}\n",
        "d & -b  \\\\\n",
        "-c & a  \\\\\n",
        "\\end{bmatrix}$\n",
        "</h4> </center>\n",
        "\n",
        "\n",
        "i  $ad-bc \\neq 0 $ llavors  $A$ es **invertible**.\n",
        "\n"
      ]
    },
    {
      "cell_type": "markdown",
      "metadata": {
        "id": "5nvtNqQTRYn3"
      },
      "source": [
        "###   **Exemple 1:**"
      ]
    },
    {
      "cell_type": "code",
      "metadata": {
        "colab": {
          "base_uri": "https://localhost:8080/",
          "height": 60
        },
        "id": "aOnEvDgeLZb_",
        "outputId": "8ebd9d28-a976-46f6-e75d-39a036e007a8"
      },
      "source": [
        "a,b,c,d = symbols(\"a b c d \")\n",
        "A = Matrix([[a,b],[c,d]])\n",
        "A**(-1)"
      ],
      "execution_count": null,
      "outputs": [
        {
          "output_type": "execute_result",
          "data": {
            "text/plain": [
              "⎡    d         -b    ⎤\n",
              "⎢─────────  ─────────⎥\n",
              "⎢a⋅d - b⋅c  a⋅d - b⋅c⎥\n",
              "⎢                    ⎥\n",
              "⎢   -c          a    ⎥\n",
              "⎢─────────  ─────────⎥\n",
              "⎣a⋅d - b⋅c  a⋅d - b⋅c⎦"
            ],
            "text/latex": "$\\displaystyle \\left[\\begin{matrix}\\frac{d}{a d - b c} & - \\frac{b}{a d - b c}\\\\- \\frac{c}{a d - b c} & \\frac{a}{a d - b c}\\end{matrix}\\right]$"
          },
          "metadata": {},
          "execution_count": 93
        }
      ]
    },
    {
      "cell_type": "markdown",
      "metadata": {
        "id": "_nR-MyhNRxp9"
      },
      "source": [
        "###   **Exemple 2:**"
      ]
    },
    {
      "cell_type": "code",
      "metadata": {
        "colab": {
          "base_uri": "https://localhost:8080/",
          "height": 58
        },
        "id": "hK0x8j46RzH8",
        "outputId": "35e4b9c4-b5d8-42c1-9796-bbf7786adba6"
      },
      "source": [
        "A = Matrix([[1,2],[3,4]])\n",
        "A**(-1)"
      ],
      "execution_count": null,
      "outputs": [
        {
          "output_type": "execute_result",
          "data": {
            "text/plain": [
              "⎡-2    1  ⎤\n",
              "⎢         ⎥\n",
              "⎣3/2  -1/2⎦"
            ],
            "text/latex": "$\\displaystyle \\left[\\begin{matrix}-2 & 1\\\\\\frac{3}{2} & - \\frac{1}{2}\\end{matrix}\\right]$"
          },
          "metadata": {},
          "execution_count": 94
        }
      ]
    },
    {
      "cell_type": "markdown",
      "metadata": {
        "id": "uQmMT7f9zsAM"
      },
      "source": [
        "###  **Exercici matriu inversa**\n",
        "Calcular la matriu inversa  $A=\\begin{bmatrix}\n",
        "a & b  \\\\\n",
        "c & d  \\\\\n",
        "\\end{bmatrix}$\n",
        "amb la formula anterior:\n",
        "\n",
        "$$A^{-1}= \\dfrac{1}{ad-bc}\\begin{bmatrix}\n",
        "d & -b  \\\\\n",
        "-c & a  \\\\\n",
        "\\end{bmatrix}$$\n",
        "\n",
        "Sin usar la instrucció `A**(-1)`  o el mètode `A.inv()`.\n",
        "\n",
        "\n",
        "\n"
      ]
    },
    {
      "cell_type": "markdown",
      "metadata": {
        "id": "4gIgU4Q1d5uA"
      },
      "source": [
        "#   **EQUACIONS MATRICIALS**"
      ]
    },
    {
      "cell_type": "markdown",
      "metadata": {
        "id": "RVUq5v8hF9RH"
      },
      "source": [
        "Donades las matrius:\n",
        "\n",
        "\n",
        "$$A=\\begin{bmatrix}\n",
        "5 & 4 & -5 \\\\\n",
        "3 & 6 & -7 \\\\\n",
        "1 & 0 & -3  \\\\\n",
        "\\end{bmatrix}\n",
        "\\hspace{1cm}\n",
        "B=\\begin{bmatrix}\n",
        "1  & 2 & 3\\\\\n",
        "4  & 5 & 4\\\\\n",
        "1  & -3 & -5\\\\\n",
        "\\end{bmatrix}\n",
        "\\hspace{1cm}\n",
        "C=\\begin{bmatrix}\n",
        "4  & -5 & 3\\\\\n",
        "3 & -7 & 7\\\\\n",
        "1  & 2 & -5\\\\\n",
        "\\end{bmatrix}\n",
        "$$\n",
        "\n",
        "Trobar $X$ que resolt l'equació:\n",
        "\n",
        "$$AX + B = C$$\n",
        "\n"
      ]
    },
    {
      "cell_type": "markdown",
      "metadata": {
        "id": "Km-hTN3AeRC6"
      },
      "source": [
        "##  **Forma 1:** ---> *verificación rápida*"
      ]
    },
    {
      "cell_type": "code",
      "metadata": {
        "colab": {
          "base_uri": "https://localhost:8080/",
          "height": 78
        },
        "id": "UuT4NiDXIe-D",
        "outputId": "845b644c-92a5-4043-cd72-56ed5c2f9666"
      },
      "source": [
        "A = Matrix([[5,4,-5],[3,6,-7],[1,0,-3]])\n",
        "B = Matrix([[1,2,3],[4,5,4],[1,-3,-5]])\n",
        "C = Matrix([[4,-5,3],[3,-7,7],[1,2,-5]])\n",
        "\n",
        "A,B,C"
      ],
      "execution_count": null,
      "outputs": [
        {
          "output_type": "execute_result",
          "data": {
            "text/plain": [
              "⎛⎡5  4  -5⎤  ⎡1  2   3 ⎤  ⎡4  -5  3 ⎤⎞\n",
              "⎜⎢        ⎥  ⎢         ⎥  ⎢         ⎥⎟\n",
              "⎜⎢3  6  -7⎥, ⎢4  5   4 ⎥, ⎢3  -7  7 ⎥⎟\n",
              "⎜⎢        ⎥  ⎢         ⎥  ⎢         ⎥⎟\n",
              "⎝⎣1  0  -3⎦  ⎣1  -3  -5⎦  ⎣1  2   -5⎦⎠"
            ],
            "text/latex": "$\\displaystyle \\left( \\left[\\begin{matrix}5 & 4 & -5\\\\3 & 6 & -7\\\\1 & 0 & -3\\end{matrix}\\right], \\  \\left[\\begin{matrix}1 & 2 & 3\\\\4 & 5 & 4\\\\1 & -3 & -5\\end{matrix}\\right], \\  \\left[\\begin{matrix}4 & -5 & 3\\\\3 & -7 & 7\\\\1 & 2 & -5\\end{matrix}\\right]\\right)$"
          },
          "metadata": {},
          "execution_count": 95
        }
      ]
    },
    {
      "cell_type": "markdown",
      "metadata": {
        "id": "ejGiyYPULGp8"
      },
      "source": [
        "### **Aïllem X --> $X = A^{-1}(C-B)$**"
      ]
    },
    {
      "cell_type": "code",
      "metadata": {
        "colab": {
          "base_uri": "https://localhost:8080/",
          "height": 79
        },
        "id": "1KgGCoEBKoPt",
        "outputId": "92f61def-d473-4b56-9447-9a2dfc9cc032"
      },
      "source": [
        "X = A**(-1)*(C-B)\n",
        "# Solució\n",
        "X"
      ],
      "execution_count": null,
      "outputs": [
        {
          "output_type": "execute_result",
          "data": {
            "text/plain": [
              "⎡ 33                ⎤\n",
              "⎢ ──    2/13   -9/13⎥\n",
              "⎢ 26                ⎥\n",
              "⎢                   ⎥\n",
              "⎢       -103    15  ⎥\n",
              "⎢-4/13  ─────   ──  ⎥\n",
              "⎢         26    26  ⎥\n",
              "⎢                   ⎥\n",
              "⎢ 11    -21         ⎥\n",
              "⎢ ──    ────   -3/13⎥\n",
              "⎣ 26     13         ⎦"
            ],
            "text/latex": "$\\displaystyle \\left[\\begin{matrix}\\frac{33}{26} & \\frac{2}{13} & - \\frac{9}{13}\\\\- \\frac{4}{13} & - \\frac{103}{26} & \\frac{15}{26}\\\\\\frac{11}{26} & - \\frac{21}{13} & - \\frac{3}{13}\\end{matrix}\\right]$"
          },
          "metadata": {},
          "execution_count": 96
        }
      ]
    },
    {
      "cell_type": "markdown",
      "metadata": {
        "id": "Fw5RmeeDL80z"
      },
      "source": [
        "### **Verifiquem $AX + B =C$**"
      ]
    },
    {
      "cell_type": "code",
      "metadata": {
        "colab": {
          "base_uri": "https://localhost:8080/"
        },
        "id": "t9zOfDIuVSXb",
        "outputId": "40d2952f-f6e4-4693-8b1e-615250222424"
      },
      "source": [
        "A*X+B == C"
      ],
      "execution_count": null,
      "outputs": [
        {
          "output_type": "execute_result",
          "data": {
            "text/plain": [
              "True"
            ]
          },
          "metadata": {},
          "execution_count": 97
        }
      ]
    },
    {
      "cell_type": "markdown",
      "metadata": {
        "id": "OdQeYNbEaz6I"
      },
      "source": [
        "# **SISTEMAS D'EQUACIONS**\n",
        "Resoldre\n",
        "\n",
        "$$\\left\\{\n",
        "\\begin{array}{rcl}\n",
        "     x+ y-2z  & = & 14\n",
        "  \\\\ 2x-y+z & = & 0\n",
        "  \\\\ 6x+3y+4z & = & 1\n",
        "\\end{array}\n",
        "\\right.$$\n",
        "\n",
        "es pot reescriure matricialment $AX = B$  :\n",
        "\n",
        "$$A=\\begin{bmatrix}\n",
        "1  & 1 & -2\\\\\n",
        "2  & -1 & 1\\\\\n",
        "6  & 3 & 4\\\\\n",
        "\\end{bmatrix}\n",
        "\\hspace{1cm}\n",
        "B=\\begin{bmatrix}\n",
        "14  \\\\\n",
        "0  \\\\\n",
        "1 \\\\\n",
        "\\end{bmatrix}\n",
        "\\hspace{1cm}\n",
        "X=\\begin{bmatrix}\n",
        "x  \\\\\n",
        "y  \\\\\n",
        "z \\\\\n",
        "\\end{bmatrix}$$"
      ]
    },
    {
      "cell_type": "markdown",
      "metadata": {
        "id": "fqQcEQsji7VF"
      },
      "source": [
        "##**Forma 1:** ---> *verificación rápida*"
      ]
    },
    {
      "cell_type": "code",
      "metadata": {
        "colab": {
          "base_uri": "https://localhost:8080/",
          "height": 78
        },
        "id": "G2U2as3QfKYN",
        "outputId": "9ba602a9-b9aa-45b9-99d0-c7f373e990a3"
      },
      "source": [
        "A = Matrix([[1,1,-2],[2,-1,1],[6,3,4]])\n",
        "B = Matrix(3,1,[14,0,1])\n",
        "X = A**(-1)*B\n",
        "X"
      ],
      "execution_count": null,
      "outputs": [
        {
          "output_type": "execute_result",
          "data": {
            "text/plain": [
              "⎡3 ⎤\n",
              "⎢  ⎥\n",
              "⎢1 ⎥\n",
              "⎢  ⎥\n",
              "⎣-5⎦"
            ],
            "text/latex": "$\\displaystyle \\left[\\begin{matrix}3\\\\1\\\\-5\\end{matrix}\\right]$"
          },
          "metadata": {},
          "execution_count": 98
        }
      ]
    },
    {
      "cell_type": "code",
      "metadata": {
        "colab": {
          "base_uri": "https://localhost:8080/"
        },
        "id": "vLyvqan1XReb",
        "outputId": "f999afa2-c414-4dc9-c397-52dfc673ab97"
      },
      "source": [
        "A*X == B"
      ],
      "execution_count": null,
      "outputs": [
        {
          "output_type": "execute_result",
          "data": {
            "text/plain": [
              "True"
            ]
          },
          "metadata": {},
          "execution_count": 99
        }
      ]
    },
    {
      "cell_type": "code",
      "metadata": {
        "colab": {
          "base_uri": "https://localhost:8080/",
          "height": 39
        },
        "id": "6GSPOfo3DrB1",
        "outputId": "2473a5e5-e47e-4ece-9916-d7301e374329"
      },
      "source": [
        "x,y,z = symbols(\"x y z\")\n",
        "\n",
        "solve([x+y-2*z-14,2*x-y+z,6*x+3*y+4*z-1]) # el mètode 'solve' també ens calcula el resultat"
      ],
      "execution_count": null,
      "outputs": [
        {
          "output_type": "execute_result",
          "data": {
            "text/plain": [
              "{x: 3, y: 1, z: -5}"
            ],
            "text/latex": "$\\displaystyle \\left\\{ x : 3, \\  y : 1, \\  z : -5\\right\\}$"
          },
          "metadata": {},
          "execution_count": 100
        }
      ]
    }
  ]
}