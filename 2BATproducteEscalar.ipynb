{
  "nbformat": 4,
  "nbformat_minor": 0,
  "metadata": {
    "colab": {
      "provenance": [],
      "authorship_tag": "ABX9TyPf8wB20ibCcOZS5SF4uh46",
      "include_colab_link": true
    },
    "kernelspec": {
      "name": "python3",
      "display_name": "Python 3"
    },
    "language_info": {
      "name": "python"
    }
  },
  "cells": [
    {
      "cell_type": "markdown",
      "metadata": {
        "id": "view-in-github",
        "colab_type": "text"
      },
      "source": [
        "<a href=\"https://colab.research.google.com/github/mlacasa/2BATMates/blob/main/2BATproducteEscalar.ipynb\" target=\"_parent\"><img src=\"https://colab.research.google.com/assets/colab-badge.svg\" alt=\"Open In Colab\"/></a>"
      ]
    },
    {
      "cell_type": "markdown",
      "source": [
        "# OPERACIONS AMB VECTORS\n",
        "\n",
        "Carreguem les llibreries necessàries.\n",
        "S'instal·larà una nova llibreria, esperar al fet que acabi el procés.\n",
        "\n",
        "1.   Elemento de lista\n",
        "2.   Elemento de lista\n",
        "\n"
      ],
      "metadata": {
        "id": "T6ljTLDyAOFB"
      }
    },
    {
      "cell_type": "code",
      "execution_count": 3,
      "metadata": {
        "colab": {
          "base_uri": "https://localhost:8080/"
        },
        "id": "72RrGJmx__Ez",
        "outputId": "1d334eed-1412-4593-861e-7d244fede451"
      },
      "outputs": [
        {
          "output_type": "stream",
          "name": "stdout",
          "text": [
            "Collecting PlotLinearAlgebra\n",
            "  Downloading PlotLinearAlgebra-1.15.0.tar.gz (23 kB)\n",
            "  Preparing metadata (setup.py) ... \u001b[?25l\u001b[?25hdone\n",
            "Collecting plotly==5.1.0 (from PlotLinearAlgebra)\n",
            "  Downloading plotly-5.1.0-py2.py3-none-any.whl (20.6 MB)\n",
            "\u001b[2K     \u001b[90m━━━━━━━━━━━━━━━━━━━━━━━━━━━━━━━━━━━━━━━━\u001b[0m \u001b[32m20.6/20.6 MB\u001b[0m \u001b[31m39.9 MB/s\u001b[0m eta \u001b[36m0:00:00\u001b[0m\n",
            "\u001b[?25hRequirement already satisfied: numpy in /usr/local/lib/python3.10/dist-packages (from PlotLinearAlgebra) (1.23.5)\n",
            "Requirement already satisfied: sympy in /usr/local/lib/python3.10/dist-packages (from PlotLinearAlgebra) (1.12)\n",
            "Collecting latex (from PlotLinearAlgebra)\n",
            "  Downloading latex-0.7.0.tar.gz (6.5 kB)\n",
            "  Preparing metadata (setup.py) ... \u001b[?25l\u001b[?25hdone\n",
            "Requirement already satisfied: tenacity>=6.2.0 in /usr/local/lib/python3.10/dist-packages (from plotly==5.1.0->PlotLinearAlgebra) (8.2.3)\n",
            "Requirement already satisfied: six in /usr/local/lib/python3.10/dist-packages (from plotly==5.1.0->PlotLinearAlgebra) (1.16.0)\n",
            "Collecting tempdir (from latex->PlotLinearAlgebra)\n",
            "  Downloading tempdir-0.7.1.tar.gz (5.9 kB)\n",
            "  Preparing metadata (setup.py) ... \u001b[?25l\u001b[?25hdone\n",
            "Collecting data (from latex->PlotLinearAlgebra)\n",
            "  Downloading data-0.4.tar.gz (7.0 kB)\n",
            "  Preparing metadata (setup.py) ... \u001b[?25l\u001b[?25hdone\n",
            "Requirement already satisfied: future in /usr/local/lib/python3.10/dist-packages (from latex->PlotLinearAlgebra) (0.18.3)\n",
            "Collecting shutilwhich (from latex->PlotLinearAlgebra)\n",
            "  Downloading shutilwhich-1.1.0.tar.gz (2.3 kB)\n",
            "  Preparing metadata (setup.py) ... \u001b[?25l\u001b[?25hdone\n",
            "Requirement already satisfied: mpmath>=0.19 in /usr/local/lib/python3.10/dist-packages (from sympy->PlotLinearAlgebra) (1.3.0)\n",
            "Requirement already satisfied: decorator in /usr/local/lib/python3.10/dist-packages (from data->latex->PlotLinearAlgebra) (4.4.2)\n",
            "Collecting funcsigs (from data->latex->PlotLinearAlgebra)\n",
            "  Downloading funcsigs-1.0.2-py2.py3-none-any.whl (17 kB)\n",
            "Building wheels for collected packages: PlotLinearAlgebra, latex, data, shutilwhich, tempdir\n",
            "  Building wheel for PlotLinearAlgebra (setup.py) ... \u001b[?25l\u001b[?25hdone\n",
            "  Created wheel for PlotLinearAlgebra: filename=PlotLinearAlgebra-1.15.0-py3-none-any.whl size=19874 sha256=4b8392c881e4129415077763720abcab6b607cdafc6b90aeff68154ac5886154\n",
            "  Stored in directory: /root/.cache/pip/wheels/37/9e/e3/eccaf9909d7068d9f17f44ad1db07e70299883adc6bba0a181\n",
            "  Building wheel for latex (setup.py) ... \u001b[?25l\u001b[?25hdone\n",
            "  Created wheel for latex: filename=latex-0.7.0-py3-none-any.whl size=7588 sha256=b1826e487fd3d95f4a8926795396dd15a6931e246f53e8844da6fd61eea5bcb4\n",
            "  Stored in directory: /root/.cache/pip/wheels/7e/02/25/c00dfc203e8ba53dfc2e4e97d40e537263d6e03606681f3872\n",
            "  Building wheel for data (setup.py) ... \u001b[?25l\u001b[?25hdone\n",
            "  Created wheel for data: filename=data-0.4-py3-none-any.whl size=7226 sha256=3d52a1d99f3df7358752c1d66b92e6a02fe4e70a8b8ddfe5e07ab0b3c9d1b296\n",
            "  Stored in directory: /root/.cache/pip/wheels/d0/e8/fa/e253c256048ea58d99a8abb5e751abb6a838af6f12887b5418\n",
            "  Building wheel for shutilwhich (setup.py) ... \u001b[?25l\u001b[?25hdone\n",
            "  Created wheel for shutilwhich: filename=shutilwhich-1.1.0-py3-none-any.whl size=2766 sha256=5e20a3d44705951400868b6a5915d36122200e3276ac2aa43bf26d2c574c1e21\n",
            "  Stored in directory: /root/.cache/pip/wheels/75/1f/1c/0ecab7ceabad0b8e018891505911e82a6f358a0291e7681bae\n",
            "  Building wheel for tempdir (setup.py) ... \u001b[?25l\u001b[?25hdone\n",
            "  Created wheel for tempdir: filename=tempdir-0.7.1-py3-none-any.whl size=2196 sha256=37ca324ba9de4d64494bac1d6503479179688a861feeb884058e07b0c77c5a1c\n",
            "  Stored in directory: /root/.cache/pip/wheels/c6/9a/9d/44903aa5aac6c6bc5f0c331ed86214bbedce17e8556d002f1a\n",
            "Successfully built PlotLinearAlgebra latex data shutilwhich tempdir\n",
            "Installing collected packages: tempdir, shutilwhich, funcsigs, plotly, data, latex, PlotLinearAlgebra\n",
            "  Attempting uninstall: plotly\n",
            "    Found existing installation: plotly 5.15.0\n",
            "    Uninstalling plotly-5.15.0:\n",
            "      Successfully uninstalled plotly-5.15.0\n",
            "\u001b[31mERROR: pip's dependency resolver does not currently take into account all the packages that are installed. This behaviour is the source of the following dependency conflicts.\n",
            "lida 0.0.10 requires fastapi, which is not installed.\n",
            "lida 0.0.10 requires kaleido, which is not installed.\n",
            "lida 0.0.10 requires python-multipart, which is not installed.\n",
            "lida 0.0.10 requires uvicorn, which is not installed.\u001b[0m\u001b[31m\n",
            "\u001b[0mSuccessfully installed PlotLinearAlgebra-1.15.0 data-0.4 funcsigs-1.0.2 latex-0.7.0 plotly-5.1.0 shutilwhich-1.1.0 tempdir-0.7.1\n"
          ]
        }
      ],
      "source": [
        "from sympy import *\n",
        "\n",
        "#Librería para escribir vectores como vectores unitarios\n",
        "from sympy.physics.vector import *\n",
        "e = ReferenceFrame('e')\n",
        "\n",
        "x,y,z,A,B,C,a = symbols(\"x y z A B C a \")\n",
        "\n",
        "# Instalem aquesta nova llibreria\n",
        "\n",
        "!pip install PlotLinearAlgebra"
      ]
    },
    {
      "cell_type": "markdown",
      "source": [
        "El mòdul següent permet la representació gràfica de vectors en el plànol i l'espai i fa ús de la llibreria de graficació Plotly i d'arranjaments multidimensionals NumPy, es crea com a eina per a una millor comprensió dels conceptes vectorials des de les activitats amb el llenguatge de programació Python i es nomena com PlotLinearAlgebra, el qual conté el submodul de graficació plotvectors la pagina oficial és: https://pypi.org/project/PlotLinearAlgebra/."
      ],
      "metadata": {
        "id": "ur5gCG2mA2_T"
      }
    },
    {
      "cell_type": "markdown",
      "source": [],
      "metadata": {
        "id": "8TJMqQbbA7vK"
      }
    },
    {
      "cell_type": "code",
      "source": [
        "from PlotLinearAlgebra.plotvectors import *\n",
        "from PlotLinearAlgebra.plot2d import *\n",
        "from PlotLinearAlgebra.plot3d import *"
      ],
      "metadata": {
        "id": "LufnJQiaA8SS"
      },
      "execution_count": 4,
      "outputs": []
    },
    {
      "cell_type": "markdown",
      "source": [
        "# **DEFINICIÓ GEOMÈTRICA DE VECTOR**\n",
        "\n",
        "Es defineix com un segment de recta dirigit, entre les seves característiques podem apreciar: *punt inicial, magnitud, direcció i sentit*.\n",
        "\n",
        "\n",
        "\n",
        "* **Magnitud :** es defineix com la longitud del vector.\n",
        "* **Direcció:** és la recta suport, recta directriu o línia d'acció que conté el vector.\n",
        "* **Sentit:** és la punta de la fletxa.\n",
        "\n",
        "L'angle $\\theta$ que es mesura respecte a una recta en particular determina la direcció i el sentit del vector.\n",
        "\n",
        "\n",
        "\n",
        "\n",
        "\n",
        "\n",
        "\n",
        "<center><img src=\"https://github.com/josorio398/ALGEBRA-LINEAL-CON-PYTHON/blob/master/im%C3%A1genes%20repositorio/vector%20geom%C3%A9trico%20final.png?raw=true\"  height=\"300\" />"
      ],
      "metadata": {
        "id": "H3EVjR3SBEgv"
      }
    },
    {
      "cell_type": "markdown",
      "source": [
        "# **VECTORS IGUALS O EQUIVALENTS**\n",
        "\n",
        "La relació que permet determinar si dos vectors són equivalents s'anomena **relació de equipolència**, dos vectors o més són equipol·lents si tenen la mateixa *magnitud, direcció i sentit*.\n",
        "\n",
        "Diem que dos vectors tenen la mateixa adreça si les seves rectes directrius són paral·leles.\n",
        "\n",
        "\n",
        "<center><img src=\"https://github.com/josorio398/ALGEBRA-LINEAL-CON-PYTHON/blob/master/im%C3%A1genes%20repositorio/igualdad%20vectores.png?raw=true\"  height=\"300\" /> </center>\n",
        "\n",
        "Quins dels vectors següents tenen la mateixa direcció, quins tenen el mateix sentit, quins tenen la mateixa magnitud i quins són equipolents?\n",
        "\n",
        "\n",
        "# **Equipolència de vectors des de la física**\n",
        "\n",
        "Dos o més vectors són equipol·lents quan les magnituds físiques que aquests vectors descriuen tenen el mateix valor, les mateixes unitats i produeixen els mateixos efectes.\n",
        "\n",
        "# **Equipolència de vectors des de la representació geometrica-sintètica**\n",
        "\n",
        "Diem que dos vectors $\\overrightarrow{AB}$ i $\\overrightarrow{CD}$ són iguals o equipolents, si en construir els segments $\\overline{AC}$ i $\\overline{CD}$ el quadrilàter $ABCD$ és un paral·lelogram.\n",
        "\n",
        "<center><img src=\"https://github.com/josorio398/ALGEBRA-LINEAL-CON-PYTHON/blob/master/im%C3%A1genes%20repositorio/Equipolencia%20sint%C3%A9tica.png?raw=true\"  height=\"200\" /> </center>\n",
        "\n",
        "\n",
        "# **Equipolència de vectors des de la representació geomètrica-cartesiana**\n",
        "\n",
        "Diem que dos vectors en el pla $\\overrightarrow{AB}$ i $\\overrightarrow{CD}$ on $A = (A_x,A_y)$, $B = (B_x,B_y)$, $C= (C_x,C_y )$ i $D= (D_x,D_y)$ són iguals, si es compleix:\n",
        "\n",
        "<center><img src=\"https://github.com/josorio398/ALGEBRA-LINEAL-CON-PYTHON/blob/master/im%C3%A1genes%20repositorio/equipolencia-cartesiana.png?raw=true\"  height=\"300\" /> </center>"
      ],
      "metadata": {
        "id": "-aEl-R9XBSat"
      }
    },
    {
      "cell_type": "markdown",
      "source": [
        "# **Definició com a combinació lineal de vectors unitaris**\n",
        "\n",
        "Aquesta sintaxi per construir el vector es realitza amb la funció **ReferenceFrame** de la llibreria **sympy.physics.vector**."
      ],
      "metadata": {
        "id": "wD9G2LWtBUd6"
      }
    },
    {
      "cell_type": "code",
      "source": [
        "from sympy.physics.vector import *\n",
        "v = ReferenceFrame('v')\n",
        "\n",
        "i = v.x\n",
        "j = v.y\n",
        "k = v.z\n",
        "\n",
        "2*i + 3*j +5*k"
      ],
      "metadata": {
        "colab": {
          "base_uri": "https://localhost:8080/",
          "height": 37
        },
        "id": "cjjEAPokBmlR",
        "outputId": "006afe01-9389-4c71-c10c-3629198aa0aa"
      },
      "execution_count": 2,
      "outputs": [
        {
          "output_type": "execute_result",
          "data": {
            "text/plain": [
              "2*v.x + 3*v.y + 5*v.z"
            ],
            "text/latex": "$\\displaystyle 2\\mathbf{\\hat{v}_x} + 3\\mathbf{\\hat{v}_y} + 5\\mathbf{\\hat{v}_z}$"
          },
          "metadata": {},
          "execution_count": 2
        }
      ]
    },
    {
      "cell_type": "code",
      "source": [
        "# Dibuix d'un vector i el podeu \"moure\" amb el ratolí.\n",
        "\n",
        "v = [1,5,1]\n",
        "plotvectors3D(v)"
      ],
      "metadata": {
        "colab": {
          "base_uri": "https://localhost:8080/",
          "height": 497
        },
        "id": "PRZA12xPB5Jd",
        "outputId": "84062322-8888-4ed9-b837-3a2b55b374d7"
      },
      "execution_count": 6,
      "outputs": [
        {
          "output_type": "display_data",
          "data": {
            "text/html": [
              "<html>\n",
              "<head><meta charset=\"utf-8\" /></head>\n",
              "<body>\n",
              "    <div>            <script src=\"https://cdnjs.cloudflare.com/ajax/libs/mathjax/2.7.5/MathJax.js?config=TeX-AMS-MML_SVG\"></script><script type=\"text/javascript\">if (window.MathJax) {MathJax.Hub.Config({SVG: {font: \"STIX-Web\"}});}</script>                <script type=\"text/javascript\">window.PlotlyConfig = {MathJaxConfig: 'local'};</script>\n",
              "        <script src=\"https://cdn.plot.ly/plotly-2.2.0.min.js\"></script>                <div id=\"f958bd53-b806-47cb-af6d-8c2ce6508541\" class=\"plotly-graph-div\" style=\"height:480px; width:480px;\"></div>            <script type=\"text/javascript\">                                    window.PLOTLYENV=window.PLOTLYENV || {};                                    if (document.getElementById(\"f958bd53-b806-47cb-af6d-8c2ce6508541\")) {                    Plotly.newPlot(                        \"f958bd53-b806-47cb-af6d-8c2ce6508541\",                        [{\"line\":{\"color\":\"rgb(94,177,123)\",\"width\":7},\"marker\":{\"color\":\"rgb(94,177,123)\",\"size\":1},\"name\":\"vector 1\",\"type\":\"scatter3d\",\"x\":[0,1],\"y\":[0,5],\"z\":[0,1]},{\"anchor\":\"cm\",\"colorbar\":{\"thickness\":20,\"ticklen\":4},\"colorscale\":[[0,\"rgb(94,177,123)\"],[1,\"rgb(94,177,123)\"]],\"name\":\"vector 1\",\"showscale\":false,\"sizemode\":\"absolute\",\"sizeref\":0.23333333333333334,\"type\":\"cone\",\"u\":[1],\"v\":[5],\"w\":[1],\"x\":[1],\"y\":[5],\"z\":[1]},{\"marker\":{\"color\":\"#2a3f5f\",\"size\":5},\"mode\":\"markers\",\"name\":\"origen\",\"showlegend\":true,\"type\":\"scatter3d\",\"x\":[0],\"y\":[0],\"z\":[0]},{\"hoverinfo\":\"skip\",\"line\":{\"color\":\"#2a3f5f\",\"width\":3},\"marker\":{\"color\":\"#2a3f5f\",\"size\":1},\"name\":\"\",\"showlegend\":false,\"type\":\"scatter3d\",\"x\":[-0.23333333333333334,1.2333333333333334],\"y\":[0,0],\"z\":[0,0]},{\"anchor\":\"cm\",\"colorbar\":{\"thickness\":20,\"ticklen\":4},\"colorscale\":[[0,\"#2a3f5f\"],[1,\"#2a3f5f\"]],\"hoverinfo\":\"name\",\"name\":\"Eje x-positivo\",\"showscale\":false,\"sizemode\":\"absolute\",\"sizeref\":0.13999999999999999,\"type\":\"cone\",\"u\":[1.2333333333333334],\"v\":[0],\"w\":[0],\"x\":[1.2333333333333334],\"y\":[0],\"z\":[0]},{\"hoverinfo\":\"skip\",\"line\":{\"color\":\"#2a3f5f\",\"width\":3},\"marker\":{\"color\":\"#2a3f5f\",\"size\":1},\"name\":\"\",\"showlegend\":false,\"type\":\"scatter3d\",\"x\":[0,0],\"y\":[-0.23333333333333334,5.233333333333333],\"z\":[0,0]},{\"anchor\":\"cm\",\"colorbar\":{\"thickness\":20,\"ticklen\":4},\"colorscale\":[[0,\"#2a3f5f\"],[1,\"#2a3f5f\"]],\"hoverinfo\":\"name\",\"name\":\"Eje y-positivo \",\"showscale\":false,\"sizemode\":\"absolute\",\"sizeref\":0.13999999999999999,\"type\":\"cone\",\"u\":[0],\"v\":[5.233333333333333],\"w\":[0],\"x\":[0],\"y\":[5.233333333333333],\"z\":[0]},{\"hoverinfo\":\"skip\",\"line\":{\"color\":\"#2a3f5f\",\"width\":3},\"marker\":{\"color\":\"#2a3f5f\",\"size\":1},\"name\":\"eje z-positivo\",\"showlegend\":false,\"type\":\"scatter3d\",\"x\":[0,0],\"y\":[0,0],\"z\":[-0.5333333333333333,1.2333333333333334]},{\"anchor\":\"cm\",\"colorbar\":{\"thickness\":20,\"ticklen\":4},\"colorscale\":[[0,\"#2a3f5f\"],[1,\"#2a3f5f\"]],\"hoverinfo\":\"name\",\"name\":\"Eje z-positivo\",\"showscale\":false,\"sizemode\":\"absolute\",\"sizeref\":0.13999999999999999,\"type\":\"cone\",\"u\":[0],\"v\":[0],\"w\":[1.2333333333333334],\"x\":[0],\"y\":[0],\"z\":[1.2333333333333334]}],                        {\"height\":480,\"legend\":{\"orientation\":\"h\",\"x\":0.03,\"y\":1.3},\"margin\":{\"b\":0,\"l\":0,\"r\":0,\"t\":0},\"showlegend\":true,\"template\":{\"data\":{\"bar\":[{\"error_x\":{\"color\":\"#2a3f5f\"},\"error_y\":{\"color\":\"#2a3f5f\"},\"marker\":{\"line\":{\"color\":\"#E5ECF6\",\"width\":0.5},\"pattern\":{\"fillmode\":\"overlay\",\"size\":10,\"solidity\":0.2}},\"type\":\"bar\"}],\"barpolar\":[{\"marker\":{\"line\":{\"color\":\"#E5ECF6\",\"width\":0.5},\"pattern\":{\"fillmode\":\"overlay\",\"size\":10,\"solidity\":0.2}},\"type\":\"barpolar\"}],\"carpet\":[{\"aaxis\":{\"endlinecolor\":\"#2a3f5f\",\"gridcolor\":\"white\",\"linecolor\":\"white\",\"minorgridcolor\":\"white\",\"startlinecolor\":\"#2a3f5f\"},\"baxis\":{\"endlinecolor\":\"#2a3f5f\",\"gridcolor\":\"white\",\"linecolor\":\"white\",\"minorgridcolor\":\"white\",\"startlinecolor\":\"#2a3f5f\"},\"type\":\"carpet\"}],\"choropleth\":[{\"colorbar\":{\"outlinewidth\":0,\"ticks\":\"\"},\"type\":\"choropleth\"}],\"contour\":[{\"colorbar\":{\"outlinewidth\":0,\"ticks\":\"\"},\"colorscale\":[[0.0,\"#0d0887\"],[0.1111111111111111,\"#46039f\"],[0.2222222222222222,\"#7201a8\"],[0.3333333333333333,\"#9c179e\"],[0.4444444444444444,\"#bd3786\"],[0.5555555555555556,\"#d8576b\"],[0.6666666666666666,\"#ed7953\"],[0.7777777777777778,\"#fb9f3a\"],[0.8888888888888888,\"#fdca26\"],[1.0,\"#f0f921\"]],\"type\":\"contour\"}],\"contourcarpet\":[{\"colorbar\":{\"outlinewidth\":0,\"ticks\":\"\"},\"type\":\"contourcarpet\"}],\"heatmap\":[{\"colorbar\":{\"outlinewidth\":0,\"ticks\":\"\"},\"colorscale\":[[0.0,\"#0d0887\"],[0.1111111111111111,\"#46039f\"],[0.2222222222222222,\"#7201a8\"],[0.3333333333333333,\"#9c179e\"],[0.4444444444444444,\"#bd3786\"],[0.5555555555555556,\"#d8576b\"],[0.6666666666666666,\"#ed7953\"],[0.7777777777777778,\"#fb9f3a\"],[0.8888888888888888,\"#fdca26\"],[1.0,\"#f0f921\"]],\"type\":\"heatmap\"}],\"heatmapgl\":[{\"colorbar\":{\"outlinewidth\":0,\"ticks\":\"\"},\"colorscale\":[[0.0,\"#0d0887\"],[0.1111111111111111,\"#46039f\"],[0.2222222222222222,\"#7201a8\"],[0.3333333333333333,\"#9c179e\"],[0.4444444444444444,\"#bd3786\"],[0.5555555555555556,\"#d8576b\"],[0.6666666666666666,\"#ed7953\"],[0.7777777777777778,\"#fb9f3a\"],[0.8888888888888888,\"#fdca26\"],[1.0,\"#f0f921\"]],\"type\":\"heatmapgl\"}],\"histogram\":[{\"marker\":{\"pattern\":{\"fillmode\":\"overlay\",\"size\":10,\"solidity\":0.2}},\"type\":\"histogram\"}],\"histogram2d\":[{\"colorbar\":{\"outlinewidth\":0,\"ticks\":\"\"},\"colorscale\":[[0.0,\"#0d0887\"],[0.1111111111111111,\"#46039f\"],[0.2222222222222222,\"#7201a8\"],[0.3333333333333333,\"#9c179e\"],[0.4444444444444444,\"#bd3786\"],[0.5555555555555556,\"#d8576b\"],[0.6666666666666666,\"#ed7953\"],[0.7777777777777778,\"#fb9f3a\"],[0.8888888888888888,\"#fdca26\"],[1.0,\"#f0f921\"]],\"type\":\"histogram2d\"}],\"histogram2dcontour\":[{\"colorbar\":{\"outlinewidth\":0,\"ticks\":\"\"},\"colorscale\":[[0.0,\"#0d0887\"],[0.1111111111111111,\"#46039f\"],[0.2222222222222222,\"#7201a8\"],[0.3333333333333333,\"#9c179e\"],[0.4444444444444444,\"#bd3786\"],[0.5555555555555556,\"#d8576b\"],[0.6666666666666666,\"#ed7953\"],[0.7777777777777778,\"#fb9f3a\"],[0.8888888888888888,\"#fdca26\"],[1.0,\"#f0f921\"]],\"type\":\"histogram2dcontour\"}],\"mesh3d\":[{\"colorbar\":{\"outlinewidth\":0,\"ticks\":\"\"},\"type\":\"mesh3d\"}],\"parcoords\":[{\"line\":{\"colorbar\":{\"outlinewidth\":0,\"ticks\":\"\"}},\"type\":\"parcoords\"}],\"pie\":[{\"automargin\":true,\"type\":\"pie\"}],\"scatter\":[{\"marker\":{\"colorbar\":{\"outlinewidth\":0,\"ticks\":\"\"}},\"type\":\"scatter\"}],\"scatter3d\":[{\"line\":{\"colorbar\":{\"outlinewidth\":0,\"ticks\":\"\"}},\"marker\":{\"colorbar\":{\"outlinewidth\":0,\"ticks\":\"\"}},\"type\":\"scatter3d\"}],\"scattercarpet\":[{\"marker\":{\"colorbar\":{\"outlinewidth\":0,\"ticks\":\"\"}},\"type\":\"scattercarpet\"}],\"scattergeo\":[{\"marker\":{\"colorbar\":{\"outlinewidth\":0,\"ticks\":\"\"}},\"type\":\"scattergeo\"}],\"scattergl\":[{\"marker\":{\"colorbar\":{\"outlinewidth\":0,\"ticks\":\"\"}},\"type\":\"scattergl\"}],\"scattermapbox\":[{\"marker\":{\"colorbar\":{\"outlinewidth\":0,\"ticks\":\"\"}},\"type\":\"scattermapbox\"}],\"scatterpolar\":[{\"marker\":{\"colorbar\":{\"outlinewidth\":0,\"ticks\":\"\"}},\"type\":\"scatterpolar\"}],\"scatterpolargl\":[{\"marker\":{\"colorbar\":{\"outlinewidth\":0,\"ticks\":\"\"}},\"type\":\"scatterpolargl\"}],\"scatterternary\":[{\"marker\":{\"colorbar\":{\"outlinewidth\":0,\"ticks\":\"\"}},\"type\":\"scatterternary\"}],\"surface\":[{\"colorbar\":{\"outlinewidth\":0,\"ticks\":\"\"},\"colorscale\":[[0.0,\"#0d0887\"],[0.1111111111111111,\"#46039f\"],[0.2222222222222222,\"#7201a8\"],[0.3333333333333333,\"#9c179e\"],[0.4444444444444444,\"#bd3786\"],[0.5555555555555556,\"#d8576b\"],[0.6666666666666666,\"#ed7953\"],[0.7777777777777778,\"#fb9f3a\"],[0.8888888888888888,\"#fdca26\"],[1.0,\"#f0f921\"]],\"type\":\"surface\"}],\"table\":[{\"cells\":{\"fill\":{\"color\":\"#EBF0F8\"},\"line\":{\"color\":\"white\"}},\"header\":{\"fill\":{\"color\":\"#C8D4E3\"},\"line\":{\"color\":\"white\"}},\"type\":\"table\"}]},\"layout\":{\"annotationdefaults\":{\"arrowcolor\":\"#2a3f5f\",\"arrowhead\":0,\"arrowwidth\":1},\"autotypenumbers\":\"strict\",\"coloraxis\":{\"colorbar\":{\"outlinewidth\":0,\"ticks\":\"\"}},\"colorscale\":{\"diverging\":[[0,\"#8e0152\"],[0.1,\"#c51b7d\"],[0.2,\"#de77ae\"],[0.3,\"#f1b6da\"],[0.4,\"#fde0ef\"],[0.5,\"#f7f7f7\"],[0.6,\"#e6f5d0\"],[0.7,\"#b8e186\"],[0.8,\"#7fbc41\"],[0.9,\"#4d9221\"],[1,\"#276419\"]],\"sequential\":[[0.0,\"#0d0887\"],[0.1111111111111111,\"#46039f\"],[0.2222222222222222,\"#7201a8\"],[0.3333333333333333,\"#9c179e\"],[0.4444444444444444,\"#bd3786\"],[0.5555555555555556,\"#d8576b\"],[0.6666666666666666,\"#ed7953\"],[0.7777777777777778,\"#fb9f3a\"],[0.8888888888888888,\"#fdca26\"],[1.0,\"#f0f921\"]],\"sequentialminus\":[[0.0,\"#0d0887\"],[0.1111111111111111,\"#46039f\"],[0.2222222222222222,\"#7201a8\"],[0.3333333333333333,\"#9c179e\"],[0.4444444444444444,\"#bd3786\"],[0.5555555555555556,\"#d8576b\"],[0.6666666666666666,\"#ed7953\"],[0.7777777777777778,\"#fb9f3a\"],[0.8888888888888888,\"#fdca26\"],[1.0,\"#f0f921\"]]},\"colorway\":[\"#636efa\",\"#EF553B\",\"#00cc96\",\"#ab63fa\",\"#FFA15A\",\"#19d3f3\",\"#FF6692\",\"#B6E880\",\"#FF97FF\",\"#FECB52\"],\"font\":{\"color\":\"#2a3f5f\"},\"geo\":{\"bgcolor\":\"white\",\"lakecolor\":\"white\",\"landcolor\":\"#E5ECF6\",\"showlakes\":true,\"showland\":true,\"subunitcolor\":\"white\"},\"hoverlabel\":{\"align\":\"left\"},\"hovermode\":\"closest\",\"mapbox\":{\"style\":\"light\"},\"paper_bgcolor\":\"white\",\"plot_bgcolor\":\"#E5ECF6\",\"polar\":{\"angularaxis\":{\"gridcolor\":\"white\",\"linecolor\":\"white\",\"ticks\":\"\"},\"bgcolor\":\"#E5ECF6\",\"radialaxis\":{\"gridcolor\":\"white\",\"linecolor\":\"white\",\"ticks\":\"\"}},\"scene\":{\"xaxis\":{\"backgroundcolor\":\"#E5ECF6\",\"gridcolor\":\"white\",\"gridwidth\":2,\"linecolor\":\"white\",\"showbackground\":true,\"ticks\":\"\",\"zerolinecolor\":\"white\"},\"yaxis\":{\"backgroundcolor\":\"#E5ECF6\",\"gridcolor\":\"white\",\"gridwidth\":2,\"linecolor\":\"white\",\"showbackground\":true,\"ticks\":\"\",\"zerolinecolor\":\"white\"},\"zaxis\":{\"backgroundcolor\":\"#E5ECF6\",\"gridcolor\":\"white\",\"gridwidth\":2,\"linecolor\":\"white\",\"showbackground\":true,\"ticks\":\"\",\"zerolinecolor\":\"white\"}},\"shapedefaults\":{\"line\":{\"color\":\"#2a3f5f\"}},\"ternary\":{\"aaxis\":{\"gridcolor\":\"white\",\"linecolor\":\"white\",\"ticks\":\"\"},\"baxis\":{\"gridcolor\":\"white\",\"linecolor\":\"white\",\"ticks\":\"\"},\"bgcolor\":\"#E5ECF6\",\"caxis\":{\"gridcolor\":\"white\",\"linecolor\":\"white\",\"ticks\":\"\"}},\"title\":{\"x\":0.05},\"xaxis\":{\"automargin\":true,\"gridcolor\":\"white\",\"linecolor\":\"white\",\"ticks\":\"\",\"title\":{\"standoff\":15},\"zerolinecolor\":\"white\",\"zerolinewidth\":2},\"yaxis\":{\"automargin\":true,\"gridcolor\":\"white\",\"linecolor\":\"white\",\"ticks\":\"\",\"title\":{\"standoff\":15},\"zerolinecolor\":\"white\",\"zerolinewidth\":2}}},\"title\":{\"font\":{\"color\":\"rgb(1,21,51)\",\"size\":50}},\"width\":480},                        {\"responsive\": true}                    ).then(function(){\n",
              "                            \n",
              "var gd = document.getElementById('f958bd53-b806-47cb-af6d-8c2ce6508541');\n",
              "var x = new MutationObserver(function (mutations, observer) {{\n",
              "        var display = window.getComputedStyle(gd).display;\n",
              "        if (!display || display === 'none') {{\n",
              "            console.log([gd, 'removed!']);\n",
              "            Plotly.purge(gd);\n",
              "            observer.disconnect();\n",
              "        }}\n",
              "}});\n",
              "\n",
              "// Listen for the removal of the full notebook cells\n",
              "var notebookContainer = gd.closest('#notebook-container');\n",
              "if (notebookContainer) {{\n",
              "    x.observe(notebookContainer, {childList: true});\n",
              "}}\n",
              "\n",
              "// Listen for the clearing of the current output cell\n",
              "var outputEl = gd.closest('.output');\n",
              "if (outputEl) {{\n",
              "    x.observe(outputEl, {childList: true});\n",
              "}}\n",
              "\n",
              "                        })                };                            </script>        </div>\n",
              "</body>\n",
              "</html>"
            ]
          },
          "metadata": {}
        }
      ]
    },
    {
      "cell_type": "code",
      "source": [
        "# Dibuix d'un vector amb punt inicial (A) i punt final (B)\n",
        "A = (1,2,3)\n",
        "B = (5,4,6)\n",
        "\n",
        "plotvectors3D([A,B])"
      ],
      "metadata": {
        "colab": {
          "base_uri": "https://localhost:8080/",
          "height": 497
        },
        "id": "sJ--K5zSCdD2",
        "outputId": "50dff1c7-50b5-4559-e9eb-680ad4ed599a"
      },
      "execution_count": 7,
      "outputs": [
        {
          "output_type": "display_data",
          "data": {
            "text/html": [
              "<html>\n",
              "<head><meta charset=\"utf-8\" /></head>\n",
              "<body>\n",
              "    <div>            <script src=\"https://cdnjs.cloudflare.com/ajax/libs/mathjax/2.7.5/MathJax.js?config=TeX-AMS-MML_SVG\"></script><script type=\"text/javascript\">if (window.MathJax) {MathJax.Hub.Config({SVG: {font: \"STIX-Web\"}});}</script>                <script type=\"text/javascript\">window.PlotlyConfig = {MathJaxConfig: 'local'};</script>\n",
              "        <script src=\"https://cdn.plot.ly/plotly-2.2.0.min.js\"></script>                <div id=\"c62d6194-ce3c-4374-830e-cf2d326518d2\" class=\"plotly-graph-div\" style=\"height:480px; width:480px;\"></div>            <script type=\"text/javascript\">                                    window.PLOTLYENV=window.PLOTLYENV || {};                                    if (document.getElementById(\"c62d6194-ce3c-4374-830e-cf2d326518d2\")) {                    Plotly.newPlot(                        \"c62d6194-ce3c-4374-830e-cf2d326518d2\",                        [{\"hoverinfo\":\"name+text\",\"hovertext\":\"Tail=(1,2,3)\\nHead=(5,4,6)\",\"line\":{\"color\":\"rgb(242,0,131)\",\"width\":7},\"marker\":{\"color\":\"rgb(242,0,131)\",\"size\":1},\"name\":\"vector 1\",\"type\":\"scatter3d\",\"x\":[1,5],\"y\":[2,4],\"z\":[3,6]},{\"anchor\":\"cm\",\"colorbar\":{\"thickness\":20,\"ticklen\":4},\"colorscale\":[[0,\"rgb(242,0,131)\"],[1,\"rgb(242,0,131)\"]],\"hoverinfo\":\"skip\",\"name\":\"vector 1\",\"showscale\":false,\"sizemode\":\"absolute\",\"sizeref\":0.5,\"type\":\"cone\",\"u\":[2.0],\"v\":[1.0],\"w\":[1.5],\"x\":[4.9748],\"y\":[3.9874],\"z\":[5.9811]},{\"marker\":{\"color\":\"#2a3f5f\",\"size\":5},\"mode\":\"markers\",\"name\":\"origen\",\"showlegend\":true,\"type\":\"scatter3d\",\"x\":[0],\"y\":[0],\"z\":[0]},{\"hoverinfo\":\"skip\",\"line\":{\"color\":\"#2a3f5f\",\"width\":3},\"marker\":{\"color\":\"#2a3f5f\",\"size\":1},\"name\":\"\",\"showlegend\":false,\"type\":\"scatter3d\",\"x\":[-0.5,5.5],\"y\":[0,0],\"z\":[0,0]},{\"anchor\":\"cm\",\"colorbar\":{\"thickness\":20,\"ticklen\":4},\"colorscale\":[[0,\"#2a3f5f\"],[1,\"#2a3f5f\"]],\"hoverinfo\":\"name\",\"name\":\"Eje x-positivo\",\"showscale\":false,\"sizemode\":\"absolute\",\"sizeref\":0.3,\"type\":\"cone\",\"u\":[5.5],\"v\":[0],\"w\":[0],\"x\":[5.5],\"y\":[0],\"z\":[0]},{\"hoverinfo\":\"skip\",\"line\":{\"color\":\"#2a3f5f\",\"width\":3},\"marker\":{\"color\":\"#2a3f5f\",\"size\":1},\"name\":\"\",\"showlegend\":false,\"type\":\"scatter3d\",\"x\":[0,0],\"y\":[-0.5,4.5],\"z\":[0,0]},{\"anchor\":\"cm\",\"colorbar\":{\"thickness\":20,\"ticklen\":4},\"colorscale\":[[0,\"#2a3f5f\"],[1,\"#2a3f5f\"]],\"hoverinfo\":\"name\",\"name\":\"Eje y-positivo \",\"showscale\":false,\"sizemode\":\"absolute\",\"sizeref\":0.3,\"type\":\"cone\",\"u\":[0],\"v\":[4.5],\"w\":[0],\"x\":[0],\"y\":[4.5],\"z\":[0]},{\"hoverinfo\":\"skip\",\"line\":{\"color\":\"#2a3f5f\",\"width\":3},\"marker\":{\"color\":\"#2a3f5f\",\"size\":1},\"name\":\"eje z-positivo\",\"showlegend\":false,\"type\":\"scatter3d\",\"x\":[0,0],\"y\":[0,0],\"z\":[-0.8,6.5]},{\"anchor\":\"cm\",\"colorbar\":{\"thickness\":20,\"ticklen\":4},\"colorscale\":[[0,\"#2a3f5f\"],[1,\"#2a3f5f\"]],\"hoverinfo\":\"name\",\"name\":\"Eje z-positivo\",\"showscale\":false,\"sizemode\":\"absolute\",\"sizeref\":0.3,\"type\":\"cone\",\"u\":[0],\"v\":[0],\"w\":[6.5],\"x\":[0],\"y\":[0],\"z\":[6.5]}],                        {\"height\":480,\"legend\":{\"orientation\":\"h\",\"x\":0.03,\"y\":1.3},\"margin\":{\"b\":0,\"l\":0,\"r\":0,\"t\":0},\"showlegend\":true,\"template\":{\"data\":{\"bar\":[{\"error_x\":{\"color\":\"#2a3f5f\"},\"error_y\":{\"color\":\"#2a3f5f\"},\"marker\":{\"line\":{\"color\":\"#E5ECF6\",\"width\":0.5},\"pattern\":{\"fillmode\":\"overlay\",\"size\":10,\"solidity\":0.2}},\"type\":\"bar\"}],\"barpolar\":[{\"marker\":{\"line\":{\"color\":\"#E5ECF6\",\"width\":0.5},\"pattern\":{\"fillmode\":\"overlay\",\"size\":10,\"solidity\":0.2}},\"type\":\"barpolar\"}],\"carpet\":[{\"aaxis\":{\"endlinecolor\":\"#2a3f5f\",\"gridcolor\":\"white\",\"linecolor\":\"white\",\"minorgridcolor\":\"white\",\"startlinecolor\":\"#2a3f5f\"},\"baxis\":{\"endlinecolor\":\"#2a3f5f\",\"gridcolor\":\"white\",\"linecolor\":\"white\",\"minorgridcolor\":\"white\",\"startlinecolor\":\"#2a3f5f\"},\"type\":\"carpet\"}],\"choropleth\":[{\"colorbar\":{\"outlinewidth\":0,\"ticks\":\"\"},\"type\":\"choropleth\"}],\"contour\":[{\"colorbar\":{\"outlinewidth\":0,\"ticks\":\"\"},\"colorscale\":[[0.0,\"#0d0887\"],[0.1111111111111111,\"#46039f\"],[0.2222222222222222,\"#7201a8\"],[0.3333333333333333,\"#9c179e\"],[0.4444444444444444,\"#bd3786\"],[0.5555555555555556,\"#d8576b\"],[0.6666666666666666,\"#ed7953\"],[0.7777777777777778,\"#fb9f3a\"],[0.8888888888888888,\"#fdca26\"],[1.0,\"#f0f921\"]],\"type\":\"contour\"}],\"contourcarpet\":[{\"colorbar\":{\"outlinewidth\":0,\"ticks\":\"\"},\"type\":\"contourcarpet\"}],\"heatmap\":[{\"colorbar\":{\"outlinewidth\":0,\"ticks\":\"\"},\"colorscale\":[[0.0,\"#0d0887\"],[0.1111111111111111,\"#46039f\"],[0.2222222222222222,\"#7201a8\"],[0.3333333333333333,\"#9c179e\"],[0.4444444444444444,\"#bd3786\"],[0.5555555555555556,\"#d8576b\"],[0.6666666666666666,\"#ed7953\"],[0.7777777777777778,\"#fb9f3a\"],[0.8888888888888888,\"#fdca26\"],[1.0,\"#f0f921\"]],\"type\":\"heatmap\"}],\"heatmapgl\":[{\"colorbar\":{\"outlinewidth\":0,\"ticks\":\"\"},\"colorscale\":[[0.0,\"#0d0887\"],[0.1111111111111111,\"#46039f\"],[0.2222222222222222,\"#7201a8\"],[0.3333333333333333,\"#9c179e\"],[0.4444444444444444,\"#bd3786\"],[0.5555555555555556,\"#d8576b\"],[0.6666666666666666,\"#ed7953\"],[0.7777777777777778,\"#fb9f3a\"],[0.8888888888888888,\"#fdca26\"],[1.0,\"#f0f921\"]],\"type\":\"heatmapgl\"}],\"histogram\":[{\"marker\":{\"pattern\":{\"fillmode\":\"overlay\",\"size\":10,\"solidity\":0.2}},\"type\":\"histogram\"}],\"histogram2d\":[{\"colorbar\":{\"outlinewidth\":0,\"ticks\":\"\"},\"colorscale\":[[0.0,\"#0d0887\"],[0.1111111111111111,\"#46039f\"],[0.2222222222222222,\"#7201a8\"],[0.3333333333333333,\"#9c179e\"],[0.4444444444444444,\"#bd3786\"],[0.5555555555555556,\"#d8576b\"],[0.6666666666666666,\"#ed7953\"],[0.7777777777777778,\"#fb9f3a\"],[0.8888888888888888,\"#fdca26\"],[1.0,\"#f0f921\"]],\"type\":\"histogram2d\"}],\"histogram2dcontour\":[{\"colorbar\":{\"outlinewidth\":0,\"ticks\":\"\"},\"colorscale\":[[0.0,\"#0d0887\"],[0.1111111111111111,\"#46039f\"],[0.2222222222222222,\"#7201a8\"],[0.3333333333333333,\"#9c179e\"],[0.4444444444444444,\"#bd3786\"],[0.5555555555555556,\"#d8576b\"],[0.6666666666666666,\"#ed7953\"],[0.7777777777777778,\"#fb9f3a\"],[0.8888888888888888,\"#fdca26\"],[1.0,\"#f0f921\"]],\"type\":\"histogram2dcontour\"}],\"mesh3d\":[{\"colorbar\":{\"outlinewidth\":0,\"ticks\":\"\"},\"type\":\"mesh3d\"}],\"parcoords\":[{\"line\":{\"colorbar\":{\"outlinewidth\":0,\"ticks\":\"\"}},\"type\":\"parcoords\"}],\"pie\":[{\"automargin\":true,\"type\":\"pie\"}],\"scatter\":[{\"marker\":{\"colorbar\":{\"outlinewidth\":0,\"ticks\":\"\"}},\"type\":\"scatter\"}],\"scatter3d\":[{\"line\":{\"colorbar\":{\"outlinewidth\":0,\"ticks\":\"\"}},\"marker\":{\"colorbar\":{\"outlinewidth\":0,\"ticks\":\"\"}},\"type\":\"scatter3d\"}],\"scattercarpet\":[{\"marker\":{\"colorbar\":{\"outlinewidth\":0,\"ticks\":\"\"}},\"type\":\"scattercarpet\"}],\"scattergeo\":[{\"marker\":{\"colorbar\":{\"outlinewidth\":0,\"ticks\":\"\"}},\"type\":\"scattergeo\"}],\"scattergl\":[{\"marker\":{\"colorbar\":{\"outlinewidth\":0,\"ticks\":\"\"}},\"type\":\"scattergl\"}],\"scattermapbox\":[{\"marker\":{\"colorbar\":{\"outlinewidth\":0,\"ticks\":\"\"}},\"type\":\"scattermapbox\"}],\"scatterpolar\":[{\"marker\":{\"colorbar\":{\"outlinewidth\":0,\"ticks\":\"\"}},\"type\":\"scatterpolar\"}],\"scatterpolargl\":[{\"marker\":{\"colorbar\":{\"outlinewidth\":0,\"ticks\":\"\"}},\"type\":\"scatterpolargl\"}],\"scatterternary\":[{\"marker\":{\"colorbar\":{\"outlinewidth\":0,\"ticks\":\"\"}},\"type\":\"scatterternary\"}],\"surface\":[{\"colorbar\":{\"outlinewidth\":0,\"ticks\":\"\"},\"colorscale\":[[0.0,\"#0d0887\"],[0.1111111111111111,\"#46039f\"],[0.2222222222222222,\"#7201a8\"],[0.3333333333333333,\"#9c179e\"],[0.4444444444444444,\"#bd3786\"],[0.5555555555555556,\"#d8576b\"],[0.6666666666666666,\"#ed7953\"],[0.7777777777777778,\"#fb9f3a\"],[0.8888888888888888,\"#fdca26\"],[1.0,\"#f0f921\"]],\"type\":\"surface\"}],\"table\":[{\"cells\":{\"fill\":{\"color\":\"#EBF0F8\"},\"line\":{\"color\":\"white\"}},\"header\":{\"fill\":{\"color\":\"#C8D4E3\"},\"line\":{\"color\":\"white\"}},\"type\":\"table\"}]},\"layout\":{\"annotationdefaults\":{\"arrowcolor\":\"#2a3f5f\",\"arrowhead\":0,\"arrowwidth\":1},\"autotypenumbers\":\"strict\",\"coloraxis\":{\"colorbar\":{\"outlinewidth\":0,\"ticks\":\"\"}},\"colorscale\":{\"diverging\":[[0,\"#8e0152\"],[0.1,\"#c51b7d\"],[0.2,\"#de77ae\"],[0.3,\"#f1b6da\"],[0.4,\"#fde0ef\"],[0.5,\"#f7f7f7\"],[0.6,\"#e6f5d0\"],[0.7,\"#b8e186\"],[0.8,\"#7fbc41\"],[0.9,\"#4d9221\"],[1,\"#276419\"]],\"sequential\":[[0.0,\"#0d0887\"],[0.1111111111111111,\"#46039f\"],[0.2222222222222222,\"#7201a8\"],[0.3333333333333333,\"#9c179e\"],[0.4444444444444444,\"#bd3786\"],[0.5555555555555556,\"#d8576b\"],[0.6666666666666666,\"#ed7953\"],[0.7777777777777778,\"#fb9f3a\"],[0.8888888888888888,\"#fdca26\"],[1.0,\"#f0f921\"]],\"sequentialminus\":[[0.0,\"#0d0887\"],[0.1111111111111111,\"#46039f\"],[0.2222222222222222,\"#7201a8\"],[0.3333333333333333,\"#9c179e\"],[0.4444444444444444,\"#bd3786\"],[0.5555555555555556,\"#d8576b\"],[0.6666666666666666,\"#ed7953\"],[0.7777777777777778,\"#fb9f3a\"],[0.8888888888888888,\"#fdca26\"],[1.0,\"#f0f921\"]]},\"colorway\":[\"#636efa\",\"#EF553B\",\"#00cc96\",\"#ab63fa\",\"#FFA15A\",\"#19d3f3\",\"#FF6692\",\"#B6E880\",\"#FF97FF\",\"#FECB52\"],\"font\":{\"color\":\"#2a3f5f\"},\"geo\":{\"bgcolor\":\"white\",\"lakecolor\":\"white\",\"landcolor\":\"#E5ECF6\",\"showlakes\":true,\"showland\":true,\"subunitcolor\":\"white\"},\"hoverlabel\":{\"align\":\"left\"},\"hovermode\":\"closest\",\"mapbox\":{\"style\":\"light\"},\"paper_bgcolor\":\"white\",\"plot_bgcolor\":\"#E5ECF6\",\"polar\":{\"angularaxis\":{\"gridcolor\":\"white\",\"linecolor\":\"white\",\"ticks\":\"\"},\"bgcolor\":\"#E5ECF6\",\"radialaxis\":{\"gridcolor\":\"white\",\"linecolor\":\"white\",\"ticks\":\"\"}},\"scene\":{\"xaxis\":{\"backgroundcolor\":\"#E5ECF6\",\"gridcolor\":\"white\",\"gridwidth\":2,\"linecolor\":\"white\",\"showbackground\":true,\"ticks\":\"\",\"zerolinecolor\":\"white\"},\"yaxis\":{\"backgroundcolor\":\"#E5ECF6\",\"gridcolor\":\"white\",\"gridwidth\":2,\"linecolor\":\"white\",\"showbackground\":true,\"ticks\":\"\",\"zerolinecolor\":\"white\"},\"zaxis\":{\"backgroundcolor\":\"#E5ECF6\",\"gridcolor\":\"white\",\"gridwidth\":2,\"linecolor\":\"white\",\"showbackground\":true,\"ticks\":\"\",\"zerolinecolor\":\"white\"}},\"shapedefaults\":{\"line\":{\"color\":\"#2a3f5f\"}},\"ternary\":{\"aaxis\":{\"gridcolor\":\"white\",\"linecolor\":\"white\",\"ticks\":\"\"},\"baxis\":{\"gridcolor\":\"white\",\"linecolor\":\"white\",\"ticks\":\"\"},\"bgcolor\":\"#E5ECF6\",\"caxis\":{\"gridcolor\":\"white\",\"linecolor\":\"white\",\"ticks\":\"\"}},\"title\":{\"x\":0.05},\"xaxis\":{\"automargin\":true,\"gridcolor\":\"white\",\"linecolor\":\"white\",\"ticks\":\"\",\"title\":{\"standoff\":15},\"zerolinecolor\":\"white\",\"zerolinewidth\":2},\"yaxis\":{\"automargin\":true,\"gridcolor\":\"white\",\"linecolor\":\"white\",\"ticks\":\"\",\"title\":{\"standoff\":15},\"zerolinecolor\":\"white\",\"zerolinewidth\":2}}},\"title\":{\"font\":{\"color\":\"rgb(1,21,51)\",\"size\":50}},\"width\":480},                        {\"responsive\": true}                    ).then(function(){\n",
              "                            \n",
              "var gd = document.getElementById('c62d6194-ce3c-4374-830e-cf2d326518d2');\n",
              "var x = new MutationObserver(function (mutations, observer) {{\n",
              "        var display = window.getComputedStyle(gd).display;\n",
              "        if (!display || display === 'none') {{\n",
              "            console.log([gd, 'removed!']);\n",
              "            Plotly.purge(gd);\n",
              "            observer.disconnect();\n",
              "        }}\n",
              "}});\n",
              "\n",
              "// Listen for the removal of the full notebook cells\n",
              "var notebookContainer = gd.closest('#notebook-container');\n",
              "if (notebookContainer) {{\n",
              "    x.observe(notebookContainer, {childList: true});\n",
              "}}\n",
              "\n",
              "// Listen for the clearing of the current output cell\n",
              "var outputEl = gd.closest('.output');\n",
              "if (outputEl) {{\n",
              "    x.observe(outputEl, {childList: true});\n",
              "}}\n",
              "\n",
              "                        })                };                            </script>        </div>\n",
              "</body>\n",
              "</html>"
            ]
          },
          "metadata": {}
        }
      ]
    },
    {
      "cell_type": "code",
      "source": [
        "# Vectors equipolents\n",
        "A = [1,2,3]\n",
        "plotvectors3D(A,[(3,4,5),A])"
      ],
      "metadata": {
        "colab": {
          "base_uri": "https://localhost:8080/",
          "height": 497
        },
        "id": "KN3iSX4ACoed",
        "outputId": "04e96b19-3d44-42f4-d5af-c8020c434220"
      },
      "execution_count": 9,
      "outputs": [
        {
          "output_type": "display_data",
          "data": {
            "text/html": [
              "<html>\n",
              "<head><meta charset=\"utf-8\" /></head>\n",
              "<body>\n",
              "    <div>            <script src=\"https://cdnjs.cloudflare.com/ajax/libs/mathjax/2.7.5/MathJax.js?config=TeX-AMS-MML_SVG\"></script><script type=\"text/javascript\">if (window.MathJax) {MathJax.Hub.Config({SVG: {font: \"STIX-Web\"}});}</script>                <script type=\"text/javascript\">window.PlotlyConfig = {MathJaxConfig: 'local'};</script>\n",
              "        <script src=\"https://cdn.plot.ly/plotly-2.2.0.min.js\"></script>                <div id=\"4b16a4b7-04bc-4a99-a4f9-3bb1dbf03f99\" class=\"plotly-graph-div\" style=\"height:480px; width:480px;\"></div>            <script type=\"text/javascript\">                                    window.PLOTLYENV=window.PLOTLYENV || {};                                    if (document.getElementById(\"4b16a4b7-04bc-4a99-a4f9-3bb1dbf03f99\")) {                    Plotly.newPlot(                        \"4b16a4b7-04bc-4a99-a4f9-3bb1dbf03f99\",                        [{\"line\":{\"color\":\"rgb(74,146,223)\",\"width\":7},\"marker\":{\"color\":\"rgb(74,146,223)\",\"size\":1},\"name\":\"vector 1\",\"type\":\"scatter3d\",\"x\":[0,1],\"y\":[0,2],\"z\":[0,3]},{\"anchor\":\"cm\",\"colorbar\":{\"thickness\":20,\"ticklen\":4},\"colorscale\":[[0,\"rgb(74,146,223)\"],[1,\"rgb(74,146,223)\"]],\"name\":\"vector 1\",\"showscale\":false,\"sizemode\":\"absolute\",\"sizeref\":0.6,\"type\":\"cone\",\"u\":[1],\"v\":[2],\"w\":[3],\"x\":[1],\"y\":[2],\"z\":[3]},{\"hoverinfo\":\"name+text\",\"hovertext\":\"Tail=(3,4,5)\\nHead=(4,6,8)\",\"line\":{\"color\":\"rgb(232,4,39)\",\"width\":7},\"marker\":{\"color\":\"rgb(232,4,39)\",\"size\":1},\"name\":\"vector 2\",\"type\":\"scatter3d\",\"x\":[3,4],\"y\":[4,6],\"z\":[5,8]},{\"anchor\":\"cm\",\"colorbar\":{\"thickness\":20,\"ticklen\":4},\"colorscale\":[[0,\"rgb(232,4,39)\"],[1,\"rgb(232,4,39)\"]],\"hoverinfo\":\"skip\",\"name\":\"vector 2\",\"showscale\":false,\"sizemode\":\"absolute\",\"sizeref\":0.6,\"type\":\"cone\",\"u\":[0.5],\"v\":[1.0],\"w\":[1.5],\"x\":[3.937],\"y\":[5.874],\"z\":[7.811]},{\"marker\":{\"color\":\"#2a3f5f\",\"size\":5},\"mode\":\"markers\",\"name\":\"origen\",\"showlegend\":true,\"type\":\"scatter3d\",\"x\":[0],\"y\":[0],\"z\":[0]},{\"hoverinfo\":\"skip\",\"line\":{\"color\":\"#2a3f5f\",\"width\":3},\"marker\":{\"color\":\"#2a3f5f\",\"size\":1},\"name\":\"\",\"showlegend\":false,\"type\":\"scatter3d\",\"x\":[-0.6,4.6],\"y\":[0,0],\"z\":[0,0]},{\"anchor\":\"cm\",\"colorbar\":{\"thickness\":20,\"ticklen\":4},\"colorscale\":[[0,\"#2a3f5f\"],[1,\"#2a3f5f\"]],\"hoverinfo\":\"name\",\"name\":\"Eje x-positivo\",\"showscale\":false,\"sizemode\":\"absolute\",\"sizeref\":0.36,\"type\":\"cone\",\"u\":[4.6],\"v\":[0],\"w\":[0],\"x\":[4.6],\"y\":[0],\"z\":[0]},{\"hoverinfo\":\"skip\",\"line\":{\"color\":\"#2a3f5f\",\"width\":3},\"marker\":{\"color\":\"#2a3f5f\",\"size\":1},\"name\":\"\",\"showlegend\":false,\"type\":\"scatter3d\",\"x\":[0,0],\"y\":[-0.6,6.6],\"z\":[0,0]},{\"anchor\":\"cm\",\"colorbar\":{\"thickness\":20,\"ticklen\":4},\"colorscale\":[[0,\"#2a3f5f\"],[1,\"#2a3f5f\"]],\"hoverinfo\":\"name\",\"name\":\"Eje y-positivo \",\"showscale\":false,\"sizemode\":\"absolute\",\"sizeref\":0.36,\"type\":\"cone\",\"u\":[0],\"v\":[6.6],\"w\":[0],\"x\":[0],\"y\":[6.6],\"z\":[0]},{\"hoverinfo\":\"skip\",\"line\":{\"color\":\"#2a3f5f\",\"width\":3},\"marker\":{\"color\":\"#2a3f5f\",\"size\":1},\"name\":\"eje z-positivo\",\"showlegend\":false,\"type\":\"scatter3d\",\"x\":[0,0],\"y\":[0,0],\"z\":[-0.8999999999999999,8.6]},{\"anchor\":\"cm\",\"colorbar\":{\"thickness\":20,\"ticklen\":4},\"colorscale\":[[0,\"#2a3f5f\"],[1,\"#2a3f5f\"]],\"hoverinfo\":\"name\",\"name\":\"Eje z-positivo\",\"showscale\":false,\"sizemode\":\"absolute\",\"sizeref\":0.36,\"type\":\"cone\",\"u\":[0],\"v\":[0],\"w\":[8.6],\"x\":[0],\"y\":[0],\"z\":[8.6]}],                        {\"height\":480,\"legend\":{\"orientation\":\"h\",\"x\":0.03,\"y\":1.3},\"margin\":{\"b\":0,\"l\":0,\"r\":0,\"t\":0},\"showlegend\":true,\"template\":{\"data\":{\"bar\":[{\"error_x\":{\"color\":\"#2a3f5f\"},\"error_y\":{\"color\":\"#2a3f5f\"},\"marker\":{\"line\":{\"color\":\"#E5ECF6\",\"width\":0.5},\"pattern\":{\"fillmode\":\"overlay\",\"size\":10,\"solidity\":0.2}},\"type\":\"bar\"}],\"barpolar\":[{\"marker\":{\"line\":{\"color\":\"#E5ECF6\",\"width\":0.5},\"pattern\":{\"fillmode\":\"overlay\",\"size\":10,\"solidity\":0.2}},\"type\":\"barpolar\"}],\"carpet\":[{\"aaxis\":{\"endlinecolor\":\"#2a3f5f\",\"gridcolor\":\"white\",\"linecolor\":\"white\",\"minorgridcolor\":\"white\",\"startlinecolor\":\"#2a3f5f\"},\"baxis\":{\"endlinecolor\":\"#2a3f5f\",\"gridcolor\":\"white\",\"linecolor\":\"white\",\"minorgridcolor\":\"white\",\"startlinecolor\":\"#2a3f5f\"},\"type\":\"carpet\"}],\"choropleth\":[{\"colorbar\":{\"outlinewidth\":0,\"ticks\":\"\"},\"type\":\"choropleth\"}],\"contour\":[{\"colorbar\":{\"outlinewidth\":0,\"ticks\":\"\"},\"colorscale\":[[0.0,\"#0d0887\"],[0.1111111111111111,\"#46039f\"],[0.2222222222222222,\"#7201a8\"],[0.3333333333333333,\"#9c179e\"],[0.4444444444444444,\"#bd3786\"],[0.5555555555555556,\"#d8576b\"],[0.6666666666666666,\"#ed7953\"],[0.7777777777777778,\"#fb9f3a\"],[0.8888888888888888,\"#fdca26\"],[1.0,\"#f0f921\"]],\"type\":\"contour\"}],\"contourcarpet\":[{\"colorbar\":{\"outlinewidth\":0,\"ticks\":\"\"},\"type\":\"contourcarpet\"}],\"heatmap\":[{\"colorbar\":{\"outlinewidth\":0,\"ticks\":\"\"},\"colorscale\":[[0.0,\"#0d0887\"],[0.1111111111111111,\"#46039f\"],[0.2222222222222222,\"#7201a8\"],[0.3333333333333333,\"#9c179e\"],[0.4444444444444444,\"#bd3786\"],[0.5555555555555556,\"#d8576b\"],[0.6666666666666666,\"#ed7953\"],[0.7777777777777778,\"#fb9f3a\"],[0.8888888888888888,\"#fdca26\"],[1.0,\"#f0f921\"]],\"type\":\"heatmap\"}],\"heatmapgl\":[{\"colorbar\":{\"outlinewidth\":0,\"ticks\":\"\"},\"colorscale\":[[0.0,\"#0d0887\"],[0.1111111111111111,\"#46039f\"],[0.2222222222222222,\"#7201a8\"],[0.3333333333333333,\"#9c179e\"],[0.4444444444444444,\"#bd3786\"],[0.5555555555555556,\"#d8576b\"],[0.6666666666666666,\"#ed7953\"],[0.7777777777777778,\"#fb9f3a\"],[0.8888888888888888,\"#fdca26\"],[1.0,\"#f0f921\"]],\"type\":\"heatmapgl\"}],\"histogram\":[{\"marker\":{\"pattern\":{\"fillmode\":\"overlay\",\"size\":10,\"solidity\":0.2}},\"type\":\"histogram\"}],\"histogram2d\":[{\"colorbar\":{\"outlinewidth\":0,\"ticks\":\"\"},\"colorscale\":[[0.0,\"#0d0887\"],[0.1111111111111111,\"#46039f\"],[0.2222222222222222,\"#7201a8\"],[0.3333333333333333,\"#9c179e\"],[0.4444444444444444,\"#bd3786\"],[0.5555555555555556,\"#d8576b\"],[0.6666666666666666,\"#ed7953\"],[0.7777777777777778,\"#fb9f3a\"],[0.8888888888888888,\"#fdca26\"],[1.0,\"#f0f921\"]],\"type\":\"histogram2d\"}],\"histogram2dcontour\":[{\"colorbar\":{\"outlinewidth\":0,\"ticks\":\"\"},\"colorscale\":[[0.0,\"#0d0887\"],[0.1111111111111111,\"#46039f\"],[0.2222222222222222,\"#7201a8\"],[0.3333333333333333,\"#9c179e\"],[0.4444444444444444,\"#bd3786\"],[0.5555555555555556,\"#d8576b\"],[0.6666666666666666,\"#ed7953\"],[0.7777777777777778,\"#fb9f3a\"],[0.8888888888888888,\"#fdca26\"],[1.0,\"#f0f921\"]],\"type\":\"histogram2dcontour\"}],\"mesh3d\":[{\"colorbar\":{\"outlinewidth\":0,\"ticks\":\"\"},\"type\":\"mesh3d\"}],\"parcoords\":[{\"line\":{\"colorbar\":{\"outlinewidth\":0,\"ticks\":\"\"}},\"type\":\"parcoords\"}],\"pie\":[{\"automargin\":true,\"type\":\"pie\"}],\"scatter\":[{\"marker\":{\"colorbar\":{\"outlinewidth\":0,\"ticks\":\"\"}},\"type\":\"scatter\"}],\"scatter3d\":[{\"line\":{\"colorbar\":{\"outlinewidth\":0,\"ticks\":\"\"}},\"marker\":{\"colorbar\":{\"outlinewidth\":0,\"ticks\":\"\"}},\"type\":\"scatter3d\"}],\"scattercarpet\":[{\"marker\":{\"colorbar\":{\"outlinewidth\":0,\"ticks\":\"\"}},\"type\":\"scattercarpet\"}],\"scattergeo\":[{\"marker\":{\"colorbar\":{\"outlinewidth\":0,\"ticks\":\"\"}},\"type\":\"scattergeo\"}],\"scattergl\":[{\"marker\":{\"colorbar\":{\"outlinewidth\":0,\"ticks\":\"\"}},\"type\":\"scattergl\"}],\"scattermapbox\":[{\"marker\":{\"colorbar\":{\"outlinewidth\":0,\"ticks\":\"\"}},\"type\":\"scattermapbox\"}],\"scatterpolar\":[{\"marker\":{\"colorbar\":{\"outlinewidth\":0,\"ticks\":\"\"}},\"type\":\"scatterpolar\"}],\"scatterpolargl\":[{\"marker\":{\"colorbar\":{\"outlinewidth\":0,\"ticks\":\"\"}},\"type\":\"scatterpolargl\"}],\"scatterternary\":[{\"marker\":{\"colorbar\":{\"outlinewidth\":0,\"ticks\":\"\"}},\"type\":\"scatterternary\"}],\"surface\":[{\"colorbar\":{\"outlinewidth\":0,\"ticks\":\"\"},\"colorscale\":[[0.0,\"#0d0887\"],[0.1111111111111111,\"#46039f\"],[0.2222222222222222,\"#7201a8\"],[0.3333333333333333,\"#9c179e\"],[0.4444444444444444,\"#bd3786\"],[0.5555555555555556,\"#d8576b\"],[0.6666666666666666,\"#ed7953\"],[0.7777777777777778,\"#fb9f3a\"],[0.8888888888888888,\"#fdca26\"],[1.0,\"#f0f921\"]],\"type\":\"surface\"}],\"table\":[{\"cells\":{\"fill\":{\"color\":\"#EBF0F8\"},\"line\":{\"color\":\"white\"}},\"header\":{\"fill\":{\"color\":\"#C8D4E3\"},\"line\":{\"color\":\"white\"}},\"type\":\"table\"}]},\"layout\":{\"annotationdefaults\":{\"arrowcolor\":\"#2a3f5f\",\"arrowhead\":0,\"arrowwidth\":1},\"autotypenumbers\":\"strict\",\"coloraxis\":{\"colorbar\":{\"outlinewidth\":0,\"ticks\":\"\"}},\"colorscale\":{\"diverging\":[[0,\"#8e0152\"],[0.1,\"#c51b7d\"],[0.2,\"#de77ae\"],[0.3,\"#f1b6da\"],[0.4,\"#fde0ef\"],[0.5,\"#f7f7f7\"],[0.6,\"#e6f5d0\"],[0.7,\"#b8e186\"],[0.8,\"#7fbc41\"],[0.9,\"#4d9221\"],[1,\"#276419\"]],\"sequential\":[[0.0,\"#0d0887\"],[0.1111111111111111,\"#46039f\"],[0.2222222222222222,\"#7201a8\"],[0.3333333333333333,\"#9c179e\"],[0.4444444444444444,\"#bd3786\"],[0.5555555555555556,\"#d8576b\"],[0.6666666666666666,\"#ed7953\"],[0.7777777777777778,\"#fb9f3a\"],[0.8888888888888888,\"#fdca26\"],[1.0,\"#f0f921\"]],\"sequentialminus\":[[0.0,\"#0d0887\"],[0.1111111111111111,\"#46039f\"],[0.2222222222222222,\"#7201a8\"],[0.3333333333333333,\"#9c179e\"],[0.4444444444444444,\"#bd3786\"],[0.5555555555555556,\"#d8576b\"],[0.6666666666666666,\"#ed7953\"],[0.7777777777777778,\"#fb9f3a\"],[0.8888888888888888,\"#fdca26\"],[1.0,\"#f0f921\"]]},\"colorway\":[\"#636efa\",\"#EF553B\",\"#00cc96\",\"#ab63fa\",\"#FFA15A\",\"#19d3f3\",\"#FF6692\",\"#B6E880\",\"#FF97FF\",\"#FECB52\"],\"font\":{\"color\":\"#2a3f5f\"},\"geo\":{\"bgcolor\":\"white\",\"lakecolor\":\"white\",\"landcolor\":\"#E5ECF6\",\"showlakes\":true,\"showland\":true,\"subunitcolor\":\"white\"},\"hoverlabel\":{\"align\":\"left\"},\"hovermode\":\"closest\",\"mapbox\":{\"style\":\"light\"},\"paper_bgcolor\":\"white\",\"plot_bgcolor\":\"#E5ECF6\",\"polar\":{\"angularaxis\":{\"gridcolor\":\"white\",\"linecolor\":\"white\",\"ticks\":\"\"},\"bgcolor\":\"#E5ECF6\",\"radialaxis\":{\"gridcolor\":\"white\",\"linecolor\":\"white\",\"ticks\":\"\"}},\"scene\":{\"xaxis\":{\"backgroundcolor\":\"#E5ECF6\",\"gridcolor\":\"white\",\"gridwidth\":2,\"linecolor\":\"white\",\"showbackground\":true,\"ticks\":\"\",\"zerolinecolor\":\"white\"},\"yaxis\":{\"backgroundcolor\":\"#E5ECF6\",\"gridcolor\":\"white\",\"gridwidth\":2,\"linecolor\":\"white\",\"showbackground\":true,\"ticks\":\"\",\"zerolinecolor\":\"white\"},\"zaxis\":{\"backgroundcolor\":\"#E5ECF6\",\"gridcolor\":\"white\",\"gridwidth\":2,\"linecolor\":\"white\",\"showbackground\":true,\"ticks\":\"\",\"zerolinecolor\":\"white\"}},\"shapedefaults\":{\"line\":{\"color\":\"#2a3f5f\"}},\"ternary\":{\"aaxis\":{\"gridcolor\":\"white\",\"linecolor\":\"white\",\"ticks\":\"\"},\"baxis\":{\"gridcolor\":\"white\",\"linecolor\":\"white\",\"ticks\":\"\"},\"bgcolor\":\"#E5ECF6\",\"caxis\":{\"gridcolor\":\"white\",\"linecolor\":\"white\",\"ticks\":\"\"}},\"title\":{\"x\":0.05},\"xaxis\":{\"automargin\":true,\"gridcolor\":\"white\",\"linecolor\":\"white\",\"ticks\":\"\",\"title\":{\"standoff\":15},\"zerolinecolor\":\"white\",\"zerolinewidth\":2},\"yaxis\":{\"automargin\":true,\"gridcolor\":\"white\",\"linecolor\":\"white\",\"ticks\":\"\",\"title\":{\"standoff\":15},\"zerolinecolor\":\"white\",\"zerolinewidth\":2}}},\"title\":{\"font\":{\"color\":\"rgb(1,21,51)\",\"size\":50}},\"width\":480},                        {\"responsive\": true}                    ).then(function(){\n",
              "                            \n",
              "var gd = document.getElementById('4b16a4b7-04bc-4a99-a4f9-3bb1dbf03f99');\n",
              "var x = new MutationObserver(function (mutations, observer) {{\n",
              "        var display = window.getComputedStyle(gd).display;\n",
              "        if (!display || display === 'none') {{\n",
              "            console.log([gd, 'removed!']);\n",
              "            Plotly.purge(gd);\n",
              "            observer.disconnect();\n",
              "        }}\n",
              "}});\n",
              "\n",
              "// Listen for the removal of the full notebook cells\n",
              "var notebookContainer = gd.closest('#notebook-container');\n",
              "if (notebookContainer) {{\n",
              "    x.observe(notebookContainer, {childList: true});\n",
              "}}\n",
              "\n",
              "// Listen for the clearing of the current output cell\n",
              "var outputEl = gd.closest('.output');\n",
              "if (outputEl) {{\n",
              "    x.observe(outputEl, {childList: true});\n",
              "}}\n",
              "\n",
              "                        })                };                            </script>        </div>\n",
              "</body>\n",
              "</html>"
            ]
          },
          "metadata": {}
        }
      ]
    },
    {
      "cell_type": "markdown",
      "source": [
        "# **Magnitud, norma o mòdul d'un vector**\n",
        "\n",
        "Sigui $\\vec{V} \\in \\mathbb {R^{n}}$ de la forma $\\vec{V} = (x_1,x_2 \\cdots,x_n)$ el **mòdul**, la **norma ** o **magnitud** del vector es defineix i es nota com:\n",
        "\n",
        "$$||V||= \\sqrt{x_1^2+x_2^2+\\cdots+x_{n-1}^2+x_{n}^2}$$\n",
        "\n",
        "Quan $n\\leq 3$ la **norma** coincideix amb la longitud del vector en la seva **representació gràfica**.\n",
        "\n",
        "##**Exemple 1:**\n",
        "\n",
        "Troba la **norma** del vector representat a la figura:\n",
        "\n",
        "<center><img src=\"https://github.com/josorio398/ALGEBRA-LINEAL-CON-PYTHON/blob/master/im%C3%A1genes%20repositorio/magnitud1.png?raw=true\" height=\"120 \" />"
      ],
      "metadata": {
        "id": "AntuHVIiDAtJ"
      }
    },
    {
      "cell_type": "markdown",
      "source": [
        "###**Forma 1** ----> *amb el métode norm( ) de mòdul sympy*"
      ],
      "metadata": {
        "id": "64Gd75bwDIZe"
      }
    },
    {
      "cell_type": "code",
      "source": [
        "V = Matrix([1,5,1]) # Ull viu, amb sympy haurem d'introduir una matriu forma 1x3\n",
        "V.norm()"
      ],
      "metadata": {
        "colab": {
          "base_uri": "https://localhost:8080/",
          "height": 38
        },
        "id": "SVVbUnfjDPoK",
        "outputId": "9dce3f7e-850f-4dad-b984-de63b8c0c8f1"
      },
      "execution_count": 12,
      "outputs": [
        {
          "output_type": "execute_result",
          "data": {
            "text/plain": [
              "3*sqrt(3)"
            ],
            "text/latex": "$\\displaystyle 3 \\sqrt{3}$"
          },
          "metadata": {},
          "execution_count": 12
        }
      ]
    },
    {
      "cell_type": "markdown",
      "source": [
        "###**Forma 2** ----> *usando el método magnitude( ) del módulo sympy.physics.vector*"
      ],
      "metadata": {
        "id": "MXBiLabGDoJB"
      }
    },
    {
      "cell_type": "markdown",
      "source": [
        "Troba la **norma** del vector representat a la figura:\n",
        "<center><img src=\"https://github.com/josorio398/ALGEBRA-LINEAL-CON-PYTHON/blob/master/im%C3%A1genes%20repositorio/magnitud3d.PNG?raw=true\"  height=\"250\" />"
      ],
      "metadata": {
        "id": "4YLZoUh0E-46"
      }
    },
    {
      "cell_type": "code",
      "source": [
        "i = e.x\n",
        "j = e.y\n",
        "k = e.z\n",
        "\n",
        "V = 1*i+5*j+1*k\n",
        "V.magnitude()"
      ],
      "metadata": {
        "colab": {
          "base_uri": "https://localhost:8080/",
          "height": 38
        },
        "id": "4ZD1UIuUDpOB",
        "outputId": "042ff38b-befc-497a-b79c-b4438f5fd68f"
      },
      "execution_count": 15,
      "outputs": [
        {
          "output_type": "execute_result",
          "data": {
            "text/plain": [
              "3*sqrt(3)"
            ],
            "text/latex": "$\\displaystyle 3 \\sqrt{3}$"
          },
          "metadata": {},
          "execution_count": 15
        }
      ]
    },
    {
      "cell_type": "markdown",
      "source": [
        "#**Angle director d'un vector bidimensional**\n",
        "\n",
        "Si $\\vec{V} = (A_x,A_y)$ és un vector bidimensional **no nul** amb $A_x \\neq 0 \\hspace{2mm} i \\hspace{2mm} A_y \\neq 0 $ l'angle que forma el vector amb l'eix $x$ positiu, es pot trobar d'acord amb el quadrant on es trobi aquest vecte fixat a l'origen i hi ha quatre casos possibles descrits a continuació.\n",
        "\n",
        "<center><img src=\"https://github.com/josorio398/ALGEBRA-LINEAL-CON-PYTHON/blob/master/im%C3%A1genes%20repositorio/direcci%C3%B3n%20bidimensional.PNG?raw=true\"  height=\"230\" /> </center>\n",
        "\n",
        "#### **Cas 1**: $\\small{A_x > 0} \\hspace{2mm}i \\hspace{2mm} \\small{A_y > 0}$ &nbsp; &nbsp; &nbsp; &nbsp; &nbsp;&nbsp;&nbsp;&nbsp;**Cas 2**: $\\small{A_x < 0} \\hspace{2mm}i \\hspace{2mm} \\small{A_y > 0}$ &nbsp; &nbsp; &nbsp;&nbsp; &nbsp; &nbsp; **Cas 3**: $\\small{A_x < 0} \\hspace{2mm}i \\hspace{2mm} \\small{A_y < 0}$ &nbsp; &nbsp; &nbsp;&nbsp; &nbsp; &nbsp; **Cas 4**: $\\small{A_x > 0} \\hspace{2mm}i \\hspace{2mm} \\small{A_y < 0}$\n",
        "\n",
        "$ \\theta = arctan{\\dfrac{|A_y|}{|A_x|}} \\hspace{32mm}\\theta = 180°-arctan{\\dfrac{|A_y|}{|A_x|}} \\hspace{18mm} \\theta = 180°+arctan{\\dfrac{|A_y|}{|A_x|}}\\hspace{18mm}\\theta = 360°-arctan{\\dfrac{|A_y|}{|A_x|}}$\n",
        "<br> </br>\n",
        "Per als casos on $A_x = 0 \\hspace{2mm} i \\hspace{2mm} A_y = 0 $ es pot determinar que l'angle respecte a l'eix $x$ de la manera següent:\n",
        "<br> </br>\n",
        "\n",
        "<center> Si $ A_y = 0$ i $A_x \\left\\lbrace\\begin{array}{c} > 0 \\hspace{2mm} \\text{llavors}\\hspace{2mm} \\theta = 0° \\\\ \\hspace {4mm}< 0 \\hspace{2mm} \\text{llavors}\\hspace{2mm} \\theta = 180° \\end{array}\\right.$ &nbsp; &nbsp; &nbsp;&nbsp; &nbsp; Si $ A_x = 0$ i $A_y \\left\\lbrace\\begin{array}{c} > 0 \\hspace{2mm} \\text{llavors}\\hspace{2mm} \\theta = 90° \\\\ \\hspace{3mm} < 0 \\hspace{2mm} \\text{llavors}\\hspace{2mm} \\theta = 270° \\end{array}\\right.$ </center>\n",
        "\n",
        "#**Angles directors d'un vector tridimensional**\n",
        "\n",
        "Si $\\vec{V}$ és un vector tridimensional fixat a l'origen i **no nul** els angles directors de $\\vec{V} = (A_x,A_y,A_z)$ són: $\\alpha$, $ \\beta$ i $\\gamma$ els quals són els angles que determina el vector respectivament amb l'eix $x$ positiu, l'eix $y$ positiu i l'eix $z$ positiu.\n",
        "\n",
        "<center><img src=\"https://github.com/josorio398/ALGEBRA-LINEAL-CON-PYTHON/blob/master/im%C3%A1genes%20repositorio/direcci%C3%B3n%20espacio%20final.png?raw=true\"  height=\"250\" /> </center>\n",
        "\n",
        "Per trobar aquests angles tenim les equacions següents:\n",
        "<br> </br>\n",
        "$$\\alpha = arcs{\\left(\\dfrac{A_x}{\\,|\\vert \\vec{A} \\,|\\vert}\\right)},\\hspace{5mm} \\beta = arcs{\\left( \\dfrac{A_i}{\\,|\\vert \\vec{A} \\,|\\vert}\\right)}, \\hspace{5mm} \\gamma = arcs{\\left(\\dfrac{A_z}{\\,|\\ vert \\vec{A} \\,|\\vert}\\right)} $$\n",
        "<br> </br>\n",
        "Si definim $\\cos(\\alpha),\\cos(\\beta),\\cos(\\gamma)$ com els **cosens directors** del vector $\\vec{V} = (A_x,A_y,A_z)$ aquests es poden obtenir de les equacions anteriors de la següent forma:\n",
        "<br> </br>\n",
        "$$\\cos{\\alpha} = \\dfrac{A_x}{\\,|\\vert \\vec{A} \\,|\\vert},\\hspace{5mm} \\cos{\\beta} = \\dfrac{A_y}{ \\,|\\vert \\vec{A} \\,|\\vert}, \\hspace{5mm} \\cos{\\gamma} =\\dfrac{A_z}{\\,|\\vert \\vec{A} \\,|\\vert }$$\n",
        "<br> </br>\n",
        "El vector $(\\cos{\\alpha},\\cos{\\beta},\\cos{\\gamma})$ els components dels quals són els **cosens directors** es defineix com el **vector director** del vector $\\ vec{V}$.\n",
        "\n",
        "##**Exemple:**\n",
        "\n",
        "Donat el vector $\\vec{V} = (1,-2,-3)$ troba els **angles directors** del vector $\\vec{V}$ en graus, troba el **vector director** de $ V$ i realitza la gràfica del vector $V$ i el seu vector director al mateix espai."
      ],
      "metadata": {
        "id": "A5nbOmaxFRBF"
      }
    },
    {
      "cell_type": "code",
      "source": [
        "V = Matrix([-3,5,2])\n",
        "\n",
        "#Avaluem el vector amb norma = 1\n",
        "\n",
        "norm = V.norm().evalf(3) # El mètode evalf simplement evalúa matemàticament el resultat.\n",
        "\n",
        "\n",
        "alfa_rad  = acos(V[0]/norm)\n",
        "beta_rad  = acos(V[1]/norm)\n",
        "gamma_rad = acos(V[2]/norm)\n",
        "\n",
        "alfa  = alfa_rad*(180/pi).evalf(5) #\n",
        "beta  = beta_rad*(180/pi).evalf(5)\n",
        "gamma = gamma_rad*(180/pi).evalf(5)\n",
        "\n",
        "alfa,beta,gamma"
      ],
      "metadata": {
        "colab": {
          "base_uri": "https://localhost:8080/"
        },
        "id": "8Cav5ryYE-l-",
        "outputId": "db4b7acb-2e37-4d88-a237-db672b3860dc"
      },
      "execution_count": 18,
      "outputs": [
        {
          "output_type": "execute_result",
          "data": {
            "text/plain": [
              "(119.12, 35.789, 71.060)"
            ]
          },
          "metadata": {},
          "execution_count": 18
        }
      ]
    },
    {
      "cell_type": "code",
      "source": [
        "# Un cop amb els valors amb norma 1, dibuixem el vector director V_d\n",
        "V_d = Matrix([cos(alfa_rad),cos(beta_rad),cos(gamma_rad)])\n",
        "V_d"
      ],
      "metadata": {
        "colab": {
          "base_uri": "https://localhost:8080/",
          "height": 78
        },
        "id": "dtwMPGzhGPLX",
        "outputId": "bdc6a457-f926-4771-c8c4-6bdefcad105c"
      },
      "execution_count": 19,
      "outputs": [
        {
          "output_type": "execute_result",
          "data": {
            "text/plain": [
              "Matrix([\n",
              "[-0.487],\n",
              "[ 0.811],\n",
              "[ 0.325]])"
            ],
            "text/latex": "$\\displaystyle \\left[\\begin{matrix}-0.487\\\\0.811\\\\0.325\\end{matrix}\\right]$"
          },
          "metadata": {},
          "execution_count": 19
        }
      ]
    },
    {
      "cell_type": "code",
      "source": [
        "plotvectors3D(V,V_d)"
      ],
      "metadata": {
        "colab": {
          "base_uri": "https://localhost:8080/",
          "height": 497
        },
        "id": "pmTb-SCIGQzr",
        "outputId": "f3602dd0-0085-44c0-85ee-7949c7ef5123"
      },
      "execution_count": 20,
      "outputs": [
        {
          "output_type": "display_data",
          "data": {
            "text/html": [
              "<html>\n",
              "<head><meta charset=\"utf-8\" /></head>\n",
              "<body>\n",
              "    <div>            <script src=\"https://cdnjs.cloudflare.com/ajax/libs/mathjax/2.7.5/MathJax.js?config=TeX-AMS-MML_SVG\"></script><script type=\"text/javascript\">if (window.MathJax) {MathJax.Hub.Config({SVG: {font: \"STIX-Web\"}});}</script>                <script type=\"text/javascript\">window.PlotlyConfig = {MathJaxConfig: 'local'};</script>\n",
              "        <script src=\"https://cdn.plot.ly/plotly-2.2.0.min.js\"></script>                <div id=\"7ddbe61f-9928-4af8-b325-720dabb86f20\" class=\"plotly-graph-div\" style=\"height:480px; width:480px;\"></div>            <script type=\"text/javascript\">                                    window.PLOTLYENV=window.PLOTLYENV || {};                                    if (document.getElementById(\"7ddbe61f-9928-4af8-b325-720dabb86f20\")) {                    Plotly.newPlot(                        \"7ddbe61f-9928-4af8-b325-720dabb86f20\",                        [{\"line\":{\"color\":\"rgb(198,149,4)\",\"width\":7},\"marker\":{\"color\":\"rgb(198,149,4)\",\"size\":1},\"name\":\"vector 1\",\"type\":\"scatter3d\",\"x\":[0,-3.0],\"y\":[0,5.0],\"z\":[0,2.0]},{\"anchor\":\"cm\",\"colorbar\":{\"thickness\":20,\"ticklen\":4},\"colorscale\":[[0,\"rgb(198,149,4)\"],[1,\"rgb(198,149,4)\"]],\"name\":\"vector 1\",\"showscale\":false,\"sizemode\":\"absolute\",\"sizeref\":0.23333333333333334,\"type\":\"cone\",\"u\":[-3.0],\"v\":[5.0],\"w\":[2.0],\"x\":[-3.0],\"y\":[5.0],\"z\":[2.0]},{\"line\":{\"color\":\"rgb(125,115,133)\",\"width\":7},\"marker\":{\"color\":\"rgb(125,115,133)\",\"size\":1},\"name\":\"vector 2\",\"type\":\"scatter3d\",\"x\":[0,-0.4866943359375],\"y\":[0,0.8111572265625],\"z\":[0,0.3245849609375]},{\"anchor\":\"cm\",\"colorbar\":{\"thickness\":20,\"ticklen\":4},\"colorscale\":[[0,\"rgb(125,115,133)\"],[1,\"rgb(125,115,133)\"]],\"name\":\"vector 2\",\"showscale\":false,\"sizemode\":\"absolute\",\"sizeref\":0.23333333333333334,\"type\":\"cone\",\"u\":[-0.4866943359375],\"v\":[0.8111572265625],\"w\":[0.3245849609375],\"x\":[-0.4866943359375],\"y\":[0.8111572265625],\"z\":[0.3245849609375]},{\"marker\":{\"color\":\"#2a3f5f\",\"size\":5},\"mode\":\"markers\",\"name\":\"origen\",\"showlegend\":true,\"type\":\"scatter3d\",\"x\":[0],\"y\":[0],\"z\":[0]},{\"hoverinfo\":\"skip\",\"line\":{\"color\":\"#2a3f5f\",\"width\":3},\"marker\":{\"color\":\"#2a3f5f\",\"size\":1},\"name\":\"\",\"showlegend\":false,\"type\":\"scatter3d\",\"x\":[-3.2333333333333334,0.23333333333333334],\"y\":[0,0],\"z\":[0,0]},{\"anchor\":\"cm\",\"colorbar\":{\"thickness\":20,\"ticklen\":4},\"colorscale\":[[0,\"#2a3f5f\"],[1,\"#2a3f5f\"]],\"hoverinfo\":\"name\",\"name\":\"Eje x-positivo\",\"showscale\":false,\"sizemode\":\"absolute\",\"sizeref\":0.13999999999999999,\"type\":\"cone\",\"u\":[0.23333333333333334],\"v\":[0],\"w\":[0],\"x\":[0.23333333333333334],\"y\":[0],\"z\":[0]},{\"hoverinfo\":\"skip\",\"line\":{\"color\":\"#2a3f5f\",\"width\":3},\"marker\":{\"color\":\"#2a3f5f\",\"size\":1},\"name\":\"\",\"showlegend\":false,\"type\":\"scatter3d\",\"x\":[0,0],\"y\":[-0.23333333333333334,5.233333333333333],\"z\":[0,0]},{\"anchor\":\"cm\",\"colorbar\":{\"thickness\":20,\"ticklen\":4},\"colorscale\":[[0,\"#2a3f5f\"],[1,\"#2a3f5f\"]],\"hoverinfo\":\"name\",\"name\":\"Eje y-positivo \",\"showscale\":false,\"sizemode\":\"absolute\",\"sizeref\":0.13999999999999999,\"type\":\"cone\",\"u\":[0],\"v\":[5.233333333333333],\"w\":[0],\"x\":[0],\"y\":[5.233333333333333],\"z\":[0]},{\"hoverinfo\":\"skip\",\"line\":{\"color\":\"#2a3f5f\",\"width\":3},\"marker\":{\"color\":\"#2a3f5f\",\"size\":1},\"name\":\"eje z-positivo\",\"showlegend\":false,\"type\":\"scatter3d\",\"x\":[0,0],\"y\":[0,0],\"z\":[-0.5333333333333333,2.2333333333333334]},{\"anchor\":\"cm\",\"colorbar\":{\"thickness\":20,\"ticklen\":4},\"colorscale\":[[0,\"#2a3f5f\"],[1,\"#2a3f5f\"]],\"hoverinfo\":\"name\",\"name\":\"Eje z-positivo\",\"showscale\":false,\"sizemode\":\"absolute\",\"sizeref\":0.13999999999999999,\"type\":\"cone\",\"u\":[0],\"v\":[0],\"w\":[2.2333333333333334],\"x\":[0],\"y\":[0],\"z\":[2.2333333333333334]}],                        {\"height\":480,\"legend\":{\"orientation\":\"h\",\"x\":0.03,\"y\":1.3},\"margin\":{\"b\":0,\"l\":0,\"r\":0,\"t\":0},\"showlegend\":true,\"template\":{\"data\":{\"bar\":[{\"error_x\":{\"color\":\"#2a3f5f\"},\"error_y\":{\"color\":\"#2a3f5f\"},\"marker\":{\"line\":{\"color\":\"#E5ECF6\",\"width\":0.5},\"pattern\":{\"fillmode\":\"overlay\",\"size\":10,\"solidity\":0.2}},\"type\":\"bar\"}],\"barpolar\":[{\"marker\":{\"line\":{\"color\":\"#E5ECF6\",\"width\":0.5},\"pattern\":{\"fillmode\":\"overlay\",\"size\":10,\"solidity\":0.2}},\"type\":\"barpolar\"}],\"carpet\":[{\"aaxis\":{\"endlinecolor\":\"#2a3f5f\",\"gridcolor\":\"white\",\"linecolor\":\"white\",\"minorgridcolor\":\"white\",\"startlinecolor\":\"#2a3f5f\"},\"baxis\":{\"endlinecolor\":\"#2a3f5f\",\"gridcolor\":\"white\",\"linecolor\":\"white\",\"minorgridcolor\":\"white\",\"startlinecolor\":\"#2a3f5f\"},\"type\":\"carpet\"}],\"choropleth\":[{\"colorbar\":{\"outlinewidth\":0,\"ticks\":\"\"},\"type\":\"choropleth\"}],\"contour\":[{\"colorbar\":{\"outlinewidth\":0,\"ticks\":\"\"},\"colorscale\":[[0.0,\"#0d0887\"],[0.1111111111111111,\"#46039f\"],[0.2222222222222222,\"#7201a8\"],[0.3333333333333333,\"#9c179e\"],[0.4444444444444444,\"#bd3786\"],[0.5555555555555556,\"#d8576b\"],[0.6666666666666666,\"#ed7953\"],[0.7777777777777778,\"#fb9f3a\"],[0.8888888888888888,\"#fdca26\"],[1.0,\"#f0f921\"]],\"type\":\"contour\"}],\"contourcarpet\":[{\"colorbar\":{\"outlinewidth\":0,\"ticks\":\"\"},\"type\":\"contourcarpet\"}],\"heatmap\":[{\"colorbar\":{\"outlinewidth\":0,\"ticks\":\"\"},\"colorscale\":[[0.0,\"#0d0887\"],[0.1111111111111111,\"#46039f\"],[0.2222222222222222,\"#7201a8\"],[0.3333333333333333,\"#9c179e\"],[0.4444444444444444,\"#bd3786\"],[0.5555555555555556,\"#d8576b\"],[0.6666666666666666,\"#ed7953\"],[0.7777777777777778,\"#fb9f3a\"],[0.8888888888888888,\"#fdca26\"],[1.0,\"#f0f921\"]],\"type\":\"heatmap\"}],\"heatmapgl\":[{\"colorbar\":{\"outlinewidth\":0,\"ticks\":\"\"},\"colorscale\":[[0.0,\"#0d0887\"],[0.1111111111111111,\"#46039f\"],[0.2222222222222222,\"#7201a8\"],[0.3333333333333333,\"#9c179e\"],[0.4444444444444444,\"#bd3786\"],[0.5555555555555556,\"#d8576b\"],[0.6666666666666666,\"#ed7953\"],[0.7777777777777778,\"#fb9f3a\"],[0.8888888888888888,\"#fdca26\"],[1.0,\"#f0f921\"]],\"type\":\"heatmapgl\"}],\"histogram\":[{\"marker\":{\"pattern\":{\"fillmode\":\"overlay\",\"size\":10,\"solidity\":0.2}},\"type\":\"histogram\"}],\"histogram2d\":[{\"colorbar\":{\"outlinewidth\":0,\"ticks\":\"\"},\"colorscale\":[[0.0,\"#0d0887\"],[0.1111111111111111,\"#46039f\"],[0.2222222222222222,\"#7201a8\"],[0.3333333333333333,\"#9c179e\"],[0.4444444444444444,\"#bd3786\"],[0.5555555555555556,\"#d8576b\"],[0.6666666666666666,\"#ed7953\"],[0.7777777777777778,\"#fb9f3a\"],[0.8888888888888888,\"#fdca26\"],[1.0,\"#f0f921\"]],\"type\":\"histogram2d\"}],\"histogram2dcontour\":[{\"colorbar\":{\"outlinewidth\":0,\"ticks\":\"\"},\"colorscale\":[[0.0,\"#0d0887\"],[0.1111111111111111,\"#46039f\"],[0.2222222222222222,\"#7201a8\"],[0.3333333333333333,\"#9c179e\"],[0.4444444444444444,\"#bd3786\"],[0.5555555555555556,\"#d8576b\"],[0.6666666666666666,\"#ed7953\"],[0.7777777777777778,\"#fb9f3a\"],[0.8888888888888888,\"#fdca26\"],[1.0,\"#f0f921\"]],\"type\":\"histogram2dcontour\"}],\"mesh3d\":[{\"colorbar\":{\"outlinewidth\":0,\"ticks\":\"\"},\"type\":\"mesh3d\"}],\"parcoords\":[{\"line\":{\"colorbar\":{\"outlinewidth\":0,\"ticks\":\"\"}},\"type\":\"parcoords\"}],\"pie\":[{\"automargin\":true,\"type\":\"pie\"}],\"scatter\":[{\"marker\":{\"colorbar\":{\"outlinewidth\":0,\"ticks\":\"\"}},\"type\":\"scatter\"}],\"scatter3d\":[{\"line\":{\"colorbar\":{\"outlinewidth\":0,\"ticks\":\"\"}},\"marker\":{\"colorbar\":{\"outlinewidth\":0,\"ticks\":\"\"}},\"type\":\"scatter3d\"}],\"scattercarpet\":[{\"marker\":{\"colorbar\":{\"outlinewidth\":0,\"ticks\":\"\"}},\"type\":\"scattercarpet\"}],\"scattergeo\":[{\"marker\":{\"colorbar\":{\"outlinewidth\":0,\"ticks\":\"\"}},\"type\":\"scattergeo\"}],\"scattergl\":[{\"marker\":{\"colorbar\":{\"outlinewidth\":0,\"ticks\":\"\"}},\"type\":\"scattergl\"}],\"scattermapbox\":[{\"marker\":{\"colorbar\":{\"outlinewidth\":0,\"ticks\":\"\"}},\"type\":\"scattermapbox\"}],\"scatterpolar\":[{\"marker\":{\"colorbar\":{\"outlinewidth\":0,\"ticks\":\"\"}},\"type\":\"scatterpolar\"}],\"scatterpolargl\":[{\"marker\":{\"colorbar\":{\"outlinewidth\":0,\"ticks\":\"\"}},\"type\":\"scatterpolargl\"}],\"scatterternary\":[{\"marker\":{\"colorbar\":{\"outlinewidth\":0,\"ticks\":\"\"}},\"type\":\"scatterternary\"}],\"surface\":[{\"colorbar\":{\"outlinewidth\":0,\"ticks\":\"\"},\"colorscale\":[[0.0,\"#0d0887\"],[0.1111111111111111,\"#46039f\"],[0.2222222222222222,\"#7201a8\"],[0.3333333333333333,\"#9c179e\"],[0.4444444444444444,\"#bd3786\"],[0.5555555555555556,\"#d8576b\"],[0.6666666666666666,\"#ed7953\"],[0.7777777777777778,\"#fb9f3a\"],[0.8888888888888888,\"#fdca26\"],[1.0,\"#f0f921\"]],\"type\":\"surface\"}],\"table\":[{\"cells\":{\"fill\":{\"color\":\"#EBF0F8\"},\"line\":{\"color\":\"white\"}},\"header\":{\"fill\":{\"color\":\"#C8D4E3\"},\"line\":{\"color\":\"white\"}},\"type\":\"table\"}]},\"layout\":{\"annotationdefaults\":{\"arrowcolor\":\"#2a3f5f\",\"arrowhead\":0,\"arrowwidth\":1},\"autotypenumbers\":\"strict\",\"coloraxis\":{\"colorbar\":{\"outlinewidth\":0,\"ticks\":\"\"}},\"colorscale\":{\"diverging\":[[0,\"#8e0152\"],[0.1,\"#c51b7d\"],[0.2,\"#de77ae\"],[0.3,\"#f1b6da\"],[0.4,\"#fde0ef\"],[0.5,\"#f7f7f7\"],[0.6,\"#e6f5d0\"],[0.7,\"#b8e186\"],[0.8,\"#7fbc41\"],[0.9,\"#4d9221\"],[1,\"#276419\"]],\"sequential\":[[0.0,\"#0d0887\"],[0.1111111111111111,\"#46039f\"],[0.2222222222222222,\"#7201a8\"],[0.3333333333333333,\"#9c179e\"],[0.4444444444444444,\"#bd3786\"],[0.5555555555555556,\"#d8576b\"],[0.6666666666666666,\"#ed7953\"],[0.7777777777777778,\"#fb9f3a\"],[0.8888888888888888,\"#fdca26\"],[1.0,\"#f0f921\"]],\"sequentialminus\":[[0.0,\"#0d0887\"],[0.1111111111111111,\"#46039f\"],[0.2222222222222222,\"#7201a8\"],[0.3333333333333333,\"#9c179e\"],[0.4444444444444444,\"#bd3786\"],[0.5555555555555556,\"#d8576b\"],[0.6666666666666666,\"#ed7953\"],[0.7777777777777778,\"#fb9f3a\"],[0.8888888888888888,\"#fdca26\"],[1.0,\"#f0f921\"]]},\"colorway\":[\"#636efa\",\"#EF553B\",\"#00cc96\",\"#ab63fa\",\"#FFA15A\",\"#19d3f3\",\"#FF6692\",\"#B6E880\",\"#FF97FF\",\"#FECB52\"],\"font\":{\"color\":\"#2a3f5f\"},\"geo\":{\"bgcolor\":\"white\",\"lakecolor\":\"white\",\"landcolor\":\"#E5ECF6\",\"showlakes\":true,\"showland\":true,\"subunitcolor\":\"white\"},\"hoverlabel\":{\"align\":\"left\"},\"hovermode\":\"closest\",\"mapbox\":{\"style\":\"light\"},\"paper_bgcolor\":\"white\",\"plot_bgcolor\":\"#E5ECF6\",\"polar\":{\"angularaxis\":{\"gridcolor\":\"white\",\"linecolor\":\"white\",\"ticks\":\"\"},\"bgcolor\":\"#E5ECF6\",\"radialaxis\":{\"gridcolor\":\"white\",\"linecolor\":\"white\",\"ticks\":\"\"}},\"scene\":{\"xaxis\":{\"backgroundcolor\":\"#E5ECF6\",\"gridcolor\":\"white\",\"gridwidth\":2,\"linecolor\":\"white\",\"showbackground\":true,\"ticks\":\"\",\"zerolinecolor\":\"white\"},\"yaxis\":{\"backgroundcolor\":\"#E5ECF6\",\"gridcolor\":\"white\",\"gridwidth\":2,\"linecolor\":\"white\",\"showbackground\":true,\"ticks\":\"\",\"zerolinecolor\":\"white\"},\"zaxis\":{\"backgroundcolor\":\"#E5ECF6\",\"gridcolor\":\"white\",\"gridwidth\":2,\"linecolor\":\"white\",\"showbackground\":true,\"ticks\":\"\",\"zerolinecolor\":\"white\"}},\"shapedefaults\":{\"line\":{\"color\":\"#2a3f5f\"}},\"ternary\":{\"aaxis\":{\"gridcolor\":\"white\",\"linecolor\":\"white\",\"ticks\":\"\"},\"baxis\":{\"gridcolor\":\"white\",\"linecolor\":\"white\",\"ticks\":\"\"},\"bgcolor\":\"#E5ECF6\",\"caxis\":{\"gridcolor\":\"white\",\"linecolor\":\"white\",\"ticks\":\"\"}},\"title\":{\"x\":0.05},\"xaxis\":{\"automargin\":true,\"gridcolor\":\"white\",\"linecolor\":\"white\",\"ticks\":\"\",\"title\":{\"standoff\":15},\"zerolinecolor\":\"white\",\"zerolinewidth\":2},\"yaxis\":{\"automargin\":true,\"gridcolor\":\"white\",\"linecolor\":\"white\",\"ticks\":\"\",\"title\":{\"standoff\":15},\"zerolinecolor\":\"white\",\"zerolinewidth\":2}}},\"title\":{\"font\":{\"color\":\"rgb(1,21,51)\",\"size\":50}},\"width\":480},                        {\"responsive\": true}                    ).then(function(){\n",
              "                            \n",
              "var gd = document.getElementById('7ddbe61f-9928-4af8-b325-720dabb86f20');\n",
              "var x = new MutationObserver(function (mutations, observer) {{\n",
              "        var display = window.getComputedStyle(gd).display;\n",
              "        if (!display || display === 'none') {{\n",
              "            console.log([gd, 'removed!']);\n",
              "            Plotly.purge(gd);\n",
              "            observer.disconnect();\n",
              "        }}\n",
              "}});\n",
              "\n",
              "// Listen for the removal of the full notebook cells\n",
              "var notebookContainer = gd.closest('#notebook-container');\n",
              "if (notebookContainer) {{\n",
              "    x.observe(notebookContainer, {childList: true});\n",
              "}}\n",
              "\n",
              "// Listen for the clearing of the current output cell\n",
              "var outputEl = gd.closest('.output');\n",
              "if (outputEl) {{\n",
              "    x.observe(outputEl, {childList: true});\n",
              "}}\n",
              "\n",
              "                        })                };                            </script>        </div>\n",
              "</body>\n",
              "</html>"
            ]
          },
          "metadata": {}
        }
      ]
    },
    {
      "cell_type": "markdown",
      "source": [
        "#**OPERACIONS AMB VECTORS**\n",
        "#**ADDICIÓ DE VECTORS**\n",
        "\n",
        "Siguin $A,B \\in V_n$ tals que $\\vec{A} = (A_1,A_2,\\cdots, A_n)$ i $\\vec{B}= (B_1,B_2,\\cdots, B_n)$ vectors a $V_n$ es defineix la suma analítica de vectors com :\n",
        "\n",
        "$$\\vec{A}+\\vec{B} = (A_1 + B_1,A_2+B_2,\\cdots,A_n+B_n)$$\n",
        "\n",
        "Per a $n = 1,2,3$ l'addició de vectors admet **representació geomètrica** i obeeix a la *regla del paral·lelogram* o *regla del triangle*.\n",
        "\n",
        "<center><img src=\"https://github.com/josorio398/ALGEBRA-LINEAL-CON-PYTHON/blob/master/im%C3%A1genes%20repositorio/adici%C3%B3n%20vectores.PNG?raw=true\"  height=\"300\" /> </center>\n",
        "\n",
        "\n",
        "\n",
        "##**Exemple 1:** -----> *addició de vectors bidimensionals*\n",
        "\n",
        "\n",
        "Donats els vectors $\\vec{A}= (2,3)$ i $\\vec{B}= (4,2)$ troba el vector $A+B$ analíticament i verifica que la suma compleix la regla del paral·lelogram * geomètricament.\n",
        "\n",
        "## **Adició dels vectors analíticament**\n",
        "\n",
        "### **Forma 1** -----> *com $n$-tuples*"
      ],
      "metadata": {
        "id": "hNjeJXIZHD3z"
      }
    },
    {
      "cell_type": "code",
      "source": [
        "A = Matrix([2,3])\n",
        "B = Matrix([4,2])\n",
        "\n",
        "A + B"
      ],
      "metadata": {
        "colab": {
          "base_uri": "https://localhost:8080/",
          "height": 58
        },
        "id": "lZEkWzbDHQkL",
        "outputId": "97a94535-47ce-45af-daee-649d5a4d91ff"
      },
      "execution_count": 26,
      "outputs": [
        {
          "output_type": "execute_result",
          "data": {
            "text/plain": [
              "Matrix([\n",
              "[6],\n",
              "[5]])"
            ],
            "text/latex": "$\\displaystyle \\left[\\begin{matrix}6\\\\5\\end{matrix}\\right]$"
          },
          "metadata": {},
          "execution_count": 26
        }
      ]
    },
    {
      "cell_type": "markdown",
      "source": [
        "### **Forma 2** -----> *com a combinació lineal de vectors unitaris*"
      ],
      "metadata": {
        "id": "PT8RpHOTHW4R"
      }
    },
    {
      "cell_type": "code",
      "source": [
        "i = e.x\n",
        "j = e.y\n",
        "k = e.z # això només utilizar un cop!!!\n",
        "\n",
        "u = 2*i + 3*j + 2*k\n",
        "v = 4*i + 2*j + 1*k\n",
        "\n",
        "u + v"
      ],
      "metadata": {
        "colab": {
          "base_uri": "https://localhost:8080/",
          "height": 37
        },
        "id": "yiDqtIYzHXiN",
        "outputId": "10233c60-76c3-4347-a7de-0d4523a0a60b"
      },
      "execution_count": 25,
      "outputs": [
        {
          "output_type": "execute_result",
          "data": {
            "text/plain": [
              "6*e.x + 5*e.y + 3*e.z"
            ],
            "text/latex": "$\\displaystyle 6\\mathbf{\\hat{e}_x} + 5\\mathbf{\\hat{e}_y} + 3\\mathbf{\\hat{e}_z}$"
          },
          "metadata": {},
          "execution_count": 25
        }
      ]
    },
    {
      "cell_type": "code",
      "source": [
        "# Per dibuixar 3D només accepta el mètode amb matrius!!\n",
        "A = Matrix([1,2,3])\n",
        "B = Matrix([5,6,3])\n",
        "\n",
        "plotvectors3D(A,B,A+B,[(5,6,3),A])"
      ],
      "metadata": {
        "colab": {
          "base_uri": "https://localhost:8080/",
          "height": 497
        },
        "id": "ZQtuZnpxHszX",
        "outputId": "60f57b44-43bb-4f35-d282-c5ff4aa97636"
      },
      "execution_count": 29,
      "outputs": [
        {
          "output_type": "display_data",
          "data": {
            "text/html": [
              "<html>\n",
              "<head><meta charset=\"utf-8\" /></head>\n",
              "<body>\n",
              "    <div>            <script src=\"https://cdnjs.cloudflare.com/ajax/libs/mathjax/2.7.5/MathJax.js?config=TeX-AMS-MML_SVG\"></script><script type=\"text/javascript\">if (window.MathJax) {MathJax.Hub.Config({SVG: {font: \"STIX-Web\"}});}</script>                <script type=\"text/javascript\">window.PlotlyConfig = {MathJaxConfig: 'local'};</script>\n",
              "        <script src=\"https://cdn.plot.ly/plotly-2.2.0.min.js\"></script>                <div id=\"ae6c328a-e448-450a-be02-5e0bed7752d4\" class=\"plotly-graph-div\" style=\"height:480px; width:480px;\"></div>            <script type=\"text/javascript\">                                    window.PLOTLYENV=window.PLOTLYENV || {};                                    if (document.getElementById(\"ae6c328a-e448-450a-be02-5e0bed7752d4\")) {                    Plotly.newPlot(                        \"ae6c328a-e448-450a-be02-5e0bed7752d4\",                        [{\"line\":{\"color\":\"rgb(130,21,71)\",\"width\":7},\"marker\":{\"color\":\"rgb(130,21,71)\",\"size\":1},\"name\":\"vector 1\",\"type\":\"scatter3d\",\"x\":[0,1.0],\"y\":[0,2.0],\"z\":[0,3.0]},{\"anchor\":\"cm\",\"colorbar\":{\"thickness\":20,\"ticklen\":4},\"colorscale\":[[0,\"rgb(130,21,71)\"],[1,\"rgb(130,21,71)\"]],\"name\":\"vector 1\",\"showscale\":false,\"sizemode\":\"absolute\",\"sizeref\":0.6666666666666666,\"type\":\"cone\",\"u\":[1.0],\"v\":[2.0],\"w\":[3.0],\"x\":[1.0],\"y\":[2.0],\"z\":[3.0]},{\"line\":{\"color\":\"rgb(166,236,243)\",\"width\":7},\"marker\":{\"color\":\"rgb(166,236,243)\",\"size\":1},\"name\":\"vector 2\",\"type\":\"scatter3d\",\"x\":[0,5.0],\"y\":[0,6.0],\"z\":[0,3.0]},{\"anchor\":\"cm\",\"colorbar\":{\"thickness\":20,\"ticklen\":4},\"colorscale\":[[0,\"rgb(166,236,243)\"],[1,\"rgb(166,236,243)\"]],\"name\":\"vector 2\",\"showscale\":false,\"sizemode\":\"absolute\",\"sizeref\":0.6666666666666666,\"type\":\"cone\",\"u\":[5.0],\"v\":[6.0],\"w\":[3.0],\"x\":[5.0],\"y\":[6.0],\"z\":[3.0]},{\"line\":{\"color\":\"rgb(245,238,26)\",\"width\":7},\"marker\":{\"color\":\"rgb(245,238,26)\",\"size\":1},\"name\":\"vector 3\",\"type\":\"scatter3d\",\"x\":[0,6.0],\"y\":[0,8.0],\"z\":[0,6.0]},{\"anchor\":\"cm\",\"colorbar\":{\"thickness\":20,\"ticklen\":4},\"colorscale\":[[0,\"rgb(245,238,26)\"],[1,\"rgb(245,238,26)\"]],\"name\":\"vector 3\",\"showscale\":false,\"sizemode\":\"absolute\",\"sizeref\":0.6666666666666666,\"type\":\"cone\",\"u\":[6.0],\"v\":[8.0],\"w\":[6.0],\"x\":[6.0],\"y\":[8.0],\"z\":[6.0]},{\"hoverinfo\":\"name+text\",\"hovertext\":\"Tail=(5,6,3)\\nHead=(6.0,8.0,6.0)\",\"line\":{\"color\":\"rgb(232,139,214)\",\"width\":7},\"marker\":{\"color\":\"rgb(232,139,214)\",\"size\":1},\"name\":\"vector 4\",\"type\":\"scatter3d\",\"x\":[5,6.0],\"y\":[6,8.0],\"z\":[3,6.0]},{\"anchor\":\"cm\",\"colorbar\":{\"thickness\":20,\"ticklen\":4},\"colorscale\":[[0,\"rgb(232,139,214)\"],[1,\"rgb(232,139,214)\"]],\"hoverinfo\":\"skip\",\"name\":\"vector 4\",\"showscale\":false,\"sizemode\":\"absolute\",\"sizeref\":0.6666666666666666,\"type\":\"cone\",\"u\":[0.5],\"v\":[1.0],\"w\":[1.5],\"x\":[5.937],\"y\":[7.874],\"z\":[5.811]},{\"marker\":{\"color\":\"#2a3f5f\",\"size\":5},\"mode\":\"markers\",\"name\":\"origen\",\"showlegend\":true,\"type\":\"scatter3d\",\"x\":[0],\"y\":[0],\"z\":[0]},{\"hoverinfo\":\"skip\",\"line\":{\"color\":\"#2a3f5f\",\"width\":3},\"marker\":{\"color\":\"#2a3f5f\",\"size\":1},\"name\":\"\",\"showlegend\":false,\"type\":\"scatter3d\",\"x\":[-0.6666666666666666,6.666666666666667],\"y\":[0,0],\"z\":[0,0]},{\"anchor\":\"cm\",\"colorbar\":{\"thickness\":20,\"ticklen\":4},\"colorscale\":[[0,\"#2a3f5f\"],[1,\"#2a3f5f\"]],\"hoverinfo\":\"name\",\"name\":\"Eje x-positivo\",\"showscale\":false,\"sizemode\":\"absolute\",\"sizeref\":0.39999999999999997,\"type\":\"cone\",\"u\":[6.666666666666667],\"v\":[0],\"w\":[0],\"x\":[6.666666666666667],\"y\":[0],\"z\":[0]},{\"hoverinfo\":\"skip\",\"line\":{\"color\":\"#2a3f5f\",\"width\":3},\"marker\":{\"color\":\"#2a3f5f\",\"size\":1},\"name\":\"\",\"showlegend\":false,\"type\":\"scatter3d\",\"x\":[0,0],\"y\":[-0.6666666666666666,8.666666666666666],\"z\":[0,0]},{\"anchor\":\"cm\",\"colorbar\":{\"thickness\":20,\"ticklen\":4},\"colorscale\":[[0,\"#2a3f5f\"],[1,\"#2a3f5f\"]],\"hoverinfo\":\"name\",\"name\":\"Eje y-positivo \",\"showscale\":false,\"sizemode\":\"absolute\",\"sizeref\":0.39999999999999997,\"type\":\"cone\",\"u\":[0],\"v\":[8.666666666666666],\"w\":[0],\"x\":[0],\"y\":[8.666666666666666],\"z\":[0]},{\"hoverinfo\":\"skip\",\"line\":{\"color\":\"#2a3f5f\",\"width\":3},\"marker\":{\"color\":\"#2a3f5f\",\"size\":1},\"name\":\"eje z-positivo\",\"showlegend\":false,\"type\":\"scatter3d\",\"x\":[0,0],\"y\":[0,0],\"z\":[-0.9666666666666666,6.666666666666667]},{\"anchor\":\"cm\",\"colorbar\":{\"thickness\":20,\"ticklen\":4},\"colorscale\":[[0,\"#2a3f5f\"],[1,\"#2a3f5f\"]],\"hoverinfo\":\"name\",\"name\":\"Eje z-positivo\",\"showscale\":false,\"sizemode\":\"absolute\",\"sizeref\":0.39999999999999997,\"type\":\"cone\",\"u\":[0],\"v\":[0],\"w\":[6.666666666666667],\"x\":[0],\"y\":[0],\"z\":[6.666666666666667]}],                        {\"height\":480,\"legend\":{\"orientation\":\"h\",\"x\":0.03,\"y\":1.3},\"margin\":{\"b\":0,\"l\":0,\"r\":0,\"t\":0},\"showlegend\":true,\"template\":{\"data\":{\"bar\":[{\"error_x\":{\"color\":\"#2a3f5f\"},\"error_y\":{\"color\":\"#2a3f5f\"},\"marker\":{\"line\":{\"color\":\"#E5ECF6\",\"width\":0.5},\"pattern\":{\"fillmode\":\"overlay\",\"size\":10,\"solidity\":0.2}},\"type\":\"bar\"}],\"barpolar\":[{\"marker\":{\"line\":{\"color\":\"#E5ECF6\",\"width\":0.5},\"pattern\":{\"fillmode\":\"overlay\",\"size\":10,\"solidity\":0.2}},\"type\":\"barpolar\"}],\"carpet\":[{\"aaxis\":{\"endlinecolor\":\"#2a3f5f\",\"gridcolor\":\"white\",\"linecolor\":\"white\",\"minorgridcolor\":\"white\",\"startlinecolor\":\"#2a3f5f\"},\"baxis\":{\"endlinecolor\":\"#2a3f5f\",\"gridcolor\":\"white\",\"linecolor\":\"white\",\"minorgridcolor\":\"white\",\"startlinecolor\":\"#2a3f5f\"},\"type\":\"carpet\"}],\"choropleth\":[{\"colorbar\":{\"outlinewidth\":0,\"ticks\":\"\"},\"type\":\"choropleth\"}],\"contour\":[{\"colorbar\":{\"outlinewidth\":0,\"ticks\":\"\"},\"colorscale\":[[0.0,\"#0d0887\"],[0.1111111111111111,\"#46039f\"],[0.2222222222222222,\"#7201a8\"],[0.3333333333333333,\"#9c179e\"],[0.4444444444444444,\"#bd3786\"],[0.5555555555555556,\"#d8576b\"],[0.6666666666666666,\"#ed7953\"],[0.7777777777777778,\"#fb9f3a\"],[0.8888888888888888,\"#fdca26\"],[1.0,\"#f0f921\"]],\"type\":\"contour\"}],\"contourcarpet\":[{\"colorbar\":{\"outlinewidth\":0,\"ticks\":\"\"},\"type\":\"contourcarpet\"}],\"heatmap\":[{\"colorbar\":{\"outlinewidth\":0,\"ticks\":\"\"},\"colorscale\":[[0.0,\"#0d0887\"],[0.1111111111111111,\"#46039f\"],[0.2222222222222222,\"#7201a8\"],[0.3333333333333333,\"#9c179e\"],[0.4444444444444444,\"#bd3786\"],[0.5555555555555556,\"#d8576b\"],[0.6666666666666666,\"#ed7953\"],[0.7777777777777778,\"#fb9f3a\"],[0.8888888888888888,\"#fdca26\"],[1.0,\"#f0f921\"]],\"type\":\"heatmap\"}],\"heatmapgl\":[{\"colorbar\":{\"outlinewidth\":0,\"ticks\":\"\"},\"colorscale\":[[0.0,\"#0d0887\"],[0.1111111111111111,\"#46039f\"],[0.2222222222222222,\"#7201a8\"],[0.3333333333333333,\"#9c179e\"],[0.4444444444444444,\"#bd3786\"],[0.5555555555555556,\"#d8576b\"],[0.6666666666666666,\"#ed7953\"],[0.7777777777777778,\"#fb9f3a\"],[0.8888888888888888,\"#fdca26\"],[1.0,\"#f0f921\"]],\"type\":\"heatmapgl\"}],\"histogram\":[{\"marker\":{\"pattern\":{\"fillmode\":\"overlay\",\"size\":10,\"solidity\":0.2}},\"type\":\"histogram\"}],\"histogram2d\":[{\"colorbar\":{\"outlinewidth\":0,\"ticks\":\"\"},\"colorscale\":[[0.0,\"#0d0887\"],[0.1111111111111111,\"#46039f\"],[0.2222222222222222,\"#7201a8\"],[0.3333333333333333,\"#9c179e\"],[0.4444444444444444,\"#bd3786\"],[0.5555555555555556,\"#d8576b\"],[0.6666666666666666,\"#ed7953\"],[0.7777777777777778,\"#fb9f3a\"],[0.8888888888888888,\"#fdca26\"],[1.0,\"#f0f921\"]],\"type\":\"histogram2d\"}],\"histogram2dcontour\":[{\"colorbar\":{\"outlinewidth\":0,\"ticks\":\"\"},\"colorscale\":[[0.0,\"#0d0887\"],[0.1111111111111111,\"#46039f\"],[0.2222222222222222,\"#7201a8\"],[0.3333333333333333,\"#9c179e\"],[0.4444444444444444,\"#bd3786\"],[0.5555555555555556,\"#d8576b\"],[0.6666666666666666,\"#ed7953\"],[0.7777777777777778,\"#fb9f3a\"],[0.8888888888888888,\"#fdca26\"],[1.0,\"#f0f921\"]],\"type\":\"histogram2dcontour\"}],\"mesh3d\":[{\"colorbar\":{\"outlinewidth\":0,\"ticks\":\"\"},\"type\":\"mesh3d\"}],\"parcoords\":[{\"line\":{\"colorbar\":{\"outlinewidth\":0,\"ticks\":\"\"}},\"type\":\"parcoords\"}],\"pie\":[{\"automargin\":true,\"type\":\"pie\"}],\"scatter\":[{\"marker\":{\"colorbar\":{\"outlinewidth\":0,\"ticks\":\"\"}},\"type\":\"scatter\"}],\"scatter3d\":[{\"line\":{\"colorbar\":{\"outlinewidth\":0,\"ticks\":\"\"}},\"marker\":{\"colorbar\":{\"outlinewidth\":0,\"ticks\":\"\"}},\"type\":\"scatter3d\"}],\"scattercarpet\":[{\"marker\":{\"colorbar\":{\"outlinewidth\":0,\"ticks\":\"\"}},\"type\":\"scattercarpet\"}],\"scattergeo\":[{\"marker\":{\"colorbar\":{\"outlinewidth\":0,\"ticks\":\"\"}},\"type\":\"scattergeo\"}],\"scattergl\":[{\"marker\":{\"colorbar\":{\"outlinewidth\":0,\"ticks\":\"\"}},\"type\":\"scattergl\"}],\"scattermapbox\":[{\"marker\":{\"colorbar\":{\"outlinewidth\":0,\"ticks\":\"\"}},\"type\":\"scattermapbox\"}],\"scatterpolar\":[{\"marker\":{\"colorbar\":{\"outlinewidth\":0,\"ticks\":\"\"}},\"type\":\"scatterpolar\"}],\"scatterpolargl\":[{\"marker\":{\"colorbar\":{\"outlinewidth\":0,\"ticks\":\"\"}},\"type\":\"scatterpolargl\"}],\"scatterternary\":[{\"marker\":{\"colorbar\":{\"outlinewidth\":0,\"ticks\":\"\"}},\"type\":\"scatterternary\"}],\"surface\":[{\"colorbar\":{\"outlinewidth\":0,\"ticks\":\"\"},\"colorscale\":[[0.0,\"#0d0887\"],[0.1111111111111111,\"#46039f\"],[0.2222222222222222,\"#7201a8\"],[0.3333333333333333,\"#9c179e\"],[0.4444444444444444,\"#bd3786\"],[0.5555555555555556,\"#d8576b\"],[0.6666666666666666,\"#ed7953\"],[0.7777777777777778,\"#fb9f3a\"],[0.8888888888888888,\"#fdca26\"],[1.0,\"#f0f921\"]],\"type\":\"surface\"}],\"table\":[{\"cells\":{\"fill\":{\"color\":\"#EBF0F8\"},\"line\":{\"color\":\"white\"}},\"header\":{\"fill\":{\"color\":\"#C8D4E3\"},\"line\":{\"color\":\"white\"}},\"type\":\"table\"}]},\"layout\":{\"annotationdefaults\":{\"arrowcolor\":\"#2a3f5f\",\"arrowhead\":0,\"arrowwidth\":1},\"autotypenumbers\":\"strict\",\"coloraxis\":{\"colorbar\":{\"outlinewidth\":0,\"ticks\":\"\"}},\"colorscale\":{\"diverging\":[[0,\"#8e0152\"],[0.1,\"#c51b7d\"],[0.2,\"#de77ae\"],[0.3,\"#f1b6da\"],[0.4,\"#fde0ef\"],[0.5,\"#f7f7f7\"],[0.6,\"#e6f5d0\"],[0.7,\"#b8e186\"],[0.8,\"#7fbc41\"],[0.9,\"#4d9221\"],[1,\"#276419\"]],\"sequential\":[[0.0,\"#0d0887\"],[0.1111111111111111,\"#46039f\"],[0.2222222222222222,\"#7201a8\"],[0.3333333333333333,\"#9c179e\"],[0.4444444444444444,\"#bd3786\"],[0.5555555555555556,\"#d8576b\"],[0.6666666666666666,\"#ed7953\"],[0.7777777777777778,\"#fb9f3a\"],[0.8888888888888888,\"#fdca26\"],[1.0,\"#f0f921\"]],\"sequentialminus\":[[0.0,\"#0d0887\"],[0.1111111111111111,\"#46039f\"],[0.2222222222222222,\"#7201a8\"],[0.3333333333333333,\"#9c179e\"],[0.4444444444444444,\"#bd3786\"],[0.5555555555555556,\"#d8576b\"],[0.6666666666666666,\"#ed7953\"],[0.7777777777777778,\"#fb9f3a\"],[0.8888888888888888,\"#fdca26\"],[1.0,\"#f0f921\"]]},\"colorway\":[\"#636efa\",\"#EF553B\",\"#00cc96\",\"#ab63fa\",\"#FFA15A\",\"#19d3f3\",\"#FF6692\",\"#B6E880\",\"#FF97FF\",\"#FECB52\"],\"font\":{\"color\":\"#2a3f5f\"},\"geo\":{\"bgcolor\":\"white\",\"lakecolor\":\"white\",\"landcolor\":\"#E5ECF6\",\"showlakes\":true,\"showland\":true,\"subunitcolor\":\"white\"},\"hoverlabel\":{\"align\":\"left\"},\"hovermode\":\"closest\",\"mapbox\":{\"style\":\"light\"},\"paper_bgcolor\":\"white\",\"plot_bgcolor\":\"#E5ECF6\",\"polar\":{\"angularaxis\":{\"gridcolor\":\"white\",\"linecolor\":\"white\",\"ticks\":\"\"},\"bgcolor\":\"#E5ECF6\",\"radialaxis\":{\"gridcolor\":\"white\",\"linecolor\":\"white\",\"ticks\":\"\"}},\"scene\":{\"xaxis\":{\"backgroundcolor\":\"#E5ECF6\",\"gridcolor\":\"white\",\"gridwidth\":2,\"linecolor\":\"white\",\"showbackground\":true,\"ticks\":\"\",\"zerolinecolor\":\"white\"},\"yaxis\":{\"backgroundcolor\":\"#E5ECF6\",\"gridcolor\":\"white\",\"gridwidth\":2,\"linecolor\":\"white\",\"showbackground\":true,\"ticks\":\"\",\"zerolinecolor\":\"white\"},\"zaxis\":{\"backgroundcolor\":\"#E5ECF6\",\"gridcolor\":\"white\",\"gridwidth\":2,\"linecolor\":\"white\",\"showbackground\":true,\"ticks\":\"\",\"zerolinecolor\":\"white\"}},\"shapedefaults\":{\"line\":{\"color\":\"#2a3f5f\"}},\"ternary\":{\"aaxis\":{\"gridcolor\":\"white\",\"linecolor\":\"white\",\"ticks\":\"\"},\"baxis\":{\"gridcolor\":\"white\",\"linecolor\":\"white\",\"ticks\":\"\"},\"bgcolor\":\"#E5ECF6\",\"caxis\":{\"gridcolor\":\"white\",\"linecolor\":\"white\",\"ticks\":\"\"}},\"title\":{\"x\":0.05},\"xaxis\":{\"automargin\":true,\"gridcolor\":\"white\",\"linecolor\":\"white\",\"ticks\":\"\",\"title\":{\"standoff\":15},\"zerolinecolor\":\"white\",\"zerolinewidth\":2},\"yaxis\":{\"automargin\":true,\"gridcolor\":\"white\",\"linecolor\":\"white\",\"ticks\":\"\",\"title\":{\"standoff\":15},\"zerolinecolor\":\"white\",\"zerolinewidth\":2}}},\"title\":{\"font\":{\"color\":\"rgb(1,21,51)\",\"size\":50}},\"width\":480},                        {\"responsive\": true}                    ).then(function(){\n",
              "                            \n",
              "var gd = document.getElementById('ae6c328a-e448-450a-be02-5e0bed7752d4');\n",
              "var x = new MutationObserver(function (mutations, observer) {{\n",
              "        var display = window.getComputedStyle(gd).display;\n",
              "        if (!display || display === 'none') {{\n",
              "            console.log([gd, 'removed!']);\n",
              "            Plotly.purge(gd);\n",
              "            observer.disconnect();\n",
              "        }}\n",
              "}});\n",
              "\n",
              "// Listen for the removal of the full notebook cells\n",
              "var notebookContainer = gd.closest('#notebook-container');\n",
              "if (notebookContainer) {{\n",
              "    x.observe(notebookContainer, {childList: true});\n",
              "}}\n",
              "\n",
              "// Listen for the clearing of the current output cell\n",
              "var outputEl = gd.closest('.output');\n",
              "if (outputEl) {{\n",
              "    x.observe(outputEl, {childList: true});\n",
              "}}\n",
              "\n",
              "                        })                };                            </script>        </div>\n",
              "</body>\n",
              "</html>"
            ]
          },
          "metadata": {}
        }
      ]
    },
    {
      "cell_type": "markdown",
      "source": [
        "#**Propietats addició de vectors**\n",
        "\n",
        "Siguin els vectors ${\\displaystyle A,B,C\\in V_n}$, es compleixen les propietats següents:\n",
        "\n",
        "| PROPIETAT | EXPLICACIÓ |\n",
        "|:------------------------------:|:--------------- -----------------------:|\n",
        "| Clausurativa |$$A + B \\in V_n$$|\n",
        "| Commutativa | $$A + B = B + A$$ |\n",
        "| Associativa | $$(A+B) + C = A+ (B+C)$$ |\n",
        "| Existència element neutre | $$A + 0 = A$$ |\n",
        "| Existència d'invers additiu | $$A + (-A) = 0 $$ |\n",
        "\n",
        "\n",
        "Demostrar cada una de les propietats.\n",
        "Analíticament i gràficament en 3D.\n",
        "\n",
        "Exemple:\n",
        "\n",
        "##**propietat associativa**\n",
        "\n",
        "<h4>$$(A+B) + C = A+ (B+C)$$\n",
        "\n",
        "#### **Verificació analíticament**"
      ],
      "metadata": {
        "id": "UFLPt2CsIbLr"
      }
    },
    {
      "cell_type": "code",
      "source": [
        "# Creo vectors aleatoris\n",
        "A = randMatrix(3,1, min=-5, max=5)\n",
        "B = randMatrix(3,1, min=-5, max=5)\n",
        "C = randMatrix(3,1, min=-5, max=5)"
      ],
      "metadata": {
        "id": "zLxmoHvOIwf-"
      },
      "execution_count": 30,
      "outputs": []
    },
    {
      "cell_type": "code",
      "source": [
        "(A + B) + C"
      ],
      "metadata": {
        "colab": {
          "base_uri": "https://localhost:8080/",
          "height": 78
        },
        "id": "L5gFOSE_JCSG",
        "outputId": "49b223c2-482d-4353-bc1d-015a4f161ac8"
      },
      "execution_count": 31,
      "outputs": [
        {
          "output_type": "execute_result",
          "data": {
            "text/plain": [
              "Matrix([\n",
              "[ 5],\n",
              "[ 7],\n",
              "[-3]])"
            ],
            "text/latex": "$\\displaystyle \\left[\\begin{matrix}5\\\\7\\\\-3\\end{matrix}\\right]$"
          },
          "metadata": {},
          "execution_count": 31
        }
      ]
    },
    {
      "cell_type": "code",
      "source": [
        "A + (B + C)"
      ],
      "metadata": {
        "colab": {
          "base_uri": "https://localhost:8080/",
          "height": 78
        },
        "id": "-Nk2Wk6QJDpm",
        "outputId": "5437e7b1-0742-4c2b-b89d-03eb69f1dd8e"
      },
      "execution_count": 32,
      "outputs": [
        {
          "output_type": "execute_result",
          "data": {
            "text/plain": [
              "Matrix([\n",
              "[ 5],\n",
              "[ 7],\n",
              "[-3]])"
            ],
            "text/latex": "$\\displaystyle \\left[\\begin{matrix}5\\\\7\\\\-3\\end{matrix}\\right]$"
          },
          "metadata": {},
          "execution_count": 32
        }
      ]
    },
    {
      "cell_type": "code",
      "source": [
        "plotvectors3D(A,B,C,(A+B)+C,[(-1,5,0),B],[-2,0,-4],[(-2,0,-4),C])"
      ],
      "metadata": {
        "colab": {
          "base_uri": "https://localhost:8080/",
          "height": 497
        },
        "id": "W-dOD_KFJHyO",
        "outputId": "cdb48396-7188-424c-a065-f78bce3a3a4d"
      },
      "execution_count": 35,
      "outputs": [
        {
          "output_type": "display_data",
          "data": {
            "text/html": [
              "<html>\n",
              "<head><meta charset=\"utf-8\" /></head>\n",
              "<body>\n",
              "    <div>            <script src=\"https://cdnjs.cloudflare.com/ajax/libs/mathjax/2.7.5/MathJax.js?config=TeX-AMS-MML_SVG\"></script><script type=\"text/javascript\">if (window.MathJax) {MathJax.Hub.Config({SVG: {font: \"STIX-Web\"}});}</script>                <script type=\"text/javascript\">window.PlotlyConfig = {MathJaxConfig: 'local'};</script>\n",
              "        <script src=\"https://cdn.plot.ly/plotly-2.2.0.min.js\"></script>                <div id=\"c5fbb2f5-71fa-47d1-9330-99afb410ea93\" class=\"plotly-graph-div\" style=\"height:480px; width:480px;\"></div>            <script type=\"text/javascript\">                                    window.PLOTLYENV=window.PLOTLYENV || {};                                    if (document.getElementById(\"c5fbb2f5-71fa-47d1-9330-99afb410ea93\")) {                    Plotly.newPlot(                        \"c5fbb2f5-71fa-47d1-9330-99afb410ea93\",                        [{\"line\":{\"color\":\"rgb(121,51,186)\",\"width\":7},\"marker\":{\"color\":\"rgb(121,51,186)\",\"size\":1},\"name\":\"vector 1\",\"type\":\"scatter3d\",\"x\":[0,2.0],\"y\":[0,1.0],\"z\":[0,4.0]},{\"anchor\":\"cm\",\"colorbar\":{\"thickness\":20,\"ticklen\":4},\"colorscale\":[[0,\"rgb(121,51,186)\"],[1,\"rgb(121,51,186)\"]],\"name\":\"vector 1\",\"showscale\":false,\"sizemode\":\"absolute\",\"sizeref\":0.5666666666666667,\"type\":\"cone\",\"u\":[2.0],\"v\":[1.0],\"w\":[4.0],\"x\":[2.0],\"y\":[1.0],\"z\":[4.0]},{\"line\":{\"color\":\"rgb(178,88,240)\",\"width\":7},\"marker\":{\"color\":\"rgb(178,88,240)\",\"size\":1},\"name\":\"vector 2\",\"type\":\"scatter3d\",\"x\":[0,1.0],\"y\":[0,3.0],\"z\":[0,-5.0]},{\"anchor\":\"cm\",\"colorbar\":{\"thickness\":20,\"ticklen\":4},\"colorscale\":[[0,\"rgb(178,88,240)\"],[1,\"rgb(178,88,240)\"]],\"name\":\"vector 2\",\"showscale\":false,\"sizemode\":\"absolute\",\"sizeref\":0.5666666666666667,\"type\":\"cone\",\"u\":[1.0],\"v\":[3.0],\"w\":[-5.0],\"x\":[1.0],\"y\":[3.0],\"z\":[-5.0]},{\"line\":{\"color\":\"rgb(140,92,134)\",\"width\":7},\"marker\":{\"color\":\"rgb(140,92,134)\",\"size\":1},\"name\":\"vector 3\",\"type\":\"scatter3d\",\"x\":[0,2.0],\"y\":[0,3.0],\"z\":[0,-2.0]},{\"anchor\":\"cm\",\"colorbar\":{\"thickness\":20,\"ticklen\":4},\"colorscale\":[[0,\"rgb(140,92,134)\"],[1,\"rgb(140,92,134)\"]],\"name\":\"vector 3\",\"showscale\":false,\"sizemode\":\"absolute\",\"sizeref\":0.5666666666666667,\"type\":\"cone\",\"u\":[2.0],\"v\":[3.0],\"w\":[-2.0],\"x\":[2.0],\"y\":[3.0],\"z\":[-2.0]},{\"line\":{\"color\":\"rgb(43,137,99)\",\"width\":7},\"marker\":{\"color\":\"rgb(43,137,99)\",\"size\":1},\"name\":\"vector 4\",\"type\":\"scatter3d\",\"x\":[0,5.0],\"y\":[0,7.0],\"z\":[0,-3.0]},{\"anchor\":\"cm\",\"colorbar\":{\"thickness\":20,\"ticklen\":4},\"colorscale\":[[0,\"rgb(43,137,99)\"],[1,\"rgb(43,137,99)\"]],\"name\":\"vector 4\",\"showscale\":false,\"sizemode\":\"absolute\",\"sizeref\":0.5666666666666667,\"type\":\"cone\",\"u\":[5.0],\"v\":[7.0],\"w\":[-3.0],\"x\":[5.0],\"y\":[7.0],\"z\":[-3.0]},{\"hoverinfo\":\"name+text\",\"hovertext\":\"Tail=(-1,5,0)\\nHead=(0.0,8.0,-5.0)\",\"line\":{\"color\":\"rgb(109,145,113)\",\"width\":7},\"marker\":{\"color\":\"rgb(109,145,113)\",\"size\":1},\"name\":\"vector 5\",\"type\":\"scatter3d\",\"x\":[-1,0.0],\"y\":[5,8.0],\"z\":[0,-5.0]},{\"anchor\":\"cm\",\"colorbar\":{\"thickness\":20,\"ticklen\":4},\"colorscale\":[[0,\"rgb(109,145,113)\"],[1,\"rgb(109,145,113)\"]],\"hoverinfo\":\"skip\",\"name\":\"vector 5\",\"showscale\":false,\"sizemode\":\"absolute\",\"sizeref\":0.5666666666666667,\"type\":\"cone\",\"u\":[0.5],\"v\":[1.5],\"w\":[-2.5],\"x\":[-0.063],\"y\":[7.811],\"z\":[-4.685]},{\"line\":{\"color\":\"rgb(56,239,188)\",\"width\":7},\"marker\":{\"color\":\"rgb(56,239,188)\",\"size\":1},\"name\":\"vector 6\",\"type\":\"scatter3d\",\"x\":[0,-2],\"y\":[0,0],\"z\":[0,-4]},{\"anchor\":\"cm\",\"colorbar\":{\"thickness\":20,\"ticklen\":4},\"colorscale\":[[0,\"rgb(56,239,188)\"],[1,\"rgb(56,239,188)\"]],\"name\":\"vector 6\",\"showscale\":false,\"sizemode\":\"absolute\",\"sizeref\":0.5666666666666667,\"type\":\"cone\",\"u\":[-2],\"v\":[0],\"w\":[-4],\"x\":[-2],\"y\":[0],\"z\":[-4]},{\"hoverinfo\":\"name+text\",\"hovertext\":\"Tail=(-2,0,-4)\\nHead=(0.0,3.0,-6.0)\",\"line\":{\"color\":\"rgb(154,0,235)\",\"width\":7},\"marker\":{\"color\":\"rgb(154,0,235)\",\"size\":1},\"name\":\"vector 7\",\"type\":\"scatter3d\",\"x\":[-2,0.0],\"y\":[0,3.0],\"z\":[-4,-6.0]},{\"anchor\":\"cm\",\"colorbar\":{\"thickness\":20,\"ticklen\":4},\"colorscale\":[[0,\"rgb(154,0,235)\"],[1,\"rgb(154,0,235)\"]],\"hoverinfo\":\"skip\",\"name\":\"vector 7\",\"showscale\":false,\"sizemode\":\"absolute\",\"sizeref\":0.5666666666666667,\"type\":\"cone\",\"u\":[1.0],\"v\":[1.5],\"w\":[-1.0],\"x\":[-0.126],\"y\":[2.811],\"z\":[-5.874]},{\"marker\":{\"color\":\"#2a3f5f\",\"size\":5},\"mode\":\"markers\",\"name\":\"origen\",\"showlegend\":true,\"type\":\"scatter3d\",\"x\":[0],\"y\":[0],\"z\":[0]},{\"hoverinfo\":\"skip\",\"line\":{\"color\":\"#2a3f5f\",\"width\":3},\"marker\":{\"color\":\"#2a3f5f\",\"size\":1},\"name\":\"\",\"showlegend\":false,\"type\":\"scatter3d\",\"x\":[-2.5666666666666664,5.566666666666666],\"y\":[0,0],\"z\":[0,0]},{\"anchor\":\"cm\",\"colorbar\":{\"thickness\":20,\"ticklen\":4},\"colorscale\":[[0,\"#2a3f5f\"],[1,\"#2a3f5f\"]],\"hoverinfo\":\"name\",\"name\":\"Eje x-positivo\",\"showscale\":false,\"sizemode\":\"absolute\",\"sizeref\":0.33999999999999997,\"type\":\"cone\",\"u\":[5.566666666666666],\"v\":[0],\"w\":[0],\"x\":[5.566666666666666],\"y\":[0],\"z\":[0]},{\"hoverinfo\":\"skip\",\"line\":{\"color\":\"#2a3f5f\",\"width\":3},\"marker\":{\"color\":\"#2a3f5f\",\"size\":1},\"name\":\"\",\"showlegend\":false,\"type\":\"scatter3d\",\"x\":[0,0],\"y\":[-0.5666666666666667,8.566666666666666],\"z\":[0,0]},{\"anchor\":\"cm\",\"colorbar\":{\"thickness\":20,\"ticklen\":4},\"colorscale\":[[0,\"#2a3f5f\"],[1,\"#2a3f5f\"]],\"hoverinfo\":\"name\",\"name\":\"Eje y-positivo \",\"showscale\":false,\"sizemode\":\"absolute\",\"sizeref\":0.33999999999999997,\"type\":\"cone\",\"u\":[0],\"v\":[8.566666666666666],\"w\":[0],\"x\":[0],\"y\":[8.566666666666666],\"z\":[0]},{\"hoverinfo\":\"skip\",\"line\":{\"color\":\"#2a3f5f\",\"width\":3},\"marker\":{\"color\":\"#2a3f5f\",\"size\":1},\"name\":\"eje z-positivo\",\"showlegend\":false,\"type\":\"scatter3d\",\"x\":[0,0],\"y\":[0,0],\"z\":[-6.566666666666666,4.566666666666666]},{\"anchor\":\"cm\",\"colorbar\":{\"thickness\":20,\"ticklen\":4},\"colorscale\":[[0,\"#2a3f5f\"],[1,\"#2a3f5f\"]],\"hoverinfo\":\"name\",\"name\":\"Eje z-positivo\",\"showscale\":false,\"sizemode\":\"absolute\",\"sizeref\":0.33999999999999997,\"type\":\"cone\",\"u\":[0],\"v\":[0],\"w\":[4.566666666666666],\"x\":[0],\"y\":[0],\"z\":[4.566666666666666]}],                        {\"height\":480,\"legend\":{\"orientation\":\"h\",\"x\":0.03,\"y\":1.3},\"margin\":{\"b\":0,\"l\":0,\"r\":0,\"t\":0},\"showlegend\":true,\"template\":{\"data\":{\"bar\":[{\"error_x\":{\"color\":\"#2a3f5f\"},\"error_y\":{\"color\":\"#2a3f5f\"},\"marker\":{\"line\":{\"color\":\"#E5ECF6\",\"width\":0.5},\"pattern\":{\"fillmode\":\"overlay\",\"size\":10,\"solidity\":0.2}},\"type\":\"bar\"}],\"barpolar\":[{\"marker\":{\"line\":{\"color\":\"#E5ECF6\",\"width\":0.5},\"pattern\":{\"fillmode\":\"overlay\",\"size\":10,\"solidity\":0.2}},\"type\":\"barpolar\"}],\"carpet\":[{\"aaxis\":{\"endlinecolor\":\"#2a3f5f\",\"gridcolor\":\"white\",\"linecolor\":\"white\",\"minorgridcolor\":\"white\",\"startlinecolor\":\"#2a3f5f\"},\"baxis\":{\"endlinecolor\":\"#2a3f5f\",\"gridcolor\":\"white\",\"linecolor\":\"white\",\"minorgridcolor\":\"white\",\"startlinecolor\":\"#2a3f5f\"},\"type\":\"carpet\"}],\"choropleth\":[{\"colorbar\":{\"outlinewidth\":0,\"ticks\":\"\"},\"type\":\"choropleth\"}],\"contour\":[{\"colorbar\":{\"outlinewidth\":0,\"ticks\":\"\"},\"colorscale\":[[0.0,\"#0d0887\"],[0.1111111111111111,\"#46039f\"],[0.2222222222222222,\"#7201a8\"],[0.3333333333333333,\"#9c179e\"],[0.4444444444444444,\"#bd3786\"],[0.5555555555555556,\"#d8576b\"],[0.6666666666666666,\"#ed7953\"],[0.7777777777777778,\"#fb9f3a\"],[0.8888888888888888,\"#fdca26\"],[1.0,\"#f0f921\"]],\"type\":\"contour\"}],\"contourcarpet\":[{\"colorbar\":{\"outlinewidth\":0,\"ticks\":\"\"},\"type\":\"contourcarpet\"}],\"heatmap\":[{\"colorbar\":{\"outlinewidth\":0,\"ticks\":\"\"},\"colorscale\":[[0.0,\"#0d0887\"],[0.1111111111111111,\"#46039f\"],[0.2222222222222222,\"#7201a8\"],[0.3333333333333333,\"#9c179e\"],[0.4444444444444444,\"#bd3786\"],[0.5555555555555556,\"#d8576b\"],[0.6666666666666666,\"#ed7953\"],[0.7777777777777778,\"#fb9f3a\"],[0.8888888888888888,\"#fdca26\"],[1.0,\"#f0f921\"]],\"type\":\"heatmap\"}],\"heatmapgl\":[{\"colorbar\":{\"outlinewidth\":0,\"ticks\":\"\"},\"colorscale\":[[0.0,\"#0d0887\"],[0.1111111111111111,\"#46039f\"],[0.2222222222222222,\"#7201a8\"],[0.3333333333333333,\"#9c179e\"],[0.4444444444444444,\"#bd3786\"],[0.5555555555555556,\"#d8576b\"],[0.6666666666666666,\"#ed7953\"],[0.7777777777777778,\"#fb9f3a\"],[0.8888888888888888,\"#fdca26\"],[1.0,\"#f0f921\"]],\"type\":\"heatmapgl\"}],\"histogram\":[{\"marker\":{\"pattern\":{\"fillmode\":\"overlay\",\"size\":10,\"solidity\":0.2}},\"type\":\"histogram\"}],\"histogram2d\":[{\"colorbar\":{\"outlinewidth\":0,\"ticks\":\"\"},\"colorscale\":[[0.0,\"#0d0887\"],[0.1111111111111111,\"#46039f\"],[0.2222222222222222,\"#7201a8\"],[0.3333333333333333,\"#9c179e\"],[0.4444444444444444,\"#bd3786\"],[0.5555555555555556,\"#d8576b\"],[0.6666666666666666,\"#ed7953\"],[0.7777777777777778,\"#fb9f3a\"],[0.8888888888888888,\"#fdca26\"],[1.0,\"#f0f921\"]],\"type\":\"histogram2d\"}],\"histogram2dcontour\":[{\"colorbar\":{\"outlinewidth\":0,\"ticks\":\"\"},\"colorscale\":[[0.0,\"#0d0887\"],[0.1111111111111111,\"#46039f\"],[0.2222222222222222,\"#7201a8\"],[0.3333333333333333,\"#9c179e\"],[0.4444444444444444,\"#bd3786\"],[0.5555555555555556,\"#d8576b\"],[0.6666666666666666,\"#ed7953\"],[0.7777777777777778,\"#fb9f3a\"],[0.8888888888888888,\"#fdca26\"],[1.0,\"#f0f921\"]],\"type\":\"histogram2dcontour\"}],\"mesh3d\":[{\"colorbar\":{\"outlinewidth\":0,\"ticks\":\"\"},\"type\":\"mesh3d\"}],\"parcoords\":[{\"line\":{\"colorbar\":{\"outlinewidth\":0,\"ticks\":\"\"}},\"type\":\"parcoords\"}],\"pie\":[{\"automargin\":true,\"type\":\"pie\"}],\"scatter\":[{\"marker\":{\"colorbar\":{\"outlinewidth\":0,\"ticks\":\"\"}},\"type\":\"scatter\"}],\"scatter3d\":[{\"line\":{\"colorbar\":{\"outlinewidth\":0,\"ticks\":\"\"}},\"marker\":{\"colorbar\":{\"outlinewidth\":0,\"ticks\":\"\"}},\"type\":\"scatter3d\"}],\"scattercarpet\":[{\"marker\":{\"colorbar\":{\"outlinewidth\":0,\"ticks\":\"\"}},\"type\":\"scattercarpet\"}],\"scattergeo\":[{\"marker\":{\"colorbar\":{\"outlinewidth\":0,\"ticks\":\"\"}},\"type\":\"scattergeo\"}],\"scattergl\":[{\"marker\":{\"colorbar\":{\"outlinewidth\":0,\"ticks\":\"\"}},\"type\":\"scattergl\"}],\"scattermapbox\":[{\"marker\":{\"colorbar\":{\"outlinewidth\":0,\"ticks\":\"\"}},\"type\":\"scattermapbox\"}],\"scatterpolar\":[{\"marker\":{\"colorbar\":{\"outlinewidth\":0,\"ticks\":\"\"}},\"type\":\"scatterpolar\"}],\"scatterpolargl\":[{\"marker\":{\"colorbar\":{\"outlinewidth\":0,\"ticks\":\"\"}},\"type\":\"scatterpolargl\"}],\"scatterternary\":[{\"marker\":{\"colorbar\":{\"outlinewidth\":0,\"ticks\":\"\"}},\"type\":\"scatterternary\"}],\"surface\":[{\"colorbar\":{\"outlinewidth\":0,\"ticks\":\"\"},\"colorscale\":[[0.0,\"#0d0887\"],[0.1111111111111111,\"#46039f\"],[0.2222222222222222,\"#7201a8\"],[0.3333333333333333,\"#9c179e\"],[0.4444444444444444,\"#bd3786\"],[0.5555555555555556,\"#d8576b\"],[0.6666666666666666,\"#ed7953\"],[0.7777777777777778,\"#fb9f3a\"],[0.8888888888888888,\"#fdca26\"],[1.0,\"#f0f921\"]],\"type\":\"surface\"}],\"table\":[{\"cells\":{\"fill\":{\"color\":\"#EBF0F8\"},\"line\":{\"color\":\"white\"}},\"header\":{\"fill\":{\"color\":\"#C8D4E3\"},\"line\":{\"color\":\"white\"}},\"type\":\"table\"}]},\"layout\":{\"annotationdefaults\":{\"arrowcolor\":\"#2a3f5f\",\"arrowhead\":0,\"arrowwidth\":1},\"autotypenumbers\":\"strict\",\"coloraxis\":{\"colorbar\":{\"outlinewidth\":0,\"ticks\":\"\"}},\"colorscale\":{\"diverging\":[[0,\"#8e0152\"],[0.1,\"#c51b7d\"],[0.2,\"#de77ae\"],[0.3,\"#f1b6da\"],[0.4,\"#fde0ef\"],[0.5,\"#f7f7f7\"],[0.6,\"#e6f5d0\"],[0.7,\"#b8e186\"],[0.8,\"#7fbc41\"],[0.9,\"#4d9221\"],[1,\"#276419\"]],\"sequential\":[[0.0,\"#0d0887\"],[0.1111111111111111,\"#46039f\"],[0.2222222222222222,\"#7201a8\"],[0.3333333333333333,\"#9c179e\"],[0.4444444444444444,\"#bd3786\"],[0.5555555555555556,\"#d8576b\"],[0.6666666666666666,\"#ed7953\"],[0.7777777777777778,\"#fb9f3a\"],[0.8888888888888888,\"#fdca26\"],[1.0,\"#f0f921\"]],\"sequentialminus\":[[0.0,\"#0d0887\"],[0.1111111111111111,\"#46039f\"],[0.2222222222222222,\"#7201a8\"],[0.3333333333333333,\"#9c179e\"],[0.4444444444444444,\"#bd3786\"],[0.5555555555555556,\"#d8576b\"],[0.6666666666666666,\"#ed7953\"],[0.7777777777777778,\"#fb9f3a\"],[0.8888888888888888,\"#fdca26\"],[1.0,\"#f0f921\"]]},\"colorway\":[\"#636efa\",\"#EF553B\",\"#00cc96\",\"#ab63fa\",\"#FFA15A\",\"#19d3f3\",\"#FF6692\",\"#B6E880\",\"#FF97FF\",\"#FECB52\"],\"font\":{\"color\":\"#2a3f5f\"},\"geo\":{\"bgcolor\":\"white\",\"lakecolor\":\"white\",\"landcolor\":\"#E5ECF6\",\"showlakes\":true,\"showland\":true,\"subunitcolor\":\"white\"},\"hoverlabel\":{\"align\":\"left\"},\"hovermode\":\"closest\",\"mapbox\":{\"style\":\"light\"},\"paper_bgcolor\":\"white\",\"plot_bgcolor\":\"#E5ECF6\",\"polar\":{\"angularaxis\":{\"gridcolor\":\"white\",\"linecolor\":\"white\",\"ticks\":\"\"},\"bgcolor\":\"#E5ECF6\",\"radialaxis\":{\"gridcolor\":\"white\",\"linecolor\":\"white\",\"ticks\":\"\"}},\"scene\":{\"xaxis\":{\"backgroundcolor\":\"#E5ECF6\",\"gridcolor\":\"white\",\"gridwidth\":2,\"linecolor\":\"white\",\"showbackground\":true,\"ticks\":\"\",\"zerolinecolor\":\"white\"},\"yaxis\":{\"backgroundcolor\":\"#E5ECF6\",\"gridcolor\":\"white\",\"gridwidth\":2,\"linecolor\":\"white\",\"showbackground\":true,\"ticks\":\"\",\"zerolinecolor\":\"white\"},\"zaxis\":{\"backgroundcolor\":\"#E5ECF6\",\"gridcolor\":\"white\",\"gridwidth\":2,\"linecolor\":\"white\",\"showbackground\":true,\"ticks\":\"\",\"zerolinecolor\":\"white\"}},\"shapedefaults\":{\"line\":{\"color\":\"#2a3f5f\"}},\"ternary\":{\"aaxis\":{\"gridcolor\":\"white\",\"linecolor\":\"white\",\"ticks\":\"\"},\"baxis\":{\"gridcolor\":\"white\",\"linecolor\":\"white\",\"ticks\":\"\"},\"bgcolor\":\"#E5ECF6\",\"caxis\":{\"gridcolor\":\"white\",\"linecolor\":\"white\",\"ticks\":\"\"}},\"title\":{\"x\":0.05},\"xaxis\":{\"automargin\":true,\"gridcolor\":\"white\",\"linecolor\":\"white\",\"ticks\":\"\",\"title\":{\"standoff\":15},\"zerolinecolor\":\"white\",\"zerolinewidth\":2},\"yaxis\":{\"automargin\":true,\"gridcolor\":\"white\",\"linecolor\":\"white\",\"ticks\":\"\",\"title\":{\"standoff\":15},\"zerolinecolor\":\"white\",\"zerolinewidth\":2}}},\"title\":{\"font\":{\"color\":\"rgb(1,21,51)\",\"size\":50}},\"width\":480},                        {\"responsive\": true}                    ).then(function(){\n",
              "                            \n",
              "var gd = document.getElementById('c5fbb2f5-71fa-47d1-9330-99afb410ea93');\n",
              "var x = new MutationObserver(function (mutations, observer) {{\n",
              "        var display = window.getComputedStyle(gd).display;\n",
              "        if (!display || display === 'none') {{\n",
              "            console.log([gd, 'removed!']);\n",
              "            Plotly.purge(gd);\n",
              "            observer.disconnect();\n",
              "        }}\n",
              "}});\n",
              "\n",
              "// Listen for the removal of the full notebook cells\n",
              "var notebookContainer = gd.closest('#notebook-container');\n",
              "if (notebookContainer) {{\n",
              "    x.observe(notebookContainer, {childList: true});\n",
              "}}\n",
              "\n",
              "// Listen for the clearing of the current output cell\n",
              "var outputEl = gd.closest('.output');\n",
              "if (outputEl) {{\n",
              "    x.observe(outputEl, {childList: true});\n",
              "}}\n",
              "\n",
              "                        })                };                            </script>        </div>\n",
              "</body>\n",
              "</html>"
            ]
          },
          "metadata": {}
        }
      ]
    },
    {
      "cell_type": "code",
      "source": [
        "plotvectors3D(A,B,C,A+(B+C),[(-1,-5,-4),C],[(-2,-10,1),A])"
      ],
      "metadata": {
        "colab": {
          "base_uri": "https://localhost:8080/",
          "height": 497
        },
        "id": "HvP99gjUJQQa",
        "outputId": "19aa136a-4c00-4001-cf9e-8ce43d57ad11"
      },
      "execution_count": 34,
      "outputs": [
        {
          "output_type": "display_data",
          "data": {
            "text/html": [
              "<html>\n",
              "<head><meta charset=\"utf-8\" /></head>\n",
              "<body>\n",
              "    <div>            <script src=\"https://cdnjs.cloudflare.com/ajax/libs/mathjax/2.7.5/MathJax.js?config=TeX-AMS-MML_SVG\"></script><script type=\"text/javascript\">if (window.MathJax) {MathJax.Hub.Config({SVG: {font: \"STIX-Web\"}});}</script>                <script type=\"text/javascript\">window.PlotlyConfig = {MathJaxConfig: 'local'};</script>\n",
              "        <script src=\"https://cdn.plot.ly/plotly-2.2.0.min.js\"></script>                <div id=\"845d43af-d589-43af-9cc1-00da1f51b8f6\" class=\"plotly-graph-div\" style=\"height:480px; width:480px;\"></div>            <script type=\"text/javascript\">                                    window.PLOTLYENV=window.PLOTLYENV || {};                                    if (document.getElementById(\"845d43af-d589-43af-9cc1-00da1f51b8f6\")) {                    Plotly.newPlot(                        \"845d43af-d589-43af-9cc1-00da1f51b8f6\",                        [{\"line\":{\"color\":\"rgb(188,111,73)\",\"width\":7},\"marker\":{\"color\":\"rgb(188,111,73)\",\"size\":1},\"name\":\"vector 1\",\"type\":\"scatter3d\",\"x\":[0,2.0],\"y\":[0,1.0],\"z\":[0,4.0]},{\"anchor\":\"cm\",\"colorbar\":{\"thickness\":20,\"ticklen\":4},\"colorscale\":[[0,\"rgb(188,111,73)\"],[1,\"rgb(188,111,73)\"]],\"name\":\"vector 1\",\"showscale\":false,\"sizemode\":\"absolute\",\"sizeref\":0.5666666666666667,\"type\":\"cone\",\"u\":[2.0],\"v\":[1.0],\"w\":[4.0],\"x\":[2.0],\"y\":[1.0],\"z\":[4.0]},{\"line\":{\"color\":\"rgb(12,154,112)\",\"width\":7},\"marker\":{\"color\":\"rgb(12,154,112)\",\"size\":1},\"name\":\"vector 2\",\"type\":\"scatter3d\",\"x\":[0,1.0],\"y\":[0,3.0],\"z\":[0,-5.0]},{\"anchor\":\"cm\",\"colorbar\":{\"thickness\":20,\"ticklen\":4},\"colorscale\":[[0,\"rgb(12,154,112)\"],[1,\"rgb(12,154,112)\"]],\"name\":\"vector 2\",\"showscale\":false,\"sizemode\":\"absolute\",\"sizeref\":0.5666666666666667,\"type\":\"cone\",\"u\":[1.0],\"v\":[3.0],\"w\":[-5.0],\"x\":[1.0],\"y\":[3.0],\"z\":[-5.0]},{\"line\":{\"color\":\"rgb(139,11,2)\",\"width\":7},\"marker\":{\"color\":\"rgb(139,11,2)\",\"size\":1},\"name\":\"vector 3\",\"type\":\"scatter3d\",\"x\":[0,2.0],\"y\":[0,3.0],\"z\":[0,-2.0]},{\"anchor\":\"cm\",\"colorbar\":{\"thickness\":20,\"ticklen\":4},\"colorscale\":[[0,\"rgb(139,11,2)\"],[1,\"rgb(139,11,2)\"]],\"name\":\"vector 3\",\"showscale\":false,\"sizemode\":\"absolute\",\"sizeref\":0.5666666666666667,\"type\":\"cone\",\"u\":[2.0],\"v\":[3.0],\"w\":[-2.0],\"x\":[2.0],\"y\":[3.0],\"z\":[-2.0]},{\"line\":{\"color\":\"rgb(233,45,98)\",\"width\":7},\"marker\":{\"color\":\"rgb(233,45,98)\",\"size\":1},\"name\":\"vector 4\",\"type\":\"scatter3d\",\"x\":[0,5.0],\"y\":[0,7.0],\"z\":[0,-3.0]},{\"anchor\":\"cm\",\"colorbar\":{\"thickness\":20,\"ticklen\":4},\"colorscale\":[[0,\"rgb(233,45,98)\"],[1,\"rgb(233,45,98)\"]],\"name\":\"vector 4\",\"showscale\":false,\"sizemode\":\"absolute\",\"sizeref\":0.5666666666666667,\"type\":\"cone\",\"u\":[5.0],\"v\":[7.0],\"w\":[-3.0],\"x\":[5.0],\"y\":[7.0],\"z\":[-3.0]},{\"hoverinfo\":\"name+text\",\"hovertext\":\"Tail=(-1,-5,-4)\\nHead=(1.0,-2.0,-6.0)\",\"line\":{\"color\":\"rgb(127,123,167)\",\"width\":7},\"marker\":{\"color\":\"rgb(127,123,167)\",\"size\":1},\"name\":\"vector 5\",\"type\":\"scatter3d\",\"x\":[-1,1.0],\"y\":[-5,-2.0],\"z\":[-4,-6.0]},{\"anchor\":\"cm\",\"colorbar\":{\"thickness\":20,\"ticklen\":4},\"colorscale\":[[0,\"rgb(127,123,167)\"],[1,\"rgb(127,123,167)\"]],\"hoverinfo\":\"skip\",\"name\":\"vector 5\",\"showscale\":false,\"sizemode\":\"absolute\",\"sizeref\":0.5666666666666667,\"type\":\"cone\",\"u\":[1.0],\"v\":[1.5],\"w\":[-1.0],\"x\":[0.874],\"y\":[-2.189],\"z\":[-5.874]},{\"hoverinfo\":\"name+text\",\"hovertext\":\"Tail=(-2,-10,1)\\nHead=(0.0,-9.0,5.0)\",\"line\":{\"color\":\"rgb(240,119,10)\",\"width\":7},\"marker\":{\"color\":\"rgb(240,119,10)\",\"size\":1},\"name\":\"vector 6\",\"type\":\"scatter3d\",\"x\":[-2,0.0],\"y\":[-10,-9.0],\"z\":[1,5.0]},{\"anchor\":\"cm\",\"colorbar\":{\"thickness\":20,\"ticklen\":4},\"colorscale\":[[0,\"rgb(240,119,10)\"],[1,\"rgb(240,119,10)\"]],\"hoverinfo\":\"skip\",\"name\":\"vector 6\",\"showscale\":false,\"sizemode\":\"absolute\",\"sizeref\":0.5666666666666667,\"type\":\"cone\",\"u\":[1.0],\"v\":[0.5],\"w\":[2.0],\"x\":[-0.126],\"y\":[-9.063],\"z\":[4.748]},{\"marker\":{\"color\":\"#2a3f5f\",\"size\":5},\"mode\":\"markers\",\"name\":\"origen\",\"showlegend\":true,\"type\":\"scatter3d\",\"x\":[0],\"y\":[0],\"z\":[0]},{\"hoverinfo\":\"skip\",\"line\":{\"color\":\"#2a3f5f\",\"width\":3},\"marker\":{\"color\":\"#2a3f5f\",\"size\":1},\"name\":\"\",\"showlegend\":false,\"type\":\"scatter3d\",\"x\":[-2.5666666666666664,5.566666666666666],\"y\":[0,0],\"z\":[0,0]},{\"anchor\":\"cm\",\"colorbar\":{\"thickness\":20,\"ticklen\":4},\"colorscale\":[[0,\"#2a3f5f\"],[1,\"#2a3f5f\"]],\"hoverinfo\":\"name\",\"name\":\"Eje x-positivo\",\"showscale\":false,\"sizemode\":\"absolute\",\"sizeref\":0.33999999999999997,\"type\":\"cone\",\"u\":[5.566666666666666],\"v\":[0],\"w\":[0],\"x\":[5.566666666666666],\"y\":[0],\"z\":[0]},{\"hoverinfo\":\"skip\",\"line\":{\"color\":\"#2a3f5f\",\"width\":3},\"marker\":{\"color\":\"#2a3f5f\",\"size\":1},\"name\":\"\",\"showlegend\":false,\"type\":\"scatter3d\",\"x\":[0,0],\"y\":[-10.566666666666666,7.566666666666666],\"z\":[0,0]},{\"anchor\":\"cm\",\"colorbar\":{\"thickness\":20,\"ticklen\":4},\"colorscale\":[[0,\"#2a3f5f\"],[1,\"#2a3f5f\"]],\"hoverinfo\":\"name\",\"name\":\"Eje y-positivo \",\"showscale\":false,\"sizemode\":\"absolute\",\"sizeref\":0.33999999999999997,\"type\":\"cone\",\"u\":[0],\"v\":[7.566666666666666],\"w\":[0],\"x\":[0],\"y\":[7.566666666666666],\"z\":[0]},{\"hoverinfo\":\"skip\",\"line\":{\"color\":\"#2a3f5f\",\"width\":3},\"marker\":{\"color\":\"#2a3f5f\",\"size\":1},\"name\":\"eje z-positivo\",\"showlegend\":false,\"type\":\"scatter3d\",\"x\":[0,0],\"y\":[0,0],\"z\":[-6.566666666666666,5.566666666666666]},{\"anchor\":\"cm\",\"colorbar\":{\"thickness\":20,\"ticklen\":4},\"colorscale\":[[0,\"#2a3f5f\"],[1,\"#2a3f5f\"]],\"hoverinfo\":\"name\",\"name\":\"Eje z-positivo\",\"showscale\":false,\"sizemode\":\"absolute\",\"sizeref\":0.33999999999999997,\"type\":\"cone\",\"u\":[0],\"v\":[0],\"w\":[5.566666666666666],\"x\":[0],\"y\":[0],\"z\":[5.566666666666666]}],                        {\"height\":480,\"legend\":{\"orientation\":\"h\",\"x\":0.03,\"y\":1.3},\"margin\":{\"b\":0,\"l\":0,\"r\":0,\"t\":0},\"showlegend\":true,\"template\":{\"data\":{\"bar\":[{\"error_x\":{\"color\":\"#2a3f5f\"},\"error_y\":{\"color\":\"#2a3f5f\"},\"marker\":{\"line\":{\"color\":\"#E5ECF6\",\"width\":0.5},\"pattern\":{\"fillmode\":\"overlay\",\"size\":10,\"solidity\":0.2}},\"type\":\"bar\"}],\"barpolar\":[{\"marker\":{\"line\":{\"color\":\"#E5ECF6\",\"width\":0.5},\"pattern\":{\"fillmode\":\"overlay\",\"size\":10,\"solidity\":0.2}},\"type\":\"barpolar\"}],\"carpet\":[{\"aaxis\":{\"endlinecolor\":\"#2a3f5f\",\"gridcolor\":\"white\",\"linecolor\":\"white\",\"minorgridcolor\":\"white\",\"startlinecolor\":\"#2a3f5f\"},\"baxis\":{\"endlinecolor\":\"#2a3f5f\",\"gridcolor\":\"white\",\"linecolor\":\"white\",\"minorgridcolor\":\"white\",\"startlinecolor\":\"#2a3f5f\"},\"type\":\"carpet\"}],\"choropleth\":[{\"colorbar\":{\"outlinewidth\":0,\"ticks\":\"\"},\"type\":\"choropleth\"}],\"contour\":[{\"colorbar\":{\"outlinewidth\":0,\"ticks\":\"\"},\"colorscale\":[[0.0,\"#0d0887\"],[0.1111111111111111,\"#46039f\"],[0.2222222222222222,\"#7201a8\"],[0.3333333333333333,\"#9c179e\"],[0.4444444444444444,\"#bd3786\"],[0.5555555555555556,\"#d8576b\"],[0.6666666666666666,\"#ed7953\"],[0.7777777777777778,\"#fb9f3a\"],[0.8888888888888888,\"#fdca26\"],[1.0,\"#f0f921\"]],\"type\":\"contour\"}],\"contourcarpet\":[{\"colorbar\":{\"outlinewidth\":0,\"ticks\":\"\"},\"type\":\"contourcarpet\"}],\"heatmap\":[{\"colorbar\":{\"outlinewidth\":0,\"ticks\":\"\"},\"colorscale\":[[0.0,\"#0d0887\"],[0.1111111111111111,\"#46039f\"],[0.2222222222222222,\"#7201a8\"],[0.3333333333333333,\"#9c179e\"],[0.4444444444444444,\"#bd3786\"],[0.5555555555555556,\"#d8576b\"],[0.6666666666666666,\"#ed7953\"],[0.7777777777777778,\"#fb9f3a\"],[0.8888888888888888,\"#fdca26\"],[1.0,\"#f0f921\"]],\"type\":\"heatmap\"}],\"heatmapgl\":[{\"colorbar\":{\"outlinewidth\":0,\"ticks\":\"\"},\"colorscale\":[[0.0,\"#0d0887\"],[0.1111111111111111,\"#46039f\"],[0.2222222222222222,\"#7201a8\"],[0.3333333333333333,\"#9c179e\"],[0.4444444444444444,\"#bd3786\"],[0.5555555555555556,\"#d8576b\"],[0.6666666666666666,\"#ed7953\"],[0.7777777777777778,\"#fb9f3a\"],[0.8888888888888888,\"#fdca26\"],[1.0,\"#f0f921\"]],\"type\":\"heatmapgl\"}],\"histogram\":[{\"marker\":{\"pattern\":{\"fillmode\":\"overlay\",\"size\":10,\"solidity\":0.2}},\"type\":\"histogram\"}],\"histogram2d\":[{\"colorbar\":{\"outlinewidth\":0,\"ticks\":\"\"},\"colorscale\":[[0.0,\"#0d0887\"],[0.1111111111111111,\"#46039f\"],[0.2222222222222222,\"#7201a8\"],[0.3333333333333333,\"#9c179e\"],[0.4444444444444444,\"#bd3786\"],[0.5555555555555556,\"#d8576b\"],[0.6666666666666666,\"#ed7953\"],[0.7777777777777778,\"#fb9f3a\"],[0.8888888888888888,\"#fdca26\"],[1.0,\"#f0f921\"]],\"type\":\"histogram2d\"}],\"histogram2dcontour\":[{\"colorbar\":{\"outlinewidth\":0,\"ticks\":\"\"},\"colorscale\":[[0.0,\"#0d0887\"],[0.1111111111111111,\"#46039f\"],[0.2222222222222222,\"#7201a8\"],[0.3333333333333333,\"#9c179e\"],[0.4444444444444444,\"#bd3786\"],[0.5555555555555556,\"#d8576b\"],[0.6666666666666666,\"#ed7953\"],[0.7777777777777778,\"#fb9f3a\"],[0.8888888888888888,\"#fdca26\"],[1.0,\"#f0f921\"]],\"type\":\"histogram2dcontour\"}],\"mesh3d\":[{\"colorbar\":{\"outlinewidth\":0,\"ticks\":\"\"},\"type\":\"mesh3d\"}],\"parcoords\":[{\"line\":{\"colorbar\":{\"outlinewidth\":0,\"ticks\":\"\"}},\"type\":\"parcoords\"}],\"pie\":[{\"automargin\":true,\"type\":\"pie\"}],\"scatter\":[{\"marker\":{\"colorbar\":{\"outlinewidth\":0,\"ticks\":\"\"}},\"type\":\"scatter\"}],\"scatter3d\":[{\"line\":{\"colorbar\":{\"outlinewidth\":0,\"ticks\":\"\"}},\"marker\":{\"colorbar\":{\"outlinewidth\":0,\"ticks\":\"\"}},\"type\":\"scatter3d\"}],\"scattercarpet\":[{\"marker\":{\"colorbar\":{\"outlinewidth\":0,\"ticks\":\"\"}},\"type\":\"scattercarpet\"}],\"scattergeo\":[{\"marker\":{\"colorbar\":{\"outlinewidth\":0,\"ticks\":\"\"}},\"type\":\"scattergeo\"}],\"scattergl\":[{\"marker\":{\"colorbar\":{\"outlinewidth\":0,\"ticks\":\"\"}},\"type\":\"scattergl\"}],\"scattermapbox\":[{\"marker\":{\"colorbar\":{\"outlinewidth\":0,\"ticks\":\"\"}},\"type\":\"scattermapbox\"}],\"scatterpolar\":[{\"marker\":{\"colorbar\":{\"outlinewidth\":0,\"ticks\":\"\"}},\"type\":\"scatterpolar\"}],\"scatterpolargl\":[{\"marker\":{\"colorbar\":{\"outlinewidth\":0,\"ticks\":\"\"}},\"type\":\"scatterpolargl\"}],\"scatterternary\":[{\"marker\":{\"colorbar\":{\"outlinewidth\":0,\"ticks\":\"\"}},\"type\":\"scatterternary\"}],\"surface\":[{\"colorbar\":{\"outlinewidth\":0,\"ticks\":\"\"},\"colorscale\":[[0.0,\"#0d0887\"],[0.1111111111111111,\"#46039f\"],[0.2222222222222222,\"#7201a8\"],[0.3333333333333333,\"#9c179e\"],[0.4444444444444444,\"#bd3786\"],[0.5555555555555556,\"#d8576b\"],[0.6666666666666666,\"#ed7953\"],[0.7777777777777778,\"#fb9f3a\"],[0.8888888888888888,\"#fdca26\"],[1.0,\"#f0f921\"]],\"type\":\"surface\"}],\"table\":[{\"cells\":{\"fill\":{\"color\":\"#EBF0F8\"},\"line\":{\"color\":\"white\"}},\"header\":{\"fill\":{\"color\":\"#C8D4E3\"},\"line\":{\"color\":\"white\"}},\"type\":\"table\"}]},\"layout\":{\"annotationdefaults\":{\"arrowcolor\":\"#2a3f5f\",\"arrowhead\":0,\"arrowwidth\":1},\"autotypenumbers\":\"strict\",\"coloraxis\":{\"colorbar\":{\"outlinewidth\":0,\"ticks\":\"\"}},\"colorscale\":{\"diverging\":[[0,\"#8e0152\"],[0.1,\"#c51b7d\"],[0.2,\"#de77ae\"],[0.3,\"#f1b6da\"],[0.4,\"#fde0ef\"],[0.5,\"#f7f7f7\"],[0.6,\"#e6f5d0\"],[0.7,\"#b8e186\"],[0.8,\"#7fbc41\"],[0.9,\"#4d9221\"],[1,\"#276419\"]],\"sequential\":[[0.0,\"#0d0887\"],[0.1111111111111111,\"#46039f\"],[0.2222222222222222,\"#7201a8\"],[0.3333333333333333,\"#9c179e\"],[0.4444444444444444,\"#bd3786\"],[0.5555555555555556,\"#d8576b\"],[0.6666666666666666,\"#ed7953\"],[0.7777777777777778,\"#fb9f3a\"],[0.8888888888888888,\"#fdca26\"],[1.0,\"#f0f921\"]],\"sequentialminus\":[[0.0,\"#0d0887\"],[0.1111111111111111,\"#46039f\"],[0.2222222222222222,\"#7201a8\"],[0.3333333333333333,\"#9c179e\"],[0.4444444444444444,\"#bd3786\"],[0.5555555555555556,\"#d8576b\"],[0.6666666666666666,\"#ed7953\"],[0.7777777777777778,\"#fb9f3a\"],[0.8888888888888888,\"#fdca26\"],[1.0,\"#f0f921\"]]},\"colorway\":[\"#636efa\",\"#EF553B\",\"#00cc96\",\"#ab63fa\",\"#FFA15A\",\"#19d3f3\",\"#FF6692\",\"#B6E880\",\"#FF97FF\",\"#FECB52\"],\"font\":{\"color\":\"#2a3f5f\"},\"geo\":{\"bgcolor\":\"white\",\"lakecolor\":\"white\",\"landcolor\":\"#E5ECF6\",\"showlakes\":true,\"showland\":true,\"subunitcolor\":\"white\"},\"hoverlabel\":{\"align\":\"left\"},\"hovermode\":\"closest\",\"mapbox\":{\"style\":\"light\"},\"paper_bgcolor\":\"white\",\"plot_bgcolor\":\"#E5ECF6\",\"polar\":{\"angularaxis\":{\"gridcolor\":\"white\",\"linecolor\":\"white\",\"ticks\":\"\"},\"bgcolor\":\"#E5ECF6\",\"radialaxis\":{\"gridcolor\":\"white\",\"linecolor\":\"white\",\"ticks\":\"\"}},\"scene\":{\"xaxis\":{\"backgroundcolor\":\"#E5ECF6\",\"gridcolor\":\"white\",\"gridwidth\":2,\"linecolor\":\"white\",\"showbackground\":true,\"ticks\":\"\",\"zerolinecolor\":\"white\"},\"yaxis\":{\"backgroundcolor\":\"#E5ECF6\",\"gridcolor\":\"white\",\"gridwidth\":2,\"linecolor\":\"white\",\"showbackground\":true,\"ticks\":\"\",\"zerolinecolor\":\"white\"},\"zaxis\":{\"backgroundcolor\":\"#E5ECF6\",\"gridcolor\":\"white\",\"gridwidth\":2,\"linecolor\":\"white\",\"showbackground\":true,\"ticks\":\"\",\"zerolinecolor\":\"white\"}},\"shapedefaults\":{\"line\":{\"color\":\"#2a3f5f\"}},\"ternary\":{\"aaxis\":{\"gridcolor\":\"white\",\"linecolor\":\"white\",\"ticks\":\"\"},\"baxis\":{\"gridcolor\":\"white\",\"linecolor\":\"white\",\"ticks\":\"\"},\"bgcolor\":\"#E5ECF6\",\"caxis\":{\"gridcolor\":\"white\",\"linecolor\":\"white\",\"ticks\":\"\"}},\"title\":{\"x\":0.05},\"xaxis\":{\"automargin\":true,\"gridcolor\":\"white\",\"linecolor\":\"white\",\"ticks\":\"\",\"title\":{\"standoff\":15},\"zerolinecolor\":\"white\",\"zerolinewidth\":2},\"yaxis\":{\"automargin\":true,\"gridcolor\":\"white\",\"linecolor\":\"white\",\"ticks\":\"\",\"title\":{\"standoff\":15},\"zerolinecolor\":\"white\",\"zerolinewidth\":2}}},\"title\":{\"font\":{\"color\":\"rgb(1,21,51)\",\"size\":50}},\"width\":480},                        {\"responsive\": true}                    ).then(function(){\n",
              "                            \n",
              "var gd = document.getElementById('845d43af-d589-43af-9cc1-00da1f51b8f6');\n",
              "var x = new MutationObserver(function (mutations, observer) {{\n",
              "        var display = window.getComputedStyle(gd).display;\n",
              "        if (!display || display === 'none') {{\n",
              "            console.log([gd, 'removed!']);\n",
              "            Plotly.purge(gd);\n",
              "            observer.disconnect();\n",
              "        }}\n",
              "}});\n",
              "\n",
              "// Listen for the removal of the full notebook cells\n",
              "var notebookContainer = gd.closest('#notebook-container');\n",
              "if (notebookContainer) {{\n",
              "    x.observe(notebookContainer, {childList: true});\n",
              "}}\n",
              "\n",
              "// Listen for the clearing of the current output cell\n",
              "var outputEl = gd.closest('.output');\n",
              "if (outputEl) {{\n",
              "    x.observe(outputEl, {childList: true});\n",
              "}}\n",
              "\n",
              "                        })                };                            </script>        </div>\n",
              "</body>\n",
              "</html>"
            ]
          },
          "metadata": {}
        }
      ]
    },
    {
      "cell_type": "markdown",
      "source": [
        "## ESPAI PER LA RESTA DE DEMOSTRACIONS COM EXERCICI"
      ],
      "metadata": {
        "id": "_bO87qvPJcnq"
      }
    },
    {
      "cell_type": "code",
      "source": [],
      "metadata": {
        "id": "ny24bFl7JiJe"
      },
      "execution_count": null,
      "outputs": []
    },
    {
      "cell_type": "code",
      "source": [],
      "metadata": {
        "id": "_MNKkPWwJiP6"
      },
      "execution_count": null,
      "outputs": []
    },
    {
      "cell_type": "code",
      "source": [],
      "metadata": {
        "id": "MDs4UX5AJiUO"
      },
      "execution_count": null,
      "outputs": []
    },
    {
      "cell_type": "code",
      "source": [],
      "metadata": {
        "id": "d9b4eNuoJiXL"
      },
      "execution_count": null,
      "outputs": []
    },
    {
      "cell_type": "code",
      "source": [],
      "metadata": {
        "id": "XY45cMyTJiZi"
      },
      "execution_count": null,
      "outputs": []
    },
    {
      "cell_type": "code",
      "source": [],
      "metadata": {
        "id": "ZI1nrbTmJicG"
      },
      "execution_count": null,
      "outputs": []
    },
    {
      "cell_type": "code",
      "source": [],
      "metadata": {
        "id": "C-PGZXSgJieb"
      },
      "execution_count": null,
      "outputs": []
    },
    {
      "cell_type": "markdown",
      "source": [
        "#**RESTA DE VECTORS**\n",
        "\n",
        "Siguin $\\vec{A},\\vec{B} \\in V_n$ tals que $\\vec{A} = (A_1,A_2,\\cdots, A_n)$ i $\\vec{B}= (B_1,B_2, \\cdots, B_n)$ vectors a $V_n$, es defineix $\\vec{A}-\\vec{B} = \\vec{A}+(-\\vec{B})$, en altres paraules com l'addició del vector $\\vec{A}$ amb l'oposat del vector $\\vec{B}$ el qual és $-\\vec{B}= (-B_1,-B_2,\\cdots, -B_n)$, vector que posseeix la mateixa magnitud i adreça del $\\vec{B}$ però sentit oposat, després hem de:\n",
        "\n",
        "$$\\vec{A}-\\vec{B} = (A_1 - B_1,A_2-B_2,\\cdots,A_n-B_n)$$\n",
        "\n",
        "\n",
        "Per a $n = 1,2,3$ la resta de vectors admet una interpretació i **representació geomètrica**.\n",
        "\n",
        "<center><img src=\"https://github.com/josorio398/ALGEBRA-LINEAL-CON-PYTHON/blob/master/im%C3%A1genes%20repositorio/resta%20vectores.PNG?raw=true\" height= \"300\" /> </center>\n",
        "\n",
        "\n",
        "\n",
        "\n",
        "##**Exemple 1:** -----> *resta de vectors bidimensionals*\n",
        "\n",
        "Donats els vectors $\\vec{A}= (2,3)$ i $\\vec{B}= (4,2)$ troba el vector $A-B$ analíticament i verifica que la resta amb una representació gràfica.\n",
        "\n",
        "## **Resta dels vectors analíticament**"
      ],
      "metadata": {
        "id": "s18lWO-gJg1y"
      }
    },
    {
      "cell_type": "markdown",
      "source": [
        "#**MULTIPLICACIÓ PER UN ESCALAR**\n",
        "\n",
        "Siguin $\\vec{A}\\in V_n$ i $K \\in \\mathbb{R}$ tal que $\\vec{A} = (A_1,A_2,\\cdots, A_n)$, es defineix $k\\vec{ A}$ com :\n",
        "\n",
        "$$k\\vec{A} = \\underbrace{\\vec{A}+ \\vec{A} \\cdots+ \\vec{A}}_{k \\ \\text{vega}}$$\n",
        "\n",
        "De la qual cosa es dedueix que:\n",
        "\n",
        "$$k\\vec{A} = (kA_1,kA_2,\\cdots,kA_n)$$\n",
        "\n",
        "\n",
        "\n",
        "Per $n = 1,2,3$ la multiplicació d'un vector per escalar admet una interpretació i **representació geomètrica**.\n",
        "\n",
        "<center><img src=\"https://github.com/josorio398/ALGEBRA-LINEAL-CON-PYTHON/blob/master/im%C3%A1genes%20repositorio/multiplicaci%C3%B3n%20por%20escalar.PNG?raw=true\"  height=\"300\" /> </center>\n",
        "\n",
        "\n",
        "\n",
        "##**Exemple 1:** -----> *multiplicació per un escalar en vectors bidimensionals*\n",
        "\n",
        "Donats els vectors $\\vec{A}= (2,4)$ troba els vectors $2A$, $\\frac{1}{2}A$, $-2A$, $-\\frac{1}{2} A$ analíticament i realitza la seva representació gràfica en el mateix pla. Què pots concloure si $-1<k<1$ o si $k<-1$ o $1<k$?\n",
        "\n",
        "## **Multiplicació per un escalar dels vectors analíticament**"
      ],
      "metadata": {
        "id": "_aEWjcOgJqAB"
      }
    },
    {
      "cell_type": "code",
      "source": [
        "A = Matrix([2,4])\n",
        "-2*A"
      ],
      "metadata": {
        "colab": {
          "base_uri": "https://localhost:8080/",
          "height": 58
        },
        "id": "jTguBZ89JyjN",
        "outputId": "c31ea526-ba1c-45a9-9214-54c10098e75a"
      },
      "execution_count": 36,
      "outputs": [
        {
          "output_type": "execute_result",
          "data": {
            "text/plain": [
              "Matrix([\n",
              "[-4],\n",
              "[-8]])"
            ],
            "text/latex": "$\\displaystyle \\left[\\begin{matrix}-4\\\\-8\\end{matrix}\\right]$"
          },
          "metadata": {},
          "execution_count": 36
        }
      ]
    },
    {
      "cell_type": "code",
      "source": [
        "plotvectors2D(A,2*A,(1/2)*A,-2*A,(-1/2)*A) # Diverses mutiplicacions"
      ],
      "metadata": {
        "colab": {
          "base_uri": "https://localhost:8080/",
          "height": 497
        },
        "id": "Uk7bd79OJ4k2",
        "outputId": "c9bcb3a5-b59a-438c-a004-04408bbb96ef"
      },
      "execution_count": 37,
      "outputs": [
        {
          "output_type": "display_data",
          "data": {
            "text/html": [
              "<html>\n",
              "<head><meta charset=\"utf-8\" /></head>\n",
              "<body>\n",
              "    <div>            <script src=\"https://cdnjs.cloudflare.com/ajax/libs/mathjax/2.7.5/MathJax.js?config=TeX-AMS-MML_SVG\"></script><script type=\"text/javascript\">if (window.MathJax) {MathJax.Hub.Config({SVG: {font: \"STIX-Web\"}});}</script>                <script type=\"text/javascript\">window.PlotlyConfig = {MathJaxConfig: 'local'};</script>\n",
              "        <script src=\"https://cdn.plot.ly/plotly-2.2.0.min.js\"></script>                <div id=\"8c90dd67-2bcb-4f2b-8964-362e2e3c434b\" class=\"plotly-graph-div\" style=\"height:480px; width:500px;\"></div>            <script type=\"text/javascript\">                                    window.PLOTLYENV=window.PLOTLYENV || {};                                    if (document.getElementById(\"8c90dd67-2bcb-4f2b-8964-362e2e3c434b\")) {                    Plotly.newPlot(                        \"8c90dd67-2bcb-4f2b-8964-362e2e3c434b\",                        [{\"marker\":{\"color\":\"rgb(211,225,197)\",\"size\":8},\"mode\":\"lines\",\"name\":\"vector 1\",\"showlegend\":true,\"type\":\"scatter\",\"x\":[0,2.0],\"y\":[0,4.0]},{\"marker\":{\"color\":\"rgb(49,130,12)\",\"size\":8},\"mode\":\"lines\",\"name\":\"vector 2\",\"showlegend\":true,\"type\":\"scatter\",\"x\":[0,4.0],\"y\":[0,8.0]},{\"marker\":{\"color\":\"rgb(58,65,4)\",\"size\":8},\"mode\":\"lines\",\"name\":\"vector 3\",\"showlegend\":true,\"type\":\"scatter\",\"x\":[0,1.0],\"y\":[0,2.0]},{\"marker\":{\"color\":\"rgb(117,190,63)\",\"size\":8},\"mode\":\"lines\",\"name\":\"vector 4\",\"showlegend\":true,\"type\":\"scatter\",\"x\":[0,-4.0],\"y\":[0,-8.0]},{\"marker\":{\"color\":\"rgb(232,206,40)\",\"size\":8},\"mode\":\"lines\",\"name\":\"vector 5\",\"showlegend\":true,\"type\":\"scatter\",\"x\":[0,-1.0],\"y\":[0,-2.0]},{\"marker\":{\"color\":\"#2a3f5f\",\"size\":9},\"mode\":\"markers\",\"name\":\"origen\",\"opacity\":1,\"showlegend\":true,\"type\":\"scatter\",\"x\":[0],\"y\":[0]}],                        {\"annotations\":[{\"arrowcolor\":\"rgb(211,225,197)\",\"arrowhead\":2,\"arrowsize\":1.5,\"arrowwidth\":2.3,\"ax\":0.0,\"axref\":\"x\",\"ay\":0.0,\"ayref\":\"y\",\"showarrow\":true,\"x\":2.0,\"xref\":\"x\",\"y\":4.0,\"yref\":\"y\"},{\"arrowcolor\":\"rgb(49,130,12)\",\"arrowhead\":2,\"arrowsize\":1.5,\"arrowwidth\":2.3,\"ax\":0.0,\"axref\":\"x\",\"ay\":0.0,\"ayref\":\"y\",\"showarrow\":true,\"x\":4.0,\"xref\":\"x\",\"y\":8.0,\"yref\":\"y\"},{\"arrowcolor\":\"rgb(58,65,4)\",\"arrowhead\":2,\"arrowsize\":1.5,\"arrowwidth\":2.3,\"ax\":0.0,\"axref\":\"x\",\"ay\":0.0,\"ayref\":\"y\",\"showarrow\":true,\"x\":1.0,\"xref\":\"x\",\"y\":2.0,\"yref\":\"y\"},{\"arrowcolor\":\"rgb(117,190,63)\",\"arrowhead\":2,\"arrowsize\":1.5,\"arrowwidth\":2.3,\"ax\":0.0,\"axref\":\"x\",\"ay\":0.0,\"ayref\":\"y\",\"showarrow\":true,\"x\":-4.0,\"xref\":\"x\",\"y\":-8.0,\"yref\":\"y\"},{\"arrowcolor\":\"rgb(232,206,40)\",\"arrowhead\":2,\"arrowsize\":1.5,\"arrowwidth\":2.3,\"ax\":0.0,\"axref\":\"x\",\"ay\":0.0,\"ayref\":\"y\",\"showarrow\":true,\"x\":-1.0,\"xref\":\"x\",\"y\":-2.0,\"yref\":\"y\"},{\"arrowcolor\":\"#2a3f5f\",\"arrowhead\":2,\"arrowwidth\":1.5,\"ax\":-4.54,\"axref\":\"x\",\"ay\":0,\"ayref\":\"y\",\"x\":4.5,\"xref\":\"x\",\"y\":0,\"yref\":\"y\"},{\"arrowcolor\":\"#2a3f5f\",\"arrowhead\":2,\"arrowwidth\":1.5,\"ax\":0,\"axref\":\"x\",\"ay\":-8.54,\"ayref\":\"y\",\"x\":0,\"xref\":\"x\",\"y\":8.5,\"yref\":\"y\"}],\"font\":{\"color\":\"black\",\"family\":\"latex\",\"size\":20},\"height\":480,\"legend\":{\"itemdoubleclick\":\"toggle\",\"orientation\":\"h\",\"x\":1,\"xanchor\":\"right\",\"y\":1.02,\"yanchor\":\"bottom\"},\"showlegend\":true,\"template\":{\"data\":{\"bar\":[{\"error_x\":{\"color\":\"#2a3f5f\"},\"error_y\":{\"color\":\"#2a3f5f\"},\"marker\":{\"line\":{\"color\":\"#E5ECF6\",\"width\":0.5},\"pattern\":{\"fillmode\":\"overlay\",\"size\":10,\"solidity\":0.2}},\"type\":\"bar\"}],\"barpolar\":[{\"marker\":{\"line\":{\"color\":\"#E5ECF6\",\"width\":0.5},\"pattern\":{\"fillmode\":\"overlay\",\"size\":10,\"solidity\":0.2}},\"type\":\"barpolar\"}],\"carpet\":[{\"aaxis\":{\"endlinecolor\":\"#2a3f5f\",\"gridcolor\":\"white\",\"linecolor\":\"white\",\"minorgridcolor\":\"white\",\"startlinecolor\":\"#2a3f5f\"},\"baxis\":{\"endlinecolor\":\"#2a3f5f\",\"gridcolor\":\"white\",\"linecolor\":\"white\",\"minorgridcolor\":\"white\",\"startlinecolor\":\"#2a3f5f\"},\"type\":\"carpet\"}],\"choropleth\":[{\"colorbar\":{\"outlinewidth\":0,\"ticks\":\"\"},\"type\":\"choropleth\"}],\"contour\":[{\"colorbar\":{\"outlinewidth\":0,\"ticks\":\"\"},\"colorscale\":[[0.0,\"#0d0887\"],[0.1111111111111111,\"#46039f\"],[0.2222222222222222,\"#7201a8\"],[0.3333333333333333,\"#9c179e\"],[0.4444444444444444,\"#bd3786\"],[0.5555555555555556,\"#d8576b\"],[0.6666666666666666,\"#ed7953\"],[0.7777777777777778,\"#fb9f3a\"],[0.8888888888888888,\"#fdca26\"],[1.0,\"#f0f921\"]],\"type\":\"contour\"}],\"contourcarpet\":[{\"colorbar\":{\"outlinewidth\":0,\"ticks\":\"\"},\"type\":\"contourcarpet\"}],\"heatmap\":[{\"colorbar\":{\"outlinewidth\":0,\"ticks\":\"\"},\"colorscale\":[[0.0,\"#0d0887\"],[0.1111111111111111,\"#46039f\"],[0.2222222222222222,\"#7201a8\"],[0.3333333333333333,\"#9c179e\"],[0.4444444444444444,\"#bd3786\"],[0.5555555555555556,\"#d8576b\"],[0.6666666666666666,\"#ed7953\"],[0.7777777777777778,\"#fb9f3a\"],[0.8888888888888888,\"#fdca26\"],[1.0,\"#f0f921\"]],\"type\":\"heatmap\"}],\"heatmapgl\":[{\"colorbar\":{\"outlinewidth\":0,\"ticks\":\"\"},\"colorscale\":[[0.0,\"#0d0887\"],[0.1111111111111111,\"#46039f\"],[0.2222222222222222,\"#7201a8\"],[0.3333333333333333,\"#9c179e\"],[0.4444444444444444,\"#bd3786\"],[0.5555555555555556,\"#d8576b\"],[0.6666666666666666,\"#ed7953\"],[0.7777777777777778,\"#fb9f3a\"],[0.8888888888888888,\"#fdca26\"],[1.0,\"#f0f921\"]],\"type\":\"heatmapgl\"}],\"histogram\":[{\"marker\":{\"pattern\":{\"fillmode\":\"overlay\",\"size\":10,\"solidity\":0.2}},\"type\":\"histogram\"}],\"histogram2d\":[{\"colorbar\":{\"outlinewidth\":0,\"ticks\":\"\"},\"colorscale\":[[0.0,\"#0d0887\"],[0.1111111111111111,\"#46039f\"],[0.2222222222222222,\"#7201a8\"],[0.3333333333333333,\"#9c179e\"],[0.4444444444444444,\"#bd3786\"],[0.5555555555555556,\"#d8576b\"],[0.6666666666666666,\"#ed7953\"],[0.7777777777777778,\"#fb9f3a\"],[0.8888888888888888,\"#fdca26\"],[1.0,\"#f0f921\"]],\"type\":\"histogram2d\"}],\"histogram2dcontour\":[{\"colorbar\":{\"outlinewidth\":0,\"ticks\":\"\"},\"colorscale\":[[0.0,\"#0d0887\"],[0.1111111111111111,\"#46039f\"],[0.2222222222222222,\"#7201a8\"],[0.3333333333333333,\"#9c179e\"],[0.4444444444444444,\"#bd3786\"],[0.5555555555555556,\"#d8576b\"],[0.6666666666666666,\"#ed7953\"],[0.7777777777777778,\"#fb9f3a\"],[0.8888888888888888,\"#fdca26\"],[1.0,\"#f0f921\"]],\"type\":\"histogram2dcontour\"}],\"mesh3d\":[{\"colorbar\":{\"outlinewidth\":0,\"ticks\":\"\"},\"type\":\"mesh3d\"}],\"parcoords\":[{\"line\":{\"colorbar\":{\"outlinewidth\":0,\"ticks\":\"\"}},\"type\":\"parcoords\"}],\"pie\":[{\"automargin\":true,\"type\":\"pie\"}],\"scatter\":[{\"marker\":{\"colorbar\":{\"outlinewidth\":0,\"ticks\":\"\"}},\"type\":\"scatter\"}],\"scatter3d\":[{\"line\":{\"colorbar\":{\"outlinewidth\":0,\"ticks\":\"\"}},\"marker\":{\"colorbar\":{\"outlinewidth\":0,\"ticks\":\"\"}},\"type\":\"scatter3d\"}],\"scattercarpet\":[{\"marker\":{\"colorbar\":{\"outlinewidth\":0,\"ticks\":\"\"}},\"type\":\"scattercarpet\"}],\"scattergeo\":[{\"marker\":{\"colorbar\":{\"outlinewidth\":0,\"ticks\":\"\"}},\"type\":\"scattergeo\"}],\"scattergl\":[{\"marker\":{\"colorbar\":{\"outlinewidth\":0,\"ticks\":\"\"}},\"type\":\"scattergl\"}],\"scattermapbox\":[{\"marker\":{\"colorbar\":{\"outlinewidth\":0,\"ticks\":\"\"}},\"type\":\"scattermapbox\"}],\"scatterpolar\":[{\"marker\":{\"colorbar\":{\"outlinewidth\":0,\"ticks\":\"\"}},\"type\":\"scatterpolar\"}],\"scatterpolargl\":[{\"marker\":{\"colorbar\":{\"outlinewidth\":0,\"ticks\":\"\"}},\"type\":\"scatterpolargl\"}],\"scatterternary\":[{\"marker\":{\"colorbar\":{\"outlinewidth\":0,\"ticks\":\"\"}},\"type\":\"scatterternary\"}],\"surface\":[{\"colorbar\":{\"outlinewidth\":0,\"ticks\":\"\"},\"colorscale\":[[0.0,\"#0d0887\"],[0.1111111111111111,\"#46039f\"],[0.2222222222222222,\"#7201a8\"],[0.3333333333333333,\"#9c179e\"],[0.4444444444444444,\"#bd3786\"],[0.5555555555555556,\"#d8576b\"],[0.6666666666666666,\"#ed7953\"],[0.7777777777777778,\"#fb9f3a\"],[0.8888888888888888,\"#fdca26\"],[1.0,\"#f0f921\"]],\"type\":\"surface\"}],\"table\":[{\"cells\":{\"fill\":{\"color\":\"#EBF0F8\"},\"line\":{\"color\":\"white\"}},\"header\":{\"fill\":{\"color\":\"#C8D4E3\"},\"line\":{\"color\":\"white\"}},\"type\":\"table\"}]},\"layout\":{\"annotationdefaults\":{\"arrowcolor\":\"#2a3f5f\",\"arrowhead\":0,\"arrowwidth\":1},\"autotypenumbers\":\"strict\",\"coloraxis\":{\"colorbar\":{\"outlinewidth\":0,\"ticks\":\"\"}},\"colorscale\":{\"diverging\":[[0,\"#8e0152\"],[0.1,\"#c51b7d\"],[0.2,\"#de77ae\"],[0.3,\"#f1b6da\"],[0.4,\"#fde0ef\"],[0.5,\"#f7f7f7\"],[0.6,\"#e6f5d0\"],[0.7,\"#b8e186\"],[0.8,\"#7fbc41\"],[0.9,\"#4d9221\"],[1,\"#276419\"]],\"sequential\":[[0.0,\"#0d0887\"],[0.1111111111111111,\"#46039f\"],[0.2222222222222222,\"#7201a8\"],[0.3333333333333333,\"#9c179e\"],[0.4444444444444444,\"#bd3786\"],[0.5555555555555556,\"#d8576b\"],[0.6666666666666666,\"#ed7953\"],[0.7777777777777778,\"#fb9f3a\"],[0.8888888888888888,\"#fdca26\"],[1.0,\"#f0f921\"]],\"sequentialminus\":[[0.0,\"#0d0887\"],[0.1111111111111111,\"#46039f\"],[0.2222222222222222,\"#7201a8\"],[0.3333333333333333,\"#9c179e\"],[0.4444444444444444,\"#bd3786\"],[0.5555555555555556,\"#d8576b\"],[0.6666666666666666,\"#ed7953\"],[0.7777777777777778,\"#fb9f3a\"],[0.8888888888888888,\"#fdca26\"],[1.0,\"#f0f921\"]]},\"colorway\":[\"#636efa\",\"#EF553B\",\"#00cc96\",\"#ab63fa\",\"#FFA15A\",\"#19d3f3\",\"#FF6692\",\"#B6E880\",\"#FF97FF\",\"#FECB52\"],\"font\":{\"color\":\"#2a3f5f\"},\"geo\":{\"bgcolor\":\"white\",\"lakecolor\":\"white\",\"landcolor\":\"#E5ECF6\",\"showlakes\":true,\"showland\":true,\"subunitcolor\":\"white\"},\"hoverlabel\":{\"align\":\"left\"},\"hovermode\":\"closest\",\"mapbox\":{\"style\":\"light\"},\"paper_bgcolor\":\"white\",\"plot_bgcolor\":\"#E5ECF6\",\"polar\":{\"angularaxis\":{\"gridcolor\":\"white\",\"linecolor\":\"white\",\"ticks\":\"\"},\"bgcolor\":\"#E5ECF6\",\"radialaxis\":{\"gridcolor\":\"white\",\"linecolor\":\"white\",\"ticks\":\"\"}},\"scene\":{\"xaxis\":{\"backgroundcolor\":\"#E5ECF6\",\"gridcolor\":\"white\",\"gridwidth\":2,\"linecolor\":\"white\",\"showbackground\":true,\"ticks\":\"\",\"zerolinecolor\":\"white\"},\"yaxis\":{\"backgroundcolor\":\"#E5ECF6\",\"gridcolor\":\"white\",\"gridwidth\":2,\"linecolor\":\"white\",\"showbackground\":true,\"ticks\":\"\",\"zerolinecolor\":\"white\"},\"zaxis\":{\"backgroundcolor\":\"#E5ECF6\",\"gridcolor\":\"white\",\"gridwidth\":2,\"linecolor\":\"white\",\"showbackground\":true,\"ticks\":\"\",\"zerolinecolor\":\"white\"}},\"shapedefaults\":{\"line\":{\"color\":\"#2a3f5f\"}},\"ternary\":{\"aaxis\":{\"gridcolor\":\"white\",\"linecolor\":\"white\",\"ticks\":\"\"},\"baxis\":{\"gridcolor\":\"white\",\"linecolor\":\"white\",\"ticks\":\"\"},\"bgcolor\":\"#E5ECF6\",\"caxis\":{\"gridcolor\":\"white\",\"linecolor\":\"white\",\"ticks\":\"\"}},\"title\":{\"x\":0.05},\"xaxis\":{\"automargin\":true,\"gridcolor\":\"white\",\"linecolor\":\"white\",\"ticks\":\"\",\"title\":{\"standoff\":15},\"zerolinecolor\":\"white\",\"zerolinewidth\":2},\"yaxis\":{\"automargin\":true,\"gridcolor\":\"white\",\"linecolor\":\"white\",\"ticks\":\"\",\"title\":{\"standoff\":15},\"zerolinecolor\":\"white\",\"zerolinewidth\":2}}},\"title\":{\"font\":{\"color\":\"rgb(1,21,51)\",\"size\":30}},\"width\":500,\"xaxis\":{\"range\":[-4.5,4.5],\"showgrid\":true,\"title\":{\"font\":{\"color\":\"rgb(1,21,51)\",\"family\":\"latex\",\"size\":30},\"text\":\"$\\\\large{x}$\"}},\"yaxis\":{\"range\":[-8.5,8.5],\"showgrid\":true,\"title\":{\"font\":{\"color\":\"rgb(1,21,51)\",\"family\":\"latex\",\"size\":30},\"text\":\"$\\\\large{y}$\"}}},                        {\"responsive\": true}                    ).then(function(){\n",
              "                            \n",
              "var gd = document.getElementById('8c90dd67-2bcb-4f2b-8964-362e2e3c434b');\n",
              "var x = new MutationObserver(function (mutations, observer) {{\n",
              "        var display = window.getComputedStyle(gd).display;\n",
              "        if (!display || display === 'none') {{\n",
              "            console.log([gd, 'removed!']);\n",
              "            Plotly.purge(gd);\n",
              "            observer.disconnect();\n",
              "        }}\n",
              "}});\n",
              "\n",
              "// Listen for the removal of the full notebook cells\n",
              "var notebookContainer = gd.closest('#notebook-container');\n",
              "if (notebookContainer) {{\n",
              "    x.observe(notebookContainer, {childList: true});\n",
              "}}\n",
              "\n",
              "// Listen for the clearing of the current output cell\n",
              "var outputEl = gd.closest('.output');\n",
              "if (outputEl) {{\n",
              "    x.observe(outputEl, {childList: true});\n",
              "}}\n",
              "\n",
              "                        })                };                            </script>        </div>\n",
              "</body>\n",
              "</html>"
            ]
          },
          "metadata": {}
        }
      ]
    },
    {
      "cell_type": "markdown",
      "source": [
        "#**VECTOR UNITARI I NORMAT**\n",
        "\n",
        "Si $\\vec{V} \\in V_n$ és un vector tal que $\\,|\\vert \\vec{V} \\,|\\vert = 1$ llavors el $\\vec{V}$ rep el nom de ** vector unitari** i es denota amb accent circumflex com a $\\hat{V}$.\n",
        "\n",
        "\n",
        "El vector unitari $\\hat{V}$ o $\\vec{U}_V$ associat al vector $\\vec{V}$ i que posseeix la mateixa adreça i sentit del vector $\\vec{V}$ es diu ** normat** associat a $\\vec{V}$, l'operació que permet trobar-lo és:\n",
        "\n",
        "$$\\hat{V} = \\dfrac{1}{\\,|\\vert \\vec{V} \\,|\\vert}\\vec{V}$$\n",
        "\n",
        "##**Exemple 1:**\n",
        "\n",
        "Trobar el vector unitari $\\vec{U}_V$ associat al vector $\\vec{V}= (4,3)$ i verifica el teu resultat trobant $\\,|\\vert \\vec{U}_V \\,|\\vert $ i realitzant la gràfica de $\\vec{U}_V$ i $\\vec{V}$ al mateix pla."
      ],
      "metadata": {
        "id": "5YmsqxuGKA_V"
      }
    },
    {
      "cell_type": "code",
      "source": [
        "V = Matrix([4,3])\n",
        "v_normat = (1/(V.norm()))*V\n",
        "v_normat"
      ],
      "metadata": {
        "colab": {
          "base_uri": "https://localhost:8080/",
          "height": 58
        },
        "id": "XAzYzT7rKUIb",
        "outputId": "08fbcdb7-9c2a-4ce6-cb2b-b2bb2dd53230"
      },
      "execution_count": 40,
      "outputs": [
        {
          "output_type": "execute_result",
          "data": {
            "text/plain": [
              "Matrix([\n",
              "[4/5],\n",
              "[3/5]])"
            ],
            "text/latex": "$\\displaystyle \\left[\\begin{matrix}\\frac{4}{5}\\\\\\frac{3}{5}\\end{matrix}\\right]$"
          },
          "metadata": {},
          "execution_count": 40
        }
      ]
    },
    {
      "cell_type": "code",
      "source": [
        "v_normat.norm()"
      ],
      "metadata": {
        "colab": {
          "base_uri": "https://localhost:8080/",
          "height": 37
        },
        "id": "sGzcQn9KKX0i",
        "outputId": "064aeaf5-e7b1-41e3-95ad-b9bd69715dbd"
      },
      "execution_count": 41,
      "outputs": [
        {
          "output_type": "execute_result",
          "data": {
            "text/plain": [
              "1"
            ],
            "text/latex": "$\\displaystyle 1$"
          },
          "metadata": {},
          "execution_count": 41
        }
      ]
    },
    {
      "cell_type": "code",
      "source": [
        "plotvectors2D(V,v_normat)"
      ],
      "metadata": {
        "colab": {
          "base_uri": "https://localhost:8080/",
          "height": 497
        },
        "id": "ML95aEQbKgty",
        "outputId": "d3a32ae2-615d-4fa7-aaab-235d2ba39943"
      },
      "execution_count": 42,
      "outputs": [
        {
          "output_type": "display_data",
          "data": {
            "text/html": [
              "<html>\n",
              "<head><meta charset=\"utf-8\" /></head>\n",
              "<body>\n",
              "    <div>            <script src=\"https://cdnjs.cloudflare.com/ajax/libs/mathjax/2.7.5/MathJax.js?config=TeX-AMS-MML_SVG\"></script><script type=\"text/javascript\">if (window.MathJax) {MathJax.Hub.Config({SVG: {font: \"STIX-Web\"}});}</script>                <script type=\"text/javascript\">window.PlotlyConfig = {MathJaxConfig: 'local'};</script>\n",
              "        <script src=\"https://cdn.plot.ly/plotly-2.2.0.min.js\"></script>                <div id=\"4d73e87f-24e9-4814-8abe-f3a9495222a0\" class=\"plotly-graph-div\" style=\"height:480px; width:500px;\"></div>            <script type=\"text/javascript\">                                    window.PLOTLYENV=window.PLOTLYENV || {};                                    if (document.getElementById(\"4d73e87f-24e9-4814-8abe-f3a9495222a0\")) {                    Plotly.newPlot(                        \"4d73e87f-24e9-4814-8abe-f3a9495222a0\",                        [{\"marker\":{\"color\":\"rgb(1,251,29)\",\"size\":8},\"mode\":\"lines\",\"name\":\"vector 1\",\"showlegend\":true,\"type\":\"scatter\",\"x\":[0,4.0],\"y\":[0,3.0]},{\"marker\":{\"color\":\"rgb(245,131,68)\",\"size\":8},\"mode\":\"lines\",\"name\":\"vector 2\",\"showlegend\":true,\"type\":\"scatter\",\"x\":[0,0.8],\"y\":[0,0.6]},{\"marker\":{\"color\":\"#2a3f5f\",\"size\":9},\"mode\":\"markers\",\"name\":\"origen\",\"opacity\":1,\"showlegend\":true,\"type\":\"scatter\",\"x\":[0],\"y\":[0]}],                        {\"annotations\":[{\"arrowcolor\":\"rgb(1,251,29)\",\"arrowhead\":2,\"arrowsize\":1.5,\"arrowwidth\":2.3,\"ax\":0.0,\"axref\":\"x\",\"ay\":0.0,\"ayref\":\"y\",\"showarrow\":true,\"x\":4.0,\"xref\":\"x\",\"y\":3.0,\"yref\":\"y\"},{\"arrowcolor\":\"rgb(245,131,68)\",\"arrowhead\":2,\"arrowsize\":1.5,\"arrowwidth\":2.3,\"ax\":0.0,\"axref\":\"x\",\"ay\":0.0,\"ayref\":\"y\",\"showarrow\":true,\"x\":0.8,\"xref\":\"x\",\"y\":0.6,\"yref\":\"y\"},{\"arrowcolor\":\"#2a3f5f\",\"arrowhead\":2,\"arrowwidth\":1.5,\"ax\":-0.54,\"axref\":\"x\",\"ay\":0,\"ayref\":\"y\",\"x\":4.5,\"xref\":\"x\",\"y\":0,\"yref\":\"y\"},{\"arrowcolor\":\"#2a3f5f\",\"arrowhead\":2,\"arrowwidth\":1.5,\"ax\":0,\"axref\":\"x\",\"ay\":-0.54,\"ayref\":\"y\",\"x\":0,\"xref\":\"x\",\"y\":3.5,\"yref\":\"y\"}],\"font\":{\"color\":\"black\",\"family\":\"latex\",\"size\":20},\"height\":480,\"legend\":{\"itemdoubleclick\":\"toggle\",\"orientation\":\"h\",\"x\":1,\"xanchor\":\"right\",\"y\":1.02,\"yanchor\":\"bottom\"},\"showlegend\":true,\"template\":{\"data\":{\"bar\":[{\"error_x\":{\"color\":\"#2a3f5f\"},\"error_y\":{\"color\":\"#2a3f5f\"},\"marker\":{\"line\":{\"color\":\"#E5ECF6\",\"width\":0.5},\"pattern\":{\"fillmode\":\"overlay\",\"size\":10,\"solidity\":0.2}},\"type\":\"bar\"}],\"barpolar\":[{\"marker\":{\"line\":{\"color\":\"#E5ECF6\",\"width\":0.5},\"pattern\":{\"fillmode\":\"overlay\",\"size\":10,\"solidity\":0.2}},\"type\":\"barpolar\"}],\"carpet\":[{\"aaxis\":{\"endlinecolor\":\"#2a3f5f\",\"gridcolor\":\"white\",\"linecolor\":\"white\",\"minorgridcolor\":\"white\",\"startlinecolor\":\"#2a3f5f\"},\"baxis\":{\"endlinecolor\":\"#2a3f5f\",\"gridcolor\":\"white\",\"linecolor\":\"white\",\"minorgridcolor\":\"white\",\"startlinecolor\":\"#2a3f5f\"},\"type\":\"carpet\"}],\"choropleth\":[{\"colorbar\":{\"outlinewidth\":0,\"ticks\":\"\"},\"type\":\"choropleth\"}],\"contour\":[{\"colorbar\":{\"outlinewidth\":0,\"ticks\":\"\"},\"colorscale\":[[0.0,\"#0d0887\"],[0.1111111111111111,\"#46039f\"],[0.2222222222222222,\"#7201a8\"],[0.3333333333333333,\"#9c179e\"],[0.4444444444444444,\"#bd3786\"],[0.5555555555555556,\"#d8576b\"],[0.6666666666666666,\"#ed7953\"],[0.7777777777777778,\"#fb9f3a\"],[0.8888888888888888,\"#fdca26\"],[1.0,\"#f0f921\"]],\"type\":\"contour\"}],\"contourcarpet\":[{\"colorbar\":{\"outlinewidth\":0,\"ticks\":\"\"},\"type\":\"contourcarpet\"}],\"heatmap\":[{\"colorbar\":{\"outlinewidth\":0,\"ticks\":\"\"},\"colorscale\":[[0.0,\"#0d0887\"],[0.1111111111111111,\"#46039f\"],[0.2222222222222222,\"#7201a8\"],[0.3333333333333333,\"#9c179e\"],[0.4444444444444444,\"#bd3786\"],[0.5555555555555556,\"#d8576b\"],[0.6666666666666666,\"#ed7953\"],[0.7777777777777778,\"#fb9f3a\"],[0.8888888888888888,\"#fdca26\"],[1.0,\"#f0f921\"]],\"type\":\"heatmap\"}],\"heatmapgl\":[{\"colorbar\":{\"outlinewidth\":0,\"ticks\":\"\"},\"colorscale\":[[0.0,\"#0d0887\"],[0.1111111111111111,\"#46039f\"],[0.2222222222222222,\"#7201a8\"],[0.3333333333333333,\"#9c179e\"],[0.4444444444444444,\"#bd3786\"],[0.5555555555555556,\"#d8576b\"],[0.6666666666666666,\"#ed7953\"],[0.7777777777777778,\"#fb9f3a\"],[0.8888888888888888,\"#fdca26\"],[1.0,\"#f0f921\"]],\"type\":\"heatmapgl\"}],\"histogram\":[{\"marker\":{\"pattern\":{\"fillmode\":\"overlay\",\"size\":10,\"solidity\":0.2}},\"type\":\"histogram\"}],\"histogram2d\":[{\"colorbar\":{\"outlinewidth\":0,\"ticks\":\"\"},\"colorscale\":[[0.0,\"#0d0887\"],[0.1111111111111111,\"#46039f\"],[0.2222222222222222,\"#7201a8\"],[0.3333333333333333,\"#9c179e\"],[0.4444444444444444,\"#bd3786\"],[0.5555555555555556,\"#d8576b\"],[0.6666666666666666,\"#ed7953\"],[0.7777777777777778,\"#fb9f3a\"],[0.8888888888888888,\"#fdca26\"],[1.0,\"#f0f921\"]],\"type\":\"histogram2d\"}],\"histogram2dcontour\":[{\"colorbar\":{\"outlinewidth\":0,\"ticks\":\"\"},\"colorscale\":[[0.0,\"#0d0887\"],[0.1111111111111111,\"#46039f\"],[0.2222222222222222,\"#7201a8\"],[0.3333333333333333,\"#9c179e\"],[0.4444444444444444,\"#bd3786\"],[0.5555555555555556,\"#d8576b\"],[0.6666666666666666,\"#ed7953\"],[0.7777777777777778,\"#fb9f3a\"],[0.8888888888888888,\"#fdca26\"],[1.0,\"#f0f921\"]],\"type\":\"histogram2dcontour\"}],\"mesh3d\":[{\"colorbar\":{\"outlinewidth\":0,\"ticks\":\"\"},\"type\":\"mesh3d\"}],\"parcoords\":[{\"line\":{\"colorbar\":{\"outlinewidth\":0,\"ticks\":\"\"}},\"type\":\"parcoords\"}],\"pie\":[{\"automargin\":true,\"type\":\"pie\"}],\"scatter\":[{\"marker\":{\"colorbar\":{\"outlinewidth\":0,\"ticks\":\"\"}},\"type\":\"scatter\"}],\"scatter3d\":[{\"line\":{\"colorbar\":{\"outlinewidth\":0,\"ticks\":\"\"}},\"marker\":{\"colorbar\":{\"outlinewidth\":0,\"ticks\":\"\"}},\"type\":\"scatter3d\"}],\"scattercarpet\":[{\"marker\":{\"colorbar\":{\"outlinewidth\":0,\"ticks\":\"\"}},\"type\":\"scattercarpet\"}],\"scattergeo\":[{\"marker\":{\"colorbar\":{\"outlinewidth\":0,\"ticks\":\"\"}},\"type\":\"scattergeo\"}],\"scattergl\":[{\"marker\":{\"colorbar\":{\"outlinewidth\":0,\"ticks\":\"\"}},\"type\":\"scattergl\"}],\"scattermapbox\":[{\"marker\":{\"colorbar\":{\"outlinewidth\":0,\"ticks\":\"\"}},\"type\":\"scattermapbox\"}],\"scatterpolar\":[{\"marker\":{\"colorbar\":{\"outlinewidth\":0,\"ticks\":\"\"}},\"type\":\"scatterpolar\"}],\"scatterpolargl\":[{\"marker\":{\"colorbar\":{\"outlinewidth\":0,\"ticks\":\"\"}},\"type\":\"scatterpolargl\"}],\"scatterternary\":[{\"marker\":{\"colorbar\":{\"outlinewidth\":0,\"ticks\":\"\"}},\"type\":\"scatterternary\"}],\"surface\":[{\"colorbar\":{\"outlinewidth\":0,\"ticks\":\"\"},\"colorscale\":[[0.0,\"#0d0887\"],[0.1111111111111111,\"#46039f\"],[0.2222222222222222,\"#7201a8\"],[0.3333333333333333,\"#9c179e\"],[0.4444444444444444,\"#bd3786\"],[0.5555555555555556,\"#d8576b\"],[0.6666666666666666,\"#ed7953\"],[0.7777777777777778,\"#fb9f3a\"],[0.8888888888888888,\"#fdca26\"],[1.0,\"#f0f921\"]],\"type\":\"surface\"}],\"table\":[{\"cells\":{\"fill\":{\"color\":\"#EBF0F8\"},\"line\":{\"color\":\"white\"}},\"header\":{\"fill\":{\"color\":\"#C8D4E3\"},\"line\":{\"color\":\"white\"}},\"type\":\"table\"}]},\"layout\":{\"annotationdefaults\":{\"arrowcolor\":\"#2a3f5f\",\"arrowhead\":0,\"arrowwidth\":1},\"autotypenumbers\":\"strict\",\"coloraxis\":{\"colorbar\":{\"outlinewidth\":0,\"ticks\":\"\"}},\"colorscale\":{\"diverging\":[[0,\"#8e0152\"],[0.1,\"#c51b7d\"],[0.2,\"#de77ae\"],[0.3,\"#f1b6da\"],[0.4,\"#fde0ef\"],[0.5,\"#f7f7f7\"],[0.6,\"#e6f5d0\"],[0.7,\"#b8e186\"],[0.8,\"#7fbc41\"],[0.9,\"#4d9221\"],[1,\"#276419\"]],\"sequential\":[[0.0,\"#0d0887\"],[0.1111111111111111,\"#46039f\"],[0.2222222222222222,\"#7201a8\"],[0.3333333333333333,\"#9c179e\"],[0.4444444444444444,\"#bd3786\"],[0.5555555555555556,\"#d8576b\"],[0.6666666666666666,\"#ed7953\"],[0.7777777777777778,\"#fb9f3a\"],[0.8888888888888888,\"#fdca26\"],[1.0,\"#f0f921\"]],\"sequentialminus\":[[0.0,\"#0d0887\"],[0.1111111111111111,\"#46039f\"],[0.2222222222222222,\"#7201a8\"],[0.3333333333333333,\"#9c179e\"],[0.4444444444444444,\"#bd3786\"],[0.5555555555555556,\"#d8576b\"],[0.6666666666666666,\"#ed7953\"],[0.7777777777777778,\"#fb9f3a\"],[0.8888888888888888,\"#fdca26\"],[1.0,\"#f0f921\"]]},\"colorway\":[\"#636efa\",\"#EF553B\",\"#00cc96\",\"#ab63fa\",\"#FFA15A\",\"#19d3f3\",\"#FF6692\",\"#B6E880\",\"#FF97FF\",\"#FECB52\"],\"font\":{\"color\":\"#2a3f5f\"},\"geo\":{\"bgcolor\":\"white\",\"lakecolor\":\"white\",\"landcolor\":\"#E5ECF6\",\"showlakes\":true,\"showland\":true,\"subunitcolor\":\"white\"},\"hoverlabel\":{\"align\":\"left\"},\"hovermode\":\"closest\",\"mapbox\":{\"style\":\"light\"},\"paper_bgcolor\":\"white\",\"plot_bgcolor\":\"#E5ECF6\",\"polar\":{\"angularaxis\":{\"gridcolor\":\"white\",\"linecolor\":\"white\",\"ticks\":\"\"},\"bgcolor\":\"#E5ECF6\",\"radialaxis\":{\"gridcolor\":\"white\",\"linecolor\":\"white\",\"ticks\":\"\"}},\"scene\":{\"xaxis\":{\"backgroundcolor\":\"#E5ECF6\",\"gridcolor\":\"white\",\"gridwidth\":2,\"linecolor\":\"white\",\"showbackground\":true,\"ticks\":\"\",\"zerolinecolor\":\"white\"},\"yaxis\":{\"backgroundcolor\":\"#E5ECF6\",\"gridcolor\":\"white\",\"gridwidth\":2,\"linecolor\":\"white\",\"showbackground\":true,\"ticks\":\"\",\"zerolinecolor\":\"white\"},\"zaxis\":{\"backgroundcolor\":\"#E5ECF6\",\"gridcolor\":\"white\",\"gridwidth\":2,\"linecolor\":\"white\",\"showbackground\":true,\"ticks\":\"\",\"zerolinecolor\":\"white\"}},\"shapedefaults\":{\"line\":{\"color\":\"#2a3f5f\"}},\"ternary\":{\"aaxis\":{\"gridcolor\":\"white\",\"linecolor\":\"white\",\"ticks\":\"\"},\"baxis\":{\"gridcolor\":\"white\",\"linecolor\":\"white\",\"ticks\":\"\"},\"bgcolor\":\"#E5ECF6\",\"caxis\":{\"gridcolor\":\"white\",\"linecolor\":\"white\",\"ticks\":\"\"}},\"title\":{\"x\":0.05},\"xaxis\":{\"automargin\":true,\"gridcolor\":\"white\",\"linecolor\":\"white\",\"ticks\":\"\",\"title\":{\"standoff\":15},\"zerolinecolor\":\"white\",\"zerolinewidth\":2},\"yaxis\":{\"automargin\":true,\"gridcolor\":\"white\",\"linecolor\":\"white\",\"ticks\":\"\",\"title\":{\"standoff\":15},\"zerolinecolor\":\"white\",\"zerolinewidth\":2}}},\"title\":{\"font\":{\"color\":\"rgb(1,21,51)\",\"size\":30}},\"width\":500,\"xaxis\":{\"range\":[-0.5,4.5],\"showgrid\":true,\"title\":{\"font\":{\"color\":\"rgb(1,21,51)\",\"family\":\"latex\",\"size\":30},\"text\":\"$\\\\large{x}$\"}},\"yaxis\":{\"range\":[-0.5,3.5],\"showgrid\":true,\"title\":{\"font\":{\"color\":\"rgb(1,21,51)\",\"family\":\"latex\",\"size\":30},\"text\":\"$\\\\large{y}$\"}}},                        {\"responsive\": true}                    ).then(function(){\n",
              "                            \n",
              "var gd = document.getElementById('4d73e87f-24e9-4814-8abe-f3a9495222a0');\n",
              "var x = new MutationObserver(function (mutations, observer) {{\n",
              "        var display = window.getComputedStyle(gd).display;\n",
              "        if (!display || display === 'none') {{\n",
              "            console.log([gd, 'removed!']);\n",
              "            Plotly.purge(gd);\n",
              "            observer.disconnect();\n",
              "        }}\n",
              "}});\n",
              "\n",
              "// Listen for the removal of the full notebook cells\n",
              "var notebookContainer = gd.closest('#notebook-container');\n",
              "if (notebookContainer) {{\n",
              "    x.observe(notebookContainer, {childList: true});\n",
              "}}\n",
              "\n",
              "// Listen for the clearing of the current output cell\n",
              "var outputEl = gd.closest('.output');\n",
              "if (outputEl) {{\n",
              "    x.observe(outputEl, {childList: true});\n",
              "}}\n",
              "\n",
              "                        })                };                            </script>        </div>\n",
              "</body>\n",
              "</html>"
            ]
          },
          "metadata": {}
        }
      ]
    },
    {
      "cell_type": "markdown",
      "source": [
        "#**PRODUCTE ESCALAR**\n",
        "\n",
        "Siguin $\\vec{A},\\vec{B}\\in V_n$ tal que $\\vec{A} = (A_1,A_2,\\cdots, A_n)$ i $\\vec{B} = (B_1,B_2, \\cdots, B_n)$ es defineix el **producte punt o producte escalar** com la suma dels productes dels corresponents components dels vectors,\n",
        "<br/><br/>\n",
        "\n",
        "$$ <\\vec{A} , \\vec{B}> = A_1B_1+A_2B_2+A_3B_3+ \\cdots +A_nB_n$$\n",
        "\n",
        "\n",
        "\n",
        "##**Exemple:**\n",
        "\n",
        "Donats el vector $\\vec{A}= (5,3,-1)$ i $\\vec{B}= (-2,-1,6)$ troba el producte $<\\vec{A}, \\vec {B}>$ ."
      ],
      "metadata": {
        "id": "wx_mszQgKqDS"
      }
    },
    {
      "cell_type": "code",
      "source": [
        "A = Matrix([5,3,-1])\n",
        "B = Matrix([-2,-1,6])\n",
        "\n",
        "A.dot(B)"
      ],
      "metadata": {
        "colab": {
          "base_uri": "https://localhost:8080/",
          "height": 37
        },
        "id": "MPeVzCTnKwRE",
        "outputId": "9ff3e3e2-58a0-4f87-be80-c198203bb7f2"
      },
      "execution_count": 43,
      "outputs": [
        {
          "output_type": "execute_result",
          "data": {
            "text/plain": [
              "-19"
            ],
            "text/latex": "$\\displaystyle -19$"
          },
          "metadata": {},
          "execution_count": 43
        }
      ]
    },
    {
      "cell_type": "markdown",
      "source": [
        "#**Propietats producte escalar de vectors**\n",
        "\n",
        "Siguin els vectors ${\\displaystyle \\vec{A},\\vec{B},\\vec{C}\\in V_n}$ i $k \\in \\mathbb{R}$, es compleixen les propietats següents relacionades amb el producte escalar:\n",
        "\n",
        "|            PROPIETAT           |       EXPLICACIÓ                     |\n",
        "|:------------------------------:|:--------------------------------------:|\n",
        "| Producte vectorial per sí mateix                   |$$ \\vec{A} \\cdot \\vec{A} =\\,|\\vert \\vec{A} \\,|\\vert^{2}$$|\n",
        "| Conmutativa                     |   $$\\vec{A} \\cdot \\vec{B} = \\vec{B} \\cdot \\vec{A}$$                      |\n",
        "| Associativa                      |      $$k(\\vec{A} \\cdot \\vec{C}) = (k\\vec{A})\\cdot \\vec{B} =\\vec{A}\\cdot(k\\vec{B})$$         |\n",
        "| Producte amb vector nul  |             $$\\vec{A} \\cdot \\vec{0}=0$$                           |\n",
        "| Distributiva respecte a la suma de vectors  |     $$\\vec{A} \\cdot(\\vec{B}+\\vec{C}) = \\vec{A}\\cdot \\vec{B} +\\vec{A}\\cdot \\vec{C} $$                                  |\n",
        "\n",
        "\n",
        "DEMOSTRACIÓ DE ELS PROPIETATS COM EXERCICI\n",
        "\n",
        "ESPAI PER LES DEMOSTRACIONS"
      ],
      "metadata": {
        "id": "d9sxgGBRK0J4"
      }
    },
    {
      "cell_type": "code",
      "source": [],
      "metadata": {
        "id": "ymaesPXVL7fi"
      },
      "execution_count": null,
      "outputs": []
    },
    {
      "cell_type": "code",
      "source": [],
      "metadata": {
        "id": "5ENKY-MeL7iO"
      },
      "execution_count": null,
      "outputs": []
    },
    {
      "cell_type": "code",
      "source": [],
      "metadata": {
        "id": "9fFwJ2QiL7kv"
      },
      "execution_count": null,
      "outputs": []
    },
    {
      "cell_type": "code",
      "source": [],
      "metadata": {
        "id": "BU79jo_1L7ni"
      },
      "execution_count": null,
      "outputs": []
    },
    {
      "cell_type": "code",
      "source": [],
      "metadata": {
        "id": "YuTQzJ5AL7qH"
      },
      "execution_count": null,
      "outputs": []
    },
    {
      "cell_type": "code",
      "source": [],
      "metadata": {
        "id": "lahuNwWRL7sa"
      },
      "execution_count": null,
      "outputs": []
    },
    {
      "cell_type": "code",
      "source": [],
      "metadata": {
        "id": "GEVUzFe0L7up"
      },
      "execution_count": null,
      "outputs": []
    },
    {
      "cell_type": "markdown",
      "source": [
        "#**APLICACIONS PRODUCTE ESCALAR**\n",
        "\n",
        "#**Angle entre vectors**\n",
        "\n",
        "Siguin ${\\displaystyle \\vec{A},\\vec{B}\\in V_n}$ tal que $n = 1,2,3$ i admeten representació geomètrica, es defineix $θ$ com l'angle no negatiu més petit entre $ \\vec{A}$ i $ \\vec{B}$, l'expressió per calcular $θ$ és:\n",
        "\n",
        "$$θ = cos^{-1}{\\left(\\dfrac{<\\vec{A} ,\\vec{B}>}{\\,|\\vert \\vec{A} \\,|\\vert\\,|\\ vert \\vec{B} \\,|\\vert}\\right)}$$ \\\\\n",
        "\n",
        "Si $<\\vec{A} ,\\vec{B} > -> > 0$ llavors $θ$ és un **angle agut**, Si $\\vec{A} \\cdot\\vec{B} < 0$ llavors $θ $ és un **angle obtús**\n",
        "\n",
        "<center><img src=\"https://github.com/josorio398/ALGEBRA-LINEAL-CON-PYTHON/blob/master/im%C3%A1genes%20repositorio/angulovector.PNG?raw=true\" height=\"250 \" /> </center>\n",
        "\n",
        "##**Exemple:**\n",
        "\n",
        "Donats el vector $\\vec{A}= (2,1,-1)$ i $\\vec{B}= (1,-1,1)$ troba l'angle determinat pels vectors $\\vec{A}$ i $\\vec{B}$ i realitza la gràfica dels dos vectors al mateix espai."
      ],
      "metadata": {
        "id": "65tbWRLAL8q6"
      }
    },
    {
      "cell_type": "code",
      "source": [
        "A = Matrix([2,1,-1])\n",
        "B = Matrix([1,-1,1])\n",
        "\n",
        "acos(A.dot(B)/(A.norm()*B.norm()))\n"
      ],
      "metadata": {
        "colab": {
          "base_uri": "https://localhost:8080/",
          "height": 47
        },
        "id": "W8WwaJC3MXp_",
        "outputId": "37afc1af-693c-4bf7-a4dc-8b6d90342288"
      },
      "execution_count": 44,
      "outputs": [
        {
          "output_type": "execute_result",
          "data": {
            "text/plain": [
              "pi/2"
            ],
            "text/latex": "$\\displaystyle \\frac{\\pi}{2}$"
          },
          "metadata": {},
          "execution_count": 44
        }
      ]
    },
    {
      "cell_type": "code",
      "source": [
        "plotvectors3D(A,B)"
      ],
      "metadata": {
        "colab": {
          "base_uri": "https://localhost:8080/",
          "height": 497
        },
        "id": "1qV67cIxMgeP",
        "outputId": "b1f25f9e-67b7-4965-b293-1817e6e8062b"
      },
      "execution_count": 45,
      "outputs": [
        {
          "output_type": "display_data",
          "data": {
            "text/html": [
              "<html>\n",
              "<head><meta charset=\"utf-8\" /></head>\n",
              "<body>\n",
              "    <div>            <script src=\"https://cdnjs.cloudflare.com/ajax/libs/mathjax/2.7.5/MathJax.js?config=TeX-AMS-MML_SVG\"></script><script type=\"text/javascript\">if (window.MathJax) {MathJax.Hub.Config({SVG: {font: \"STIX-Web\"}});}</script>                <script type=\"text/javascript\">window.PlotlyConfig = {MathJaxConfig: 'local'};</script>\n",
              "        <script src=\"https://cdn.plot.ly/plotly-2.2.0.min.js\"></script>                <div id=\"23b1ddd6-f715-4c62-9d39-cf51b33fd521\" class=\"plotly-graph-div\" style=\"height:480px; width:480px;\"></div>            <script type=\"text/javascript\">                                    window.PLOTLYENV=window.PLOTLYENV || {};                                    if (document.getElementById(\"23b1ddd6-f715-4c62-9d39-cf51b33fd521\")) {                    Plotly.newPlot(                        \"23b1ddd6-f715-4c62-9d39-cf51b33fd521\",                        [{\"line\":{\"color\":\"rgb(42,168,133)\",\"width\":7},\"marker\":{\"color\":\"rgb(42,168,133)\",\"size\":1},\"name\":\"vector 1\",\"type\":\"scatter3d\",\"x\":[0,2.0],\"y\":[0,1.0],\"z\":[0,-1.0]},{\"anchor\":\"cm\",\"colorbar\":{\"thickness\":20,\"ticklen\":4},\"colorscale\":[[0,\"rgb(42,168,133)\"],[1,\"rgb(42,168,133)\"]],\"name\":\"vector 1\",\"showscale\":false,\"sizemode\":\"absolute\",\"sizeref\":0.13333333333333333,\"type\":\"cone\",\"u\":[2.0],\"v\":[1.0],\"w\":[-1.0],\"x\":[2.0],\"y\":[1.0],\"z\":[-1.0]},{\"line\":{\"color\":\"rgb(4,153,143)\",\"width\":7},\"marker\":{\"color\":\"rgb(4,153,143)\",\"size\":1},\"name\":\"vector 2\",\"type\":\"scatter3d\",\"x\":[0,1.0],\"y\":[0,-1.0],\"z\":[0,1.0]},{\"anchor\":\"cm\",\"colorbar\":{\"thickness\":20,\"ticklen\":4},\"colorscale\":[[0,\"rgb(4,153,143)\"],[1,\"rgb(4,153,143)\"]],\"name\":\"vector 2\",\"showscale\":false,\"sizemode\":\"absolute\",\"sizeref\":0.13333333333333333,\"type\":\"cone\",\"u\":[1.0],\"v\":[-1.0],\"w\":[1.0],\"x\":[1.0],\"y\":[-1.0],\"z\":[1.0]},{\"marker\":{\"color\":\"#2a3f5f\",\"size\":5},\"mode\":\"markers\",\"name\":\"origen\",\"showlegend\":true,\"type\":\"scatter3d\",\"x\":[0],\"y\":[0],\"z\":[0]},{\"hoverinfo\":\"skip\",\"line\":{\"color\":\"#2a3f5f\",\"width\":3},\"marker\":{\"color\":\"#2a3f5f\",\"size\":1},\"name\":\"\",\"showlegend\":false,\"type\":\"scatter3d\",\"x\":[-0.13333333333333333,2.1333333333333333],\"y\":[0,0],\"z\":[0,0]},{\"anchor\":\"cm\",\"colorbar\":{\"thickness\":20,\"ticklen\":4},\"colorscale\":[[0,\"#2a3f5f\"],[1,\"#2a3f5f\"]],\"hoverinfo\":\"name\",\"name\":\"Eje x-positivo\",\"showscale\":false,\"sizemode\":\"absolute\",\"sizeref\":0.08,\"type\":\"cone\",\"u\":[2.1333333333333333],\"v\":[0],\"w\":[0],\"x\":[2.1333333333333333],\"y\":[0],\"z\":[0]},{\"hoverinfo\":\"skip\",\"line\":{\"color\":\"#2a3f5f\",\"width\":3},\"marker\":{\"color\":\"#2a3f5f\",\"size\":1},\"name\":\"\",\"showlegend\":false,\"type\":\"scatter3d\",\"x\":[0,0],\"y\":[-1.1333333333333333,1.1333333333333333],\"z\":[0,0]},{\"anchor\":\"cm\",\"colorbar\":{\"thickness\":20,\"ticklen\":4},\"colorscale\":[[0,\"#2a3f5f\"],[1,\"#2a3f5f\"]],\"hoverinfo\":\"name\",\"name\":\"Eje y-positivo \",\"showscale\":false,\"sizemode\":\"absolute\",\"sizeref\":0.08,\"type\":\"cone\",\"u\":[0],\"v\":[1.1333333333333333],\"w\":[0],\"x\":[0],\"y\":[1.1333333333333333],\"z\":[0]},{\"hoverinfo\":\"skip\",\"line\":{\"color\":\"#2a3f5f\",\"width\":3},\"marker\":{\"color\":\"#2a3f5f\",\"size\":1},\"name\":\"eje z-positivo\",\"showlegend\":false,\"type\":\"scatter3d\",\"x\":[0,0],\"y\":[0,0],\"z\":[-1.1333333333333333,1.1333333333333333]},{\"anchor\":\"cm\",\"colorbar\":{\"thickness\":20,\"ticklen\":4},\"colorscale\":[[0,\"#2a3f5f\"],[1,\"#2a3f5f\"]],\"hoverinfo\":\"name\",\"name\":\"Eje z-positivo\",\"showscale\":false,\"sizemode\":\"absolute\",\"sizeref\":0.08,\"type\":\"cone\",\"u\":[0],\"v\":[0],\"w\":[1.1333333333333333],\"x\":[0],\"y\":[0],\"z\":[1.1333333333333333]}],                        {\"height\":480,\"legend\":{\"orientation\":\"h\",\"x\":0.03,\"y\":1.3},\"margin\":{\"b\":0,\"l\":0,\"r\":0,\"t\":0},\"showlegend\":true,\"template\":{\"data\":{\"bar\":[{\"error_x\":{\"color\":\"#2a3f5f\"},\"error_y\":{\"color\":\"#2a3f5f\"},\"marker\":{\"line\":{\"color\":\"#E5ECF6\",\"width\":0.5},\"pattern\":{\"fillmode\":\"overlay\",\"size\":10,\"solidity\":0.2}},\"type\":\"bar\"}],\"barpolar\":[{\"marker\":{\"line\":{\"color\":\"#E5ECF6\",\"width\":0.5},\"pattern\":{\"fillmode\":\"overlay\",\"size\":10,\"solidity\":0.2}},\"type\":\"barpolar\"}],\"carpet\":[{\"aaxis\":{\"endlinecolor\":\"#2a3f5f\",\"gridcolor\":\"white\",\"linecolor\":\"white\",\"minorgridcolor\":\"white\",\"startlinecolor\":\"#2a3f5f\"},\"baxis\":{\"endlinecolor\":\"#2a3f5f\",\"gridcolor\":\"white\",\"linecolor\":\"white\",\"minorgridcolor\":\"white\",\"startlinecolor\":\"#2a3f5f\"},\"type\":\"carpet\"}],\"choropleth\":[{\"colorbar\":{\"outlinewidth\":0,\"ticks\":\"\"},\"type\":\"choropleth\"}],\"contour\":[{\"colorbar\":{\"outlinewidth\":0,\"ticks\":\"\"},\"colorscale\":[[0.0,\"#0d0887\"],[0.1111111111111111,\"#46039f\"],[0.2222222222222222,\"#7201a8\"],[0.3333333333333333,\"#9c179e\"],[0.4444444444444444,\"#bd3786\"],[0.5555555555555556,\"#d8576b\"],[0.6666666666666666,\"#ed7953\"],[0.7777777777777778,\"#fb9f3a\"],[0.8888888888888888,\"#fdca26\"],[1.0,\"#f0f921\"]],\"type\":\"contour\"}],\"contourcarpet\":[{\"colorbar\":{\"outlinewidth\":0,\"ticks\":\"\"},\"type\":\"contourcarpet\"}],\"heatmap\":[{\"colorbar\":{\"outlinewidth\":0,\"ticks\":\"\"},\"colorscale\":[[0.0,\"#0d0887\"],[0.1111111111111111,\"#46039f\"],[0.2222222222222222,\"#7201a8\"],[0.3333333333333333,\"#9c179e\"],[0.4444444444444444,\"#bd3786\"],[0.5555555555555556,\"#d8576b\"],[0.6666666666666666,\"#ed7953\"],[0.7777777777777778,\"#fb9f3a\"],[0.8888888888888888,\"#fdca26\"],[1.0,\"#f0f921\"]],\"type\":\"heatmap\"}],\"heatmapgl\":[{\"colorbar\":{\"outlinewidth\":0,\"ticks\":\"\"},\"colorscale\":[[0.0,\"#0d0887\"],[0.1111111111111111,\"#46039f\"],[0.2222222222222222,\"#7201a8\"],[0.3333333333333333,\"#9c179e\"],[0.4444444444444444,\"#bd3786\"],[0.5555555555555556,\"#d8576b\"],[0.6666666666666666,\"#ed7953\"],[0.7777777777777778,\"#fb9f3a\"],[0.8888888888888888,\"#fdca26\"],[1.0,\"#f0f921\"]],\"type\":\"heatmapgl\"}],\"histogram\":[{\"marker\":{\"pattern\":{\"fillmode\":\"overlay\",\"size\":10,\"solidity\":0.2}},\"type\":\"histogram\"}],\"histogram2d\":[{\"colorbar\":{\"outlinewidth\":0,\"ticks\":\"\"},\"colorscale\":[[0.0,\"#0d0887\"],[0.1111111111111111,\"#46039f\"],[0.2222222222222222,\"#7201a8\"],[0.3333333333333333,\"#9c179e\"],[0.4444444444444444,\"#bd3786\"],[0.5555555555555556,\"#d8576b\"],[0.6666666666666666,\"#ed7953\"],[0.7777777777777778,\"#fb9f3a\"],[0.8888888888888888,\"#fdca26\"],[1.0,\"#f0f921\"]],\"type\":\"histogram2d\"}],\"histogram2dcontour\":[{\"colorbar\":{\"outlinewidth\":0,\"ticks\":\"\"},\"colorscale\":[[0.0,\"#0d0887\"],[0.1111111111111111,\"#46039f\"],[0.2222222222222222,\"#7201a8\"],[0.3333333333333333,\"#9c179e\"],[0.4444444444444444,\"#bd3786\"],[0.5555555555555556,\"#d8576b\"],[0.6666666666666666,\"#ed7953\"],[0.7777777777777778,\"#fb9f3a\"],[0.8888888888888888,\"#fdca26\"],[1.0,\"#f0f921\"]],\"type\":\"histogram2dcontour\"}],\"mesh3d\":[{\"colorbar\":{\"outlinewidth\":0,\"ticks\":\"\"},\"type\":\"mesh3d\"}],\"parcoords\":[{\"line\":{\"colorbar\":{\"outlinewidth\":0,\"ticks\":\"\"}},\"type\":\"parcoords\"}],\"pie\":[{\"automargin\":true,\"type\":\"pie\"}],\"scatter\":[{\"marker\":{\"colorbar\":{\"outlinewidth\":0,\"ticks\":\"\"}},\"type\":\"scatter\"}],\"scatter3d\":[{\"line\":{\"colorbar\":{\"outlinewidth\":0,\"ticks\":\"\"}},\"marker\":{\"colorbar\":{\"outlinewidth\":0,\"ticks\":\"\"}},\"type\":\"scatter3d\"}],\"scattercarpet\":[{\"marker\":{\"colorbar\":{\"outlinewidth\":0,\"ticks\":\"\"}},\"type\":\"scattercarpet\"}],\"scattergeo\":[{\"marker\":{\"colorbar\":{\"outlinewidth\":0,\"ticks\":\"\"}},\"type\":\"scattergeo\"}],\"scattergl\":[{\"marker\":{\"colorbar\":{\"outlinewidth\":0,\"ticks\":\"\"}},\"type\":\"scattergl\"}],\"scattermapbox\":[{\"marker\":{\"colorbar\":{\"outlinewidth\":0,\"ticks\":\"\"}},\"type\":\"scattermapbox\"}],\"scatterpolar\":[{\"marker\":{\"colorbar\":{\"outlinewidth\":0,\"ticks\":\"\"}},\"type\":\"scatterpolar\"}],\"scatterpolargl\":[{\"marker\":{\"colorbar\":{\"outlinewidth\":0,\"ticks\":\"\"}},\"type\":\"scatterpolargl\"}],\"scatterternary\":[{\"marker\":{\"colorbar\":{\"outlinewidth\":0,\"ticks\":\"\"}},\"type\":\"scatterternary\"}],\"surface\":[{\"colorbar\":{\"outlinewidth\":0,\"ticks\":\"\"},\"colorscale\":[[0.0,\"#0d0887\"],[0.1111111111111111,\"#46039f\"],[0.2222222222222222,\"#7201a8\"],[0.3333333333333333,\"#9c179e\"],[0.4444444444444444,\"#bd3786\"],[0.5555555555555556,\"#d8576b\"],[0.6666666666666666,\"#ed7953\"],[0.7777777777777778,\"#fb9f3a\"],[0.8888888888888888,\"#fdca26\"],[1.0,\"#f0f921\"]],\"type\":\"surface\"}],\"table\":[{\"cells\":{\"fill\":{\"color\":\"#EBF0F8\"},\"line\":{\"color\":\"white\"}},\"header\":{\"fill\":{\"color\":\"#C8D4E3\"},\"line\":{\"color\":\"white\"}},\"type\":\"table\"}]},\"layout\":{\"annotationdefaults\":{\"arrowcolor\":\"#2a3f5f\",\"arrowhead\":0,\"arrowwidth\":1},\"autotypenumbers\":\"strict\",\"coloraxis\":{\"colorbar\":{\"outlinewidth\":0,\"ticks\":\"\"}},\"colorscale\":{\"diverging\":[[0,\"#8e0152\"],[0.1,\"#c51b7d\"],[0.2,\"#de77ae\"],[0.3,\"#f1b6da\"],[0.4,\"#fde0ef\"],[0.5,\"#f7f7f7\"],[0.6,\"#e6f5d0\"],[0.7,\"#b8e186\"],[0.8,\"#7fbc41\"],[0.9,\"#4d9221\"],[1,\"#276419\"]],\"sequential\":[[0.0,\"#0d0887\"],[0.1111111111111111,\"#46039f\"],[0.2222222222222222,\"#7201a8\"],[0.3333333333333333,\"#9c179e\"],[0.4444444444444444,\"#bd3786\"],[0.5555555555555556,\"#d8576b\"],[0.6666666666666666,\"#ed7953\"],[0.7777777777777778,\"#fb9f3a\"],[0.8888888888888888,\"#fdca26\"],[1.0,\"#f0f921\"]],\"sequentialminus\":[[0.0,\"#0d0887\"],[0.1111111111111111,\"#46039f\"],[0.2222222222222222,\"#7201a8\"],[0.3333333333333333,\"#9c179e\"],[0.4444444444444444,\"#bd3786\"],[0.5555555555555556,\"#d8576b\"],[0.6666666666666666,\"#ed7953\"],[0.7777777777777778,\"#fb9f3a\"],[0.8888888888888888,\"#fdca26\"],[1.0,\"#f0f921\"]]},\"colorway\":[\"#636efa\",\"#EF553B\",\"#00cc96\",\"#ab63fa\",\"#FFA15A\",\"#19d3f3\",\"#FF6692\",\"#B6E880\",\"#FF97FF\",\"#FECB52\"],\"font\":{\"color\":\"#2a3f5f\"},\"geo\":{\"bgcolor\":\"white\",\"lakecolor\":\"white\",\"landcolor\":\"#E5ECF6\",\"showlakes\":true,\"showland\":true,\"subunitcolor\":\"white\"},\"hoverlabel\":{\"align\":\"left\"},\"hovermode\":\"closest\",\"mapbox\":{\"style\":\"light\"},\"paper_bgcolor\":\"white\",\"plot_bgcolor\":\"#E5ECF6\",\"polar\":{\"angularaxis\":{\"gridcolor\":\"white\",\"linecolor\":\"white\",\"ticks\":\"\"},\"bgcolor\":\"#E5ECF6\",\"radialaxis\":{\"gridcolor\":\"white\",\"linecolor\":\"white\",\"ticks\":\"\"}},\"scene\":{\"xaxis\":{\"backgroundcolor\":\"#E5ECF6\",\"gridcolor\":\"white\",\"gridwidth\":2,\"linecolor\":\"white\",\"showbackground\":true,\"ticks\":\"\",\"zerolinecolor\":\"white\"},\"yaxis\":{\"backgroundcolor\":\"#E5ECF6\",\"gridcolor\":\"white\",\"gridwidth\":2,\"linecolor\":\"white\",\"showbackground\":true,\"ticks\":\"\",\"zerolinecolor\":\"white\"},\"zaxis\":{\"backgroundcolor\":\"#E5ECF6\",\"gridcolor\":\"white\",\"gridwidth\":2,\"linecolor\":\"white\",\"showbackground\":true,\"ticks\":\"\",\"zerolinecolor\":\"white\"}},\"shapedefaults\":{\"line\":{\"color\":\"#2a3f5f\"}},\"ternary\":{\"aaxis\":{\"gridcolor\":\"white\",\"linecolor\":\"white\",\"ticks\":\"\"},\"baxis\":{\"gridcolor\":\"white\",\"linecolor\":\"white\",\"ticks\":\"\"},\"bgcolor\":\"#E5ECF6\",\"caxis\":{\"gridcolor\":\"white\",\"linecolor\":\"white\",\"ticks\":\"\"}},\"title\":{\"x\":0.05},\"xaxis\":{\"automargin\":true,\"gridcolor\":\"white\",\"linecolor\":\"white\",\"ticks\":\"\",\"title\":{\"standoff\":15},\"zerolinecolor\":\"white\",\"zerolinewidth\":2},\"yaxis\":{\"automargin\":true,\"gridcolor\":\"white\",\"linecolor\":\"white\",\"ticks\":\"\",\"title\":{\"standoff\":15},\"zerolinecolor\":\"white\",\"zerolinewidth\":2}}},\"title\":{\"font\":{\"color\":\"rgb(1,21,51)\",\"size\":50}},\"width\":480},                        {\"responsive\": true}                    ).then(function(){\n",
              "                            \n",
              "var gd = document.getElementById('23b1ddd6-f715-4c62-9d39-cf51b33fd521');\n",
              "var x = new MutationObserver(function (mutations, observer) {{\n",
              "        var display = window.getComputedStyle(gd).display;\n",
              "        if (!display || display === 'none') {{\n",
              "            console.log([gd, 'removed!']);\n",
              "            Plotly.purge(gd);\n",
              "            observer.disconnect();\n",
              "        }}\n",
              "}});\n",
              "\n",
              "// Listen for the removal of the full notebook cells\n",
              "var notebookContainer = gd.closest('#notebook-container');\n",
              "if (notebookContainer) {{\n",
              "    x.observe(notebookContainer, {childList: true});\n",
              "}}\n",
              "\n",
              "// Listen for the clearing of the current output cell\n",
              "var outputEl = gd.closest('.output');\n",
              "if (outputEl) {{\n",
              "    x.observe(outputEl, {childList: true});\n",
              "}}\n",
              "\n",
              "                        })                };                            </script>        </div>\n",
              "</body>\n",
              "</html>"
            ]
          },
          "metadata": {}
        }
      ]
    },
    {
      "cell_type": "markdown",
      "source": [
        "#**Vectors ortogonals**\n",
        "\n",
        "Dos vectors ${\\displaystyle \\vec{A},\\vec{B}\\in V_n}$ on $n =1,2 \\ \\text{o}\\ 3$ són **ortogonanals o perpendiculars** quan formen angle recte entre si.\n",
        "\n",
        "Dos vectors ${\\displaystyle \\vec{A},\\vec{B}\\in V_n}$ són ortogonals si\n",
        "$\\vec{A} \\cdot \\vec{B} =0$.\n",
        "\n",
        "<center><img src=\"https://github.com/josorio398/ALGEBRA-LINEAL-CON-PYTHON/blob/master/im%C3%A1genes%20repositorio/perpendiculares.PNG?raw=true\" height=\"250 \" /> </center>\n",
        "\n",
        "##**Exemple:**\n",
        "\n",
        "Donats el vector $\\vec{A}= (2,1,-1)$ i $\\vec{B}= (1,-1,1)$ determina si els vectors són **ortogonals** i realitza la gàfica dels dos vectors al mateix espai."
      ],
      "metadata": {
        "id": "i_SV6-UmM2di"
      }
    },
    {
      "cell_type": "code",
      "source": [
        "A = Matrix([2,1,-1])\n",
        "B = Matrix([1,-1,1])\n",
        "\n",
        "A.dot(B)"
      ],
      "metadata": {
        "colab": {
          "base_uri": "https://localhost:8080/",
          "height": 37
        },
        "id": "xp_xYCdLM5nl",
        "outputId": "0814e9ef-f533-4683-a154-1894ad3f95b3"
      },
      "execution_count": 46,
      "outputs": [
        {
          "output_type": "execute_result",
          "data": {
            "text/plain": [
              "0"
            ],
            "text/latex": "$\\displaystyle 0$"
          },
          "metadata": {},
          "execution_count": 46
        }
      ]
    },
    {
      "cell_type": "markdown",
      "source": [
        "Explicació de l'exercici anterior:\n",
        "\n",
        "Com exercici...."
      ],
      "metadata": {
        "id": "R0VAByHsM-YP"
      }
    },
    {
      "cell_type": "markdown",
      "source": [
        "#**Projecció ortogonal**\n",
        "\n",
        "Sigueu ${\\displaystyle \\vec{U},\\vec{V}\\in V_n}$ dos vectors diferents de zero. Aleshores la projecció de $\\vec{U}$ sobre $\\vec{V}$ és un vector denotat per $\\text{proy}_\\vec{V} \\vec{U}$, que es defineix amb la següent expressió :\n",
        "\n",
        "$$\\text{proy}_\\vec{V} \\vec{U} = \\left(\\dfrac{\\vec{U} \\cdot\\vec{V} }{||\\vec{V}||^2 } \\right)\\vec{V}$$\\\\\n",
        "\n",
        "<center><img src=\"https://github.com/josorio398/ALGEBRA-LINEAL-CON-PYTHON/blob/master/im%C3%A1genes%20repositori/proyecci%C3%B3n.PNG?raw=true\" height=\"250\" /> </center>\n",
        "\n",
        "##**Exemple:**\n",
        "\n",
        "Donats el vector $\\vec{A}= (2,3,1)$ i $\\vec{B}= (3,4,5)$ determina la projecció del vector $\\vec{A}$ sobre $\\vec {B}$ i realitza la gràfica dels tres vectors al mateix espai."
      ],
      "metadata": {
        "id": "PZEXEsgKNHUC"
      }
    },
    {
      "cell_type": "code",
      "source": [
        "A = Matrix([2,3,1])\n",
        "B = Matrix([3,4,5])\n",
        "\n",
        "proyAB =(A.dot(B)/(B.norm())**2)*B\n",
        "proyAB"
      ],
      "metadata": {
        "colab": {
          "base_uri": "https://localhost:8080/",
          "height": 79
        },
        "id": "RppIeKYeNLBK",
        "outputId": "2b9378fe-1e94-49d1-cb92-0b2176fdc108"
      },
      "execution_count": 47,
      "outputs": [
        {
          "output_type": "execute_result",
          "data": {
            "text/plain": [
              "Matrix([\n",
              "[69/50],\n",
              "[46/25],\n",
              "[23/10]])"
            ],
            "text/latex": "$\\displaystyle \\left[\\begin{matrix}\\frac{69}{50}\\\\\\frac{46}{25}\\\\\\frac{23}{10}\\end{matrix}\\right]$"
          },
          "metadata": {},
          "execution_count": 47
        }
      ]
    },
    {
      "cell_type": "code",
      "source": [
        "plotvectors3D(A,B,proyAB)"
      ],
      "metadata": {
        "colab": {
          "base_uri": "https://localhost:8080/",
          "height": 497
        },
        "id": "YtlQGVGSNNri",
        "outputId": "d69b91f7-2dfe-4b6d-ae8d-cc007b0d9f3d"
      },
      "execution_count": 48,
      "outputs": [
        {
          "output_type": "display_data",
          "data": {
            "text/html": [
              "<html>\n",
              "<head><meta charset=\"utf-8\" /></head>\n",
              "<body>\n",
              "    <div>            <script src=\"https://cdnjs.cloudflare.com/ajax/libs/mathjax/2.7.5/MathJax.js?config=TeX-AMS-MML_SVG\"></script><script type=\"text/javascript\">if (window.MathJax) {MathJax.Hub.Config({SVG: {font: \"STIX-Web\"}});}</script>                <script type=\"text/javascript\">window.PlotlyConfig = {MathJaxConfig: 'local'};</script>\n",
              "        <script src=\"https://cdn.plot.ly/plotly-2.2.0.min.js\"></script>                <div id=\"63d723d5-dc39-4fce-b0a5-432e5ade6d8c\" class=\"plotly-graph-div\" style=\"height:480px; width:480px;\"></div>            <script type=\"text/javascript\">                                    window.PLOTLYENV=window.PLOTLYENV || {};                                    if (document.getElementById(\"63d723d5-dc39-4fce-b0a5-432e5ade6d8c\")) {                    Plotly.newPlot(                        \"63d723d5-dc39-4fce-b0a5-432e5ade6d8c\",                        [{\"line\":{\"color\":\"rgb(243,13,152)\",\"width\":7},\"marker\":{\"color\":\"rgb(243,13,152)\",\"size\":1},\"name\":\"vector 1\",\"type\":\"scatter3d\",\"x\":[0,2.0],\"y\":[0,3.0],\"z\":[0,1.0]},{\"anchor\":\"cm\",\"colorbar\":{\"thickness\":20,\"ticklen\":4},\"colorscale\":[[0,\"rgb(243,13,152)\"],[1,\"rgb(243,13,152)\"]],\"name\":\"vector 1\",\"showscale\":false,\"sizemode\":\"absolute\",\"sizeref\":0.4,\"type\":\"cone\",\"u\":[2.0],\"v\":[3.0],\"w\":[1.0],\"x\":[2.0],\"y\":[3.0],\"z\":[1.0]},{\"line\":{\"color\":\"rgb(210,22,105)\",\"width\":7},\"marker\":{\"color\":\"rgb(210,22,105)\",\"size\":1},\"name\":\"vector 2\",\"type\":\"scatter3d\",\"x\":[0,3.0],\"y\":[0,4.0],\"z\":[0,5.0]},{\"anchor\":\"cm\",\"colorbar\":{\"thickness\":20,\"ticklen\":4},\"colorscale\":[[0,\"rgb(210,22,105)\"],[1,\"rgb(210,22,105)\"]],\"name\":\"vector 2\",\"showscale\":false,\"sizemode\":\"absolute\",\"sizeref\":0.4,\"type\":\"cone\",\"u\":[3.0],\"v\":[4.0],\"w\":[5.0],\"x\":[3.0],\"y\":[4.0],\"z\":[5.0]},{\"line\":{\"color\":\"rgb(11,102,236)\",\"width\":7},\"marker\":{\"color\":\"rgb(11,102,236)\",\"size\":1},\"name\":\"vector 3\",\"type\":\"scatter3d\",\"x\":[0,1.38],\"y\":[0,1.84],\"z\":[0,2.3]},{\"anchor\":\"cm\",\"colorbar\":{\"thickness\":20,\"ticklen\":4},\"colorscale\":[[0,\"rgb(11,102,236)\"],[1,\"rgb(11,102,236)\"]],\"name\":\"vector 3\",\"showscale\":false,\"sizemode\":\"absolute\",\"sizeref\":0.4,\"type\":\"cone\",\"u\":[1.38],\"v\":[1.84],\"w\":[2.3],\"x\":[1.38],\"y\":[1.84],\"z\":[2.3]},{\"marker\":{\"color\":\"#2a3f5f\",\"size\":5},\"mode\":\"markers\",\"name\":\"origen\",\"showlegend\":true,\"type\":\"scatter3d\",\"x\":[0],\"y\":[0],\"z\":[0]},{\"hoverinfo\":\"skip\",\"line\":{\"color\":\"#2a3f5f\",\"width\":3},\"marker\":{\"color\":\"#2a3f5f\",\"size\":1},\"name\":\"\",\"showlegend\":false,\"type\":\"scatter3d\",\"x\":[-0.4,3.4],\"y\":[0,0],\"z\":[0,0]},{\"anchor\":\"cm\",\"colorbar\":{\"thickness\":20,\"ticklen\":4},\"colorscale\":[[0,\"#2a3f5f\"],[1,\"#2a3f5f\"]],\"hoverinfo\":\"name\",\"name\":\"Eje x-positivo\",\"showscale\":false,\"sizemode\":\"absolute\",\"sizeref\":0.24,\"type\":\"cone\",\"u\":[3.4],\"v\":[0],\"w\":[0],\"x\":[3.4],\"y\":[0],\"z\":[0]},{\"hoverinfo\":\"skip\",\"line\":{\"color\":\"#2a3f5f\",\"width\":3},\"marker\":{\"color\":\"#2a3f5f\",\"size\":1},\"name\":\"\",\"showlegend\":false,\"type\":\"scatter3d\",\"x\":[0,0],\"y\":[-0.4,4.4],\"z\":[0,0]},{\"anchor\":\"cm\",\"colorbar\":{\"thickness\":20,\"ticklen\":4},\"colorscale\":[[0,\"#2a3f5f\"],[1,\"#2a3f5f\"]],\"hoverinfo\":\"name\",\"name\":\"Eje y-positivo \",\"showscale\":false,\"sizemode\":\"absolute\",\"sizeref\":0.24,\"type\":\"cone\",\"u\":[0],\"v\":[4.4],\"w\":[0],\"x\":[0],\"y\":[4.4],\"z\":[0]},{\"hoverinfo\":\"skip\",\"line\":{\"color\":\"#2a3f5f\",\"width\":3},\"marker\":{\"color\":\"#2a3f5f\",\"size\":1},\"name\":\"eje z-positivo\",\"showlegend\":false,\"type\":\"scatter3d\",\"x\":[0,0],\"y\":[0,0],\"z\":[-0.7,5.4]},{\"anchor\":\"cm\",\"colorbar\":{\"thickness\":20,\"ticklen\":4},\"colorscale\":[[0,\"#2a3f5f\"],[1,\"#2a3f5f\"]],\"hoverinfo\":\"name\",\"name\":\"Eje z-positivo\",\"showscale\":false,\"sizemode\":\"absolute\",\"sizeref\":0.24,\"type\":\"cone\",\"u\":[0],\"v\":[0],\"w\":[5.4],\"x\":[0],\"y\":[0],\"z\":[5.4]}],                        {\"height\":480,\"legend\":{\"orientation\":\"h\",\"x\":0.03,\"y\":1.3},\"margin\":{\"b\":0,\"l\":0,\"r\":0,\"t\":0},\"showlegend\":true,\"template\":{\"data\":{\"bar\":[{\"error_x\":{\"color\":\"#2a3f5f\"},\"error_y\":{\"color\":\"#2a3f5f\"},\"marker\":{\"line\":{\"color\":\"#E5ECF6\",\"width\":0.5},\"pattern\":{\"fillmode\":\"overlay\",\"size\":10,\"solidity\":0.2}},\"type\":\"bar\"}],\"barpolar\":[{\"marker\":{\"line\":{\"color\":\"#E5ECF6\",\"width\":0.5},\"pattern\":{\"fillmode\":\"overlay\",\"size\":10,\"solidity\":0.2}},\"type\":\"barpolar\"}],\"carpet\":[{\"aaxis\":{\"endlinecolor\":\"#2a3f5f\",\"gridcolor\":\"white\",\"linecolor\":\"white\",\"minorgridcolor\":\"white\",\"startlinecolor\":\"#2a3f5f\"},\"baxis\":{\"endlinecolor\":\"#2a3f5f\",\"gridcolor\":\"white\",\"linecolor\":\"white\",\"minorgridcolor\":\"white\",\"startlinecolor\":\"#2a3f5f\"},\"type\":\"carpet\"}],\"choropleth\":[{\"colorbar\":{\"outlinewidth\":0,\"ticks\":\"\"},\"type\":\"choropleth\"}],\"contour\":[{\"colorbar\":{\"outlinewidth\":0,\"ticks\":\"\"},\"colorscale\":[[0.0,\"#0d0887\"],[0.1111111111111111,\"#46039f\"],[0.2222222222222222,\"#7201a8\"],[0.3333333333333333,\"#9c179e\"],[0.4444444444444444,\"#bd3786\"],[0.5555555555555556,\"#d8576b\"],[0.6666666666666666,\"#ed7953\"],[0.7777777777777778,\"#fb9f3a\"],[0.8888888888888888,\"#fdca26\"],[1.0,\"#f0f921\"]],\"type\":\"contour\"}],\"contourcarpet\":[{\"colorbar\":{\"outlinewidth\":0,\"ticks\":\"\"},\"type\":\"contourcarpet\"}],\"heatmap\":[{\"colorbar\":{\"outlinewidth\":0,\"ticks\":\"\"},\"colorscale\":[[0.0,\"#0d0887\"],[0.1111111111111111,\"#46039f\"],[0.2222222222222222,\"#7201a8\"],[0.3333333333333333,\"#9c179e\"],[0.4444444444444444,\"#bd3786\"],[0.5555555555555556,\"#d8576b\"],[0.6666666666666666,\"#ed7953\"],[0.7777777777777778,\"#fb9f3a\"],[0.8888888888888888,\"#fdca26\"],[1.0,\"#f0f921\"]],\"type\":\"heatmap\"}],\"heatmapgl\":[{\"colorbar\":{\"outlinewidth\":0,\"ticks\":\"\"},\"colorscale\":[[0.0,\"#0d0887\"],[0.1111111111111111,\"#46039f\"],[0.2222222222222222,\"#7201a8\"],[0.3333333333333333,\"#9c179e\"],[0.4444444444444444,\"#bd3786\"],[0.5555555555555556,\"#d8576b\"],[0.6666666666666666,\"#ed7953\"],[0.7777777777777778,\"#fb9f3a\"],[0.8888888888888888,\"#fdca26\"],[1.0,\"#f0f921\"]],\"type\":\"heatmapgl\"}],\"histogram\":[{\"marker\":{\"pattern\":{\"fillmode\":\"overlay\",\"size\":10,\"solidity\":0.2}},\"type\":\"histogram\"}],\"histogram2d\":[{\"colorbar\":{\"outlinewidth\":0,\"ticks\":\"\"},\"colorscale\":[[0.0,\"#0d0887\"],[0.1111111111111111,\"#46039f\"],[0.2222222222222222,\"#7201a8\"],[0.3333333333333333,\"#9c179e\"],[0.4444444444444444,\"#bd3786\"],[0.5555555555555556,\"#d8576b\"],[0.6666666666666666,\"#ed7953\"],[0.7777777777777778,\"#fb9f3a\"],[0.8888888888888888,\"#fdca26\"],[1.0,\"#f0f921\"]],\"type\":\"histogram2d\"}],\"histogram2dcontour\":[{\"colorbar\":{\"outlinewidth\":0,\"ticks\":\"\"},\"colorscale\":[[0.0,\"#0d0887\"],[0.1111111111111111,\"#46039f\"],[0.2222222222222222,\"#7201a8\"],[0.3333333333333333,\"#9c179e\"],[0.4444444444444444,\"#bd3786\"],[0.5555555555555556,\"#d8576b\"],[0.6666666666666666,\"#ed7953\"],[0.7777777777777778,\"#fb9f3a\"],[0.8888888888888888,\"#fdca26\"],[1.0,\"#f0f921\"]],\"type\":\"histogram2dcontour\"}],\"mesh3d\":[{\"colorbar\":{\"outlinewidth\":0,\"ticks\":\"\"},\"type\":\"mesh3d\"}],\"parcoords\":[{\"line\":{\"colorbar\":{\"outlinewidth\":0,\"ticks\":\"\"}},\"type\":\"parcoords\"}],\"pie\":[{\"automargin\":true,\"type\":\"pie\"}],\"scatter\":[{\"marker\":{\"colorbar\":{\"outlinewidth\":0,\"ticks\":\"\"}},\"type\":\"scatter\"}],\"scatter3d\":[{\"line\":{\"colorbar\":{\"outlinewidth\":0,\"ticks\":\"\"}},\"marker\":{\"colorbar\":{\"outlinewidth\":0,\"ticks\":\"\"}},\"type\":\"scatter3d\"}],\"scattercarpet\":[{\"marker\":{\"colorbar\":{\"outlinewidth\":0,\"ticks\":\"\"}},\"type\":\"scattercarpet\"}],\"scattergeo\":[{\"marker\":{\"colorbar\":{\"outlinewidth\":0,\"ticks\":\"\"}},\"type\":\"scattergeo\"}],\"scattergl\":[{\"marker\":{\"colorbar\":{\"outlinewidth\":0,\"ticks\":\"\"}},\"type\":\"scattergl\"}],\"scattermapbox\":[{\"marker\":{\"colorbar\":{\"outlinewidth\":0,\"ticks\":\"\"}},\"type\":\"scattermapbox\"}],\"scatterpolar\":[{\"marker\":{\"colorbar\":{\"outlinewidth\":0,\"ticks\":\"\"}},\"type\":\"scatterpolar\"}],\"scatterpolargl\":[{\"marker\":{\"colorbar\":{\"outlinewidth\":0,\"ticks\":\"\"}},\"type\":\"scatterpolargl\"}],\"scatterternary\":[{\"marker\":{\"colorbar\":{\"outlinewidth\":0,\"ticks\":\"\"}},\"type\":\"scatterternary\"}],\"surface\":[{\"colorbar\":{\"outlinewidth\":0,\"ticks\":\"\"},\"colorscale\":[[0.0,\"#0d0887\"],[0.1111111111111111,\"#46039f\"],[0.2222222222222222,\"#7201a8\"],[0.3333333333333333,\"#9c179e\"],[0.4444444444444444,\"#bd3786\"],[0.5555555555555556,\"#d8576b\"],[0.6666666666666666,\"#ed7953\"],[0.7777777777777778,\"#fb9f3a\"],[0.8888888888888888,\"#fdca26\"],[1.0,\"#f0f921\"]],\"type\":\"surface\"}],\"table\":[{\"cells\":{\"fill\":{\"color\":\"#EBF0F8\"},\"line\":{\"color\":\"white\"}},\"header\":{\"fill\":{\"color\":\"#C8D4E3\"},\"line\":{\"color\":\"white\"}},\"type\":\"table\"}]},\"layout\":{\"annotationdefaults\":{\"arrowcolor\":\"#2a3f5f\",\"arrowhead\":0,\"arrowwidth\":1},\"autotypenumbers\":\"strict\",\"coloraxis\":{\"colorbar\":{\"outlinewidth\":0,\"ticks\":\"\"}},\"colorscale\":{\"diverging\":[[0,\"#8e0152\"],[0.1,\"#c51b7d\"],[0.2,\"#de77ae\"],[0.3,\"#f1b6da\"],[0.4,\"#fde0ef\"],[0.5,\"#f7f7f7\"],[0.6,\"#e6f5d0\"],[0.7,\"#b8e186\"],[0.8,\"#7fbc41\"],[0.9,\"#4d9221\"],[1,\"#276419\"]],\"sequential\":[[0.0,\"#0d0887\"],[0.1111111111111111,\"#46039f\"],[0.2222222222222222,\"#7201a8\"],[0.3333333333333333,\"#9c179e\"],[0.4444444444444444,\"#bd3786\"],[0.5555555555555556,\"#d8576b\"],[0.6666666666666666,\"#ed7953\"],[0.7777777777777778,\"#fb9f3a\"],[0.8888888888888888,\"#fdca26\"],[1.0,\"#f0f921\"]],\"sequentialminus\":[[0.0,\"#0d0887\"],[0.1111111111111111,\"#46039f\"],[0.2222222222222222,\"#7201a8\"],[0.3333333333333333,\"#9c179e\"],[0.4444444444444444,\"#bd3786\"],[0.5555555555555556,\"#d8576b\"],[0.6666666666666666,\"#ed7953\"],[0.7777777777777778,\"#fb9f3a\"],[0.8888888888888888,\"#fdca26\"],[1.0,\"#f0f921\"]]},\"colorway\":[\"#636efa\",\"#EF553B\",\"#00cc96\",\"#ab63fa\",\"#FFA15A\",\"#19d3f3\",\"#FF6692\",\"#B6E880\",\"#FF97FF\",\"#FECB52\"],\"font\":{\"color\":\"#2a3f5f\"},\"geo\":{\"bgcolor\":\"white\",\"lakecolor\":\"white\",\"landcolor\":\"#E5ECF6\",\"showlakes\":true,\"showland\":true,\"subunitcolor\":\"white\"},\"hoverlabel\":{\"align\":\"left\"},\"hovermode\":\"closest\",\"mapbox\":{\"style\":\"light\"},\"paper_bgcolor\":\"white\",\"plot_bgcolor\":\"#E5ECF6\",\"polar\":{\"angularaxis\":{\"gridcolor\":\"white\",\"linecolor\":\"white\",\"ticks\":\"\"},\"bgcolor\":\"#E5ECF6\",\"radialaxis\":{\"gridcolor\":\"white\",\"linecolor\":\"white\",\"ticks\":\"\"}},\"scene\":{\"xaxis\":{\"backgroundcolor\":\"#E5ECF6\",\"gridcolor\":\"white\",\"gridwidth\":2,\"linecolor\":\"white\",\"showbackground\":true,\"ticks\":\"\",\"zerolinecolor\":\"white\"},\"yaxis\":{\"backgroundcolor\":\"#E5ECF6\",\"gridcolor\":\"white\",\"gridwidth\":2,\"linecolor\":\"white\",\"showbackground\":true,\"ticks\":\"\",\"zerolinecolor\":\"white\"},\"zaxis\":{\"backgroundcolor\":\"#E5ECF6\",\"gridcolor\":\"white\",\"gridwidth\":2,\"linecolor\":\"white\",\"showbackground\":true,\"ticks\":\"\",\"zerolinecolor\":\"white\"}},\"shapedefaults\":{\"line\":{\"color\":\"#2a3f5f\"}},\"ternary\":{\"aaxis\":{\"gridcolor\":\"white\",\"linecolor\":\"white\",\"ticks\":\"\"},\"baxis\":{\"gridcolor\":\"white\",\"linecolor\":\"white\",\"ticks\":\"\"},\"bgcolor\":\"#E5ECF6\",\"caxis\":{\"gridcolor\":\"white\",\"linecolor\":\"white\",\"ticks\":\"\"}},\"title\":{\"x\":0.05},\"xaxis\":{\"automargin\":true,\"gridcolor\":\"white\",\"linecolor\":\"white\",\"ticks\":\"\",\"title\":{\"standoff\":15},\"zerolinecolor\":\"white\",\"zerolinewidth\":2},\"yaxis\":{\"automargin\":true,\"gridcolor\":\"white\",\"linecolor\":\"white\",\"ticks\":\"\",\"title\":{\"standoff\":15},\"zerolinecolor\":\"white\",\"zerolinewidth\":2}}},\"title\":{\"font\":{\"color\":\"rgb(1,21,51)\",\"size\":50}},\"width\":480},                        {\"responsive\": true}                    ).then(function(){\n",
              "                            \n",
              "var gd = document.getElementById('63d723d5-dc39-4fce-b0a5-432e5ade6d8c');\n",
              "var x = new MutationObserver(function (mutations, observer) {{\n",
              "        var display = window.getComputedStyle(gd).display;\n",
              "        if (!display || display === 'none') {{\n",
              "            console.log([gd, 'removed!']);\n",
              "            Plotly.purge(gd);\n",
              "            observer.disconnect();\n",
              "        }}\n",
              "}});\n",
              "\n",
              "// Listen for the removal of the full notebook cells\n",
              "var notebookContainer = gd.closest('#notebook-container');\n",
              "if (notebookContainer) {{\n",
              "    x.observe(notebookContainer, {childList: true});\n",
              "}}\n",
              "\n",
              "// Listen for the clearing of the current output cell\n",
              "var outputEl = gd.closest('.output');\n",
              "if (outputEl) {{\n",
              "    x.observe(outputEl, {childList: true});\n",
              "}}\n",
              "\n",
              "                        })                };                            </script>        </div>\n",
              "</body>\n",
              "</html>"
            ]
          },
          "metadata": {}
        }
      ]
    },
    {
      "cell_type": "markdown",
      "source": [
        "#**PRODUCTE VECTORIAL**\n",
        "\n",
        "Siguin $\\vec{A},\\vec{B}\\in V_3$ tal que $\\vec{A} = (A_1,A_2,A_3)$ i $\\vec{B} = (B_1,B_2,B_3)$ es defineix el **producte vectorial** com:\n",
        "\n",
        "<br>\n",
        "\n",
        "$$ \\vec{A}\\times \\vec{B} = \\left|\\begin{array}{ccc}\n",
        "\\hat{i} & \\hat{j}&\\hat{k}\\\\\n",
        "A_1 & A_2 & A_3 \\\\\n",
        "B_1 & B_2 & B_3\n",
        "\\end{array} \\right| = (A_2B_3-A_3B_2)\\hat{i} - (A_1B_3-A_3B_1)\\hat{j} +(A_1B_2-A_2B_1)\\hat{k} $$\n",
        "\n",
        "<center><img src=\"https://github.com/josorio398/ALGEBRA-LINEAL-CON-PYTHON/blob/master/im%C3%A1genes%20repositorio/productocruz.PNG?raw=true\" height=\"250 \" /> </center>\n",
        "\n",
        "##**Exemple:**\n",
        "\n",
        "Donats el vector $\\vec{A}= (1,2,3)$ i $\\vec{B}= (-5,4,8)$ troba el vector $\\vec{A} \\times \\vec{B }$ i verifica aquest producte gràficament."
      ],
      "metadata": {
        "id": "pBfpR0sxNX7Q"
      }
    },
    {
      "cell_type": "code",
      "source": [
        "A = Matrix([1,2,3])\n",
        "B = Matrix([-5,4,8])\n",
        "\n",
        "A.cross(B)"
      ],
      "metadata": {
        "colab": {
          "base_uri": "https://localhost:8080/",
          "height": 78
        },
        "id": "DHz3kz9YNhyH",
        "outputId": "262cd368-9998-4ee6-d1b1-106075e0adb9"
      },
      "execution_count": 49,
      "outputs": [
        {
          "output_type": "execute_result",
          "data": {
            "text/plain": [
              "Matrix([\n",
              "[  4],\n",
              "[-23],\n",
              "[ 14]])"
            ],
            "text/latex": "$\\displaystyle \\left[\\begin{matrix}4\\\\-23\\\\14\\end{matrix}\\right]$"
          },
          "metadata": {},
          "execution_count": 49
        }
      ]
    },
    {
      "cell_type": "code",
      "source": [
        "A = Matrix([1,2,3])\n",
        "B = Matrix([-4,2,1])\n",
        "\n",
        "plotvectors3D(A,B,A.cross(B))"
      ],
      "metadata": {
        "colab": {
          "base_uri": "https://localhost:8080/",
          "height": 497
        },
        "id": "rlGvtrIaNkZn",
        "outputId": "73c3e4a9-1e90-4cf9-e979-4c50b3e322cb"
      },
      "execution_count": 50,
      "outputs": [
        {
          "output_type": "display_data",
          "data": {
            "text/html": [
              "<html>\n",
              "<head><meta charset=\"utf-8\" /></head>\n",
              "<body>\n",
              "    <div>            <script src=\"https://cdnjs.cloudflare.com/ajax/libs/mathjax/2.7.5/MathJax.js?config=TeX-AMS-MML_SVG\"></script><script type=\"text/javascript\">if (window.MathJax) {MathJax.Hub.Config({SVG: {font: \"STIX-Web\"}});}</script>                <script type=\"text/javascript\">window.PlotlyConfig = {MathJaxConfig: 'local'};</script>\n",
              "        <script src=\"https://cdn.plot.ly/plotly-2.2.0.min.js\"></script>                <div id=\"029c0e34-a835-4701-8432-1affdd860374\" class=\"plotly-graph-div\" style=\"height:480px; width:480px;\"></div>            <script type=\"text/javascript\">                                    window.PLOTLYENV=window.PLOTLYENV || {};                                    if (document.getElementById(\"029c0e34-a835-4701-8432-1affdd860374\")) {                    Plotly.newPlot(                        \"029c0e34-a835-4701-8432-1affdd860374\",                        [{\"line\":{\"color\":\"rgb(205,72,34)\",\"width\":7},\"marker\":{\"color\":\"rgb(205,72,34)\",\"size\":1},\"name\":\"vector 1\",\"type\":\"scatter3d\",\"x\":[0,1.0],\"y\":[0,2.0],\"z\":[0,3.0]},{\"anchor\":\"cm\",\"colorbar\":{\"thickness\":20,\"ticklen\":4},\"colorscale\":[[0,\"rgb(205,72,34)\"],[1,\"rgb(205,72,34)\"]],\"name\":\"vector 1\",\"showscale\":false,\"sizemode\":\"absolute\",\"sizeref\":0.43333333333333335,\"type\":\"cone\",\"u\":[1.0],\"v\":[2.0],\"w\":[3.0],\"x\":[1.0],\"y\":[2.0],\"z\":[3.0]},{\"line\":{\"color\":\"rgb(205,68,5)\",\"width\":7},\"marker\":{\"color\":\"rgb(205,68,5)\",\"size\":1},\"name\":\"vector 2\",\"type\":\"scatter3d\",\"x\":[0,-4.0],\"y\":[0,2.0],\"z\":[0,1.0]},{\"anchor\":\"cm\",\"colorbar\":{\"thickness\":20,\"ticklen\":4},\"colorscale\":[[0,\"rgb(205,68,5)\"],[1,\"rgb(205,68,5)\"]],\"name\":\"vector 2\",\"showscale\":false,\"sizemode\":\"absolute\",\"sizeref\":0.43333333333333335,\"type\":\"cone\",\"u\":[-4.0],\"v\":[2.0],\"w\":[1.0],\"x\":[-4.0],\"y\":[2.0],\"z\":[1.0]},{\"line\":{\"color\":\"rgb(79,100,179)\",\"width\":7},\"marker\":{\"color\":\"rgb(79,100,179)\",\"size\":1},\"name\":\"vector 3\",\"type\":\"scatter3d\",\"x\":[0,-4.0],\"y\":[0,-13.0],\"z\":[0,10.0]},{\"anchor\":\"cm\",\"colorbar\":{\"thickness\":20,\"ticklen\":4},\"colorscale\":[[0,\"rgb(79,100,179)\"],[1,\"rgb(79,100,179)\"]],\"name\":\"vector 3\",\"showscale\":false,\"sizemode\":\"absolute\",\"sizeref\":0.43333333333333335,\"type\":\"cone\",\"u\":[-4.0],\"v\":[-13.0],\"w\":[10.0],\"x\":[-4.0],\"y\":[-13.0],\"z\":[10.0]},{\"marker\":{\"color\":\"#2a3f5f\",\"size\":5},\"mode\":\"markers\",\"name\":\"origen\",\"showlegend\":true,\"type\":\"scatter3d\",\"x\":[0],\"y\":[0],\"z\":[0]},{\"hoverinfo\":\"skip\",\"line\":{\"color\":\"#2a3f5f\",\"width\":3},\"marker\":{\"color\":\"#2a3f5f\",\"size\":1},\"name\":\"\",\"showlegend\":false,\"type\":\"scatter3d\",\"x\":[-4.433333333333334,1.4333333333333333],\"y\":[0,0],\"z\":[0,0]},{\"anchor\":\"cm\",\"colorbar\":{\"thickness\":20,\"ticklen\":4},\"colorscale\":[[0,\"#2a3f5f\"],[1,\"#2a3f5f\"]],\"hoverinfo\":\"name\",\"name\":\"Eje x-positivo\",\"showscale\":false,\"sizemode\":\"absolute\",\"sizeref\":0.26,\"type\":\"cone\",\"u\":[1.4333333333333333],\"v\":[0],\"w\":[0],\"x\":[1.4333333333333333],\"y\":[0],\"z\":[0]},{\"hoverinfo\":\"skip\",\"line\":{\"color\":\"#2a3f5f\",\"width\":3},\"marker\":{\"color\":\"#2a3f5f\",\"size\":1},\"name\":\"\",\"showlegend\":false,\"type\":\"scatter3d\",\"x\":[0,0],\"y\":[-13.433333333333334,2.4333333333333336],\"z\":[0,0]},{\"anchor\":\"cm\",\"colorbar\":{\"thickness\":20,\"ticklen\":4},\"colorscale\":[[0,\"#2a3f5f\"],[1,\"#2a3f5f\"]],\"hoverinfo\":\"name\",\"name\":\"Eje y-positivo \",\"showscale\":false,\"sizemode\":\"absolute\",\"sizeref\":0.26,\"type\":\"cone\",\"u\":[0],\"v\":[2.4333333333333336],\"w\":[0],\"x\":[0],\"y\":[2.4333333333333336],\"z\":[0]},{\"hoverinfo\":\"skip\",\"line\":{\"color\":\"#2a3f5f\",\"width\":3},\"marker\":{\"color\":\"#2a3f5f\",\"size\":1},\"name\":\"eje z-positivo\",\"showlegend\":false,\"type\":\"scatter3d\",\"x\":[0,0],\"y\":[0,0],\"z\":[-0.7333333333333334,10.433333333333334]},{\"anchor\":\"cm\",\"colorbar\":{\"thickness\":20,\"ticklen\":4},\"colorscale\":[[0,\"#2a3f5f\"],[1,\"#2a3f5f\"]],\"hoverinfo\":\"name\",\"name\":\"Eje z-positivo\",\"showscale\":false,\"sizemode\":\"absolute\",\"sizeref\":0.26,\"type\":\"cone\",\"u\":[0],\"v\":[0],\"w\":[10.433333333333334],\"x\":[0],\"y\":[0],\"z\":[10.433333333333334]}],                        {\"height\":480,\"legend\":{\"orientation\":\"h\",\"x\":0.03,\"y\":1.3},\"margin\":{\"b\":0,\"l\":0,\"r\":0,\"t\":0},\"showlegend\":true,\"template\":{\"data\":{\"bar\":[{\"error_x\":{\"color\":\"#2a3f5f\"},\"error_y\":{\"color\":\"#2a3f5f\"},\"marker\":{\"line\":{\"color\":\"#E5ECF6\",\"width\":0.5},\"pattern\":{\"fillmode\":\"overlay\",\"size\":10,\"solidity\":0.2}},\"type\":\"bar\"}],\"barpolar\":[{\"marker\":{\"line\":{\"color\":\"#E5ECF6\",\"width\":0.5},\"pattern\":{\"fillmode\":\"overlay\",\"size\":10,\"solidity\":0.2}},\"type\":\"barpolar\"}],\"carpet\":[{\"aaxis\":{\"endlinecolor\":\"#2a3f5f\",\"gridcolor\":\"white\",\"linecolor\":\"white\",\"minorgridcolor\":\"white\",\"startlinecolor\":\"#2a3f5f\"},\"baxis\":{\"endlinecolor\":\"#2a3f5f\",\"gridcolor\":\"white\",\"linecolor\":\"white\",\"minorgridcolor\":\"white\",\"startlinecolor\":\"#2a3f5f\"},\"type\":\"carpet\"}],\"choropleth\":[{\"colorbar\":{\"outlinewidth\":0,\"ticks\":\"\"},\"type\":\"choropleth\"}],\"contour\":[{\"colorbar\":{\"outlinewidth\":0,\"ticks\":\"\"},\"colorscale\":[[0.0,\"#0d0887\"],[0.1111111111111111,\"#46039f\"],[0.2222222222222222,\"#7201a8\"],[0.3333333333333333,\"#9c179e\"],[0.4444444444444444,\"#bd3786\"],[0.5555555555555556,\"#d8576b\"],[0.6666666666666666,\"#ed7953\"],[0.7777777777777778,\"#fb9f3a\"],[0.8888888888888888,\"#fdca26\"],[1.0,\"#f0f921\"]],\"type\":\"contour\"}],\"contourcarpet\":[{\"colorbar\":{\"outlinewidth\":0,\"ticks\":\"\"},\"type\":\"contourcarpet\"}],\"heatmap\":[{\"colorbar\":{\"outlinewidth\":0,\"ticks\":\"\"},\"colorscale\":[[0.0,\"#0d0887\"],[0.1111111111111111,\"#46039f\"],[0.2222222222222222,\"#7201a8\"],[0.3333333333333333,\"#9c179e\"],[0.4444444444444444,\"#bd3786\"],[0.5555555555555556,\"#d8576b\"],[0.6666666666666666,\"#ed7953\"],[0.7777777777777778,\"#fb9f3a\"],[0.8888888888888888,\"#fdca26\"],[1.0,\"#f0f921\"]],\"type\":\"heatmap\"}],\"heatmapgl\":[{\"colorbar\":{\"outlinewidth\":0,\"ticks\":\"\"},\"colorscale\":[[0.0,\"#0d0887\"],[0.1111111111111111,\"#46039f\"],[0.2222222222222222,\"#7201a8\"],[0.3333333333333333,\"#9c179e\"],[0.4444444444444444,\"#bd3786\"],[0.5555555555555556,\"#d8576b\"],[0.6666666666666666,\"#ed7953\"],[0.7777777777777778,\"#fb9f3a\"],[0.8888888888888888,\"#fdca26\"],[1.0,\"#f0f921\"]],\"type\":\"heatmapgl\"}],\"histogram\":[{\"marker\":{\"pattern\":{\"fillmode\":\"overlay\",\"size\":10,\"solidity\":0.2}},\"type\":\"histogram\"}],\"histogram2d\":[{\"colorbar\":{\"outlinewidth\":0,\"ticks\":\"\"},\"colorscale\":[[0.0,\"#0d0887\"],[0.1111111111111111,\"#46039f\"],[0.2222222222222222,\"#7201a8\"],[0.3333333333333333,\"#9c179e\"],[0.4444444444444444,\"#bd3786\"],[0.5555555555555556,\"#d8576b\"],[0.6666666666666666,\"#ed7953\"],[0.7777777777777778,\"#fb9f3a\"],[0.8888888888888888,\"#fdca26\"],[1.0,\"#f0f921\"]],\"type\":\"histogram2d\"}],\"histogram2dcontour\":[{\"colorbar\":{\"outlinewidth\":0,\"ticks\":\"\"},\"colorscale\":[[0.0,\"#0d0887\"],[0.1111111111111111,\"#46039f\"],[0.2222222222222222,\"#7201a8\"],[0.3333333333333333,\"#9c179e\"],[0.4444444444444444,\"#bd3786\"],[0.5555555555555556,\"#d8576b\"],[0.6666666666666666,\"#ed7953\"],[0.7777777777777778,\"#fb9f3a\"],[0.8888888888888888,\"#fdca26\"],[1.0,\"#f0f921\"]],\"type\":\"histogram2dcontour\"}],\"mesh3d\":[{\"colorbar\":{\"outlinewidth\":0,\"ticks\":\"\"},\"type\":\"mesh3d\"}],\"parcoords\":[{\"line\":{\"colorbar\":{\"outlinewidth\":0,\"ticks\":\"\"}},\"type\":\"parcoords\"}],\"pie\":[{\"automargin\":true,\"type\":\"pie\"}],\"scatter\":[{\"marker\":{\"colorbar\":{\"outlinewidth\":0,\"ticks\":\"\"}},\"type\":\"scatter\"}],\"scatter3d\":[{\"line\":{\"colorbar\":{\"outlinewidth\":0,\"ticks\":\"\"}},\"marker\":{\"colorbar\":{\"outlinewidth\":0,\"ticks\":\"\"}},\"type\":\"scatter3d\"}],\"scattercarpet\":[{\"marker\":{\"colorbar\":{\"outlinewidth\":0,\"ticks\":\"\"}},\"type\":\"scattercarpet\"}],\"scattergeo\":[{\"marker\":{\"colorbar\":{\"outlinewidth\":0,\"ticks\":\"\"}},\"type\":\"scattergeo\"}],\"scattergl\":[{\"marker\":{\"colorbar\":{\"outlinewidth\":0,\"ticks\":\"\"}},\"type\":\"scattergl\"}],\"scattermapbox\":[{\"marker\":{\"colorbar\":{\"outlinewidth\":0,\"ticks\":\"\"}},\"type\":\"scattermapbox\"}],\"scatterpolar\":[{\"marker\":{\"colorbar\":{\"outlinewidth\":0,\"ticks\":\"\"}},\"type\":\"scatterpolar\"}],\"scatterpolargl\":[{\"marker\":{\"colorbar\":{\"outlinewidth\":0,\"ticks\":\"\"}},\"type\":\"scatterpolargl\"}],\"scatterternary\":[{\"marker\":{\"colorbar\":{\"outlinewidth\":0,\"ticks\":\"\"}},\"type\":\"scatterternary\"}],\"surface\":[{\"colorbar\":{\"outlinewidth\":0,\"ticks\":\"\"},\"colorscale\":[[0.0,\"#0d0887\"],[0.1111111111111111,\"#46039f\"],[0.2222222222222222,\"#7201a8\"],[0.3333333333333333,\"#9c179e\"],[0.4444444444444444,\"#bd3786\"],[0.5555555555555556,\"#d8576b\"],[0.6666666666666666,\"#ed7953\"],[0.7777777777777778,\"#fb9f3a\"],[0.8888888888888888,\"#fdca26\"],[1.0,\"#f0f921\"]],\"type\":\"surface\"}],\"table\":[{\"cells\":{\"fill\":{\"color\":\"#EBF0F8\"},\"line\":{\"color\":\"white\"}},\"header\":{\"fill\":{\"color\":\"#C8D4E3\"},\"line\":{\"color\":\"white\"}},\"type\":\"table\"}]},\"layout\":{\"annotationdefaults\":{\"arrowcolor\":\"#2a3f5f\",\"arrowhead\":0,\"arrowwidth\":1},\"autotypenumbers\":\"strict\",\"coloraxis\":{\"colorbar\":{\"outlinewidth\":0,\"ticks\":\"\"}},\"colorscale\":{\"diverging\":[[0,\"#8e0152\"],[0.1,\"#c51b7d\"],[0.2,\"#de77ae\"],[0.3,\"#f1b6da\"],[0.4,\"#fde0ef\"],[0.5,\"#f7f7f7\"],[0.6,\"#e6f5d0\"],[0.7,\"#b8e186\"],[0.8,\"#7fbc41\"],[0.9,\"#4d9221\"],[1,\"#276419\"]],\"sequential\":[[0.0,\"#0d0887\"],[0.1111111111111111,\"#46039f\"],[0.2222222222222222,\"#7201a8\"],[0.3333333333333333,\"#9c179e\"],[0.4444444444444444,\"#bd3786\"],[0.5555555555555556,\"#d8576b\"],[0.6666666666666666,\"#ed7953\"],[0.7777777777777778,\"#fb9f3a\"],[0.8888888888888888,\"#fdca26\"],[1.0,\"#f0f921\"]],\"sequentialminus\":[[0.0,\"#0d0887\"],[0.1111111111111111,\"#46039f\"],[0.2222222222222222,\"#7201a8\"],[0.3333333333333333,\"#9c179e\"],[0.4444444444444444,\"#bd3786\"],[0.5555555555555556,\"#d8576b\"],[0.6666666666666666,\"#ed7953\"],[0.7777777777777778,\"#fb9f3a\"],[0.8888888888888888,\"#fdca26\"],[1.0,\"#f0f921\"]]},\"colorway\":[\"#636efa\",\"#EF553B\",\"#00cc96\",\"#ab63fa\",\"#FFA15A\",\"#19d3f3\",\"#FF6692\",\"#B6E880\",\"#FF97FF\",\"#FECB52\"],\"font\":{\"color\":\"#2a3f5f\"},\"geo\":{\"bgcolor\":\"white\",\"lakecolor\":\"white\",\"landcolor\":\"#E5ECF6\",\"showlakes\":true,\"showland\":true,\"subunitcolor\":\"white\"},\"hoverlabel\":{\"align\":\"left\"},\"hovermode\":\"closest\",\"mapbox\":{\"style\":\"light\"},\"paper_bgcolor\":\"white\",\"plot_bgcolor\":\"#E5ECF6\",\"polar\":{\"angularaxis\":{\"gridcolor\":\"white\",\"linecolor\":\"white\",\"ticks\":\"\"},\"bgcolor\":\"#E5ECF6\",\"radialaxis\":{\"gridcolor\":\"white\",\"linecolor\":\"white\",\"ticks\":\"\"}},\"scene\":{\"xaxis\":{\"backgroundcolor\":\"#E5ECF6\",\"gridcolor\":\"white\",\"gridwidth\":2,\"linecolor\":\"white\",\"showbackground\":true,\"ticks\":\"\",\"zerolinecolor\":\"white\"},\"yaxis\":{\"backgroundcolor\":\"#E5ECF6\",\"gridcolor\":\"white\",\"gridwidth\":2,\"linecolor\":\"white\",\"showbackground\":true,\"ticks\":\"\",\"zerolinecolor\":\"white\"},\"zaxis\":{\"backgroundcolor\":\"#E5ECF6\",\"gridcolor\":\"white\",\"gridwidth\":2,\"linecolor\":\"white\",\"showbackground\":true,\"ticks\":\"\",\"zerolinecolor\":\"white\"}},\"shapedefaults\":{\"line\":{\"color\":\"#2a3f5f\"}},\"ternary\":{\"aaxis\":{\"gridcolor\":\"white\",\"linecolor\":\"white\",\"ticks\":\"\"},\"baxis\":{\"gridcolor\":\"white\",\"linecolor\":\"white\",\"ticks\":\"\"},\"bgcolor\":\"#E5ECF6\",\"caxis\":{\"gridcolor\":\"white\",\"linecolor\":\"white\",\"ticks\":\"\"}},\"title\":{\"x\":0.05},\"xaxis\":{\"automargin\":true,\"gridcolor\":\"white\",\"linecolor\":\"white\",\"ticks\":\"\",\"title\":{\"standoff\":15},\"zerolinecolor\":\"white\",\"zerolinewidth\":2},\"yaxis\":{\"automargin\":true,\"gridcolor\":\"white\",\"linecolor\":\"white\",\"ticks\":\"\",\"title\":{\"standoff\":15},\"zerolinecolor\":\"white\",\"zerolinewidth\":2}}},\"title\":{\"font\":{\"color\":\"rgb(1,21,51)\",\"size\":50}},\"width\":480},                        {\"responsive\": true}                    ).then(function(){\n",
              "                            \n",
              "var gd = document.getElementById('029c0e34-a835-4701-8432-1affdd860374');\n",
              "var x = new MutationObserver(function (mutations, observer) {{\n",
              "        var display = window.getComputedStyle(gd).display;\n",
              "        if (!display || display === 'none') {{\n",
              "            console.log([gd, 'removed!']);\n",
              "            Plotly.purge(gd);\n",
              "            observer.disconnect();\n",
              "        }}\n",
              "}});\n",
              "\n",
              "// Listen for the removal of the full notebook cells\n",
              "var notebookContainer = gd.closest('#notebook-container');\n",
              "if (notebookContainer) {{\n",
              "    x.observe(notebookContainer, {childList: true});\n",
              "}}\n",
              "\n",
              "// Listen for the clearing of the current output cell\n",
              "var outputEl = gd.closest('.output');\n",
              "if (outputEl) {{\n",
              "    x.observe(outputEl, {childList: true});\n",
              "}}\n",
              "\n",
              "                        })                };                            </script>        </div>\n",
              "</body>\n",
              "</html>"
            ]
          },
          "metadata": {}
        }
      ]
    },
    {
      "cell_type": "markdown",
      "source": [
        "#**Propiedades producto vectorial de vectores**\n",
        "\n",
        "Sean los vectores ${\\displaystyle \\vec{A},\\vec{B},\\vec{C}\\in V_3}$ y $k \\in \\mathbb{R}$, se cumplen las siguientes propiedades relacionadas con el producto vectorial:\n",
        "\n",
        "|            PROPIEDAD           |       EXPLICACIÓN                      |\n",
        "|:------------------------------:|:--------------------------------------:|\n",
        "| Propiedad anticonmutativa                   |$$ \\vec{A} \\times \\vec{B} =-( \\vec{B} \\times \\vec{A})$$|\n",
        "| Associativa                      |      $$k(\\vec{A} \\times \\vec{C}) = (k\\vec{A})\\times \\vec{B} =\\vec{A}\\times(k\\vec{B})$$         |\n",
        "| Producte amb el vector nul  |             $$\\vec{A} \\times \\vec{0}= \\vec{0} \\times \\vec{A}=\\vec{0}$$                           |\n",
        "| Distributiva respecte a la suma de vectors  |     $$\\vec{A} \\times(\\vec{B}+\\vec{C}) = \\vec{A}\\times \\vec{B} +\\vec{A}\\times \\vec{C} $$                                  |\n",
        "| Associativa producte triple  |     $$\\vec{A} \\cdot (\\vec{B}\\times\\vec{C}) = (\\vec{A}\\times \\vec{B}) \\cdot \\vec{C} $$   \n",
        "\n",
        "\n",
        "DEMOSTRACIÓ DE LES PROPIETATS\n",
        "\n",
        "Analíticament i gràficament\n",
        "\n",
        "Espai per la resposta"
      ],
      "metadata": {
        "id": "FkRVZH3MNts7"
      }
    },
    {
      "cell_type": "code",
      "source": [],
      "metadata": {
        "id": "6ZiuZSGKOA4b"
      },
      "execution_count": null,
      "outputs": []
    },
    {
      "cell_type": "code",
      "source": [],
      "metadata": {
        "id": "9q8UgJMMOA6-"
      },
      "execution_count": null,
      "outputs": []
    },
    {
      "cell_type": "code",
      "source": [],
      "metadata": {
        "id": "fSXxuy8rOA9e"
      },
      "execution_count": null,
      "outputs": []
    },
    {
      "cell_type": "code",
      "source": [],
      "metadata": {
        "id": "y5j0sEIqOBAD"
      },
      "execution_count": null,
      "outputs": []
    },
    {
      "cell_type": "code",
      "source": [],
      "metadata": {
        "id": "k6giConbOBCo"
      },
      "execution_count": null,
      "outputs": []
    },
    {
      "cell_type": "code",
      "source": [],
      "metadata": {
        "id": "7uAF-KOWOBFA"
      },
      "execution_count": null,
      "outputs": []
    },
    {
      "cell_type": "code",
      "source": [],
      "metadata": {
        "id": "54Kd5XRsOBHk"
      },
      "execution_count": null,
      "outputs": []
    },
    {
      "cell_type": "code",
      "source": [],
      "metadata": {
        "id": "JtSgtN4QOBJ9"
      },
      "execution_count": null,
      "outputs": []
    },
    {
      "cell_type": "code",
      "source": [],
      "metadata": {
        "id": "uX-44KU5OBMi"
      },
      "execution_count": null,
      "outputs": []
    },
    {
      "cell_type": "code",
      "source": [],
      "metadata": {
        "id": "mo3mTekOOBO5"
      },
      "execution_count": null,
      "outputs": []
    },
    {
      "cell_type": "markdown",
      "source": [
        "#**APLICACIONS PRODUCTE VECTORIAL**\n",
        "\n",
        "#**Àrea del paral·lelogram**\n",
        "\n",
        "Donats els vectors ${\\displaystyle \\vec{U},\\vec{V}\\in V_3}$ si l'angle entre ells és $θ$, la magnitud del producte vectorial entre aquests dos vectors la podem expressar com:\n",
        "\n",
        "$$||\\vec{U}\\times\\vec{V}|| = ||\\vec{U}|| ||\\vec{V}|| \\sin{θ}$$\n",
        "<br>\n",
        "\n",
        "Després es pot afirmar des de la representació geomètrica que $||\\vec{U}\\times\\vec{V}||$ és l'àrea del paral·lelogram determinat per $\\vec{U}$ i $\\vec{V}$\n",
        "\n",
        "<center><img src=\"https://github.com/josorio398/ALGEBRA-LINEAL-CON-PYTHON/blob/master/im%C3%A1genes%20repositorio/areaparalelogramo.PNG?raw=true\"  height=\"250\" /> </center>\n",
        "\n",
        "##**Exemple:**\n",
        "Donats el vector $\\vec{A}= (1,2,3)$ i $\\vec{B}= (4,5,6)$ realitza la seva gàfica i calcula l'àrea del paral·lelogram determinat per aquests dos vectors."
      ],
      "metadata": {
        "id": "Mo2za4KrOFfQ"
      }
    },
    {
      "cell_type": "code",
      "source": [
        "A = Matrix([1,2,3])\n",
        "B = Matrix([2,-3,4])\n",
        "\n",
        "A.cross(B).norm()"
      ],
      "metadata": {
        "colab": {
          "base_uri": "https://localhost:8080/",
          "height": 38
        },
        "id": "Nmn__F7UOLK9",
        "outputId": "c3aae03e-9d7d-4c1e-a61d-2f86fecde0d2"
      },
      "execution_count": 51,
      "outputs": [
        {
          "output_type": "execute_result",
          "data": {
            "text/plain": [
              "3*sqrt(38)"
            ],
            "text/latex": "$\\displaystyle 3 \\sqrt{38}$"
          },
          "metadata": {},
          "execution_count": 51
        }
      ]
    },
    {
      "cell_type": "code",
      "source": [
        "plotvectors3D(A,B,[(2,-3,4),A],[(1,2,3),B])"
      ],
      "metadata": {
        "colab": {
          "base_uri": "https://localhost:8080/",
          "height": 497
        },
        "id": "ifyizGNNOOE3",
        "outputId": "155a3704-fa82-423f-ac7c-4fe135341365"
      },
      "execution_count": 52,
      "outputs": [
        {
          "output_type": "display_data",
          "data": {
            "text/html": [
              "<html>\n",
              "<head><meta charset=\"utf-8\" /></head>\n",
              "<body>\n",
              "    <div>            <script src=\"https://cdnjs.cloudflare.com/ajax/libs/mathjax/2.7.5/MathJax.js?config=TeX-AMS-MML_SVG\"></script><script type=\"text/javascript\">if (window.MathJax) {MathJax.Hub.Config({SVG: {font: \"STIX-Web\"}});}</script>                <script type=\"text/javascript\">window.PlotlyConfig = {MathJaxConfig: 'local'};</script>\n",
              "        <script src=\"https://cdn.plot.ly/plotly-2.2.0.min.js\"></script>                <div id=\"9eaf2ca8-17a4-4257-8f87-8c2ed3ebc493\" class=\"plotly-graph-div\" style=\"height:480px; width:480px;\"></div>            <script type=\"text/javascript\">                                    window.PLOTLYENV=window.PLOTLYENV || {};                                    if (document.getElementById(\"9eaf2ca8-17a4-4257-8f87-8c2ed3ebc493\")) {                    Plotly.newPlot(                        \"9eaf2ca8-17a4-4257-8f87-8c2ed3ebc493\",                        [{\"line\":{\"color\":\"rgb(39,224,145)\",\"width\":7},\"marker\":{\"color\":\"rgb(39,224,145)\",\"size\":1},\"name\":\"vector 1\",\"type\":\"scatter3d\",\"x\":[0,1.0],\"y\":[0,2.0],\"z\":[0,3.0]},{\"anchor\":\"cm\",\"colorbar\":{\"thickness\":20,\"ticklen\":4},\"colorscale\":[[0,\"rgb(39,224,145)\"],[1,\"rgb(39,224,145)\"]],\"name\":\"vector 1\",\"showscale\":false,\"sizemode\":\"absolute\",\"sizeref\":0.4,\"type\":\"cone\",\"u\":[1.0],\"v\":[2.0],\"w\":[3.0],\"x\":[1.0],\"y\":[2.0],\"z\":[3.0]},{\"line\":{\"color\":\"rgb(145,118,230)\",\"width\":7},\"marker\":{\"color\":\"rgb(145,118,230)\",\"size\":1},\"name\":\"vector 2\",\"type\":\"scatter3d\",\"x\":[0,2.0],\"y\":[0,-3.0],\"z\":[0,4.0]},{\"anchor\":\"cm\",\"colorbar\":{\"thickness\":20,\"ticklen\":4},\"colorscale\":[[0,\"rgb(145,118,230)\"],[1,\"rgb(145,118,230)\"]],\"name\":\"vector 2\",\"showscale\":false,\"sizemode\":\"absolute\",\"sizeref\":0.4,\"type\":\"cone\",\"u\":[2.0],\"v\":[-3.0],\"w\":[4.0],\"x\":[2.0],\"y\":[-3.0],\"z\":[4.0]},{\"hoverinfo\":\"name+text\",\"hovertext\":\"Tail=(2,-3,4)\\nHead=(3.0,-1.0,7.0)\",\"line\":{\"color\":\"rgb(68,95,116)\",\"width\":7},\"marker\":{\"color\":\"rgb(68,95,116)\",\"size\":1},\"name\":\"vector 3\",\"type\":\"scatter3d\",\"x\":[2,3.0],\"y\":[-3,-1.0],\"z\":[4,7.0]},{\"anchor\":\"cm\",\"colorbar\":{\"thickness\":20,\"ticklen\":4},\"colorscale\":[[0,\"rgb(68,95,116)\"],[1,\"rgb(68,95,116)\"]],\"hoverinfo\":\"skip\",\"name\":\"vector 3\",\"showscale\":false,\"sizemode\":\"absolute\",\"sizeref\":0.4,\"type\":\"cone\",\"u\":[0.5],\"v\":[1.0],\"w\":[1.5],\"x\":[2.937],\"y\":[-1.126],\"z\":[6.811]},{\"hoverinfo\":\"name+text\",\"hovertext\":\"Tail=(1,2,3)\\nHead=(3.0,-1.0,7.0)\",\"line\":{\"color\":\"rgb(238,202,232)\",\"width\":7},\"marker\":{\"color\":\"rgb(238,202,232)\",\"size\":1},\"name\":\"vector 4\",\"type\":\"scatter3d\",\"x\":[1,3.0],\"y\":[2,-1.0],\"z\":[3,7.0]},{\"anchor\":\"cm\",\"colorbar\":{\"thickness\":20,\"ticklen\":4},\"colorscale\":[[0,\"rgb(238,202,232)\"],[1,\"rgb(238,202,232)\"]],\"hoverinfo\":\"skip\",\"name\":\"vector 4\",\"showscale\":false,\"sizemode\":\"absolute\",\"sizeref\":0.4,\"type\":\"cone\",\"u\":[1.0],\"v\":[-1.5],\"w\":[2.0],\"x\":[2.874],\"y\":[-0.8109999999999999],\"z\":[6.748]},{\"marker\":{\"color\":\"#2a3f5f\",\"size\":5},\"mode\":\"markers\",\"name\":\"origen\",\"showlegend\":true,\"type\":\"scatter3d\",\"x\":[0],\"y\":[0],\"z\":[0]},{\"hoverinfo\":\"skip\",\"line\":{\"color\":\"#2a3f5f\",\"width\":3},\"marker\":{\"color\":\"#2a3f5f\",\"size\":1},\"name\":\"\",\"showlegend\":false,\"type\":\"scatter3d\",\"x\":[-0.4,3.4],\"y\":[0,0],\"z\":[0,0]},{\"anchor\":\"cm\",\"colorbar\":{\"thickness\":20,\"ticklen\":4},\"colorscale\":[[0,\"#2a3f5f\"],[1,\"#2a3f5f\"]],\"hoverinfo\":\"name\",\"name\":\"Eje x-positivo\",\"showscale\":false,\"sizemode\":\"absolute\",\"sizeref\":0.24,\"type\":\"cone\",\"u\":[3.4],\"v\":[0],\"w\":[0],\"x\":[3.4],\"y\":[0],\"z\":[0]},{\"hoverinfo\":\"skip\",\"line\":{\"color\":\"#2a3f5f\",\"width\":3},\"marker\":{\"color\":\"#2a3f5f\",\"size\":1},\"name\":\"\",\"showlegend\":false,\"type\":\"scatter3d\",\"x\":[0,0],\"y\":[-3.4,2.4],\"z\":[0,0]},{\"anchor\":\"cm\",\"colorbar\":{\"thickness\":20,\"ticklen\":4},\"colorscale\":[[0,\"#2a3f5f\"],[1,\"#2a3f5f\"]],\"hoverinfo\":\"name\",\"name\":\"Eje y-positivo \",\"showscale\":false,\"sizemode\":\"absolute\",\"sizeref\":0.24,\"type\":\"cone\",\"u\":[0],\"v\":[2.4],\"w\":[0],\"x\":[0],\"y\":[2.4],\"z\":[0]},{\"hoverinfo\":\"skip\",\"line\":{\"color\":\"#2a3f5f\",\"width\":3},\"marker\":{\"color\":\"#2a3f5f\",\"size\":1},\"name\":\"eje z-positivo\",\"showlegend\":false,\"type\":\"scatter3d\",\"x\":[0,0],\"y\":[0,0],\"z\":[-0.7,7.4]},{\"anchor\":\"cm\",\"colorbar\":{\"thickness\":20,\"ticklen\":4},\"colorscale\":[[0,\"#2a3f5f\"],[1,\"#2a3f5f\"]],\"hoverinfo\":\"name\",\"name\":\"Eje z-positivo\",\"showscale\":false,\"sizemode\":\"absolute\",\"sizeref\":0.24,\"type\":\"cone\",\"u\":[0],\"v\":[0],\"w\":[7.4],\"x\":[0],\"y\":[0],\"z\":[7.4]}],                        {\"height\":480,\"legend\":{\"orientation\":\"h\",\"x\":0.03,\"y\":1.3},\"margin\":{\"b\":0,\"l\":0,\"r\":0,\"t\":0},\"showlegend\":true,\"template\":{\"data\":{\"bar\":[{\"error_x\":{\"color\":\"#2a3f5f\"},\"error_y\":{\"color\":\"#2a3f5f\"},\"marker\":{\"line\":{\"color\":\"#E5ECF6\",\"width\":0.5},\"pattern\":{\"fillmode\":\"overlay\",\"size\":10,\"solidity\":0.2}},\"type\":\"bar\"}],\"barpolar\":[{\"marker\":{\"line\":{\"color\":\"#E5ECF6\",\"width\":0.5},\"pattern\":{\"fillmode\":\"overlay\",\"size\":10,\"solidity\":0.2}},\"type\":\"barpolar\"}],\"carpet\":[{\"aaxis\":{\"endlinecolor\":\"#2a3f5f\",\"gridcolor\":\"white\",\"linecolor\":\"white\",\"minorgridcolor\":\"white\",\"startlinecolor\":\"#2a3f5f\"},\"baxis\":{\"endlinecolor\":\"#2a3f5f\",\"gridcolor\":\"white\",\"linecolor\":\"white\",\"minorgridcolor\":\"white\",\"startlinecolor\":\"#2a3f5f\"},\"type\":\"carpet\"}],\"choropleth\":[{\"colorbar\":{\"outlinewidth\":0,\"ticks\":\"\"},\"type\":\"choropleth\"}],\"contour\":[{\"colorbar\":{\"outlinewidth\":0,\"ticks\":\"\"},\"colorscale\":[[0.0,\"#0d0887\"],[0.1111111111111111,\"#46039f\"],[0.2222222222222222,\"#7201a8\"],[0.3333333333333333,\"#9c179e\"],[0.4444444444444444,\"#bd3786\"],[0.5555555555555556,\"#d8576b\"],[0.6666666666666666,\"#ed7953\"],[0.7777777777777778,\"#fb9f3a\"],[0.8888888888888888,\"#fdca26\"],[1.0,\"#f0f921\"]],\"type\":\"contour\"}],\"contourcarpet\":[{\"colorbar\":{\"outlinewidth\":0,\"ticks\":\"\"},\"type\":\"contourcarpet\"}],\"heatmap\":[{\"colorbar\":{\"outlinewidth\":0,\"ticks\":\"\"},\"colorscale\":[[0.0,\"#0d0887\"],[0.1111111111111111,\"#46039f\"],[0.2222222222222222,\"#7201a8\"],[0.3333333333333333,\"#9c179e\"],[0.4444444444444444,\"#bd3786\"],[0.5555555555555556,\"#d8576b\"],[0.6666666666666666,\"#ed7953\"],[0.7777777777777778,\"#fb9f3a\"],[0.8888888888888888,\"#fdca26\"],[1.0,\"#f0f921\"]],\"type\":\"heatmap\"}],\"heatmapgl\":[{\"colorbar\":{\"outlinewidth\":0,\"ticks\":\"\"},\"colorscale\":[[0.0,\"#0d0887\"],[0.1111111111111111,\"#46039f\"],[0.2222222222222222,\"#7201a8\"],[0.3333333333333333,\"#9c179e\"],[0.4444444444444444,\"#bd3786\"],[0.5555555555555556,\"#d8576b\"],[0.6666666666666666,\"#ed7953\"],[0.7777777777777778,\"#fb9f3a\"],[0.8888888888888888,\"#fdca26\"],[1.0,\"#f0f921\"]],\"type\":\"heatmapgl\"}],\"histogram\":[{\"marker\":{\"pattern\":{\"fillmode\":\"overlay\",\"size\":10,\"solidity\":0.2}},\"type\":\"histogram\"}],\"histogram2d\":[{\"colorbar\":{\"outlinewidth\":0,\"ticks\":\"\"},\"colorscale\":[[0.0,\"#0d0887\"],[0.1111111111111111,\"#46039f\"],[0.2222222222222222,\"#7201a8\"],[0.3333333333333333,\"#9c179e\"],[0.4444444444444444,\"#bd3786\"],[0.5555555555555556,\"#d8576b\"],[0.6666666666666666,\"#ed7953\"],[0.7777777777777778,\"#fb9f3a\"],[0.8888888888888888,\"#fdca26\"],[1.0,\"#f0f921\"]],\"type\":\"histogram2d\"}],\"histogram2dcontour\":[{\"colorbar\":{\"outlinewidth\":0,\"ticks\":\"\"},\"colorscale\":[[0.0,\"#0d0887\"],[0.1111111111111111,\"#46039f\"],[0.2222222222222222,\"#7201a8\"],[0.3333333333333333,\"#9c179e\"],[0.4444444444444444,\"#bd3786\"],[0.5555555555555556,\"#d8576b\"],[0.6666666666666666,\"#ed7953\"],[0.7777777777777778,\"#fb9f3a\"],[0.8888888888888888,\"#fdca26\"],[1.0,\"#f0f921\"]],\"type\":\"histogram2dcontour\"}],\"mesh3d\":[{\"colorbar\":{\"outlinewidth\":0,\"ticks\":\"\"},\"type\":\"mesh3d\"}],\"parcoords\":[{\"line\":{\"colorbar\":{\"outlinewidth\":0,\"ticks\":\"\"}},\"type\":\"parcoords\"}],\"pie\":[{\"automargin\":true,\"type\":\"pie\"}],\"scatter\":[{\"marker\":{\"colorbar\":{\"outlinewidth\":0,\"ticks\":\"\"}},\"type\":\"scatter\"}],\"scatter3d\":[{\"line\":{\"colorbar\":{\"outlinewidth\":0,\"ticks\":\"\"}},\"marker\":{\"colorbar\":{\"outlinewidth\":0,\"ticks\":\"\"}},\"type\":\"scatter3d\"}],\"scattercarpet\":[{\"marker\":{\"colorbar\":{\"outlinewidth\":0,\"ticks\":\"\"}},\"type\":\"scattercarpet\"}],\"scattergeo\":[{\"marker\":{\"colorbar\":{\"outlinewidth\":0,\"ticks\":\"\"}},\"type\":\"scattergeo\"}],\"scattergl\":[{\"marker\":{\"colorbar\":{\"outlinewidth\":0,\"ticks\":\"\"}},\"type\":\"scattergl\"}],\"scattermapbox\":[{\"marker\":{\"colorbar\":{\"outlinewidth\":0,\"ticks\":\"\"}},\"type\":\"scattermapbox\"}],\"scatterpolar\":[{\"marker\":{\"colorbar\":{\"outlinewidth\":0,\"ticks\":\"\"}},\"type\":\"scatterpolar\"}],\"scatterpolargl\":[{\"marker\":{\"colorbar\":{\"outlinewidth\":0,\"ticks\":\"\"}},\"type\":\"scatterpolargl\"}],\"scatterternary\":[{\"marker\":{\"colorbar\":{\"outlinewidth\":0,\"ticks\":\"\"}},\"type\":\"scatterternary\"}],\"surface\":[{\"colorbar\":{\"outlinewidth\":0,\"ticks\":\"\"},\"colorscale\":[[0.0,\"#0d0887\"],[0.1111111111111111,\"#46039f\"],[0.2222222222222222,\"#7201a8\"],[0.3333333333333333,\"#9c179e\"],[0.4444444444444444,\"#bd3786\"],[0.5555555555555556,\"#d8576b\"],[0.6666666666666666,\"#ed7953\"],[0.7777777777777778,\"#fb9f3a\"],[0.8888888888888888,\"#fdca26\"],[1.0,\"#f0f921\"]],\"type\":\"surface\"}],\"table\":[{\"cells\":{\"fill\":{\"color\":\"#EBF0F8\"},\"line\":{\"color\":\"white\"}},\"header\":{\"fill\":{\"color\":\"#C8D4E3\"},\"line\":{\"color\":\"white\"}},\"type\":\"table\"}]},\"layout\":{\"annotationdefaults\":{\"arrowcolor\":\"#2a3f5f\",\"arrowhead\":0,\"arrowwidth\":1},\"autotypenumbers\":\"strict\",\"coloraxis\":{\"colorbar\":{\"outlinewidth\":0,\"ticks\":\"\"}},\"colorscale\":{\"diverging\":[[0,\"#8e0152\"],[0.1,\"#c51b7d\"],[0.2,\"#de77ae\"],[0.3,\"#f1b6da\"],[0.4,\"#fde0ef\"],[0.5,\"#f7f7f7\"],[0.6,\"#e6f5d0\"],[0.7,\"#b8e186\"],[0.8,\"#7fbc41\"],[0.9,\"#4d9221\"],[1,\"#276419\"]],\"sequential\":[[0.0,\"#0d0887\"],[0.1111111111111111,\"#46039f\"],[0.2222222222222222,\"#7201a8\"],[0.3333333333333333,\"#9c179e\"],[0.4444444444444444,\"#bd3786\"],[0.5555555555555556,\"#d8576b\"],[0.6666666666666666,\"#ed7953\"],[0.7777777777777778,\"#fb9f3a\"],[0.8888888888888888,\"#fdca26\"],[1.0,\"#f0f921\"]],\"sequentialminus\":[[0.0,\"#0d0887\"],[0.1111111111111111,\"#46039f\"],[0.2222222222222222,\"#7201a8\"],[0.3333333333333333,\"#9c179e\"],[0.4444444444444444,\"#bd3786\"],[0.5555555555555556,\"#d8576b\"],[0.6666666666666666,\"#ed7953\"],[0.7777777777777778,\"#fb9f3a\"],[0.8888888888888888,\"#fdca26\"],[1.0,\"#f0f921\"]]},\"colorway\":[\"#636efa\",\"#EF553B\",\"#00cc96\",\"#ab63fa\",\"#FFA15A\",\"#19d3f3\",\"#FF6692\",\"#B6E880\",\"#FF97FF\",\"#FECB52\"],\"font\":{\"color\":\"#2a3f5f\"},\"geo\":{\"bgcolor\":\"white\",\"lakecolor\":\"white\",\"landcolor\":\"#E5ECF6\",\"showlakes\":true,\"showland\":true,\"subunitcolor\":\"white\"},\"hoverlabel\":{\"align\":\"left\"},\"hovermode\":\"closest\",\"mapbox\":{\"style\":\"light\"},\"paper_bgcolor\":\"white\",\"plot_bgcolor\":\"#E5ECF6\",\"polar\":{\"angularaxis\":{\"gridcolor\":\"white\",\"linecolor\":\"white\",\"ticks\":\"\"},\"bgcolor\":\"#E5ECF6\",\"radialaxis\":{\"gridcolor\":\"white\",\"linecolor\":\"white\",\"ticks\":\"\"}},\"scene\":{\"xaxis\":{\"backgroundcolor\":\"#E5ECF6\",\"gridcolor\":\"white\",\"gridwidth\":2,\"linecolor\":\"white\",\"showbackground\":true,\"ticks\":\"\",\"zerolinecolor\":\"white\"},\"yaxis\":{\"backgroundcolor\":\"#E5ECF6\",\"gridcolor\":\"white\",\"gridwidth\":2,\"linecolor\":\"white\",\"showbackground\":true,\"ticks\":\"\",\"zerolinecolor\":\"white\"},\"zaxis\":{\"backgroundcolor\":\"#E5ECF6\",\"gridcolor\":\"white\",\"gridwidth\":2,\"linecolor\":\"white\",\"showbackground\":true,\"ticks\":\"\",\"zerolinecolor\":\"white\"}},\"shapedefaults\":{\"line\":{\"color\":\"#2a3f5f\"}},\"ternary\":{\"aaxis\":{\"gridcolor\":\"white\",\"linecolor\":\"white\",\"ticks\":\"\"},\"baxis\":{\"gridcolor\":\"white\",\"linecolor\":\"white\",\"ticks\":\"\"},\"bgcolor\":\"#E5ECF6\",\"caxis\":{\"gridcolor\":\"white\",\"linecolor\":\"white\",\"ticks\":\"\"}},\"title\":{\"x\":0.05},\"xaxis\":{\"automargin\":true,\"gridcolor\":\"white\",\"linecolor\":\"white\",\"ticks\":\"\",\"title\":{\"standoff\":15},\"zerolinecolor\":\"white\",\"zerolinewidth\":2},\"yaxis\":{\"automargin\":true,\"gridcolor\":\"white\",\"linecolor\":\"white\",\"ticks\":\"\",\"title\":{\"standoff\":15},\"zerolinecolor\":\"white\",\"zerolinewidth\":2}}},\"title\":{\"font\":{\"color\":\"rgb(1,21,51)\",\"size\":50}},\"width\":480},                        {\"responsive\": true}                    ).then(function(){\n",
              "                            \n",
              "var gd = document.getElementById('9eaf2ca8-17a4-4257-8f87-8c2ed3ebc493');\n",
              "var x = new MutationObserver(function (mutations, observer) {{\n",
              "        var display = window.getComputedStyle(gd).display;\n",
              "        if (!display || display === 'none') {{\n",
              "            console.log([gd, 'removed!']);\n",
              "            Plotly.purge(gd);\n",
              "            observer.disconnect();\n",
              "        }}\n",
              "}});\n",
              "\n",
              "// Listen for the removal of the full notebook cells\n",
              "var notebookContainer = gd.closest('#notebook-container');\n",
              "if (notebookContainer) {{\n",
              "    x.observe(notebookContainer, {childList: true});\n",
              "}}\n",
              "\n",
              "// Listen for the clearing of the current output cell\n",
              "var outputEl = gd.closest('.output');\n",
              "if (outputEl) {{\n",
              "    x.observe(outputEl, {childList: true});\n",
              "}}\n",
              "\n",
              "                        })                };                            </script>        </div>\n",
              "</body>\n",
              "</html>"
            ]
          },
          "metadata": {}
        }
      ]
    },
    {
      "cell_type": "markdown",
      "source": [
        "#**Volum del paral·lelepipede**\n",
        "\n",
        "Donats els vectors ${\\displaystyle \\vec{U},\\vec{V},\\vec{W} \\in V_3}$ el **producte triple** aquests aquests tres vectors correspon el volum del paral·lelepipede determinat pels tres vectors :\n",
        "\n",
        "$$ Volum= |\\vec{W} \\cdot (\\vec{U}\\times\\vec{V})| $$\n",
        "<br>\n",
        "\n",
        "<center><img src=\"https://github.com/josorio398/ALGEBRA-LINEAL-CON-PYTHON/blob/master/im%C3%A1genes%20repositorio/paralelepipedo.PNG?raw=true\" height=\"250 \" /> </center>\n",
        "\n",
        "##**Exemple:**\n",
        "Donats el vector $\\vec{A}= (1,2,3)$ , $\\vec{B}= (4,5,6)$ i $\\vec{C}= (3,-1,4) $ realitza la seva gràfica dels tres vectors al mateix espai i calcula el volum del paral·lelepipede determinat per aquests tres vectors."
      ],
      "metadata": {
        "id": "VUhQ4-DmOWi2"
      }
    },
    {
      "cell_type": "code",
      "source": [
        "A = Matrix([1,2,-4])\n",
        "B = Matrix([2,3,4])\n",
        "C = Matrix([3,-1,4])\n",
        "\n",
        "plotvectors3D(A,B,C,[(3,-1,4),B],[(2,3,4),C],[(5,2,8),A],[(3,-1,4),A],[(2,3,4),A])"
      ],
      "metadata": {
        "colab": {
          "base_uri": "https://localhost:8080/",
          "height": 497
        },
        "id": "EQ71TM8MOZ0W",
        "outputId": "938a2310-6ebe-4388-faab-c5e0cfb9c811"
      },
      "execution_count": 53,
      "outputs": [
        {
          "output_type": "display_data",
          "data": {
            "text/html": [
              "<html>\n",
              "<head><meta charset=\"utf-8\" /></head>\n",
              "<body>\n",
              "    <div>            <script src=\"https://cdnjs.cloudflare.com/ajax/libs/mathjax/2.7.5/MathJax.js?config=TeX-AMS-MML_SVG\"></script><script type=\"text/javascript\">if (window.MathJax) {MathJax.Hub.Config({SVG: {font: \"STIX-Web\"}});}</script>                <script type=\"text/javascript\">window.PlotlyConfig = {MathJaxConfig: 'local'};</script>\n",
              "        <script src=\"https://cdn.plot.ly/plotly-2.2.0.min.js\"></script>                <div id=\"538c191b-28af-46b6-8f72-afe0b61634d7\" class=\"plotly-graph-div\" style=\"height:480px; width:480px;\"></div>            <script type=\"text/javascript\">                                    window.PLOTLYENV=window.PLOTLYENV || {};                                    if (document.getElementById(\"538c191b-28af-46b6-8f72-afe0b61634d7\")) {                    Plotly.newPlot(                        \"538c191b-28af-46b6-8f72-afe0b61634d7\",                        [{\"line\":{\"color\":\"rgb(26,203,27)\",\"width\":7},\"marker\":{\"color\":\"rgb(26,203,27)\",\"size\":1},\"name\":\"vector 1\",\"type\":\"scatter3d\",\"x\":[0,1.0],\"y\":[0,2.0],\"z\":[0,-4.0]},{\"anchor\":\"cm\",\"colorbar\":{\"thickness\":20,\"ticklen\":4},\"colorscale\":[[0,\"rgb(26,203,27)\"],[1,\"rgb(26,203,27)\"]],\"name\":\"vector 1\",\"showscale\":false,\"sizemode\":\"absolute\",\"sizeref\":0.6333333333333333,\"type\":\"cone\",\"u\":[1.0],\"v\":[2.0],\"w\":[-4.0],\"x\":[1.0],\"y\":[2.0],\"z\":[-4.0]},{\"line\":{\"color\":\"rgb(228,172,24)\",\"width\":7},\"marker\":{\"color\":\"rgb(228,172,24)\",\"size\":1},\"name\":\"vector 2\",\"type\":\"scatter3d\",\"x\":[0,2.0],\"y\":[0,3.0],\"z\":[0,4.0]},{\"anchor\":\"cm\",\"colorbar\":{\"thickness\":20,\"ticklen\":4},\"colorscale\":[[0,\"rgb(228,172,24)\"],[1,\"rgb(228,172,24)\"]],\"name\":\"vector 2\",\"showscale\":false,\"sizemode\":\"absolute\",\"sizeref\":0.6333333333333333,\"type\":\"cone\",\"u\":[2.0],\"v\":[3.0],\"w\":[4.0],\"x\":[2.0],\"y\":[3.0],\"z\":[4.0]},{\"line\":{\"color\":\"rgb(242,167,179)\",\"width\":7},\"marker\":{\"color\":\"rgb(242,167,179)\",\"size\":1},\"name\":\"vector 3\",\"type\":\"scatter3d\",\"x\":[0,3.0],\"y\":[0,-1.0],\"z\":[0,4.0]},{\"anchor\":\"cm\",\"colorbar\":{\"thickness\":20,\"ticklen\":4},\"colorscale\":[[0,\"rgb(242,167,179)\"],[1,\"rgb(242,167,179)\"]],\"name\":\"vector 3\",\"showscale\":false,\"sizemode\":\"absolute\",\"sizeref\":0.6333333333333333,\"type\":\"cone\",\"u\":[3.0],\"v\":[-1.0],\"w\":[4.0],\"x\":[3.0],\"y\":[-1.0],\"z\":[4.0]},{\"hoverinfo\":\"name+text\",\"hovertext\":\"Tail=(3,-1,4)\\nHead=(5.0,2.0,8.0)\",\"line\":{\"color\":\"rgb(167,39,93)\",\"width\":7},\"marker\":{\"color\":\"rgb(167,39,93)\",\"size\":1},\"name\":\"vector 4\",\"type\":\"scatter3d\",\"x\":[3,5.0],\"y\":[-1,2.0],\"z\":[4,8.0]},{\"anchor\":\"cm\",\"colorbar\":{\"thickness\":20,\"ticklen\":4},\"colorscale\":[[0,\"rgb(167,39,93)\"],[1,\"rgb(167,39,93)\"]],\"hoverinfo\":\"skip\",\"name\":\"vector 4\",\"showscale\":false,\"sizemode\":\"absolute\",\"sizeref\":0.6333333333333333,\"type\":\"cone\",\"u\":[1.0],\"v\":[1.5],\"w\":[2.0],\"x\":[4.874],\"y\":[1.811],\"z\":[7.748]},{\"hoverinfo\":\"name+text\",\"hovertext\":\"Tail=(2,3,4)\\nHead=(5.0,2.0,8.0)\",\"line\":{\"color\":\"rgb(216,63,74)\",\"width\":7},\"marker\":{\"color\":\"rgb(216,63,74)\",\"size\":1},\"name\":\"vector 5\",\"type\":\"scatter3d\",\"x\":[2,5.0],\"y\":[3,2.0],\"z\":[4,8.0]},{\"anchor\":\"cm\",\"colorbar\":{\"thickness\":20,\"ticklen\":4},\"colorscale\":[[0,\"rgb(216,63,74)\"],[1,\"rgb(216,63,74)\"]],\"hoverinfo\":\"skip\",\"name\":\"vector 5\",\"showscale\":false,\"sizemode\":\"absolute\",\"sizeref\":0.6333333333333333,\"type\":\"cone\",\"u\":[1.5],\"v\":[-0.5],\"w\":[2.0],\"x\":[4.811],\"y\":[2.063],\"z\":[7.748]},{\"hoverinfo\":\"name+text\",\"hovertext\":\"Tail=(5,2,8)\\nHead=(6.0,4.0,4.0)\",\"line\":{\"color\":\"rgb(162,232,132)\",\"width\":7},\"marker\":{\"color\":\"rgb(162,232,132)\",\"size\":1},\"name\":\"vector 6\",\"type\":\"scatter3d\",\"x\":[5,6.0],\"y\":[2,4.0],\"z\":[8,4.0]},{\"anchor\":\"cm\",\"colorbar\":{\"thickness\":20,\"ticklen\":4},\"colorscale\":[[0,\"rgb(162,232,132)\"],[1,\"rgb(162,232,132)\"]],\"hoverinfo\":\"skip\",\"name\":\"vector 6\",\"showscale\":false,\"sizemode\":\"absolute\",\"sizeref\":0.6333333333333333,\"type\":\"cone\",\"u\":[0.5],\"v\":[1.0],\"w\":[-2.0],\"x\":[5.937],\"y\":[3.874],\"z\":[4.252]},{\"hoverinfo\":\"name+text\",\"hovertext\":\"Tail=(3,-1,4)\\nHead=(4.0,1.0,0.0)\",\"line\":{\"color\":\"rgb(182,78,174)\",\"width\":7},\"marker\":{\"color\":\"rgb(182,78,174)\",\"size\":1},\"name\":\"vector 7\",\"type\":\"scatter3d\",\"x\":[3,4.0],\"y\":[-1,1.0],\"z\":[4,0.0]},{\"anchor\":\"cm\",\"colorbar\":{\"thickness\":20,\"ticklen\":4},\"colorscale\":[[0,\"rgb(182,78,174)\"],[1,\"rgb(182,78,174)\"]],\"hoverinfo\":\"skip\",\"name\":\"vector 7\",\"showscale\":false,\"sizemode\":\"absolute\",\"sizeref\":0.6333333333333333,\"type\":\"cone\",\"u\":[0.5],\"v\":[1.0],\"w\":[-2.0],\"x\":[3.937],\"y\":[0.874],\"z\":[0.252]},{\"hoverinfo\":\"name+text\",\"hovertext\":\"Tail=(2,3,4)\\nHead=(3.0,5.0,0.0)\",\"line\":{\"color\":\"rgb(225,79,66)\",\"width\":7},\"marker\":{\"color\":\"rgb(225,79,66)\",\"size\":1},\"name\":\"vector 8\",\"type\":\"scatter3d\",\"x\":[2,3.0],\"y\":[3,5.0],\"z\":[4,0.0]},{\"anchor\":\"cm\",\"colorbar\":{\"thickness\":20,\"ticklen\":4},\"colorscale\":[[0,\"rgb(225,79,66)\"],[1,\"rgb(225,79,66)\"]],\"hoverinfo\":\"skip\",\"name\":\"vector 8\",\"showscale\":false,\"sizemode\":\"absolute\",\"sizeref\":0.6333333333333333,\"type\":\"cone\",\"u\":[0.5],\"v\":[1.0],\"w\":[-2.0],\"x\":[2.937],\"y\":[4.874],\"z\":[0.252]},{\"marker\":{\"color\":\"#2a3f5f\",\"size\":5},\"mode\":\"markers\",\"name\":\"origen\",\"showlegend\":true,\"type\":\"scatter3d\",\"x\":[0],\"y\":[0],\"z\":[0]},{\"hoverinfo\":\"skip\",\"line\":{\"color\":\"#2a3f5f\",\"width\":3},\"marker\":{\"color\":\"#2a3f5f\",\"size\":1},\"name\":\"\",\"showlegend\":false,\"type\":\"scatter3d\",\"x\":[-0.6333333333333333,6.633333333333333],\"y\":[0,0],\"z\":[0,0]},{\"anchor\":\"cm\",\"colorbar\":{\"thickness\":20,\"ticklen\":4},\"colorscale\":[[0,\"#2a3f5f\"],[1,\"#2a3f5f\"]],\"hoverinfo\":\"name\",\"name\":\"Eje x-positivo\",\"showscale\":false,\"sizemode\":\"absolute\",\"sizeref\":0.37999999999999995,\"type\":\"cone\",\"u\":[6.633333333333333],\"v\":[0],\"w\":[0],\"x\":[6.633333333333333],\"y\":[0],\"z\":[0]},{\"hoverinfo\":\"skip\",\"line\":{\"color\":\"#2a3f5f\",\"width\":3},\"marker\":{\"color\":\"#2a3f5f\",\"size\":1},\"name\":\"\",\"showlegend\":false,\"type\":\"scatter3d\",\"x\":[0,0],\"y\":[-1.6333333333333333,5.633333333333333],\"z\":[0,0]},{\"anchor\":\"cm\",\"colorbar\":{\"thickness\":20,\"ticklen\":4},\"colorscale\":[[0,\"#2a3f5f\"],[1,\"#2a3f5f\"]],\"hoverinfo\":\"name\",\"name\":\"Eje y-positivo \",\"showscale\":false,\"sizemode\":\"absolute\",\"sizeref\":0.37999999999999995,\"type\":\"cone\",\"u\":[0],\"v\":[5.633333333333333],\"w\":[0],\"x\":[0],\"y\":[5.633333333333333],\"z\":[0]},{\"hoverinfo\":\"skip\",\"line\":{\"color\":\"#2a3f5f\",\"width\":3},\"marker\":{\"color\":\"#2a3f5f\",\"size\":1},\"name\":\"eje z-positivo\",\"showlegend\":false,\"type\":\"scatter3d\",\"x\":[0,0],\"y\":[0,0],\"z\":[-4.633333333333333,8.633333333333333]},{\"anchor\":\"cm\",\"colorbar\":{\"thickness\":20,\"ticklen\":4},\"colorscale\":[[0,\"#2a3f5f\"],[1,\"#2a3f5f\"]],\"hoverinfo\":\"name\",\"name\":\"Eje z-positivo\",\"showscale\":false,\"sizemode\":\"absolute\",\"sizeref\":0.37999999999999995,\"type\":\"cone\",\"u\":[0],\"v\":[0],\"w\":[8.633333333333333],\"x\":[0],\"y\":[0],\"z\":[8.633333333333333]}],                        {\"height\":480,\"legend\":{\"orientation\":\"h\",\"x\":0.03,\"y\":1.3},\"margin\":{\"b\":0,\"l\":0,\"r\":0,\"t\":0},\"showlegend\":true,\"template\":{\"data\":{\"bar\":[{\"error_x\":{\"color\":\"#2a3f5f\"},\"error_y\":{\"color\":\"#2a3f5f\"},\"marker\":{\"line\":{\"color\":\"#E5ECF6\",\"width\":0.5},\"pattern\":{\"fillmode\":\"overlay\",\"size\":10,\"solidity\":0.2}},\"type\":\"bar\"}],\"barpolar\":[{\"marker\":{\"line\":{\"color\":\"#E5ECF6\",\"width\":0.5},\"pattern\":{\"fillmode\":\"overlay\",\"size\":10,\"solidity\":0.2}},\"type\":\"barpolar\"}],\"carpet\":[{\"aaxis\":{\"endlinecolor\":\"#2a3f5f\",\"gridcolor\":\"white\",\"linecolor\":\"white\",\"minorgridcolor\":\"white\",\"startlinecolor\":\"#2a3f5f\"},\"baxis\":{\"endlinecolor\":\"#2a3f5f\",\"gridcolor\":\"white\",\"linecolor\":\"white\",\"minorgridcolor\":\"white\",\"startlinecolor\":\"#2a3f5f\"},\"type\":\"carpet\"}],\"choropleth\":[{\"colorbar\":{\"outlinewidth\":0,\"ticks\":\"\"},\"type\":\"choropleth\"}],\"contour\":[{\"colorbar\":{\"outlinewidth\":0,\"ticks\":\"\"},\"colorscale\":[[0.0,\"#0d0887\"],[0.1111111111111111,\"#46039f\"],[0.2222222222222222,\"#7201a8\"],[0.3333333333333333,\"#9c179e\"],[0.4444444444444444,\"#bd3786\"],[0.5555555555555556,\"#d8576b\"],[0.6666666666666666,\"#ed7953\"],[0.7777777777777778,\"#fb9f3a\"],[0.8888888888888888,\"#fdca26\"],[1.0,\"#f0f921\"]],\"type\":\"contour\"}],\"contourcarpet\":[{\"colorbar\":{\"outlinewidth\":0,\"ticks\":\"\"},\"type\":\"contourcarpet\"}],\"heatmap\":[{\"colorbar\":{\"outlinewidth\":0,\"ticks\":\"\"},\"colorscale\":[[0.0,\"#0d0887\"],[0.1111111111111111,\"#46039f\"],[0.2222222222222222,\"#7201a8\"],[0.3333333333333333,\"#9c179e\"],[0.4444444444444444,\"#bd3786\"],[0.5555555555555556,\"#d8576b\"],[0.6666666666666666,\"#ed7953\"],[0.7777777777777778,\"#fb9f3a\"],[0.8888888888888888,\"#fdca26\"],[1.0,\"#f0f921\"]],\"type\":\"heatmap\"}],\"heatmapgl\":[{\"colorbar\":{\"outlinewidth\":0,\"ticks\":\"\"},\"colorscale\":[[0.0,\"#0d0887\"],[0.1111111111111111,\"#46039f\"],[0.2222222222222222,\"#7201a8\"],[0.3333333333333333,\"#9c179e\"],[0.4444444444444444,\"#bd3786\"],[0.5555555555555556,\"#d8576b\"],[0.6666666666666666,\"#ed7953\"],[0.7777777777777778,\"#fb9f3a\"],[0.8888888888888888,\"#fdca26\"],[1.0,\"#f0f921\"]],\"type\":\"heatmapgl\"}],\"histogram\":[{\"marker\":{\"pattern\":{\"fillmode\":\"overlay\",\"size\":10,\"solidity\":0.2}},\"type\":\"histogram\"}],\"histogram2d\":[{\"colorbar\":{\"outlinewidth\":0,\"ticks\":\"\"},\"colorscale\":[[0.0,\"#0d0887\"],[0.1111111111111111,\"#46039f\"],[0.2222222222222222,\"#7201a8\"],[0.3333333333333333,\"#9c179e\"],[0.4444444444444444,\"#bd3786\"],[0.5555555555555556,\"#d8576b\"],[0.6666666666666666,\"#ed7953\"],[0.7777777777777778,\"#fb9f3a\"],[0.8888888888888888,\"#fdca26\"],[1.0,\"#f0f921\"]],\"type\":\"histogram2d\"}],\"histogram2dcontour\":[{\"colorbar\":{\"outlinewidth\":0,\"ticks\":\"\"},\"colorscale\":[[0.0,\"#0d0887\"],[0.1111111111111111,\"#46039f\"],[0.2222222222222222,\"#7201a8\"],[0.3333333333333333,\"#9c179e\"],[0.4444444444444444,\"#bd3786\"],[0.5555555555555556,\"#d8576b\"],[0.6666666666666666,\"#ed7953\"],[0.7777777777777778,\"#fb9f3a\"],[0.8888888888888888,\"#fdca26\"],[1.0,\"#f0f921\"]],\"type\":\"histogram2dcontour\"}],\"mesh3d\":[{\"colorbar\":{\"outlinewidth\":0,\"ticks\":\"\"},\"type\":\"mesh3d\"}],\"parcoords\":[{\"line\":{\"colorbar\":{\"outlinewidth\":0,\"ticks\":\"\"}},\"type\":\"parcoords\"}],\"pie\":[{\"automargin\":true,\"type\":\"pie\"}],\"scatter\":[{\"marker\":{\"colorbar\":{\"outlinewidth\":0,\"ticks\":\"\"}},\"type\":\"scatter\"}],\"scatter3d\":[{\"line\":{\"colorbar\":{\"outlinewidth\":0,\"ticks\":\"\"}},\"marker\":{\"colorbar\":{\"outlinewidth\":0,\"ticks\":\"\"}},\"type\":\"scatter3d\"}],\"scattercarpet\":[{\"marker\":{\"colorbar\":{\"outlinewidth\":0,\"ticks\":\"\"}},\"type\":\"scattercarpet\"}],\"scattergeo\":[{\"marker\":{\"colorbar\":{\"outlinewidth\":0,\"ticks\":\"\"}},\"type\":\"scattergeo\"}],\"scattergl\":[{\"marker\":{\"colorbar\":{\"outlinewidth\":0,\"ticks\":\"\"}},\"type\":\"scattergl\"}],\"scattermapbox\":[{\"marker\":{\"colorbar\":{\"outlinewidth\":0,\"ticks\":\"\"}},\"type\":\"scattermapbox\"}],\"scatterpolar\":[{\"marker\":{\"colorbar\":{\"outlinewidth\":0,\"ticks\":\"\"}},\"type\":\"scatterpolar\"}],\"scatterpolargl\":[{\"marker\":{\"colorbar\":{\"outlinewidth\":0,\"ticks\":\"\"}},\"type\":\"scatterpolargl\"}],\"scatterternary\":[{\"marker\":{\"colorbar\":{\"outlinewidth\":0,\"ticks\":\"\"}},\"type\":\"scatterternary\"}],\"surface\":[{\"colorbar\":{\"outlinewidth\":0,\"ticks\":\"\"},\"colorscale\":[[0.0,\"#0d0887\"],[0.1111111111111111,\"#46039f\"],[0.2222222222222222,\"#7201a8\"],[0.3333333333333333,\"#9c179e\"],[0.4444444444444444,\"#bd3786\"],[0.5555555555555556,\"#d8576b\"],[0.6666666666666666,\"#ed7953\"],[0.7777777777777778,\"#fb9f3a\"],[0.8888888888888888,\"#fdca26\"],[1.0,\"#f0f921\"]],\"type\":\"surface\"}],\"table\":[{\"cells\":{\"fill\":{\"color\":\"#EBF0F8\"},\"line\":{\"color\":\"white\"}},\"header\":{\"fill\":{\"color\":\"#C8D4E3\"},\"line\":{\"color\":\"white\"}},\"type\":\"table\"}]},\"layout\":{\"annotationdefaults\":{\"arrowcolor\":\"#2a3f5f\",\"arrowhead\":0,\"arrowwidth\":1},\"autotypenumbers\":\"strict\",\"coloraxis\":{\"colorbar\":{\"outlinewidth\":0,\"ticks\":\"\"}},\"colorscale\":{\"diverging\":[[0,\"#8e0152\"],[0.1,\"#c51b7d\"],[0.2,\"#de77ae\"],[0.3,\"#f1b6da\"],[0.4,\"#fde0ef\"],[0.5,\"#f7f7f7\"],[0.6,\"#e6f5d0\"],[0.7,\"#b8e186\"],[0.8,\"#7fbc41\"],[0.9,\"#4d9221\"],[1,\"#276419\"]],\"sequential\":[[0.0,\"#0d0887\"],[0.1111111111111111,\"#46039f\"],[0.2222222222222222,\"#7201a8\"],[0.3333333333333333,\"#9c179e\"],[0.4444444444444444,\"#bd3786\"],[0.5555555555555556,\"#d8576b\"],[0.6666666666666666,\"#ed7953\"],[0.7777777777777778,\"#fb9f3a\"],[0.8888888888888888,\"#fdca26\"],[1.0,\"#f0f921\"]],\"sequentialminus\":[[0.0,\"#0d0887\"],[0.1111111111111111,\"#46039f\"],[0.2222222222222222,\"#7201a8\"],[0.3333333333333333,\"#9c179e\"],[0.4444444444444444,\"#bd3786\"],[0.5555555555555556,\"#d8576b\"],[0.6666666666666666,\"#ed7953\"],[0.7777777777777778,\"#fb9f3a\"],[0.8888888888888888,\"#fdca26\"],[1.0,\"#f0f921\"]]},\"colorway\":[\"#636efa\",\"#EF553B\",\"#00cc96\",\"#ab63fa\",\"#FFA15A\",\"#19d3f3\",\"#FF6692\",\"#B6E880\",\"#FF97FF\",\"#FECB52\"],\"font\":{\"color\":\"#2a3f5f\"},\"geo\":{\"bgcolor\":\"white\",\"lakecolor\":\"white\",\"landcolor\":\"#E5ECF6\",\"showlakes\":true,\"showland\":true,\"subunitcolor\":\"white\"},\"hoverlabel\":{\"align\":\"left\"},\"hovermode\":\"closest\",\"mapbox\":{\"style\":\"light\"},\"paper_bgcolor\":\"white\",\"plot_bgcolor\":\"#E5ECF6\",\"polar\":{\"angularaxis\":{\"gridcolor\":\"white\",\"linecolor\":\"white\",\"ticks\":\"\"},\"bgcolor\":\"#E5ECF6\",\"radialaxis\":{\"gridcolor\":\"white\",\"linecolor\":\"white\",\"ticks\":\"\"}},\"scene\":{\"xaxis\":{\"backgroundcolor\":\"#E5ECF6\",\"gridcolor\":\"white\",\"gridwidth\":2,\"linecolor\":\"white\",\"showbackground\":true,\"ticks\":\"\",\"zerolinecolor\":\"white\"},\"yaxis\":{\"backgroundcolor\":\"#E5ECF6\",\"gridcolor\":\"white\",\"gridwidth\":2,\"linecolor\":\"white\",\"showbackground\":true,\"ticks\":\"\",\"zerolinecolor\":\"white\"},\"zaxis\":{\"backgroundcolor\":\"#E5ECF6\",\"gridcolor\":\"white\",\"gridwidth\":2,\"linecolor\":\"white\",\"showbackground\":true,\"ticks\":\"\",\"zerolinecolor\":\"white\"}},\"shapedefaults\":{\"line\":{\"color\":\"#2a3f5f\"}},\"ternary\":{\"aaxis\":{\"gridcolor\":\"white\",\"linecolor\":\"white\",\"ticks\":\"\"},\"baxis\":{\"gridcolor\":\"white\",\"linecolor\":\"white\",\"ticks\":\"\"},\"bgcolor\":\"#E5ECF6\",\"caxis\":{\"gridcolor\":\"white\",\"linecolor\":\"white\",\"ticks\":\"\"}},\"title\":{\"x\":0.05},\"xaxis\":{\"automargin\":true,\"gridcolor\":\"white\",\"linecolor\":\"white\",\"ticks\":\"\",\"title\":{\"standoff\":15},\"zerolinecolor\":\"white\",\"zerolinewidth\":2},\"yaxis\":{\"automargin\":true,\"gridcolor\":\"white\",\"linecolor\":\"white\",\"ticks\":\"\",\"title\":{\"standoff\":15},\"zerolinecolor\":\"white\",\"zerolinewidth\":2}}},\"title\":{\"font\":{\"color\":\"rgb(1,21,51)\",\"size\":50}},\"width\":480},                        {\"responsive\": true}                    ).then(function(){\n",
              "                            \n",
              "var gd = document.getElementById('538c191b-28af-46b6-8f72-afe0b61634d7');\n",
              "var x = new MutationObserver(function (mutations, observer) {{\n",
              "        var display = window.getComputedStyle(gd).display;\n",
              "        if (!display || display === 'none') {{\n",
              "            console.log([gd, 'removed!']);\n",
              "            Plotly.purge(gd);\n",
              "            observer.disconnect();\n",
              "        }}\n",
              "}});\n",
              "\n",
              "// Listen for the removal of the full notebook cells\n",
              "var notebookContainer = gd.closest('#notebook-container');\n",
              "if (notebookContainer) {{\n",
              "    x.observe(notebookContainer, {childList: true});\n",
              "}}\n",
              "\n",
              "// Listen for the clearing of the current output cell\n",
              "var outputEl = gd.closest('.output');\n",
              "if (outputEl) {{\n",
              "    x.observe(outputEl, {childList: true});\n",
              "}}\n",
              "\n",
              "                        })                };                            </script>        </div>\n",
              "</body>\n",
              "</html>"
            ]
          },
          "metadata": {}
        }
      ]
    }
  ]
}