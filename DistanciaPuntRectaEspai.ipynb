{
  "nbformat": 4,
  "nbformat_minor": 0,
  "metadata": {
    "colab": {
      "provenance": [],
      "authorship_tag": "ABX9TyOziBR0GBjDllG2HyG/H7GU",
      "include_colab_link": true
    },
    "kernelspec": {
      "name": "python3",
      "display_name": "Python 3"
    },
    "language_info": {
      "name": "python"
    }
  },
  "cells": [
    {
      "cell_type": "markdown",
      "metadata": {
        "id": "view-in-github",
        "colab_type": "text"
      },
      "source": [
        "<a href=\"https://colab.research.google.com/github/mlacasa/2BATMates/blob/main/DistanciaPuntRectaEspai.ipynb\" target=\"_parent\"><img src=\"https://colab.research.google.com/assets/colab-badge.svg\" alt=\"Open In Colab\"/></a>"
      ]
    },
    {
      "cell_type": "markdown",
      "source": [
        "# FUNCIÓ QUE CALCULA LA DISTÀNCIA MÍNIMA ENTRE UN PUNT QUALSEVOL I UNA RECTA"
      ],
      "metadata": {
        "id": "v1sYx3KKj0Nw"
      }
    },
    {
      "cell_type": "code",
      "source": [
        "from sympy import *\n",
        "import numpy as np\n",
        "from numpy.linalg import norm\n",
        "from scipy.interpolate import BSpline, make_interp_spline\n",
        "\n",
        "#Librería para escribir vectores como vectores unitarios\n",
        "from sympy.physics.vector import *\n",
        "e = ReferenceFrame('e')\n",
        "\n",
        "x,y,z,A,B,C,a, lambda1 = symbols(\"x y z A B C a lambda_1\")"
      ],
      "metadata": {
        "id": "tJPQehr7j73E"
      },
      "execution_count": 1,
      "outputs": []
    },
    {
      "cell_type": "code",
      "source": [
        "init_printing()\n",
        "alpha1, omega_2, lambda_1, lambda_2, pi_1, pi_2 = symbols('alpha1 omega_2 lambda_1 lambda_2 pi_1 pi_2')\n",
        "alpha1, omega_2, lambda_1, lambda_2, pi_1, pi_2\n",
        "# Per visualitzar variables amb caràcters grecs."
      ],
      "metadata": {
        "colab": {
          "base_uri": "https://localhost:8080/",
          "height": 39
        },
        "id": "bya08xvY4jgJ",
        "outputId": "dc45cfaf-4d05-4e66-a982-416ffee3c3e9"
      },
      "execution_count": 24,
      "outputs": [
        {
          "output_type": "execute_result",
          "data": {
            "text/plain": [
              "(α₁, ω₂, λ₁, λ₂, π₁, π₂)"
            ],
            "text/latex": "$\\displaystyle \\left( \\alpha_{1}, \\  \\omega_{2}, \\  \\lambda_{1}, \\  \\lambda_{2}, \\  \\pi_{1}, \\  \\pi_{2}\\right)$"
          },
          "metadata": {},
          "execution_count": 24
        }
      ]
    },
    {
      "cell_type": "markdown",
      "source": [
        "# MÉTODE 1: AMB PRODUCTE VECTORIAL\n",
        "\n",
        "## La distància mínima entre un punt qualsevol i una recta a l'espai és:\n",
        "\n",
        "<center><img src=\"https://www.aulafacil.com/uploads/cursos/713/editor/angulosydistancias97.es.jpg\"  height=\"300\" />\n",
        "\n",
        "Donat un punt P i una recta definida r amb vector director $\\vec{u}$, volem conèixer la distància mínima $\\overrightarrow{QP}$.\n",
        "\n",
        "Donada la relació entre:\n",
        "\n",
        "$\\overrightarrow{AP}$ = $\\overrightarrow{AQ}$ + $\\overrightarrow{QP}$\n",
        "\n",
        "Fem\n",
        "\n",
        "$\\overrightarrow{AP}$ x $\\vec{u}$ = $\\overrightarrow{AQ}$ x $\\vec{u}$ + $\\overrightarrow{QP}$ x $\\vec{u}$\n",
        "\n",
        "Però $\\overrightarrow{AQ}$ x $\\vec{u}$ son linealment dependents, llavors $=0$\n",
        "\n",
        "$\\overrightarrow{AP}$ x $\\vec{u}$ = $\\overrightarrow{QP}$ x $\\vec{u}$\n",
        "\n",
        "Volem trobar el valor de $\\overrightarrow{QP}$ i fem:\n",
        "\n",
        "$\\overrightarrow{QP} = \\frac{||\\overrightarrow{AP} \\times \\vec{u}||}{||\\vec{u}||}$\n",
        "\n",
        "\n",
        "Llavors, donada una funció que avalua els punts d'una recta, podem calcular la distància mínima de cada punt i avaluar una funció que representi la distància en funció de $\\lambda$ on la recta és definida $ r: (x,y,z) + \\lambda \\vec{u}$\n",
        "\n"
      ],
      "metadata": {
        "id": "_RCdzgzFykV9"
      }
    },
    {
      "cell_type": "code",
      "source": [
        "# exemple: Dades necessàries\n",
        "\n",
        "P = Matrix([2,4,1]) # Un punt de l'espai\n",
        "u = Matrix([1,2,1]) # Vector director recta r\n",
        "Pr = Matrix([2,3,-1]) # Punt de la recta r\n"
      ],
      "metadata": {
        "id": "K-mcZehPh5C7"
      },
      "execution_count": 2,
      "outputs": []
    },
    {
      "cell_type": "code",
      "source": [
        "# CALCULS\n",
        "\n",
        "#Vector AP (en l'exemple els punts P i Pr)\n",
        "\n",
        "AP = P-Pr\n",
        "AP\n"
      ],
      "metadata": {
        "colab": {
          "base_uri": "https://localhost:8080/",
          "height": 78
        },
        "id": "jBzu5HTXmm_V",
        "outputId": "4f922934-cc80-41e8-eab8-bb3627f38b86"
      },
      "execution_count": 6,
      "outputs": [
        {
          "output_type": "execute_result",
          "data": {
            "text/plain": [
              "⎡0⎤\n",
              "⎢ ⎥\n",
              "⎢1⎥\n",
              "⎢ ⎥\n",
              "⎣2⎦"
            ],
            "text/latex": "$\\displaystyle \\left[\\begin{matrix}0\\\\1\\\\2\\end{matrix}\\right]$"
          },
          "metadata": {},
          "execution_count": 6
        }
      ]
    },
    {
      "cell_type": "code",
      "source": [
        "# La distància = Producte vectorial, ||AP x u|| / ||u||\n",
        "AP.cross(u).norm() / u.norm()"
      ],
      "metadata": {
        "colab": {
          "base_uri": "https://localhost:8080/",
          "height": 55
        },
        "id": "oBefQw92a_5n",
        "outputId": "7c4af153-d733-4ae1-ef65-bfd87ad0cb5c"
      },
      "execution_count": 7,
      "outputs": [
        {
          "output_type": "execute_result",
          "data": {
            "text/plain": [
              "√21\n",
              "───\n",
              " 3 "
            ],
            "text/latex": "$\\displaystyle \\frac{\\sqrt{21}}{3}$"
          },
          "metadata": {},
          "execution_count": 7
        }
      ]
    },
    {
      "cell_type": "markdown",
      "source": [
        "# MÈTODE 2: PROJECCIÓ ENTRE ELS VECTORS\n",
        "\n",
        "## **Producte escalar**\n",
        "\n",
        "<center><img src=\"https://mathinsight.org/media/image/image/dot_product_projection.png\"  height=\"300\" />\n",
        "\n",
        "Ens fixem en les dues maneres que ens presenta el dibuix el càlcul del módul de la projecció.\n",
        "\n",
        "Si anomenem D el punt que uneix la projecció amb \"a\" en el dibuix, tenim:"
      ],
      "metadata": {
        "id": "2s5zF9VKcBy7"
      }
    },
    {
      "cell_type": "code",
      "source": [
        "#La lletra a = AP\n",
        "# a · b -> producte escalar <a,b>\n",
        "# b és el vector director de la recta r, en el nostre exemple és \"u\"\n",
        "Proj = AP.dot(u) / u.norm()\n",
        "Proj"
      ],
      "metadata": {
        "colab": {
          "base_uri": "https://localhost:8080/",
          "height": 55
        },
        "id": "mbf-ywL0d8pj",
        "outputId": "8e4ef51a-0da9-4d97-90fa-781074853699"
      },
      "execution_count": 11,
      "outputs": [
        {
          "output_type": "execute_result",
          "data": {
            "text/plain": [
              "2⋅√6\n",
              "────\n",
              " 3  "
            ],
            "text/latex": "$\\displaystyle \\frac{2 \\sqrt{6}}{3}$"
          },
          "metadata": {},
          "execution_count": 11
        }
      ]
    },
    {
      "cell_type": "code",
      "source": [
        "# Per pitàgores a^2 = d^2 + Proj^2\n",
        "# La distància es pot calcular:\n",
        "sqrt(AP.norm()**2 - Proj **2)"
      ],
      "metadata": {
        "colab": {
          "base_uri": "https://localhost:8080/",
          "height": 55
        },
        "id": "iGBujMUEfzLV",
        "outputId": "b1166445-65fd-4654-f3fe-d2485e5d944b"
      },
      "execution_count": 14,
      "outputs": [
        {
          "output_type": "execute_result",
          "data": {
            "text/plain": [
              "√21\n",
              "───\n",
              " 3 "
            ],
            "text/latex": "$\\displaystyle \\frac{\\sqrt{21}}{3}$"
          },
          "metadata": {},
          "execution_count": 14
        }
      ]
    },
    {
      "cell_type": "markdown",
      "source": [
        "# MÈTODE 3: RESTA DE VECTORS\n",
        "\n",
        "<center><img src=\"https://gregorygundersen.com/image/dotprod/aminusb.png\"  height=\"300\" />\n",
        "\n",
        "Així doncs, si coneixem els móduls de \"a\" i \"b\" podem esbrinar fàcilment la distància."
      ],
      "metadata": {
        "id": "mVQ_Aqaqhjyy"
      }
    },
    {
      "cell_type": "code",
      "source": [
        "# b = ||AP|| en el nostre exemple.\n",
        "# a = Calculem el punt mitjançant la normalització del vector director \"u\"\n",
        "\n",
        "a = Proj * u/u.norm() # Calculem el punt D (es el segment \"a\")\n",
        "d = a - AP            # calculem el segment c = a - b\n",
        "d.norm()              # calculem la distància euclídea"
      ],
      "metadata": {
        "colab": {
          "base_uri": "https://localhost:8080/",
          "height": 55
        },
        "id": "zCObdyuGhTyL",
        "outputId": "44cec021-b471-4bc1-ce2e-966048ff3a82"
      },
      "execution_count": 22,
      "outputs": [
        {
          "output_type": "execute_result",
          "data": {
            "text/plain": [
              "√21\n",
              "───\n",
              " 3 "
            ],
            "text/latex": "$\\displaystyle \\frac{\\sqrt{21}}{3}$"
          },
          "metadata": {},
          "execution_count": 22
        }
      ]
    },
    {
      "cell_type": "markdown",
      "source": [
        "# CÀLCUL ENTRE DISTÀNCIA ENTRE 2 PLANS\n",
        "\n",
        "<center><img src=\"https://i.ytimg.com/vi/9B8bUqX5YHg/maxresdefault.jpg\" height = \"400\"/>\n",
        "\n",
        "Exemple:\n",
        "\n",
        "donas els plans\n",
        "\n",
        "$\\pi_{1} = 2x - 4y + 4z + 3 = 0$\n",
        "\n",
        "$\\pi_{2} = x - 2y + 2z - 1 = 0$\n",
        "\n",
        "PROCEDIMENT:\n",
        "\n",
        "1- Els plans son paral·lels?"
      ],
      "metadata": {
        "id": "ldfdJFK5lDeo"
      }
    },
    {
      "cell_type": "code",
      "source": [
        "# Els vectors normals, son proporcionals?\n",
        "n_1 = Matrix([2,-4,4])\n",
        "n_2 = Matrix([1,-2,2])\n",
        "n_1[0] / n_2[0] == n_1[1] / n_2[1]  # Evaluem si son proporcionals entre la 1a y 2a coordenada."
      ],
      "metadata": {
        "colab": {
          "base_uri": "https://localhost:8080/"
        },
        "id": "klTMGgpJmoSa",
        "outputId": "e73f4a25-8560-409e-b0f3-038c63ed83e2"
      },
      "execution_count": 27,
      "outputs": [
        {
          "output_type": "execute_result",
          "data": {
            "text/plain": [
              "True"
            ]
          },
          "metadata": {},
          "execution_count": 27
        }
      ]
    },
    {
      "cell_type": "code",
      "source": [
        "n_1[2] / n_2[2] == n_1[1] / n_2[1] # Avaluem la 3a coordenada, i efectivament son paral·lels"
      ],
      "metadata": {
        "colab": {
          "base_uri": "https://localhost:8080/"
        },
        "id": "FETLQK86nteF",
        "outputId": "49950734-cc6c-4cce-9468-0af6c706e9e0"
      },
      "execution_count": 28,
      "outputs": [
        {
          "output_type": "execute_result",
          "data": {
            "text/plain": [
              "True"
            ]
          },
          "metadata": {},
          "execution_count": 28
        }
      ]
    },
    {
      "cell_type": "markdown",
      "source": [
        "## Mètode 1: Mijtançant la fórmula"
      ],
      "metadata": {
        "id": "DM6BmOPMn90F"
      }
    },
    {
      "cell_type": "code",
      "source": [
        "# El numerador es calcula mitjançant producte escalar entre la norma d'un pla1 i un punt qualsevol de l'altre pla2 i li sumem la part independent del pla1\n",
        "\n",
        "P_2 = Matrix([1,0,0]) # Un punt qualsevol del pla2\n",
        "numerador = n_1.dot(P_2) + 3\n",
        "denominador = n_1.norm()\n",
        "numerador/denominador"
      ],
      "metadata": {
        "colab": {
          "base_uri": "https://localhost:8080/",
          "height": 51
        },
        "id": "n1uH-wKen4cV",
        "outputId": "34db663b-fdb8-454f-e4df-95056050cc1c"
      },
      "execution_count": 29,
      "outputs": [
        {
          "output_type": "execute_result",
          "data": {
            "text/plain": [
              "5/6"
            ],
            "text/latex": "$\\displaystyle \\frac{5}{6}$"
          },
          "metadata": {},
          "execution_count": 29
        }
      ]
    },
    {
      "cell_type": "markdown",
      "source": [
        "## Mètode 2:Geometria\n",
        "\n",
        "1- Necessitem un punt qualsevol d'un pla.\\\n",
        "2- Calculem amb l'equació de la recta punt-vector la seva intersecció amb l'altre pla."
      ],
      "metadata": {
        "id": "ip72EIK5pInv"
      }
    },
    {
      "cell_type": "code",
      "source": [
        "# Calculem 1 punt del pla1\n",
        "\n",
        "P_2 = Matrix([1,0,0]) # Un punt qualsevol del pla2\n",
        "n_2 # El vector director perpendicular.\n",
        "\n",
        "# Definim el pla1 amb sympy\n",
        "\n",
        "pi_1 = Plane(Point3D(-3/2, 0, 0), normal_vector=(2,-4,4))\n",
        "\n",
        "# Definim la recta perpendicular entre pla1/pla2 amb un punt del pla2\n",
        "\n",
        "recta = Line3D(Point3D(1,0,0), direction_ratio=[1,-2,2]) # Escollim el punt del pla1 i el vector director = normal pla\n",
        "\n",
        "P_i = pi_1.intersection(recta)  # Punt intersecció recta/pla\n",
        "P_i"
      ],
      "metadata": {
        "colab": {
          "base_uri": "https://localhost:8080/",
          "height": 58
        },
        "id": "NG-08AtkpIEZ",
        "outputId": "dcc25fee-4243-484b-8ee2-b851cb9b1096"
      },
      "execution_count": 48,
      "outputs": [
        {
          "output_type": "execute_result",
          "data": {
            "text/plain": [
              "[Point3D(13/18, 5/9, -5/9)]"
            ],
            "text/latex": "$\\displaystyle \\left[ \\operatorname{Point3D}\\left(\\frac{13}{18}, \\frac{5}{9}, - \\frac{5}{9}\\right)\\right]$"
          },
          "metadata": {},
          "execution_count": 48
        }
      ]
    },
    {
      "cell_type": "code",
      "source": [
        "# Definim el punt amb class point3D sympy\n",
        "P_2= Point3D(1,0,0)\n"
      ],
      "metadata": {
        "id": "HekrfNAfxbG0"
      },
      "execution_count": 66,
      "outputs": []
    },
    {
      "cell_type": "code",
      "source": [
        "P_i[0].distance(P_2)"
      ],
      "metadata": {
        "colab": {
          "base_uri": "https://localhost:8080/",
          "height": 51
        },
        "id": "01J7QdbAzPBS",
        "outputId": "a6c0c9ef-17c1-4a42-e8ad-8f97bc9e4bbf"
      },
      "execution_count": 65,
      "outputs": [
        {
          "output_type": "execute_result",
          "data": {
            "text/plain": [
              "5/6"
            ],
            "text/latex": "$\\displaystyle \\frac{5}{6}$"
          },
          "metadata": {},
          "execution_count": 65
        }
      ]
    },
    {
      "cell_type": "code",
      "source": [],
      "metadata": {
        "id": "Myap8nwk0KPR"
      },
      "execution_count": null,
      "outputs": []
    }
  ]
}