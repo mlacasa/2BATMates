{
  "nbformat": 4,
  "nbformat_minor": 0,
  "metadata": {
    "colab": {
      "provenance": [],
      "authorship_tag": "ABX9TyPA2srLmsgxNJwFQTl54lrw",
      "include_colab_link": true
    },
    "kernelspec": {
      "name": "python3",
      "display_name": "Python 3"
    },
    "language_info": {
      "name": "python"
    }
  },
  "cells": [
    {
      "cell_type": "markdown",
      "metadata": {
        "id": "view-in-github",
        "colab_type": "text"
      },
      "source": [
        "<a href=\"https://colab.research.google.com/github/mlacasa/2BATMates/blob/main/DistanciaPuntRectaEspai.ipynb\" target=\"_parent\"><img src=\"https://colab.research.google.com/assets/colab-badge.svg\" alt=\"Open In Colab\"/></a>"
      ]
    },
    {
      "cell_type": "markdown",
      "source": [
        "# FUNCIÓ QUE CALCULA LA DISTÀNCIA MÍNIMA ENTRE UN PUNT QUALSEVOL I UNA RECTA"
      ],
      "metadata": {
        "id": "v1sYx3KKj0Nw"
      }
    },
    {
      "cell_type": "code",
      "source": [
        "from sympy import *\n",
        "import numpy as np\n",
        "from numpy.linalg import norm, det\n",
        "from scipy.interpolate import BSpline, make_interp_spline\n",
        "\n",
        "#Librería para escribir vectores como vectores unitarios\n",
        "from sympy.physics.vector import *\n",
        "e = ReferenceFrame('e')\n",
        "\n",
        "x,y,z,A,B,C,a, lambda1 = symbols(\"x y z A B C a lambda_1\")"
      ],
      "metadata": {
        "id": "tJPQehr7j73E"
      },
      "execution_count": 99,
      "outputs": []
    },
    {
      "cell_type": "code",
      "source": [
        "init_printing()\n",
        "alpha1, omega_2, lambda_1, lambda_2, pi_1, pi_2 = symbols('alpha1 omega_2 lambda_1 lambda_2 pi_1 pi_2')\n",
        "alpha1, omega_2, lambda_1, lambda_2, pi_1, pi_2\n",
        "# Per visualitzar variables amb caràcters grecs."
      ],
      "metadata": {
        "colab": {
          "base_uri": "https://localhost:8080/",
          "height": 39
        },
        "id": "bya08xvY4jgJ",
        "outputId": "bd8d9c75-c64b-4e30-ab47-690e7d8b43f0"
      },
      "execution_count": 74,
      "outputs": [
        {
          "output_type": "execute_result",
          "data": {
            "text/plain": [
              "(α₁, ω₂, λ₁, λ₂, π₁, π₂)"
            ],
            "text/latex": "$\\displaystyle \\left( \\alpha_{1}, \\  \\omega_{2}, \\  \\lambda_{1}, \\  \\lambda_{2}, \\  \\pi_{1}, \\  \\pi_{2}\\right)$"
          },
          "metadata": {},
          "execution_count": 74
        }
      ]
    },
    {
      "cell_type": "markdown",
      "source": [
        "# MÉTODE 1: AMB PRODUCTE VECTORIAL\n",
        "\n",
        "## La distància mínima entre un punt qualsevol i una recta a l'espai és:\n",
        "\n",
        "<center><img src=\"https://www.aulafacil.com/uploads/cursos/713/editor/angulosydistancias97.es.jpg\"  height=\"300\" />\n",
        "\n",
        "Donat un punt P i una recta definida r amb vector director $\\vec{u}$, volem conèixer la distància mínima $\\overrightarrow{QP}$.\n",
        "\n",
        "Donada la relació entre:\n",
        "\n",
        "$\\overrightarrow{AP}$ = $\\overrightarrow{AQ}$ + $\\overrightarrow{QP}$\n",
        "\n",
        "Fem\n",
        "\n",
        "$\\overrightarrow{AP}$ x $\\vec{u}$ = $\\overrightarrow{AQ}$ x $\\vec{u}$ + $\\overrightarrow{QP}$ x $\\vec{u}$\n",
        "\n",
        "Però $\\overrightarrow{AQ}$ x $\\vec{u}$ son linealment dependents, llavors $=0$\n",
        "\n",
        "$\\overrightarrow{AP}$ x $\\vec{u}$ = $\\overrightarrow{QP}$ x $\\vec{u}$\n",
        "\n",
        "Volem trobar el valor de $\\overrightarrow{QP}$ i fem:\n",
        "\n",
        "$\\overrightarrow{QP} = \\frac{||\\overrightarrow{AP} \\times \\vec{u}||}{||\\vec{u}||}$\n",
        "\n",
        "\n",
        "Llavors, donada una funció que avalua els punts d'una recta, podem calcular la distància mínima de cada punt i avaluar una funció que representi la distància en funció de $\\lambda$ on la recta és definida $ r: (x,y,z) + \\lambda \\vec{u}$\n",
        "\n"
      ],
      "metadata": {
        "id": "_RCdzgzFykV9"
      }
    },
    {
      "cell_type": "code",
      "source": [
        "# exemple: Dades necessàries\n",
        "\n",
        "P = Matrix([2,4,1]) # Un punt de l'espai\n",
        "u = Matrix([1,2,1]) # Vector director recta r\n",
        "Pr = Matrix([2,3,-1]) # Punt de la recta r\n"
      ],
      "metadata": {
        "id": "K-mcZehPh5C7"
      },
      "execution_count": 75,
      "outputs": []
    },
    {
      "cell_type": "code",
      "source": [
        "# CALCULS\n",
        "\n",
        "#Vector AP (en l'exemple els punts P i Pr)\n",
        "\n",
        "AP = P-Pr\n",
        "AP\n"
      ],
      "metadata": {
        "colab": {
          "base_uri": "https://localhost:8080/",
          "height": 78
        },
        "id": "jBzu5HTXmm_V",
        "outputId": "4c4996dc-bb0f-42be-9a94-63ed801bf336"
      },
      "execution_count": 76,
      "outputs": [
        {
          "output_type": "execute_result",
          "data": {
            "text/plain": [
              "⎡0⎤\n",
              "⎢ ⎥\n",
              "⎢1⎥\n",
              "⎢ ⎥\n",
              "⎣2⎦"
            ],
            "text/latex": "$\\displaystyle \\left[\\begin{matrix}0\\\\1\\\\2\\end{matrix}\\right]$"
          },
          "metadata": {},
          "execution_count": 76
        }
      ]
    },
    {
      "cell_type": "code",
      "source": [
        "# La distància = Producte vectorial, ||AP x u|| / ||u||\n",
        "AP.cross(u).norm() / u.norm()"
      ],
      "metadata": {
        "colab": {
          "base_uri": "https://localhost:8080/",
          "height": 55
        },
        "id": "oBefQw92a_5n",
        "outputId": "bf385c20-9bd7-4592-9eec-803a71cc803d"
      },
      "execution_count": 77,
      "outputs": [
        {
          "output_type": "execute_result",
          "data": {
            "text/plain": [
              "√21\n",
              "───\n",
              " 3 "
            ],
            "text/latex": "$\\displaystyle \\frac{\\sqrt{21}}{3}$"
          },
          "metadata": {},
          "execution_count": 77
        }
      ]
    },
    {
      "cell_type": "markdown",
      "source": [
        "# MÈTODE 2: PROJECCIÓ ENTRE ELS VECTORS\n",
        "\n",
        "## **Producte escalar**\n",
        "\n",
        "<center><img src=\"https://mathinsight.org/media/image/image/dot_product_projection.png\"  height=\"300\" />\n",
        "\n",
        "Ens fixem en les dues maneres que ens presenta el dibuix el càlcul del módul de la projecció.\n",
        "\n",
        "Si anomenem D el punt que uneix la projecció amb \"a\" en el dibuix, tenim:"
      ],
      "metadata": {
        "id": "2s5zF9VKcBy7"
      }
    },
    {
      "cell_type": "code",
      "source": [
        "#La lletra a = AP\n",
        "# a · b -> producte escalar <a,b>\n",
        "# b és el vector director de la recta r, en el nostre exemple és \"u\"\n",
        "Proj = AP.dot(u) / u.norm()\n",
        "Proj"
      ],
      "metadata": {
        "colab": {
          "base_uri": "https://localhost:8080/",
          "height": 55
        },
        "id": "mbf-ywL0d8pj",
        "outputId": "08e3412b-9689-44ec-dca0-00b9dd8cab03"
      },
      "execution_count": 78,
      "outputs": [
        {
          "output_type": "execute_result",
          "data": {
            "text/plain": [
              "2⋅√6\n",
              "────\n",
              " 3  "
            ],
            "text/latex": "$\\displaystyle \\frac{2 \\sqrt{6}}{3}$"
          },
          "metadata": {},
          "execution_count": 78
        }
      ]
    },
    {
      "cell_type": "code",
      "source": [
        "# Per pitàgores a^2 = d^2 + Proj^2\n",
        "# La distància es pot calcular:\n",
        "sqrt(AP.norm()**2 - Proj **2)"
      ],
      "metadata": {
        "colab": {
          "base_uri": "https://localhost:8080/",
          "height": 55
        },
        "id": "iGBujMUEfzLV",
        "outputId": "5235aba9-9bc3-47f9-aa86-1e002c49a605"
      },
      "execution_count": 79,
      "outputs": [
        {
          "output_type": "execute_result",
          "data": {
            "text/plain": [
              "√21\n",
              "───\n",
              " 3 "
            ],
            "text/latex": "$\\displaystyle \\frac{\\sqrt{21}}{3}$"
          },
          "metadata": {},
          "execution_count": 79
        }
      ]
    },
    {
      "cell_type": "markdown",
      "source": [
        "# MÈTODE 3: RESTA DE VECTORS\n",
        "\n",
        "<center><img src=\"https://gregorygundersen.com/image/dotprod/aminusb.png\"  height=\"300\" />\n",
        "\n",
        "Així doncs, si coneixem els móduls de \"a\" i \"b\" podem esbrinar fàcilment la distància."
      ],
      "metadata": {
        "id": "mVQ_Aqaqhjyy"
      }
    },
    {
      "cell_type": "code",
      "source": [
        "# b = ||AP|| en el nostre exemple.\n",
        "# a = Calculem el punt mitjançant la normalització del vector director \"u\"\n",
        "\n",
        "a = Proj * u/u.norm() # Calculem el punt D (es el segment \"a\")\n",
        "d = a - AP            # calculem el segment c = a - b\n",
        "d.norm()              # calculem la distància euclídea"
      ],
      "metadata": {
        "colab": {
          "base_uri": "https://localhost:8080/",
          "height": 55
        },
        "id": "zCObdyuGhTyL",
        "outputId": "054f9d7e-870c-4d7e-e196-cc41e7c199f5"
      },
      "execution_count": 80,
      "outputs": [
        {
          "output_type": "execute_result",
          "data": {
            "text/plain": [
              "√21\n",
              "───\n",
              " 3 "
            ],
            "text/latex": "$\\displaystyle \\frac{\\sqrt{21}}{3}$"
          },
          "metadata": {},
          "execution_count": 80
        }
      ]
    },
    {
      "cell_type": "markdown",
      "source": [
        "# CÀLCUL ENTRE DISTÀNCIA ENTRE 2 PLANS\n",
        "\n",
        "<center><img src=\"https://i.ytimg.com/vi/9B8bUqX5YHg/maxresdefault.jpg\" height = \"400\"/>\n",
        "\n",
        "Exemple:\n",
        "\n",
        "donas els plans\n",
        "\n",
        "$\\pi_{1} = 2x - 4y + 4z + 3 = 0$\n",
        "\n",
        "$\\pi_{2} = x - 2y + 2z - 1 = 0$\n",
        "\n",
        "PROCEDIMENT:\n",
        "\n",
        "1- Els plans son paral·lels?"
      ],
      "metadata": {
        "id": "ldfdJFK5lDeo"
      }
    },
    {
      "cell_type": "code",
      "source": [
        "# Els vectors normals, son proporcionals?\n",
        "n_1 = Matrix([2,-4,4])\n",
        "n_2 = Matrix([1,-2,2])\n",
        "n_1[0] / n_2[0] == n_1[1] / n_2[1]  # Evaluem si son proporcionals entre la 1a y 2a coordenada."
      ],
      "metadata": {
        "colab": {
          "base_uri": "https://localhost:8080/"
        },
        "id": "klTMGgpJmoSa",
        "outputId": "2dc2e9a7-17c5-4fda-9bbe-90db811b2c42"
      },
      "execution_count": 81,
      "outputs": [
        {
          "output_type": "execute_result",
          "data": {
            "text/plain": [
              "True"
            ]
          },
          "metadata": {},
          "execution_count": 81
        }
      ]
    },
    {
      "cell_type": "code",
      "source": [
        "n_1[2] / n_2[2] == n_1[1] / n_2[1] # Avaluem la 3a coordenada, i efectivament son paral·lels"
      ],
      "metadata": {
        "colab": {
          "base_uri": "https://localhost:8080/"
        },
        "id": "FETLQK86nteF",
        "outputId": "6cffbc16-4e71-497e-b1ec-684d5d206d16"
      },
      "execution_count": 82,
      "outputs": [
        {
          "output_type": "execute_result",
          "data": {
            "text/plain": [
              "True"
            ]
          },
          "metadata": {},
          "execution_count": 82
        }
      ]
    },
    {
      "cell_type": "markdown",
      "source": [
        "## Mètode 1: Mijtançant la fórmula"
      ],
      "metadata": {
        "id": "DM6BmOPMn90F"
      }
    },
    {
      "cell_type": "code",
      "source": [
        "# El numerador es calcula mitjançant producte escalar entre la norma d'un pla1 i un punt qualsevol de l'altre pla2 i li sumem la part independent del pla1\n",
        "\n",
        "P_2 = Matrix([1,0,0]) # Un punt qualsevol del pla2\n",
        "numerador = n_1.dot(P_2) + 3\n",
        "denominador = n_1.norm()\n",
        "numerador/denominador"
      ],
      "metadata": {
        "colab": {
          "base_uri": "https://localhost:8080/",
          "height": 51
        },
        "id": "n1uH-wKen4cV",
        "outputId": "a35a7281-b77c-443f-d932-a2da7a0db9c9"
      },
      "execution_count": 83,
      "outputs": [
        {
          "output_type": "execute_result",
          "data": {
            "text/plain": [
              "5/6"
            ],
            "text/latex": "$\\displaystyle \\frac{5}{6}$"
          },
          "metadata": {},
          "execution_count": 83
        }
      ]
    },
    {
      "cell_type": "markdown",
      "source": [
        "## Mètode 2:Geometria\n",
        "\n",
        "1- Necessitem un punt qualsevol d'un pla.\\\n",
        "2- Calculem amb l'equació de la recta punt-vector la seva intersecció amb l'altre pla."
      ],
      "metadata": {
        "id": "ip72EIK5pInv"
      }
    },
    {
      "cell_type": "code",
      "source": [
        "# Calculem 1 punt del pla1\n",
        "\n",
        "P_2 = Matrix([1,0,0]) # Un punt qualsevol del pla2\n",
        "n_2 # El vector director perpendicular.\n",
        "\n",
        "# Definim el pla1 amb sympy\n",
        "\n",
        "pi_1 = Plane(Point3D(-3/2, 0, 0), normal_vector=(2,-4,4))\n",
        "\n",
        "# Definim la recta perpendicular entre pla1/pla2 amb un punt del pla2\n",
        "\n",
        "recta = Line3D(Point3D(1,0,0), direction_ratio=[1,-2,2]) # Escollim el punt del pla1 i el vector director = normal pla\n",
        "\n",
        "P_i = pi_1.intersection(recta)  # Punt intersecció recta/pla\n",
        "P_i[0]"
      ],
      "metadata": {
        "colab": {
          "base_uri": "https://localhost:8080/",
          "height": 58
        },
        "id": "NG-08AtkpIEZ",
        "outputId": "73fd15c9-2fad-47ef-d806-9acf76d3bf55"
      },
      "execution_count": 84,
      "outputs": [
        {
          "output_type": "execute_result",
          "data": {
            "text/plain": [
              "Point3D(13/18, 5/9, -5/9)"
            ],
            "text/latex": "$\\displaystyle \\operatorname{Point3D}\\left(\\frac{13}{18}, \\frac{5}{9}, - \\frac{5}{9}\\right)$"
          },
          "metadata": {},
          "execution_count": 84
        }
      ]
    },
    {
      "cell_type": "code",
      "source": [
        "# Definim el punt amb class point3D sympy\n",
        "P_2= Point3D(1,0,0)\n"
      ],
      "metadata": {
        "id": "HekrfNAfxbG0"
      },
      "execution_count": 85,
      "outputs": []
    },
    {
      "cell_type": "code",
      "source": [
        "P_i[0].distance(P_2) # Calculem la distància entre 2 punts"
      ],
      "metadata": {
        "colab": {
          "base_uri": "https://localhost:8080/",
          "height": 51
        },
        "id": "01J7QdbAzPBS",
        "outputId": "29c31985-f8d2-4129-b68c-83e7a38a308c"
      },
      "execution_count": 86,
      "outputs": [
        {
          "output_type": "execute_result",
          "data": {
            "text/plain": [
              "5/6"
            ],
            "text/latex": "$\\displaystyle \\frac{5}{6}$"
          },
          "metadata": {},
          "execution_count": 86
        }
      ]
    },
    {
      "cell_type": "code",
      "source": [
        "sqrt((P_i[0] - P_2).dot(P_i[0] - P_2)) # O calculem el mòdul del vector resultant"
      ],
      "metadata": {
        "colab": {
          "base_uri": "https://localhost:8080/",
          "height": 51
        },
        "id": "Myap8nwk0KPR",
        "outputId": "0553e119-2ed2-4b57-ab7c-924807e862c8"
      },
      "execution_count": 87,
      "outputs": [
        {
          "output_type": "execute_result",
          "data": {
            "text/plain": [
              "5/6"
            ],
            "text/latex": "$\\displaystyle \\frac{5}{6}$"
          },
          "metadata": {},
          "execution_count": 87
        }
      ]
    },
    {
      "cell_type": "markdown",
      "source": [
        "# Donada la superfície\n",
        "\n",
        "<center><img src=\"https://i.stack.imgur.com/Gyvro.png\" height = \"400\"/>\n",
        "\n",
        "Tenim que el triangle\n",
        "$\\widehat{|b-a||a||b|}$\\\n",
        "la seva suferfície és:\\\n",
        "$ S = \\frac{||a \\times b||}{2} $\\\n",
        "També:\\\n",
        "$$ S = sin \\theta · ||a|| · ||b||$$\n",
        "\n",
        "Recordem que:\n",
        "\n",
        "$$sin(\\theta) = cos(\\frac{\\pi}{2} - \\theta)$$\n",
        "\n",
        "\n",
        "I que\n",
        "\n",
        " $cos(\\alpha) = \\frac{<a,b>}{||a||||b||}$\n",
        "\n",
        "<center><img src=\"https://math.libretexts.org/@api/deki/files/75100/clipboard_e9e1d0cddb29ce71150fead77012efd2f.png?revision=1\" height = \"400\"/>\n",
        "\n",
        "\n",
        "Finalment, l'àrea del paralelogram també es pot expressar com:\n",
        "\n",
        "$S = ||\\vec{u}|| · Proj_{\\vec{u}}\\vec{v}$\n"
      ],
      "metadata": {
        "id": "CjOqE6MJF7Tt"
      }
    },
    {
      "cell_type": "markdown",
      "source": [
        "# CÀLCUL DISTÀNCIA DOS PLANS PRODUCTE MIXT\n",
        "\n",
        "El volum del paralepíped format per 3 vectors és igual al determinant d'aquestos. L'operaicó s'anomena *PRODUCTE MIXT*.\n",
        "\n",
        "<center><img src=\"https://personales.unican.es/garciapa/fisica_general/_images/Parallelepiped_volume.png\" height = \"400\"/>\n",
        "\n",
        "<center><img src=\"https://wikimedia.org/api/rest_v1/media/math/render/svg/4bfef4ffdb0b5f8f54acb271c49d70f0eea14130\" height = \"400\"/>\n",
        "\n",
        "I el determinant = Volum del paralepíped.\n",
        "\n",
        "\n",
        "<center><img src=\"https://static.mundoeducacao.uol.com.br/mundoeducacao/2022/07/ilustracao-paralelepipedo.jpg\" height = \"400\"/>\n",
        "\n",
        "On el volum també es pot expressar:\n",
        "\n",
        "$V = A_{Base} · h$\n",
        "\n",
        "Pero el mòdul del producte vectorial\n",
        "\n",
        "$A_{base} = ||c \\times b||$\n",
        "\n",
        "Així doncs:\n",
        "\n",
        "$h = \\frac{V}{A_{base}}$\n",
        "\n",
        "\n",
        "### Exemple\n",
        "\n",
        "Mateix anterior i comparem\n",
        "\n",
        "donas els plans\n",
        "\n",
        "$\\pi_{1} = 2x - 4y + 4z + 3 = 0$\n",
        "\n",
        "$\\pi_{2} = x - 2y + 2z - 1 = 0$\n"
      ],
      "metadata": {
        "id": "VSaxPNTeKwdD"
      }
    },
    {
      "cell_type": "code",
      "source": [
        "# Necessitem 4 punts, 3 d'un pla i 1 de l'altre\n",
        "\n",
        "P_11 = Matrix([-3/2, 0,0]) # Punt 1 pla 1\n",
        "P_21 = Matrix([1,0,0])     # Punt 1 pla 2\n",
        "P_22 = Matrix([1,1,1])     # Punt 2 pla 2\n",
        "P_23 = Matrix([5,2,0])     # Punt 3 pla 2\n"
      ],
      "metadata": {
        "id": "HxgXPqw6OWv9"
      },
      "execution_count": 91,
      "outputs": []
    },
    {
      "cell_type": "code",
      "source": [
        "# Necessitem 3 vectors\n",
        "\n",
        "a = P_11 - P_21\n",
        "b = P_22 - P_21\n",
        "c = P_23 - P_21"
      ],
      "metadata": {
        "id": "xC-yZPQvQnVZ"
      },
      "execution_count": 104,
      "outputs": []
    },
    {
      "cell_type": "code",
      "source": [
        "# Calculo determinant, contrueixo amb sympy la matriu 3x3 amb els 3 vectors.\n",
        "V = a.col_insert(1,b).col_insert(2,c).det()\n",
        "V"
      ],
      "metadata": {
        "colab": {
          "base_uri": "https://localhost:8080/",
          "height": 37
        },
        "id": "z5WSeBkBSxlf",
        "outputId": "fb55ec40-73fe-4f52-b2b6-6dac18f99a1e"
      },
      "execution_count": 116,
      "outputs": [
        {
          "output_type": "execute_result",
          "data": {
            "text/plain": [
              "5.00000000000000"
            ],
            "text/latex": "$\\displaystyle 5.0$"
          },
          "metadata": {},
          "execution_count": 116
        }
      ]
    },
    {
      "cell_type": "code",
      "source": [
        "Base = b.cross(c).norm()\n",
        "Base"
      ],
      "metadata": {
        "colab": {
          "base_uri": "https://localhost:8080/",
          "height": 37
        },
        "id": "Swv6xQ75SYKI",
        "outputId": "bdb7d489-bdf7-444b-b397-fa06f84614a3"
      },
      "execution_count": 119,
      "outputs": [
        {
          "output_type": "execute_result",
          "data": {
            "text/plain": [
              "6"
            ],
            "text/latex": "$\\displaystyle 6$"
          },
          "metadata": {},
          "execution_count": 119
        }
      ]
    },
    {
      "cell_type": "code",
      "source": [
        "h = V / Base\n",
        "h"
      ],
      "metadata": {
        "colab": {
          "base_uri": "https://localhost:8080/",
          "height": 37
        },
        "id": "L3WKzLiyTitS",
        "outputId": "7d89d2e7-e1ac-43d0-c51b-2732382f68b4"
      },
      "execution_count": 121,
      "outputs": [
        {
          "output_type": "execute_result",
          "data": {
            "text/plain": [
              "0.833333333333333"
            ],
            "text/latex": "$\\displaystyle 0.833333333333333$"
          },
          "metadata": {},
          "execution_count": 121
        }
      ]
    },
    {
      "cell_type": "code",
      "source": [],
      "metadata": {
        "id": "eorsaOx-Upo5"
      },
      "execution_count": null,
      "outputs": []
    }
  ]
}